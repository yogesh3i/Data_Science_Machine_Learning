{
  "cells": [
    {
      "cell_type": "markdown",
      "metadata": {
        "id": "6n8yyZaYSmW_"
      },
      "source": [
        "#Probability\n",
        "\n",
        "## Demo 1: Types of Probabilities"
      ]
    },
    {
      "cell_type": "markdown",
      "metadata": {
        "id": "SIJt3uUcSmXH"
      },
      "source": [
        "In this demo, you will be shown how to implement types of probability"
      ]
    },
    {
      "cell_type": "markdown",
      "metadata": {
        "id": "lOhj5ptDSmXI"
      },
      "source": [
        "#### Step 1: Import libraries"
      ]
    },
    {
      "cell_type": "code",
      "execution_count": 3,
      "metadata": {
        "id": "Pgzy-lyaSmXJ"
      },
      "outputs": [],
      "source": [
        "import numpy as np\n",
        "import pandas as pd"
      ]
    },
    {
      "cell_type": "markdown",
      "metadata": {
        "id": "PLvK36faSmXM"
      },
      "source": [
        "#### Step 2: Read marveldata.csv file and print top five rows from the dataset"
      ]
    },
    {
      "cell_type": "code",
      "execution_count": 4,
      "metadata": {
        "scrolled": false,
        "colab": {
          "base_uri": "https://localhost:8080/",
          "height": 441
        },
        "id": "H4Tb6yX9SmXN",
        "outputId": "c8ac1591-83f9-432d-f911-c2f50f17b93a"
      },
      "outputs": [
        {
          "output_type": "execute_result",
          "data": {
            "text/plain": [
              "   page_id                                 name  \\\n",
              "0     1678            Spider-Man (Peter Parker)   \n",
              "1     7139      Captain America (Steven Rogers)   \n",
              "2    64786  Wolverine (James \\\"Logan\\\" Howlett)   \n",
              "3     1868    Iron Man (Anthony \\\"Tony\\\" Stark)   \n",
              "4     2460                  Thor (Thor Odinson)   \n",
              "\n",
              "                                   urlslug                ID  \\\n",
              "0              \\/Spider-Man_(Peter_Parker)   Secret Identity   \n",
              "1        \\/Captain_America_(Steven_Rogers)   Public Identity   \n",
              "2  \\/Wolverine_(James_%22Logan%22_Howlett)   Public Identity   \n",
              "3    \\/Iron_Man_(Anthony_%22Tony%22_Stark)   Public Identity   \n",
              "4                    \\/Thor_(Thor_Odinson)  No Dual Identity   \n",
              "\n",
              "                ALIGN         EYE        HAIR              SEX  GSM  \\\n",
              "0     Good Characters  Hazel Eyes  Brown Hair  Male Characters  NaN   \n",
              "1     Good Characters   Blue Eyes  White Hair  Male Characters  NaN   \n",
              "2  Neutral Characters   Blue Eyes  Black Hair  Male Characters  NaN   \n",
              "3     Good Characters   Blue Eyes  Black Hair  Male Characters  NaN   \n",
              "4     Good Characters   Blue Eyes  Blond Hair  Male Characters  NaN   \n",
              "\n",
              "               ALIVE  APPEARANCES FIRST APPEARANCE    Year  \n",
              "0  Living Characters       4043.0           Aug-62  1962.0  \n",
              "1  Living Characters       3360.0           Mar-41  1941.0  \n",
              "2  Living Characters       3061.0           Oct-74  1974.0  \n",
              "3  Living Characters       2961.0           Mar-63  1963.0  \n",
              "4  Living Characters       2258.0           Nov-50  1950.0  "
            ],
            "text/html": [
              "\n",
              "  <div id=\"df-41dbd6b0-f868-4bdd-8549-1f4930c3a991\">\n",
              "    <div class=\"colab-df-container\">\n",
              "      <div>\n",
              "<style scoped>\n",
              "    .dataframe tbody tr th:only-of-type {\n",
              "        vertical-align: middle;\n",
              "    }\n",
              "\n",
              "    .dataframe tbody tr th {\n",
              "        vertical-align: top;\n",
              "    }\n",
              "\n",
              "    .dataframe thead th {\n",
              "        text-align: right;\n",
              "    }\n",
              "</style>\n",
              "<table border=\"1\" class=\"dataframe\">\n",
              "  <thead>\n",
              "    <tr style=\"text-align: right;\">\n",
              "      <th></th>\n",
              "      <th>page_id</th>\n",
              "      <th>name</th>\n",
              "      <th>urlslug</th>\n",
              "      <th>ID</th>\n",
              "      <th>ALIGN</th>\n",
              "      <th>EYE</th>\n",
              "      <th>HAIR</th>\n",
              "      <th>SEX</th>\n",
              "      <th>GSM</th>\n",
              "      <th>ALIVE</th>\n",
              "      <th>APPEARANCES</th>\n",
              "      <th>FIRST APPEARANCE</th>\n",
              "      <th>Year</th>\n",
              "    </tr>\n",
              "  </thead>\n",
              "  <tbody>\n",
              "    <tr>\n",
              "      <th>0</th>\n",
              "      <td>1678</td>\n",
              "      <td>Spider-Man (Peter Parker)</td>\n",
              "      <td>\\/Spider-Man_(Peter_Parker)</td>\n",
              "      <td>Secret Identity</td>\n",
              "      <td>Good Characters</td>\n",
              "      <td>Hazel Eyes</td>\n",
              "      <td>Brown Hair</td>\n",
              "      <td>Male Characters</td>\n",
              "      <td>NaN</td>\n",
              "      <td>Living Characters</td>\n",
              "      <td>4043.0</td>\n",
              "      <td>Aug-62</td>\n",
              "      <td>1962.0</td>\n",
              "    </tr>\n",
              "    <tr>\n",
              "      <th>1</th>\n",
              "      <td>7139</td>\n",
              "      <td>Captain America (Steven Rogers)</td>\n",
              "      <td>\\/Captain_America_(Steven_Rogers)</td>\n",
              "      <td>Public Identity</td>\n",
              "      <td>Good Characters</td>\n",
              "      <td>Blue Eyes</td>\n",
              "      <td>White Hair</td>\n",
              "      <td>Male Characters</td>\n",
              "      <td>NaN</td>\n",
              "      <td>Living Characters</td>\n",
              "      <td>3360.0</td>\n",
              "      <td>Mar-41</td>\n",
              "      <td>1941.0</td>\n",
              "    </tr>\n",
              "    <tr>\n",
              "      <th>2</th>\n",
              "      <td>64786</td>\n",
              "      <td>Wolverine (James \\\"Logan\\\" Howlett)</td>\n",
              "      <td>\\/Wolverine_(James_%22Logan%22_Howlett)</td>\n",
              "      <td>Public Identity</td>\n",
              "      <td>Neutral Characters</td>\n",
              "      <td>Blue Eyes</td>\n",
              "      <td>Black Hair</td>\n",
              "      <td>Male Characters</td>\n",
              "      <td>NaN</td>\n",
              "      <td>Living Characters</td>\n",
              "      <td>3061.0</td>\n",
              "      <td>Oct-74</td>\n",
              "      <td>1974.0</td>\n",
              "    </tr>\n",
              "    <tr>\n",
              "      <th>3</th>\n",
              "      <td>1868</td>\n",
              "      <td>Iron Man (Anthony \\\"Tony\\\" Stark)</td>\n",
              "      <td>\\/Iron_Man_(Anthony_%22Tony%22_Stark)</td>\n",
              "      <td>Public Identity</td>\n",
              "      <td>Good Characters</td>\n",
              "      <td>Blue Eyes</td>\n",
              "      <td>Black Hair</td>\n",
              "      <td>Male Characters</td>\n",
              "      <td>NaN</td>\n",
              "      <td>Living Characters</td>\n",
              "      <td>2961.0</td>\n",
              "      <td>Mar-63</td>\n",
              "      <td>1963.0</td>\n",
              "    </tr>\n",
              "    <tr>\n",
              "      <th>4</th>\n",
              "      <td>2460</td>\n",
              "      <td>Thor (Thor Odinson)</td>\n",
              "      <td>\\/Thor_(Thor_Odinson)</td>\n",
              "      <td>No Dual Identity</td>\n",
              "      <td>Good Characters</td>\n",
              "      <td>Blue Eyes</td>\n",
              "      <td>Blond Hair</td>\n",
              "      <td>Male Characters</td>\n",
              "      <td>NaN</td>\n",
              "      <td>Living Characters</td>\n",
              "      <td>2258.0</td>\n",
              "      <td>Nov-50</td>\n",
              "      <td>1950.0</td>\n",
              "    </tr>\n",
              "  </tbody>\n",
              "</table>\n",
              "</div>\n",
              "      <button class=\"colab-df-convert\" onclick=\"convertToInteractive('df-41dbd6b0-f868-4bdd-8549-1f4930c3a991')\"\n",
              "              title=\"Convert this dataframe to an interactive table.\"\n",
              "              style=\"display:none;\">\n",
              "        \n",
              "  <svg xmlns=\"http://www.w3.org/2000/svg\" height=\"24px\"viewBox=\"0 0 24 24\"\n",
              "       width=\"24px\">\n",
              "    <path d=\"M0 0h24v24H0V0z\" fill=\"none\"/>\n",
              "    <path d=\"M18.56 5.44l.94 2.06.94-2.06 2.06-.94-2.06-.94-.94-2.06-.94 2.06-2.06.94zm-11 1L8.5 8.5l.94-2.06 2.06-.94-2.06-.94L8.5 2.5l-.94 2.06-2.06.94zm10 10l.94 2.06.94-2.06 2.06-.94-2.06-.94-.94-2.06-.94 2.06-2.06.94z\"/><path d=\"M17.41 7.96l-1.37-1.37c-.4-.4-.92-.59-1.43-.59-.52 0-1.04.2-1.43.59L10.3 9.45l-7.72 7.72c-.78.78-.78 2.05 0 2.83L4 21.41c.39.39.9.59 1.41.59.51 0 1.02-.2 1.41-.59l7.78-7.78 2.81-2.81c.8-.78.8-2.07 0-2.86zM5.41 20L4 18.59l7.72-7.72 1.47 1.35L5.41 20z\"/>\n",
              "  </svg>\n",
              "      </button>\n",
              "      \n",
              "  <style>\n",
              "    .colab-df-container {\n",
              "      display:flex;\n",
              "      flex-wrap:wrap;\n",
              "      gap: 12px;\n",
              "    }\n",
              "\n",
              "    .colab-df-convert {\n",
              "      background-color: #E8F0FE;\n",
              "      border: none;\n",
              "      border-radius: 50%;\n",
              "      cursor: pointer;\n",
              "      display: none;\n",
              "      fill: #1967D2;\n",
              "      height: 32px;\n",
              "      padding: 0 0 0 0;\n",
              "      width: 32px;\n",
              "    }\n",
              "\n",
              "    .colab-df-convert:hover {\n",
              "      background-color: #E2EBFA;\n",
              "      box-shadow: 0px 1px 2px rgba(60, 64, 67, 0.3), 0px 1px 3px 1px rgba(60, 64, 67, 0.15);\n",
              "      fill: #174EA6;\n",
              "    }\n",
              "\n",
              "    [theme=dark] .colab-df-convert {\n",
              "      background-color: #3B4455;\n",
              "      fill: #D2E3FC;\n",
              "    }\n",
              "\n",
              "    [theme=dark] .colab-df-convert:hover {\n",
              "      background-color: #434B5C;\n",
              "      box-shadow: 0px 1px 3px 1px rgba(0, 0, 0, 0.15);\n",
              "      filter: drop-shadow(0px 1px 2px rgba(0, 0, 0, 0.3));\n",
              "      fill: #FFFFFF;\n",
              "    }\n",
              "  </style>\n",
              "\n",
              "      <script>\n",
              "        const buttonEl =\n",
              "          document.querySelector('#df-41dbd6b0-f868-4bdd-8549-1f4930c3a991 button.colab-df-convert');\n",
              "        buttonEl.style.display =\n",
              "          google.colab.kernel.accessAllowed ? 'block' : 'none';\n",
              "\n",
              "        async function convertToInteractive(key) {\n",
              "          const element = document.querySelector('#df-41dbd6b0-f868-4bdd-8549-1f4930c3a991');\n",
              "          const dataTable =\n",
              "            await google.colab.kernel.invokeFunction('convertToInteractive',\n",
              "                                                     [key], {});\n",
              "          if (!dataTable) return;\n",
              "\n",
              "          const docLinkHtml = 'Like what you see? Visit the ' +\n",
              "            '<a target=\"_blank\" href=https://colab.research.google.com/notebooks/data_table.ipynb>data table notebook</a>'\n",
              "            + ' to learn more about interactive tables.';\n",
              "          element.innerHTML = '';\n",
              "          dataTable['output_type'] = 'display_data';\n",
              "          await google.colab.output.renderOutput(dataTable, element);\n",
              "          const docLink = document.createElement('div');\n",
              "          docLink.innerHTML = docLinkHtml;\n",
              "          element.appendChild(docLink);\n",
              "        }\n",
              "      </script>\n",
              "    </div>\n",
              "  </div>\n",
              "  "
            ]
          },
          "metadata": {},
          "execution_count": 4
        }
      ],
      "source": [
        "df = pd.read_csv('marveldata.csv')\n",
        "df.head()"
      ]
    },
    {
      "cell_type": "markdown",
      "metadata": {
        "id": "HxEa56tGSmXP"
      },
      "source": [
        "#### Step 3: Calculate total number of character counts"
      ]
    },
    {
      "cell_type": "code",
      "execution_count": 5,
      "metadata": {
        "colab": {
          "base_uri": "https://localhost:8080/"
        },
        "id": "hen3AiirSmXQ",
        "outputId": "d602b44b-769d-4f24-e2c7-59908e8fd9f5"
      },
      "outputs": [
        {
          "output_type": "execute_result",
          "data": {
            "text/plain": [
              "16376"
            ]
          },
          "metadata": {},
          "execution_count": 5
        }
      ],
      "source": [
        "x = len(df['name'])\n",
        "x"
      ]
    },
    {
      "cell_type": "markdown",
      "metadata": {
        "id": "KgExQ2k8SmXQ"
      },
      "source": [
        "#### Step 4: Display columns SEX, EYE, HAIR"
      ]
    },
    {
      "cell_type": "code",
      "execution_count": 6,
      "metadata": {
        "colab": {
          "base_uri": "https://localhost:8080/",
          "height": 424
        },
        "id": "v0dU20yjSmXR",
        "outputId": "dbd35b13-bf96-4e5a-fa76-811217a262ad"
      },
      "outputs": [
        {
          "output_type": "execute_result",
          "data": {
            "text/plain": [
              "                   SEX         EYE        HAIR\n",
              "0      Male Characters  Hazel Eyes  Brown Hair\n",
              "1      Male Characters   Blue Eyes  White Hair\n",
              "2      Male Characters   Blue Eyes  Black Hair\n",
              "3      Male Characters   Blue Eyes  Black Hair\n",
              "4      Male Characters   Blue Eyes  Blond Hair\n",
              "...                ...         ...         ...\n",
              "16371  Male Characters  Green Eyes     No Hair\n",
              "16372  Male Characters   Blue Eyes        Bald\n",
              "16373  Male Characters  Black Eyes        Bald\n",
              "16374  Male Characters         NaN         NaN\n",
              "16375              NaN         NaN         NaN\n",
              "\n",
              "[16376 rows x 3 columns]"
            ],
            "text/html": [
              "\n",
              "  <div id=\"df-169617c6-3a7b-4d17-a548-5a4f6b13aa5a\">\n",
              "    <div class=\"colab-df-container\">\n",
              "      <div>\n",
              "<style scoped>\n",
              "    .dataframe tbody tr th:only-of-type {\n",
              "        vertical-align: middle;\n",
              "    }\n",
              "\n",
              "    .dataframe tbody tr th {\n",
              "        vertical-align: top;\n",
              "    }\n",
              "\n",
              "    .dataframe thead th {\n",
              "        text-align: right;\n",
              "    }\n",
              "</style>\n",
              "<table border=\"1\" class=\"dataframe\">\n",
              "  <thead>\n",
              "    <tr style=\"text-align: right;\">\n",
              "      <th></th>\n",
              "      <th>SEX</th>\n",
              "      <th>EYE</th>\n",
              "      <th>HAIR</th>\n",
              "    </tr>\n",
              "  </thead>\n",
              "  <tbody>\n",
              "    <tr>\n",
              "      <th>0</th>\n",
              "      <td>Male Characters</td>\n",
              "      <td>Hazel Eyes</td>\n",
              "      <td>Brown Hair</td>\n",
              "    </tr>\n",
              "    <tr>\n",
              "      <th>1</th>\n",
              "      <td>Male Characters</td>\n",
              "      <td>Blue Eyes</td>\n",
              "      <td>White Hair</td>\n",
              "    </tr>\n",
              "    <tr>\n",
              "      <th>2</th>\n",
              "      <td>Male Characters</td>\n",
              "      <td>Blue Eyes</td>\n",
              "      <td>Black Hair</td>\n",
              "    </tr>\n",
              "    <tr>\n",
              "      <th>3</th>\n",
              "      <td>Male Characters</td>\n",
              "      <td>Blue Eyes</td>\n",
              "      <td>Black Hair</td>\n",
              "    </tr>\n",
              "    <tr>\n",
              "      <th>4</th>\n",
              "      <td>Male Characters</td>\n",
              "      <td>Blue Eyes</td>\n",
              "      <td>Blond Hair</td>\n",
              "    </tr>\n",
              "    <tr>\n",
              "      <th>...</th>\n",
              "      <td>...</td>\n",
              "      <td>...</td>\n",
              "      <td>...</td>\n",
              "    </tr>\n",
              "    <tr>\n",
              "      <th>16371</th>\n",
              "      <td>Male Characters</td>\n",
              "      <td>Green Eyes</td>\n",
              "      <td>No Hair</td>\n",
              "    </tr>\n",
              "    <tr>\n",
              "      <th>16372</th>\n",
              "      <td>Male Characters</td>\n",
              "      <td>Blue Eyes</td>\n",
              "      <td>Bald</td>\n",
              "    </tr>\n",
              "    <tr>\n",
              "      <th>16373</th>\n",
              "      <td>Male Characters</td>\n",
              "      <td>Black Eyes</td>\n",
              "      <td>Bald</td>\n",
              "    </tr>\n",
              "    <tr>\n",
              "      <th>16374</th>\n",
              "      <td>Male Characters</td>\n",
              "      <td>NaN</td>\n",
              "      <td>NaN</td>\n",
              "    </tr>\n",
              "    <tr>\n",
              "      <th>16375</th>\n",
              "      <td>NaN</td>\n",
              "      <td>NaN</td>\n",
              "      <td>NaN</td>\n",
              "    </tr>\n",
              "  </tbody>\n",
              "</table>\n",
              "<p>16376 rows × 3 columns</p>\n",
              "</div>\n",
              "      <button class=\"colab-df-convert\" onclick=\"convertToInteractive('df-169617c6-3a7b-4d17-a548-5a4f6b13aa5a')\"\n",
              "              title=\"Convert this dataframe to an interactive table.\"\n",
              "              style=\"display:none;\">\n",
              "        \n",
              "  <svg xmlns=\"http://www.w3.org/2000/svg\" height=\"24px\"viewBox=\"0 0 24 24\"\n",
              "       width=\"24px\">\n",
              "    <path d=\"M0 0h24v24H0V0z\" fill=\"none\"/>\n",
              "    <path d=\"M18.56 5.44l.94 2.06.94-2.06 2.06-.94-2.06-.94-.94-2.06-.94 2.06-2.06.94zm-11 1L8.5 8.5l.94-2.06 2.06-.94-2.06-.94L8.5 2.5l-.94 2.06-2.06.94zm10 10l.94 2.06.94-2.06 2.06-.94-2.06-.94-.94-2.06-.94 2.06-2.06.94z\"/><path d=\"M17.41 7.96l-1.37-1.37c-.4-.4-.92-.59-1.43-.59-.52 0-1.04.2-1.43.59L10.3 9.45l-7.72 7.72c-.78.78-.78 2.05 0 2.83L4 21.41c.39.39.9.59 1.41.59.51 0 1.02-.2 1.41-.59l7.78-7.78 2.81-2.81c.8-.78.8-2.07 0-2.86zM5.41 20L4 18.59l7.72-7.72 1.47 1.35L5.41 20z\"/>\n",
              "  </svg>\n",
              "      </button>\n",
              "      \n",
              "  <style>\n",
              "    .colab-df-container {\n",
              "      display:flex;\n",
              "      flex-wrap:wrap;\n",
              "      gap: 12px;\n",
              "    }\n",
              "\n",
              "    .colab-df-convert {\n",
              "      background-color: #E8F0FE;\n",
              "      border: none;\n",
              "      border-radius: 50%;\n",
              "      cursor: pointer;\n",
              "      display: none;\n",
              "      fill: #1967D2;\n",
              "      height: 32px;\n",
              "      padding: 0 0 0 0;\n",
              "      width: 32px;\n",
              "    }\n",
              "\n",
              "    .colab-df-convert:hover {\n",
              "      background-color: #E2EBFA;\n",
              "      box-shadow: 0px 1px 2px rgba(60, 64, 67, 0.3), 0px 1px 3px 1px rgba(60, 64, 67, 0.15);\n",
              "      fill: #174EA6;\n",
              "    }\n",
              "\n",
              "    [theme=dark] .colab-df-convert {\n",
              "      background-color: #3B4455;\n",
              "      fill: #D2E3FC;\n",
              "    }\n",
              "\n",
              "    [theme=dark] .colab-df-convert:hover {\n",
              "      background-color: #434B5C;\n",
              "      box-shadow: 0px 1px 3px 1px rgba(0, 0, 0, 0.15);\n",
              "      filter: drop-shadow(0px 1px 2px rgba(0, 0, 0, 0.3));\n",
              "      fill: #FFFFFF;\n",
              "    }\n",
              "  </style>\n",
              "\n",
              "      <script>\n",
              "        const buttonEl =\n",
              "          document.querySelector('#df-169617c6-3a7b-4d17-a548-5a4f6b13aa5a button.colab-df-convert');\n",
              "        buttonEl.style.display =\n",
              "          google.colab.kernel.accessAllowed ? 'block' : 'none';\n",
              "\n",
              "        async function convertToInteractive(key) {\n",
              "          const element = document.querySelector('#df-169617c6-3a7b-4d17-a548-5a4f6b13aa5a');\n",
              "          const dataTable =\n",
              "            await google.colab.kernel.invokeFunction('convertToInteractive',\n",
              "                                                     [key], {});\n",
              "          if (!dataTable) return;\n",
              "\n",
              "          const docLinkHtml = 'Like what you see? Visit the ' +\n",
              "            '<a target=\"_blank\" href=https://colab.research.google.com/notebooks/data_table.ipynb>data table notebook</a>'\n",
              "            + ' to learn more about interactive tables.';\n",
              "          element.innerHTML = '';\n",
              "          dataTable['output_type'] = 'display_data';\n",
              "          await google.colab.output.renderOutput(dataTable, element);\n",
              "          const docLink = document.createElement('div');\n",
              "          docLink.innerHTML = docLinkHtml;\n",
              "          element.appendChild(docLink);\n",
              "        }\n",
              "      </script>\n",
              "    </div>\n",
              "  </div>\n",
              "  "
            ]
          },
          "metadata": {},
          "execution_count": 6
        }
      ],
      "source": [
        "marvel = df[['SEX','EYE','HAIR']]\n",
        "marvel"
      ]
    },
    {
      "cell_type": "markdown",
      "metadata": {
        "id": "IgVP2NUiSmXR"
      },
      "source": [
        "#### Step 5: Calculate total number of characters according to gender"
      ]
    },
    {
      "cell_type": "code",
      "execution_count": 7,
      "metadata": {
        "colab": {
          "base_uri": "https://localhost:8080/"
        },
        "id": "Dq3DQXcUSmXS",
        "outputId": "f7aa11ab-ad34-49f7-c772-3392bdc74c65"
      },
      "outputs": [
        {
          "output_type": "stream",
          "name": "stdout",
          "text": [
            "SEX\n",
            "Agender Characters           45\n",
            "Female Characters          3837\n",
            "Genderfluid Characters        2\n",
            "Male Characters           11638\n",
            "Name: name, dtype: int64\n"
          ]
        }
      ],
      "source": [
        "char = df.groupby(['SEX']).count()['name']\n",
        "print(char)"
      ]
    },
    {
      "cell_type": "markdown",
      "metadata": {
        "id": "Lm-1fdABSmXS"
      },
      "source": [
        "# Marginal Probability"
      ]
    },
    {
      "cell_type": "markdown",
      "metadata": {
        "id": "TN3oNirQSmXT"
      },
      "source": [
        "### Calculate the probability of character being male"
      ]
    },
    {
      "cell_type": "markdown",
      "metadata": {
        "id": "PlpgYqdISmXT"
      },
      "source": [
        "#### Step 6: Calculate the probability of character being male"
      ]
    },
    {
      "cell_type": "code",
      "execution_count": 8,
      "metadata": {
        "colab": {
          "base_uri": "https://localhost:8080/"
        },
        "id": "-B3StZbBSmXT",
        "outputId": "afa18e7f-2c84-4996-8d94-1d7a56fadf45"
      },
      "outputs": [
        {
          "output_type": "execute_result",
          "data": {
            "text/plain": [
              "0.7106741573033708"
            ]
          },
          "metadata": {},
          "execution_count": 8
        }
      ],
      "source": [
        "#Probability of character being male\n",
        "char['Male Characters']/x"
      ]
    },
    {
      "cell_type": "markdown",
      "metadata": {
        "id": "ofDoxzGgSmXU"
      },
      "source": [
        "# Joint Probability"
      ]
    },
    {
      "cell_type": "markdown",
      "metadata": {
        "id": "3O_vDeTJSmXU"
      },
      "source": [
        "### Calculate the probability of character being female and has red hair"
      ]
    },
    {
      "cell_type": "markdown",
      "metadata": {
        "id": "xnYSc5PkSmXU"
      },
      "source": [
        "Assume that both the events are independent of each other"
      ]
    },
    {
      "cell_type": "markdown",
      "metadata": {
        "id": "3b6Wi3aYSmXV"
      },
      "source": [
        "#### Step 7: Calculate probability of character being female"
      ]
    },
    {
      "cell_type": "code",
      "execution_count": 9,
      "metadata": {
        "colab": {
          "base_uri": "https://localhost:8080/"
        },
        "id": "12JQ3X8uSmXV",
        "outputId": "b2e5fda0-6128-4878-ea4e-eadcd0752842"
      },
      "outputs": [
        {
          "output_type": "execute_result",
          "data": {
            "text/plain": [
              "0.23430630190522717"
            ]
          },
          "metadata": {},
          "execution_count": 9
        }
      ],
      "source": [
        "female=char['Female Characters']/x\n",
        "female"
      ]
    },
    {
      "cell_type": "markdown",
      "metadata": {
        "id": "pqIOxk1jSmXW"
      },
      "source": [
        "#### Step 8: Calculate count of different hair color"
      ]
    },
    {
      "cell_type": "code",
      "execution_count": 10,
      "metadata": {
        "colab": {
          "base_uri": "https://localhost:8080/"
        },
        "id": "CfzM6L9USmXW",
        "outputId": "43b7f82c-2816-45f0-bb5b-9098e732204d"
      },
      "outputs": [
        {
          "output_type": "stream",
          "name": "stdout",
          "text": [
            "HAIR\n",
            "Auburn Hair                78\n",
            "Bald                      838\n",
            "Black Hair               3755\n",
            "Blond Hair               1582\n",
            "Blue Hair                  56\n",
            "Bronze Hair                 1\n",
            "Brown Hair               2339\n",
            "Dyed Hair                   1\n",
            "Gold Hair                   8\n",
            "Green Hair                117\n",
            "Grey Hair                 531\n",
            "Light Brown Hair            6\n",
            "Magenta Hair                5\n",
            "No Hair                  1176\n",
            "Orange Hair                43\n",
            "Orange-brown Hair           3\n",
            "Pink Hair                  31\n",
            "Purple Hair                47\n",
            "Red Hair                  620\n",
            "Reddish Blond Hair          6\n",
            "Silver Hair                16\n",
            "Strawberry Blond Hair      47\n",
            "Variable Hair              32\n",
            "White Hair                754\n",
            "Yellow Hair                20\n",
            "Name: name, dtype: int64\n"
          ]
        }
      ],
      "source": [
        "hair=df.groupby(['HAIR']).count()['name']\n",
        "print(hair)"
      ]
    },
    {
      "cell_type": "markdown",
      "metadata": {
        "id": "El4Si-rVSmXX"
      },
      "source": [
        "#### Step 9: Calculate probability of character having a red hair"
      ]
    },
    {
      "cell_type": "code",
      "execution_count": 11,
      "metadata": {
        "colab": {
          "base_uri": "https://localhost:8080/"
        },
        "id": "m9TNfZHxSmXX",
        "outputId": "cd31dd19-baa4-49d6-d1e7-6d5b40480857"
      },
      "outputs": [
        {
          "output_type": "stream",
          "name": "stdout",
          "text": [
            "0.03786028334147533\n"
          ]
        }
      ],
      "source": [
        "red_hair=hair['Red Hair']/x\n",
        "print(red_hair)"
      ]
    },
    {
      "cell_type": "markdown",
      "metadata": {
        "id": "_1nlRgxvSmXX"
      },
      "source": [
        "#### Step 10: Calculate probability of character being female and has red hair i.e.joint probability"
      ]
    },
    {
      "cell_type": "code",
      "execution_count": 12,
      "metadata": {
        "colab": {
          "base_uri": "https://localhost:8080/"
        },
        "id": "BHt20jzXSmXY",
        "outputId": "0b14d833-1598-41b9-bd9a-7b760eb367e6"
      },
      "outputs": [
        {
          "output_type": "stream",
          "name": "stdout",
          "text": [
            "0.008870902978825162\n"
          ]
        }
      ],
      "source": [
        "#Probability of character being female and has red hairs\n",
        "print(female*red_hair)"
      ]
    },
    {
      "cell_type": "markdown",
      "metadata": {
        "id": "89p8zwQVSmXZ"
      },
      "source": [
        "#### Step 11: Calculate joint probability in terms of percentage"
      ]
    },
    {
      "cell_type": "code",
      "execution_count": 13,
      "metadata": {
        "colab": {
          "base_uri": "https://localhost:8080/"
        },
        "id": "VpZDs0QWSmXZ",
        "outputId": "ea227f6a-986f-497d-e325-4ba5fdd4fc08"
      },
      "outputs": [
        {
          "output_type": "stream",
          "name": "stdout",
          "text": [
            "0.8870902978825161\n"
          ]
        }
      ],
      "source": [
        "print(female*red_hair*100)"
      ]
    },
    {
      "cell_type": "markdown",
      "metadata": {
        "id": "tb1C8FFDSmXZ"
      },
      "source": [
        "# Conditional Probability"
      ]
    },
    {
      "cell_type": "markdown",
      "metadata": {
        "id": "T5bTca5qSmXa"
      },
      "source": [
        "### Given that character is female, calculate the probability of having green eyes"
      ]
    },
    {
      "cell_type": "markdown",
      "metadata": {
        "id": "0Y-OaOBPSmXa"
      },
      "source": [
        "#### Step 12: Calculate count of green eyes"
      ]
    },
    {
      "cell_type": "code",
      "execution_count": 14,
      "metadata": {
        "colab": {
          "base_uri": "https://localhost:8080/"
        },
        "id": "0saqtYhZSmXa",
        "outputId": "4d08bdb6-7ae5-4c62-9760-153dca4c2842"
      },
      "outputs": [
        {
          "output_type": "execute_result",
          "data": {
            "text/plain": [
              "613"
            ]
          },
          "metadata": {},
          "execution_count": 14
        }
      ],
      "source": [
        "#Count of green eyes\n",
        "green_eyes = df[df=='Green Eyes'].EYE.count()\n",
        "green_eyes"
      ]
    },
    {
      "cell_type": "markdown",
      "metadata": {
        "id": "B_D-fkwrSmXb"
      },
      "source": [
        "#### Step 13: Calculate count of female characters"
      ]
    },
    {
      "cell_type": "code",
      "execution_count": 15,
      "metadata": {
        "colab": {
          "base_uri": "https://localhost:8080/"
        },
        "id": "Dzto4-XGSmXb",
        "outputId": "f02dda82-9346-482b-ff5d-1416d806253c"
      },
      "outputs": [
        {
          "output_type": "execute_result",
          "data": {
            "text/plain": [
              "3837"
            ]
          },
          "metadata": {},
          "execution_count": 15
        }
      ],
      "source": [
        "female_char = df[df.SEX=='Female Characters'].SEX.count()\n",
        "female_char"
      ]
    },
    {
      "cell_type": "markdown",
      "metadata": {
        "id": "HmvBqOb3SmXc"
      },
      "source": [
        "#### Step 14: Calculate count of female characters with green eyes"
      ]
    },
    {
      "cell_type": "code",
      "execution_count": 16,
      "metadata": {
        "colab": {
          "base_uri": "https://localhost:8080/"
        },
        "id": "ch_vz2TYSmXd",
        "outputId": "92b57340-c738-4603-d934-be40a1bb4277"
      },
      "outputs": [
        {
          "output_type": "execute_result",
          "data": {
            "text/plain": [
              "268"
            ]
          },
          "metadata": {},
          "execution_count": 16
        }
      ],
      "source": [
        "female_green_count = df[(df.SEX=='Female Characters') & (df.EYE=='Green Eyes')].SEX.count()\n",
        "female_green_count"
      ]
    },
    {
      "cell_type": "markdown",
      "metadata": {
        "id": "UdYuuDhfSmXd"
      },
      "source": [
        "#### Step 15: Calculate probability of female with green eyes"
      ]
    },
    {
      "cell_type": "code",
      "execution_count": 17,
      "metadata": {
        "colab": {
          "base_uri": "https://localhost:8080/"
        },
        "id": "XBOIldk-SmXe",
        "outputId": "bff06c52-a86b-4213-d453-3422e140ba19"
      },
      "outputs": [
        {
          "output_type": "execute_result",
          "data": {
            "text/plain": [
              "0.016365412799218368"
            ]
          },
          "metadata": {},
          "execution_count": 17
        }
      ],
      "source": [
        "prob_female_green = female_green_count/x\n",
        "prob_female_green"
      ]
    },
    {
      "cell_type": "markdown",
      "metadata": {
        "id": "QqmvvFClSmXe"
      },
      "source": [
        "#### Step 16: Probability of character being female"
      ]
    },
    {
      "cell_type": "code",
      "execution_count": 18,
      "metadata": {
        "colab": {
          "base_uri": "https://localhost:8080/"
        },
        "id": "QItFvonvSmXe",
        "outputId": "083a7957-72cd-49c4-e827-5cd41351a688"
      },
      "outputs": [
        {
          "output_type": "execute_result",
          "data": {
            "text/plain": [
              "0.23430630190522717"
            ]
          },
          "metadata": {},
          "execution_count": 18
        }
      ],
      "source": [
        "prob_female = female_char/x\n",
        "prob_female"
      ]
    },
    {
      "cell_type": "markdown",
      "metadata": {
        "id": "L_pJDjNNSmXf"
      },
      "source": [
        "#### Step 17: Calculate conditional probability of female with green eyes"
      ]
    },
    {
      "cell_type": "code",
      "execution_count": 19,
      "metadata": {
        "colab": {
          "base_uri": "https://localhost:8080/"
        },
        "id": "gMNWGVcuSmXf",
        "outputId": "8b7c8f10-977f-4f90-abc9-9bb82d43cf63"
      },
      "outputs": [
        {
          "output_type": "execute_result",
          "data": {
            "text/plain": [
              "0.06984623403700807"
            ]
          },
          "metadata": {},
          "execution_count": 19
        }
      ],
      "source": [
        "prob_female_green/prob_female"
      ]
    },
    {
      "cell_type": "markdown",
      "metadata": {
        "id": "6vpI1Df3SmXg"
      },
      "source": [
        "#### Conclusion: This code demonstrate how to implement types of probability"
      ]
    },
    {
      "cell_type": "markdown",
      "metadata": {
        "id": "wGFIiNOOSmXg"
      },
      "source": [
        "# Odds"
      ]
    },
    {
      "cell_type": "markdown",
      "metadata": {
        "id": "6weKP9uOSmXg"
      },
      "source": [
        "### Calculate the odds in favour of living characters"
      ]
    },
    {
      "cell_type": "markdown",
      "metadata": {
        "id": "0u1nD3ymSmXh"
      },
      "source": [
        "#### Step 1: Calculate the count of living character"
      ]
    },
    {
      "cell_type": "code",
      "execution_count": 20,
      "metadata": {
        "colab": {
          "base_uri": "https://localhost:8080/"
        },
        "id": "pNOtClrjSmXh",
        "outputId": "a44fcb2e-7ad9-4c62-eca6-1007f069eb3b"
      },
      "outputs": [
        {
          "output_type": "stream",
          "name": "stdout",
          "text": [
            "9490\n"
          ]
        }
      ],
      "source": [
        "living_characters=df.groupby(['ALIVE']).count()['ID'] # This statement returns a dataframe consisting of deceased and living characters\n",
        "#Getting count of living characters\n",
        "l=living_characters[1] \n",
        "print(l)"
      ]
    },
    {
      "cell_type": "markdown",
      "metadata": {
        "id": "F3G6cMjWSmXi"
      },
      "source": [
        "#### Step 2: Calculate the probability of living characters"
      ]
    },
    {
      "cell_type": "code",
      "execution_count": 21,
      "metadata": {
        "colab": {
          "base_uri": "https://localhost:8080/"
        },
        "id": "lTVezDvdSmXj",
        "outputId": "a75227a6-5f24-4ec4-9a11-dfd182a2be1a"
      },
      "outputs": [
        {
          "output_type": "execute_result",
          "data": {
            "text/plain": [
              "0.5795065950170982"
            ]
          },
          "metadata": {},
          "execution_count": 21
        }
      ],
      "source": [
        "prob_liv = l/x\n",
        "prob_liv"
      ]
    },
    {
      "cell_type": "markdown",
      "metadata": {
        "id": "bW4JqL9LSmXj"
      },
      "source": [
        "#### Step 3: Calculate number of alive characters except living characters"
      ]
    },
    {
      "cell_type": "code",
      "execution_count": 22,
      "metadata": {
        "colab": {
          "base_uri": "https://localhost:8080/"
        },
        "id": "n9w4lIbeSmXk",
        "outputId": "922a894f-7474-4219-f346-f19c7f7bd1d5"
      },
      "outputs": [
        {
          "output_type": "execute_result",
          "data": {
            "text/plain": [
              "0.4204934049829018"
            ]
          },
          "metadata": {},
          "execution_count": 22
        }
      ],
      "source": [
        "y = 1-prob_liv\n",
        "y"
      ]
    },
    {
      "cell_type": "markdown",
      "metadata": {
        "id": "wYEXhPcySmXk"
      },
      "source": [
        "#### Step 4: Calculate odds in favour of living characters"
      ]
    },
    {
      "cell_type": "code",
      "execution_count": 23,
      "metadata": {
        "colab": {
          "base_uri": "https://localhost:8080/"
        },
        "id": "3kcZMeivSmXk",
        "outputId": "536ac753-2349-443b-84e6-dde30096e90a"
      },
      "outputs": [
        {
          "output_type": "execute_result",
          "data": {
            "text/plain": [
              "1.3781585826314262"
            ]
          },
          "metadata": {},
          "execution_count": 23
        }
      ],
      "source": [
        "odds = prob_liv/y\n",
        "odds"
      ]
    }
  ],
  "metadata": {
    "kernelspec": {
      "display_name": "Python 3",
      "language": "python",
      "name": "python3"
    },
    "language_info": {
      "codemirror_mode": {
        "name": "ipython",
        "version": 3
      },
      "file_extension": ".py",
      "mimetype": "text/x-python",
      "name": "python",
      "nbconvert_exporter": "python",
      "pygments_lexer": "ipython3",
      "version": "3.7.3"
    },
    "colab": {
      "name": "1752_day11_demo1 - Rules of Probability.ipynb",
      "provenance": [],
      "collapsed_sections": []
    }
  },
  "nbformat": 4,
  "nbformat_minor": 0
}