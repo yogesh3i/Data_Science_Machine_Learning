{
 "cells": [
  {
   "cell_type": "markdown",
   "metadata": {},
   "source": [
    "# PROBABILITY FOR DATA SCIENCE: \n",
    "\n",
    "Introduced graphical and numerical descriptive methods. \n",
    "Although the methods are useful on their own, we are particularly interested in \n",
    "developing statistical inference. As we pointed out in Chapter 1, statistical inference \n",
    "is the process by which we acquire information about populations from samples. \n",
    "**A critical component of inference is probability because it provides the link between the population and the sample.**\n",
    "\n",
    "**Random experiment:** \n",
    "Random experiment is an action which leads to the several possible outcomes.\n",
    "\n",
    "1. Illustration 1. Experiment: Flip a coin.\n",
    "    Outcomes: Heads and tails\n",
    "2. Illustration 2. Experiment: Record marks on a statistics test (out of 100).\n",
    "    Outcomes: Numbers between 0 and 100\n",
    "3. Illustration 3. Experiment: Record grade on a statistics test.\n",
    "    Outcomes: A, B, C, D, and F\n",
    "\n",
    "The first step in assigning probabilities is to produce a list of the outcomes. The \n",
    "listed outcomes must be *exhaustive*, which means that all possible outcomes must be \n",
    "included. In addition, the outcomes must be *mutually exclusive*, which means that no \n",
    "two outcomes can occur at the same time.\n",
    "\n",
    "To illustrate the concept of exhaustive outcomes consider this list of the outcomes \n",
    "of the toss of a die:\n",
    "1 2 3 4 5\n",
    "This list is not exhaustive, because we have omitted 6.\n",
    "\n",
    "The concept of mutual exclusiveness can be seen by listing the following outcomes \n",
    "in illustration 2:\n",
    "\n",
    "0–50 50–60 60–70 70–80 80–100\n",
    "If these intervals include both the lower and upper limits, then these outcomes are not \n",
    "mutually exclusive because two outcomes can occur for any student.\n",
    "\n",
    "# Need of probability:\n",
    "Probability helps in understanding the different buisiness problems. \n",
    "eg. Probability can help a company to decide the market value of the perticular product. \n",
    "\n",
    "eg. Probability distribution can also helps in analyzing the futures outcomes. \n",
    "\n",
    "eg. It also help in deciding the company financial risk. \n",
    "\n"
   ]
  },
  {
   "cell_type": "markdown",
   "metadata": {},
   "source": [
    "# Common terminologies in the probability:\n",
    "\n",
    "*1. Probability Experiment:* \n",
    "Probability experiment or also any random experiment is an action or the process which leads to one or several possible outcomes. eg. flipping coin, casting die \n",
    "\n",
    "*2. Outcomes:* \n",
    "A possible result of the experiment called outcomes. \n",
    "eg. Head and tail, number on the die. \n",
    "\n",
    "*3. Samole space:*\n",
    "Set of all possible outcomes called as sample space. \n",
    "eg. flip two coin at time \n",
    "s=[TH,TT,HT,HH.]\n",
    "\n",
    "*4. Events*\n",
    "Any group of outcomes from the sample space. \n",
    "eg. events of tails at once s=[TH,HT,TT]\n",
    "\n",
    "\n",
    "# Union Of Events- Logical OR:\n",
    "The union of the two set is the set that contains all the uncommon events and the common events at once. \n",
    "\n",
    "a= [1,2,3,4,5]  b=[3,6,7,8,9]\n",
    "aUb=[1,2,3,4,5,6,7,8,9]\n",
    "\n",
    "# Intersection of the events- Logical AND:\n",
    "The intersection of the two events is the set which contains all the common events in the sets.\n",
    "a= [1,2,3,4,5]  b=[3,6,7,8,9]\n",
    "anb =[3]"
   ]
  },
  {
   "cell_type": "code",
   "execution_count": 2,
   "metadata": {},
   "outputs": [
    {
     "name": "stdout",
     "output_type": "stream",
     "text": [
      "{1, 2, 3, 4, 5, 6, 7, 8, 9}\n"
     ]
    }
   ],
   "source": [
    "# Union \n",
    "a= {1,2,3,4,5}  \n",
    "b={3,6,7,8,9}\n",
    "c=a.union(b)\n",
    "print(c)"
   ]
  },
  {
   "cell_type": "code",
   "execution_count": 4,
   "metadata": {},
   "outputs": [
    {
     "name": "stdout",
     "output_type": "stream",
     "text": [
      "{3}\n"
     ]
    }
   ],
   "source": [
    "# intersection \n",
    "a={ 1,2,3,4,5}  \n",
    "b={3,6,7,8,9}\n",
    "c= a.intersection(b)\n",
    "print(c)"
   ]
  },
  {
   "cell_type": "markdown",
   "metadata": {},
   "source": [
    "# Types of events:\n",
    "\n",
    "1. Mutually Exclusive events\n",
    "2. Mutually non Exxlusive events \n",
    "3. Dependent event\n",
    "4. Independent event\n",
    "\n",
    "*1. Mutually Exclusive events:*\n",
    "\n",
    "Mutually exclusive events are those events which cannt happen togather. Means P(A and B)=0. They are also called Disjoint Event.\n",
    "\n",
    "Hence for mutually exclusive events;\n",
    "P(A or B)= P(A) + P(B)\n",
    "\n",
    "*2. Mutually non-exclusive events:*\n",
    "\n",
    "When two events are mutually non exclusive they can happen togather. Hence P(A and B) !=0\n",
    "\n",
    "P(A and B)=P(A)+P(B)-P(A and B)\n",
    "\n",
    "*3. Dependent event:*\n",
    "Two events are dependent if the result if the first event affecgts the result of the second event. \n",
    "\n",
    "If A and B are dependent event then \n",
    "P(A and B)= P(A) * P(B/A) where P(B/A)= Probability of B given A \n",
    "\n",
    "eg. \n",
    "If there are 3 chocolate and 4 strawberry cup cackes in the box then the probability of picking chocolate cupcacke is 4/7. \n",
    "If one of the strawberry cupcacke is remove from the box then the probability of picking a chocolate cupcacke is 4/6\n",
    "\n",
    "Hence the next event is dependent on the first event. \n",
    "\n",
    "\n",
    "4. Independent event: \n",
    "Two events are independent of each other the result of the first event does not affect the outcome of the second event.\n",
    "If A and B is independent event then \n",
    "P(A and B)=P(A)*P(B)\n",
    "\n",
    "eg. if the coin is tossed and the six sided die is casted then the probability of getting head and the 3 number on the die side is \n",
    "\n",
    "P(head and 3)= P(head)*P(3)\n",
    "             = 1/2*1/6\n",
    "             =1/12\n",
    "\n",
    "# open the slides and refer.\n",
    "\n",
    "**General addition rule**"
   ]
  },
  {
   "cell_type": "markdown",
   "metadata": {},
   "source": [
    "# Types of probability:\n",
    "\n",
    "# 1.Marginal probability:\n",
    "Joint probability is the probability of occurence of single event. \n",
    "\n",
    "eg. The probsbility that a card is drawn from a deck of card is red. =26/52=1/2 \n",
    "\n",
    "hence marginal probability=26/52=1/2 \n",
    "\n",
    "# Joint probability:\n",
    "Joint probability is the measure of two events happening at the same time. \n",
    "Joint probability =P(AnB)=P(A)*P(B)\n",
    "\n",
    "There are two condition here if the events are dependent or the independent.\n",
    "\n",
    "1.) Independent Events:\n",
    "If the occurence of the first event does not affect the occurence of the second event called as Independent event. Then the joint probability is the product of the individual probability. \n",
    "\n",
    "P(A n B)=P(A)*P(B)\n",
    "\n",
    "2.) Dependent even:\n",
    "If the occurrence of the first event affects the occurrence of the second event called as dependent event. In this condition we need to consider the conditional probability. \n",
    "\n",
    "P(A n B)=P(A)*P(B/A) Where B/A is the occureence of B over A \n",
    "\n",
    "eg. Independent joint probability:\n",
    "The probability of card is red and the 4 =P(four)*P(red)\n",
    "                                            (4/52)*(26/52)\n",
    "                                            =1/26\n",
    "\n",
    "\n",
    "eg. Dependent probability i.e. conditional probability\n",
    "\n",
    "Given that the red card is drawn fromt the deck of card \n",
    "Probability of the card is 4 P(4/red)=p(4 and  red)/p(red)\n",
    "                                      =  P(4)*P(RED)/P(RED)\n",
    "                                      = (2/26)/26/52\n",
    "                                      1/13\n",
    "\n",
    "\n",
    "In condition probability if two events are dependent the expression is.\n",
    "\n",
    "P(A/B)=P(A and B)/P(B)\n",
    "\n",
    "If the events are independent \n",
    "\n",
    "P(A/B)=P(A)\n"
   ]
  },
  {
   "cell_type": "code",
   "execution_count": 5,
   "metadata": {},
   "outputs": [],
   "source": [
    "# Demo 1 implementing the types of probability \n",
    "\n",
    "import numpy as np \n",
    "import pandas as pd \n"
   ]
  },
  {
   "cell_type": "code",
   "execution_count": 6,
   "metadata": {},
   "outputs": [
    {
     "data": {
      "text/html": [
       "<div>\n",
       "<style scoped>\n",
       "    .dataframe tbody tr th:only-of-type {\n",
       "        vertical-align: middle;\n",
       "    }\n",
       "\n",
       "    .dataframe tbody tr th {\n",
       "        vertical-align: top;\n",
       "    }\n",
       "\n",
       "    .dataframe thead th {\n",
       "        text-align: right;\n",
       "    }\n",
       "</style>\n",
       "<table border=\"1\" class=\"dataframe\">\n",
       "  <thead>\n",
       "    <tr style=\"text-align: right;\">\n",
       "      <th></th>\n",
       "      <th>page_id</th>\n",
       "      <th>name</th>\n",
       "      <th>urlslug</th>\n",
       "      <th>ID</th>\n",
       "      <th>ALIGN</th>\n",
       "      <th>EYE</th>\n",
       "      <th>HAIR</th>\n",
       "      <th>SEX</th>\n",
       "      <th>GSM</th>\n",
       "      <th>ALIVE</th>\n",
       "      <th>APPEARANCES</th>\n",
       "      <th>FIRST APPEARANCE</th>\n",
       "      <th>Year</th>\n",
       "    </tr>\n",
       "  </thead>\n",
       "  <tbody>\n",
       "    <tr>\n",
       "      <th>0</th>\n",
       "      <td>1678</td>\n",
       "      <td>Spider-Man (Peter Parker)</td>\n",
       "      <td>\\/Spider-Man_(Peter_Parker)</td>\n",
       "      <td>Secret Identity</td>\n",
       "      <td>Good Characters</td>\n",
       "      <td>Hazel Eyes</td>\n",
       "      <td>Brown Hair</td>\n",
       "      <td>Male Characters</td>\n",
       "      <td>NaN</td>\n",
       "      <td>Living Characters</td>\n",
       "      <td>4043.0</td>\n",
       "      <td>Aug-62</td>\n",
       "      <td>1962.0</td>\n",
       "    </tr>\n",
       "    <tr>\n",
       "      <th>1</th>\n",
       "      <td>7139</td>\n",
       "      <td>Captain America (Steven Rogers)</td>\n",
       "      <td>\\/Captain_America_(Steven_Rogers)</td>\n",
       "      <td>Public Identity</td>\n",
       "      <td>Good Characters</td>\n",
       "      <td>Blue Eyes</td>\n",
       "      <td>White Hair</td>\n",
       "      <td>Male Characters</td>\n",
       "      <td>NaN</td>\n",
       "      <td>Living Characters</td>\n",
       "      <td>3360.0</td>\n",
       "      <td>Mar-41</td>\n",
       "      <td>1941.0</td>\n",
       "    </tr>\n",
       "    <tr>\n",
       "      <th>2</th>\n",
       "      <td>64786</td>\n",
       "      <td>Wolverine (James \\\"Logan\\\" Howlett)</td>\n",
       "      <td>\\/Wolverine_(James_%22Logan%22_Howlett)</td>\n",
       "      <td>Public Identity</td>\n",
       "      <td>Neutral Characters</td>\n",
       "      <td>Blue Eyes</td>\n",
       "      <td>Black Hair</td>\n",
       "      <td>Male Characters</td>\n",
       "      <td>NaN</td>\n",
       "      <td>Living Characters</td>\n",
       "      <td>3061.0</td>\n",
       "      <td>Oct-74</td>\n",
       "      <td>1974.0</td>\n",
       "    </tr>\n",
       "    <tr>\n",
       "      <th>3</th>\n",
       "      <td>1868</td>\n",
       "      <td>Iron Man (Anthony \\\"Tony\\\" Stark)</td>\n",
       "      <td>\\/Iron_Man_(Anthony_%22Tony%22_Stark)</td>\n",
       "      <td>Public Identity</td>\n",
       "      <td>Good Characters</td>\n",
       "      <td>Blue Eyes</td>\n",
       "      <td>Black Hair</td>\n",
       "      <td>Male Characters</td>\n",
       "      <td>NaN</td>\n",
       "      <td>Living Characters</td>\n",
       "      <td>2961.0</td>\n",
       "      <td>Mar-63</td>\n",
       "      <td>1963.0</td>\n",
       "    </tr>\n",
       "    <tr>\n",
       "      <th>4</th>\n",
       "      <td>2460</td>\n",
       "      <td>Thor (Thor Odinson)</td>\n",
       "      <td>\\/Thor_(Thor_Odinson)</td>\n",
       "      <td>No Dual Identity</td>\n",
       "      <td>Good Characters</td>\n",
       "      <td>Blue Eyes</td>\n",
       "      <td>Blond Hair</td>\n",
       "      <td>Male Characters</td>\n",
       "      <td>NaN</td>\n",
       "      <td>Living Characters</td>\n",
       "      <td>2258.0</td>\n",
       "      <td>Nov-50</td>\n",
       "      <td>1950.0</td>\n",
       "    </tr>\n",
       "  </tbody>\n",
       "</table>\n",
       "</div>"
      ],
      "text/plain": [
       "   page_id                                 name  \\\n",
       "0     1678            Spider-Man (Peter Parker)   \n",
       "1     7139      Captain America (Steven Rogers)   \n",
       "2    64786  Wolverine (James \\\"Logan\\\" Howlett)   \n",
       "3     1868    Iron Man (Anthony \\\"Tony\\\" Stark)   \n",
       "4     2460                  Thor (Thor Odinson)   \n",
       "\n",
       "                                   urlslug                ID  \\\n",
       "0              \\/Spider-Man_(Peter_Parker)   Secret Identity   \n",
       "1        \\/Captain_America_(Steven_Rogers)   Public Identity   \n",
       "2  \\/Wolverine_(James_%22Logan%22_Howlett)   Public Identity   \n",
       "3    \\/Iron_Man_(Anthony_%22Tony%22_Stark)   Public Identity   \n",
       "4                    \\/Thor_(Thor_Odinson)  No Dual Identity   \n",
       "\n",
       "                ALIGN         EYE        HAIR              SEX  GSM  \\\n",
       "0     Good Characters  Hazel Eyes  Brown Hair  Male Characters  NaN   \n",
       "1     Good Characters   Blue Eyes  White Hair  Male Characters  NaN   \n",
       "2  Neutral Characters   Blue Eyes  Black Hair  Male Characters  NaN   \n",
       "3     Good Characters   Blue Eyes  Black Hair  Male Characters  NaN   \n",
       "4     Good Characters   Blue Eyes  Blond Hair  Male Characters  NaN   \n",
       "\n",
       "               ALIVE  APPEARANCES FIRST APPEARANCE    Year  \n",
       "0  Living Characters       4043.0           Aug-62  1962.0  \n",
       "1  Living Characters       3360.0           Mar-41  1941.0  \n",
       "2  Living Characters       3061.0           Oct-74  1974.0  \n",
       "3  Living Characters       2961.0           Mar-63  1963.0  \n",
       "4  Living Characters       2258.0           Nov-50  1950.0  "
      ]
     },
     "execution_count": 6,
     "metadata": {},
     "output_type": "execute_result"
    }
   ],
   "source": [
    "df= pd.read_csv('marveldata.csv')\n",
    "df.head()"
   ]
  },
  {
   "cell_type": "code",
   "execution_count": 16,
   "metadata": {},
   "outputs": [],
   "source": [
    "# calculate the number of character count \n",
    "x=len(df['name'])"
   ]
  },
  {
   "cell_type": "code",
   "execution_count": 10,
   "metadata": {},
   "outputs": [
    {
     "data": {
      "text/html": [
       "<div>\n",
       "<style scoped>\n",
       "    .dataframe tbody tr th:only-of-type {\n",
       "        vertical-align: middle;\n",
       "    }\n",
       "\n",
       "    .dataframe tbody tr th {\n",
       "        vertical-align: top;\n",
       "    }\n",
       "\n",
       "    .dataframe thead th {\n",
       "        text-align: right;\n",
       "    }\n",
       "</style>\n",
       "<table border=\"1\" class=\"dataframe\">\n",
       "  <thead>\n",
       "    <tr style=\"text-align: right;\">\n",
       "      <th></th>\n",
       "      <th>SEX</th>\n",
       "      <th>EYE</th>\n",
       "      <th>HAIR</th>\n",
       "    </tr>\n",
       "  </thead>\n",
       "  <tbody>\n",
       "    <tr>\n",
       "      <th>0</th>\n",
       "      <td>Male Characters</td>\n",
       "      <td>Hazel Eyes</td>\n",
       "      <td>Brown Hair</td>\n",
       "    </tr>\n",
       "    <tr>\n",
       "      <th>1</th>\n",
       "      <td>Male Characters</td>\n",
       "      <td>Blue Eyes</td>\n",
       "      <td>White Hair</td>\n",
       "    </tr>\n",
       "    <tr>\n",
       "      <th>2</th>\n",
       "      <td>Male Characters</td>\n",
       "      <td>Blue Eyes</td>\n",
       "      <td>Black Hair</td>\n",
       "    </tr>\n",
       "    <tr>\n",
       "      <th>3</th>\n",
       "      <td>Male Characters</td>\n",
       "      <td>Blue Eyes</td>\n",
       "      <td>Black Hair</td>\n",
       "    </tr>\n",
       "    <tr>\n",
       "      <th>4</th>\n",
       "      <td>Male Characters</td>\n",
       "      <td>Blue Eyes</td>\n",
       "      <td>Blond Hair</td>\n",
       "    </tr>\n",
       "    <tr>\n",
       "      <th>...</th>\n",
       "      <td>...</td>\n",
       "      <td>...</td>\n",
       "      <td>...</td>\n",
       "    </tr>\n",
       "    <tr>\n",
       "      <th>16371</th>\n",
       "      <td>Male Characters</td>\n",
       "      <td>Green Eyes</td>\n",
       "      <td>No Hair</td>\n",
       "    </tr>\n",
       "    <tr>\n",
       "      <th>16372</th>\n",
       "      <td>Male Characters</td>\n",
       "      <td>Blue Eyes</td>\n",
       "      <td>Bald</td>\n",
       "    </tr>\n",
       "    <tr>\n",
       "      <th>16373</th>\n",
       "      <td>Male Characters</td>\n",
       "      <td>Black Eyes</td>\n",
       "      <td>Bald</td>\n",
       "    </tr>\n",
       "    <tr>\n",
       "      <th>16374</th>\n",
       "      <td>Male Characters</td>\n",
       "      <td>NaN</td>\n",
       "      <td>NaN</td>\n",
       "    </tr>\n",
       "    <tr>\n",
       "      <th>16375</th>\n",
       "      <td>NaN</td>\n",
       "      <td>NaN</td>\n",
       "      <td>NaN</td>\n",
       "    </tr>\n",
       "  </tbody>\n",
       "</table>\n",
       "<p>16376 rows × 3 columns</p>\n",
       "</div>"
      ],
      "text/plain": [
       "                   SEX         EYE        HAIR\n",
       "0      Male Characters  Hazel Eyes  Brown Hair\n",
       "1      Male Characters   Blue Eyes  White Hair\n",
       "2      Male Characters   Blue Eyes  Black Hair\n",
       "3      Male Characters   Blue Eyes  Black Hair\n",
       "4      Male Characters   Blue Eyes  Blond Hair\n",
       "...                ...         ...         ...\n",
       "16371  Male Characters  Green Eyes     No Hair\n",
       "16372  Male Characters   Blue Eyes        Bald\n",
       "16373  Male Characters  Black Eyes        Bald\n",
       "16374  Male Characters         NaN         NaN\n",
       "16375              NaN         NaN         NaN\n",
       "\n",
       "[16376 rows x 3 columns]"
      ]
     },
     "execution_count": 10,
     "metadata": {},
     "output_type": "execute_result"
    }
   ],
   "source": [
    "# Display the column SEX EYE and hair \n",
    "df[['SEX','EYE','HAIR']]"
   ]
  },
  {
   "cell_type": "code",
   "execution_count": 14,
   "metadata": {},
   "outputs": [
    {
     "data": {
      "text/plain": [
       "SEX\n",
       "Agender Characters           45\n",
       "Female Characters          3837\n",
       "Genderfluid Characters        2\n",
       "Male Characters           11638\n",
       "Name: name, dtype: int64"
      ]
     },
     "execution_count": 14,
     "metadata": {},
     "output_type": "execute_result"
    }
   ],
   "source": [
    "# Character according to sex \n",
    "char=df.groupby(['SEX']).count()['name']\n",
    "char"
   ]
  },
  {
   "cell_type": "code",
   "execution_count": 18,
   "metadata": {},
   "outputs": [
    {
     "data": {
      "text/plain": [
       "0.7106741573033708"
      ]
     },
     "execution_count": 18,
     "metadata": {},
     "output_type": "execute_result"
    }
   ],
   "source": [
    "# Calculating the marginal probability \n",
    "# Probability of character being male \n",
    "char['Male Characters']/x"
   ]
  },
  {
   "cell_type": "code",
   "execution_count": 21,
   "metadata": {},
   "outputs": [
    {
     "data": {
      "text/plain": [
       "0.23430630190522717"
      ]
     },
     "execution_count": 21,
     "metadata": {},
     "output_type": "execute_result"
    }
   ],
   "source": [
    "# Calculating the joint probability \n",
    "# Calculate the probability of character being female and has red hair \n",
    "# Assume that both events are independent \n",
    "female = char['Female Characters']/x\n",
    "female"
   ]
  },
  {
   "cell_type": "code",
   "execution_count": 25,
   "metadata": {},
   "outputs": [
    {
     "name": "stdout",
     "output_type": "stream",
     "text": [
      "HAIR\n",
      "Auburn Hair                78\n",
      "Bald                      838\n",
      "Black Hair               3755\n",
      "Blond Hair               1582\n",
      "Blue Hair                  56\n",
      "Bronze Hair                 1\n",
      "Brown Hair               2339\n",
      "Dyed Hair                   1\n",
      "Gold Hair                   8\n",
      "Green Hair                117\n",
      "Grey Hair                 531\n",
      "Light Brown Hair            6\n",
      "Magenta Hair                5\n",
      "No Hair                  1176\n",
      "Orange Hair                43\n",
      "Orange-brown Hair           3\n",
      "Pink Hair                  31\n",
      "Purple Hair                47\n",
      "Red Hair                  620\n",
      "Reddish Blond Hair          6\n",
      "Silver Hair                16\n",
      "Strawberry Blond Hair      47\n",
      "Variable Hair              32\n",
      "White Hair                754\n",
      "Yellow Hair                20\n",
      "Name: name, dtype: int64\n"
     ]
    }
   ],
   "source": [
    "hair=df.groupby(['HAIR']).count()['name']\n",
    "print(hair)"
   ]
  },
  {
   "cell_type": "code",
   "execution_count": 27,
   "metadata": {},
   "outputs": [
    {
     "name": "stdout",
     "output_type": "stream",
     "text": [
      "0.03786028334147533\n"
     ]
    }
   ],
   "source": [
    "red_hair=hair['Red Hair']/x\n",
    "print(red_hair)"
   ]
  },
  {
   "cell_type": "code",
   "execution_count": 28,
   "metadata": {},
   "outputs": [
    {
     "name": "stdout",
     "output_type": "stream",
     "text": [
      "0.008870902978825162\n"
     ]
    }
   ],
   "source": [
    "# Probablity of female and the red hair \n",
    "print(female*red_hair)"
   ]
  },
  {
   "cell_type": "code",
   "execution_count": 30,
   "metadata": {},
   "outputs": [
    {
     "name": "stdout",
     "output_type": "stream",
     "text": [
      "0.8870902978825161\n"
     ]
    }
   ],
   "source": [
    "# Calculate joint probability in terms of percentage \n",
    "print(female*red_hair*100)"
   ]
  },
  {
   "cell_type": "code",
   "execution_count": 46,
   "metadata": {},
   "outputs": [
    {
     "data": {
      "text/plain": [
       "613"
      ]
     },
     "execution_count": 46,
     "metadata": {},
     "output_type": "execute_result"
    }
   ],
   "source": [
    "# Joint probability where events are dependent \n",
    "# Given that the character is female, calculate the probability having green eyes \n",
    "green_eye = df[df=='Green Eyes'].EYE.count()\n",
    "green_eye "
   ]
  },
  {
   "cell_type": "code",
   "execution_count": 49,
   "metadata": {},
   "outputs": [
    {
     "data": {
      "text/plain": [
       "268"
      ]
     },
     "execution_count": 49,
     "metadata": {},
     "output_type": "execute_result"
    }
   ],
   "source": [
    "female_green_count = df[(df.SEX=='Female Characters') & (df.EYE=='Green Eyes')].SEX.count()\n",
    "female_green_count"
   ]
  },
  {
   "cell_type": "code",
   "execution_count": 51,
   "metadata": {},
   "outputs": [
    {
     "data": {
      "text/plain": [
       "0.016365412799218368"
      ]
     },
     "execution_count": 51,
     "metadata": {},
     "output_type": "execute_result"
    }
   ],
   "source": [
    "prob_female_green =female_green_count/x\n",
    "prob_female_green "
   ]
  },
  {
   "cell_type": "code",
   "execution_count": 59,
   "metadata": {},
   "outputs": [
    {
     "data": {
      "text/plain": [
       "3837"
      ]
     },
     "execution_count": 59,
     "metadata": {},
     "output_type": "execute_result"
    }
   ],
   "source": [
    "female_char = df[df.SEX=='Female Characters'].SEX.count()\n",
    "female_char"
   ]
  },
  {
   "cell_type": "code",
   "execution_count": 60,
   "metadata": {},
   "outputs": [],
   "source": [
    "prob_female= female_char/x"
   ]
  },
  {
   "cell_type": "code",
   "execution_count": 61,
   "metadata": {},
   "outputs": [
    {
     "data": {
      "text/plain": [
       "0.06984623403700807"
      ]
     },
     "execution_count": 61,
     "metadata": {},
     "output_type": "execute_result"
    }
   ],
   "source": [
    "prob_female_green/prob_female"
   ]
  },
  {
   "cell_type": "markdown",
   "metadata": {},
   "source": [
    "# ODDS: Calculate the odds in favour of living characters \n",
    "\n",
    "odds= prob(A)/(1-prob(A))"
   ]
  },
  {
   "cell_type": "code",
   "execution_count": 79,
   "metadata": {},
   "outputs": [
    {
     "data": {
      "text/plain": [
       "ALIVE\n",
       "Deceased Characters    3116\n",
       "Living Characters      9490\n",
       "Name: ID, dtype: int64"
      ]
     },
     "execution_count": 79,
     "metadata": {},
     "output_type": "execute_result"
    }
   ],
   "source": [
    "living_character=df.groupby(['ALIVE']).count()['ID']\n",
    "living_character"
   ]
  },
  {
   "cell_type": "code",
   "execution_count": 66,
   "metadata": {},
   "outputs": [
    {
     "name": "stdout",
     "output_type": "stream",
     "text": [
      "9490\n"
     ]
    }
   ],
   "source": [
    "L=living_character[1]\n",
    "print(L)"
   ]
  },
  {
   "cell_type": "code",
   "execution_count": 68,
   "metadata": {},
   "outputs": [],
   "source": [
    "prob_live=L/x"
   ]
  },
  {
   "cell_type": "code",
   "execution_count": 72,
   "metadata": {},
   "outputs": [],
   "source": [
    "# calculate odds in favour of living character \n",
    "y= 1-prob_live"
   ]
  },
  {
   "cell_type": "code",
   "execution_count": 74,
   "metadata": {},
   "outputs": [
    {
     "data": {
      "text/plain": [
       "1.3781585826314262"
      ]
     },
     "execution_count": 74,
     "metadata": {},
     "output_type": "execute_result"
    }
   ],
   "source": [
    "odds=prob_live/y\n",
    "odds"
   ]
  },
  {
   "cell_type": "markdown",
   "metadata": {},
   "source": [
    "# BAY'S theorem:\n",
    "\n",
    "Bays theorem is the process of finding probabilities of the event when some probabilities are known in advance. \n",
    "\n",
    "P(F|S)=P(S|F)*P(F) / P(S)\n",
    "P(S|F)=P(S) + P(F) - P(S and F)\n",
    "\n"
   ]
  },
  {
   "cell_type": "code",
   "execution_count": 2,
   "metadata": {},
   "outputs": [],
   "source": [
    "import numpy as np \n",
    "import pandas as pd \n"
   ]
  },
  {
   "cell_type": "code",
   "execution_count": 3,
   "metadata": {},
   "outputs": [],
   "source": [
    "titanic = pd.read_csv('titanic.csv')"
   ]
  },
  {
   "cell_type": "code",
   "execution_count": 4,
   "metadata": {},
   "outputs": [
    {
     "data": {
      "text/html": [
       "<div>\n",
       "<style scoped>\n",
       "    .dataframe tbody tr th:only-of-type {\n",
       "        vertical-align: middle;\n",
       "    }\n",
       "\n",
       "    .dataframe tbody tr th {\n",
       "        vertical-align: top;\n",
       "    }\n",
       "\n",
       "    .dataframe thead th {\n",
       "        text-align: right;\n",
       "    }\n",
       "</style>\n",
       "<table border=\"1\" class=\"dataframe\">\n",
       "  <thead>\n",
       "    <tr style=\"text-align: right;\">\n",
       "      <th></th>\n",
       "      <th>PassengerId</th>\n",
       "      <th>Survived</th>\n",
       "      <th>Pclass</th>\n",
       "      <th>Name</th>\n",
       "      <th>Sex</th>\n",
       "      <th>Age</th>\n",
       "      <th>SibSp</th>\n",
       "      <th>Parch</th>\n",
       "      <th>Ticket</th>\n",
       "      <th>Fare</th>\n",
       "      <th>Cabin</th>\n",
       "      <th>Embarked</th>\n",
       "    </tr>\n",
       "  </thead>\n",
       "  <tbody>\n",
       "    <tr>\n",
       "      <th>0</th>\n",
       "      <td>1</td>\n",
       "      <td>0</td>\n",
       "      <td>3</td>\n",
       "      <td>Braund, Mr. Owen Harris</td>\n",
       "      <td>male</td>\n",
       "      <td>22.0</td>\n",
       "      <td>1</td>\n",
       "      <td>0</td>\n",
       "      <td>A/5 21171</td>\n",
       "      <td>7.2500</td>\n",
       "      <td>NaN</td>\n",
       "      <td>S</td>\n",
       "    </tr>\n",
       "    <tr>\n",
       "      <th>1</th>\n",
       "      <td>2</td>\n",
       "      <td>1</td>\n",
       "      <td>1</td>\n",
       "      <td>Cumings, Mrs. John Bradley (Florence Briggs Th...</td>\n",
       "      <td>female</td>\n",
       "      <td>38.0</td>\n",
       "      <td>1</td>\n",
       "      <td>0</td>\n",
       "      <td>PC 17599</td>\n",
       "      <td>71.2833</td>\n",
       "      <td>C85</td>\n",
       "      <td>C</td>\n",
       "    </tr>\n",
       "    <tr>\n",
       "      <th>2</th>\n",
       "      <td>3</td>\n",
       "      <td>1</td>\n",
       "      <td>3</td>\n",
       "      <td>Heikkinen, Miss. Laina</td>\n",
       "      <td>female</td>\n",
       "      <td>26.0</td>\n",
       "      <td>0</td>\n",
       "      <td>0</td>\n",
       "      <td>STON/O2. 3101282</td>\n",
       "      <td>7.9250</td>\n",
       "      <td>NaN</td>\n",
       "      <td>S</td>\n",
       "    </tr>\n",
       "    <tr>\n",
       "      <th>3</th>\n",
       "      <td>4</td>\n",
       "      <td>1</td>\n",
       "      <td>1</td>\n",
       "      <td>Futrelle, Mrs. Jacques Heath (Lily May Peel)</td>\n",
       "      <td>female</td>\n",
       "      <td>35.0</td>\n",
       "      <td>1</td>\n",
       "      <td>0</td>\n",
       "      <td>113803</td>\n",
       "      <td>53.1000</td>\n",
       "      <td>C123</td>\n",
       "      <td>S</td>\n",
       "    </tr>\n",
       "    <tr>\n",
       "      <th>4</th>\n",
       "      <td>5</td>\n",
       "      <td>0</td>\n",
       "      <td>3</td>\n",
       "      <td>Allen, Mr. William Henry</td>\n",
       "      <td>male</td>\n",
       "      <td>35.0</td>\n",
       "      <td>0</td>\n",
       "      <td>0</td>\n",
       "      <td>373450</td>\n",
       "      <td>8.0500</td>\n",
       "      <td>NaN</td>\n",
       "      <td>S</td>\n",
       "    </tr>\n",
       "  </tbody>\n",
       "</table>\n",
       "</div>"
      ],
      "text/plain": [
       "   PassengerId  Survived  Pclass  \\\n",
       "0            1         0       3   \n",
       "1            2         1       1   \n",
       "2            3         1       3   \n",
       "3            4         1       1   \n",
       "4            5         0       3   \n",
       "\n",
       "                                                Name     Sex   Age  SibSp  \\\n",
       "0                            Braund, Mr. Owen Harris    male  22.0      1   \n",
       "1  Cumings, Mrs. John Bradley (Florence Briggs Th...  female  38.0      1   \n",
       "2                             Heikkinen, Miss. Laina  female  26.0      0   \n",
       "3       Futrelle, Mrs. Jacques Heath (Lily May Peel)  female  35.0      1   \n",
       "4                           Allen, Mr. William Henry    male  35.0      0   \n",
       "\n",
       "   Parch            Ticket     Fare Cabin Embarked  \n",
       "0      0         A/5 21171   7.2500   NaN        S  \n",
       "1      0          PC 17599  71.2833   C85        C  \n",
       "2      0  STON/O2. 3101282   7.9250   NaN        S  \n",
       "3      0            113803  53.1000  C123        S  \n",
       "4      0            373450   8.0500   NaN        S  "
      ]
     },
     "execution_count": 4,
     "metadata": {},
     "output_type": "execute_result"
    }
   ],
   "source": [
    "titanic.head()"
   ]
  },
  {
   "cell_type": "code",
   "execution_count": 103,
   "metadata": {},
   "outputs": [
    {
     "data": {
      "text/html": [
       "<div>\n",
       "<style scoped>\n",
       "    .dataframe tbody tr th:only-of-type {\n",
       "        vertical-align: middle;\n",
       "    }\n",
       "\n",
       "    .dataframe tbody tr th {\n",
       "        vertical-align: top;\n",
       "    }\n",
       "\n",
       "    .dataframe thead th {\n",
       "        text-align: right;\n",
       "    }\n",
       "</style>\n",
       "<table border=\"1\" class=\"dataframe\">\n",
       "  <thead>\n",
       "    <tr style=\"text-align: right;\">\n",
       "      <th></th>\n",
       "      <th>Sex</th>\n",
       "      <th>Survived</th>\n",
       "    </tr>\n",
       "  </thead>\n",
       "  <tbody>\n",
       "    <tr>\n",
       "      <th>0</th>\n",
       "      <td>male</td>\n",
       "      <td>0</td>\n",
       "    </tr>\n",
       "    <tr>\n",
       "      <th>1</th>\n",
       "      <td>female</td>\n",
       "      <td>1</td>\n",
       "    </tr>\n",
       "    <tr>\n",
       "      <th>2</th>\n",
       "      <td>female</td>\n",
       "      <td>1</td>\n",
       "    </tr>\n",
       "    <tr>\n",
       "      <th>3</th>\n",
       "      <td>female</td>\n",
       "      <td>1</td>\n",
       "    </tr>\n",
       "    <tr>\n",
       "      <th>4</th>\n",
       "      <td>male</td>\n",
       "      <td>0</td>\n",
       "    </tr>\n",
       "    <tr>\n",
       "      <th>...</th>\n",
       "      <td>...</td>\n",
       "      <td>...</td>\n",
       "    </tr>\n",
       "    <tr>\n",
       "      <th>886</th>\n",
       "      <td>male</td>\n",
       "      <td>0</td>\n",
       "    </tr>\n",
       "    <tr>\n",
       "      <th>887</th>\n",
       "      <td>female</td>\n",
       "      <td>1</td>\n",
       "    </tr>\n",
       "    <tr>\n",
       "      <th>888</th>\n",
       "      <td>female</td>\n",
       "      <td>0</td>\n",
       "    </tr>\n",
       "    <tr>\n",
       "      <th>889</th>\n",
       "      <td>male</td>\n",
       "      <td>1</td>\n",
       "    </tr>\n",
       "    <tr>\n",
       "      <th>890</th>\n",
       "      <td>male</td>\n",
       "      <td>0</td>\n",
       "    </tr>\n",
       "  </tbody>\n",
       "</table>\n",
       "<p>891 rows × 2 columns</p>\n",
       "</div>"
      ],
      "text/plain": [
       "        Sex  Survived\n",
       "0      male         0\n",
       "1    female         1\n",
       "2    female         1\n",
       "3    female         1\n",
       "4      male         0\n",
       "..      ...       ...\n",
       "886    male         0\n",
       "887  female         1\n",
       "888  female         0\n",
       "889    male         1\n",
       "890    male         0\n",
       "\n",
       "[891 rows x 2 columns]"
      ]
     },
     "execution_count": 103,
     "metadata": {},
     "output_type": "execute_result"
    }
   ],
   "source": [
    "titanic1= titanic[['Sex','Survived']]\n",
    "titanic1"
   ]
  },
  {
   "cell_type": "code",
   "execution_count": 92,
   "metadata": {},
   "outputs": [
    {
     "data": {
      "text/plain": [
       "891"
      ]
     },
     "execution_count": 92,
     "metadata": {},
     "output_type": "execute_result"
    }
   ],
   "source": [
    "rows=titanic.shape[0]\n",
    "rows"
   ]
  },
  {
   "cell_type": "code",
   "execution_count": 96,
   "metadata": {},
   "outputs": [],
   "source": [
    "#calculate total number of survived persons \n",
    "\n",
    "persons_survived = titanic1[titanic1['Survived']==1]['Survived'].count()"
   ]
  },
  {
   "cell_type": "code",
   "execution_count": 98,
   "metadata": {},
   "outputs": [
    {
     "name": "stdout",
     "output_type": "stream",
     "text": [
      "Total survived persons are = 342\n"
     ]
    }
   ],
   "source": [
    "print('Total survived persons are =', persons_survived)"
   ]
  },
  {
   "cell_type": "code",
   "execution_count": 99,
   "metadata": {},
   "outputs": [],
   "source": [
    "#calculate total number of survived persons \n",
    "not_survived = titanic1[titanic1['Survived']==0]['Survived'].count()"
   ]
  },
  {
   "cell_type": "code",
   "execution_count": 100,
   "metadata": {},
   "outputs": [
    {
     "name": "stdout",
     "output_type": "stream",
     "text": [
      "Total not survived persons = 549\n"
     ]
    }
   ],
   "source": [
    "print('Total not survived persons =', not_survived)"
   ]
  },
  {
   "cell_type": "code",
   "execution_count": 108,
   "metadata": {},
   "outputs": [
    {
     "data": {
      "text/plain": [
       "0.7420382165605095"
      ]
     },
     "execution_count": 108,
     "metadata": {},
     "output_type": "execute_result"
    }
   ],
   "source": [
    "len(titanic[(titanic['Survived']==1)&(titanic['Sex']=='female')])/len(titanic[titanic.Sex=='female'])"
   ]
  },
  {
   "cell_type": "code",
   "execution_count": 8,
   "metadata": {},
   "outputs": [
    {
     "data": {
      "text/plain": [
       "0.3838383838383838"
      ]
     },
     "execution_count": 8,
     "metadata": {},
     "output_type": "execute_result"
    }
   ],
   "source": [
    "# if wanted to calculate the total number of people survived \n",
    "ps= len(titanic[titanic['Survived']==1])/titanic['Survived'].shape[0]\n",
    "ps"
   ]
  },
  {
   "cell_type": "code",
   "execution_count": 6,
   "metadata": {},
   "outputs": [
    {
     "data": {
      "text/plain": [
       "0.35241301907968575"
      ]
     },
     "execution_count": 6,
     "metadata": {},
     "output_type": "execute_result"
    }
   ],
   "source": [
    "# probability of people being female \n",
    "pf= len(titanic[titanic['Sex']=='female'])/titanic['Sex'].shape[0]\n",
    "pf"
   ]
  },
  {
   "cell_type": "code",
   "execution_count": 12,
   "metadata": {},
   "outputs": [
    {
     "data": {
      "text/plain": [
       "0.2615039281705948"
      ]
     },
     "execution_count": 12,
     "metadata": {},
     "output_type": "execute_result"
    }
   ],
   "source": [
    "# Probability of female passenger survived \n",
    "pSandF= len(titanic[(titanic['Survived']==1) & (titanic['Sex']=='female')])/titanic.shape[0]\n",
    "pSandF"
   ]
  },
  {
   "cell_type": "code",
   "execution_count": 16,
   "metadata": {},
   "outputs": [
    {
     "data": {
      "text/plain": [
       "0.7420382165605095"
      ]
     },
     "execution_count": 16,
     "metadata": {},
     "output_type": "execute_result"
    }
   ],
   "source": [
    "pSgivenF = pSandF/pf\n",
    "pSgivenF"
   ]
  },
  {
   "cell_type": "code",
   "execution_count": 22,
   "metadata": {},
   "outputs": [
    {
     "data": {
      "text/plain": [
       "0.6812865497076023"
      ]
     },
     "execution_count": 22,
     "metadata": {},
     "output_type": "execute_result"
    }
   ],
   "source": [
    "pFgiveS= (pSgivenF*pf)/ps\n",
    "pFgiveS"
   ]
  },
  {
   "cell_type": "code",
   "execution_count": null,
   "metadata": {},
   "outputs": [],
   "source": []
  }
 ],
 "metadata": {
  "kernelspec": {
   "display_name": "Python 3",
   "language": "python",
   "name": "python3"
  },
  "language_info": {
   "codemirror_mode": {
    "name": "ipython",
    "version": 3
   },
   "file_extension": ".py",
   "mimetype": "text/x-python",
   "name": "python",
   "nbconvert_exporter": "python",
   "pygments_lexer": "ipython3",
   "version": "3.9.1"
  },
  "orig_nbformat": 4
 },
 "nbformat": 4,
 "nbformat_minor": 2
}
