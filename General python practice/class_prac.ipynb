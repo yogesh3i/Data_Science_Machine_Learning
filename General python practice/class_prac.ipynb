{
 "cells": [
  {
   "cell_type": "markdown",
   "metadata": {},
   "source": [
    "# Class does not present physically but object does \n",
    "eg. Animal is class and animals under it called as objects \n",
    "    Class---> Animal Object----> Dog Lion e tc\n",
    "    - Now every objects has two things \n",
    "    1. Property/atttributes(eg. colour,age,size)\n",
    "    2. Methods (eg. Sound, eat,walk,sleep)\n"
   ]
  },
  {
   "cell_type": "code",
   "execution_count": 1,
   "metadata": {},
   "outputs": [],
   "source": [
    "class Person(): # creating empy class \n",
    "    pass"
   ]
  },
  {
   "cell_type": "code",
   "execution_count": 4,
   "metadata": {},
   "outputs": [
    {
     "name": "stdout",
     "output_type": "stream",
     "text": [
      "<__main__.Person object at 0x00000259B1F98F20>\n"
     ]
    }
   ],
   "source": [
    "# creating object/instance\n",
    "p1 = Person()\n",
    "print(p1) # when printing object it will give memory location and and classa name to which it belongs "
   ]
  },
  {
   "cell_type": "code",
   "execution_count": 5,
   "metadata": {},
   "outputs": [
    {
     "name": "stdout",
     "output_type": "stream",
     "text": [
      "<__main__.Animal object at 0x00000259B1EF3980>\n"
     ]
    }
   ],
   "source": [
    "class Animal():\n",
    "    pass \n",
    "\n",
    "Dog = Animal()\n",
    "print(Dog)"
   ]
  },
  {
   "cell_type": "code",
   "execution_count": 9,
   "metadata": {},
   "outputs": [
    {
     "name": "stdout",
     "output_type": "stream",
     "text": [
      "Yogesh\n",
      "Pragati\n"
     ]
    }
   ],
   "source": [
    "# Now lets create class with methods/function and properties/Atrributes \n",
    "# Foe which we are going to use the constructor \n",
    "'''Constructor: Is an special method/function which is called when an ogject of class is created \n",
    "and it is define using __init__() and its mention under class.\n",
    "By default a constructor takes the self keyword as mandetory input\n",
    "\n",
    "Constructor never return anything Hence it does not have any return keyword. \n",
    "''' \n",
    "\n",
    "class Person():\n",
    "    \n",
    "    def __init__(self,name,age):   # Created constructor: Special method to create object attributes\n",
    "        self.name=name\n",
    "        self.age=age\n",
    "        \n",
    "\n",
    "p1 = Person('Yogesh',24)\n",
    "p2=Person('Pragati',23)\n",
    "\n",
    "print(p1.name)\n",
    "print(p2.name)\n",
    "\n"
   ]
  },
  {
   "cell_type": "code",
   "execution_count": 20,
   "metadata": {},
   "outputs": [],
   "source": [
    "# Now lets create method for thhe class \n",
    "class Person():\n",
    "    \n",
    "    def __init__(self,name,age):   # Created constructor: Special method to create object attributes\n",
    "        self.name=name\n",
    "        self.age=age\n",
    "        \n",
    "\n",
    "    def shout(self): # as its method it will take self \n",
    "        return f'Hello I am {self.name} and I am {self.age} year\\'s old'\n",
    "\n",
    "\n",
    "    def add(self,a,b):\n",
    "        return a+b\n",
    "\n",
    "# When we called only the method of the class it will give yoy the memory loc. and class name to which it belongs to \n",
    "# But if i wanted to give some msg. instead of it we use one special method called __str__\n",
    "\n",
    "    def __str__(self):\n",
    "        return '<--Hi this is from Person class-->'"
   ]
  },
  {
   "cell_type": "code",
   "execution_count": 21,
   "metadata": {},
   "outputs": [
    {
     "name": "stdout",
     "output_type": "stream",
     "text": [
      "Yogesh\n",
      "Pragati\n",
      "Hello I am Yogesh and I am 24 year's old\n",
      "5\n",
      "<--Hi this is from Person class-->\n"
     ]
    }
   ],
   "source": [
    "p1 = Person('Yogesh',24)  # created object/instance\n",
    "p2=Person('Pragati',23)\n",
    "\n",
    "print(p1.name)  # calling attributes/property and methods/functions of class \n",
    "print(p2.name)\n",
    "print(p1.shout())\n",
    "print(p1.add(2,3))\n",
    "print(p1)"
   ]
  },
  {
   "cell_type": "markdown",
   "metadata": {},
   "source": [
    "# There are 4 main pillers of OOPS \n",
    "    1. Abstracton \n",
    "    2. Inheritance \n",
    "    3. Encapsulation\n",
    "    4. Polimorphism"
   ]
  },
  {
   "cell_type": "code",
   "execution_count": 27,
   "metadata": {},
   "outputs": [],
   "source": [
    "# 1. Inheritance:\n",
    "'''\n",
    "When something is coming from parent ot child we called it as inhiritance . \n",
    "In the same way if we take something refferance from thr parent class called as inheritance. \n",
    "''' \n",
    "\n",
    "# Lets inherit something from Person class to student class \n",
    "class student(Person): # The class from which you are going to inherit just give its name in the brackets of class \n",
    "    def __init__(self,name,age,color):\n",
    "        super().__init__(name,age) # suoer is used to inherit the properties or attributes from the person class \n",
    "        self.color=color\n",
    "\n",
    "\n",
    "\n"
   ]
  },
  {
   "cell_type": "code",
   "execution_count": 31,
   "metadata": {},
   "outputs": [
    {
     "name": "stdout",
     "output_type": "stream",
     "text": [
      "A+\n",
      "Hello I am Yogesh and I am 25 year's old\n",
      "<--Hi this is from Person class-->\n"
     ]
    }
   ],
   "source": [
    "s1 = student('Yogesh',25,'A+')\n",
    "print(s1.color)\n",
    "print(s1.shout())  # this is the method of parent class which is inherited\n",
    "print(s1) "
   ]
  },
  {
   "cell_type": "code",
   "execution_count": 32,
   "metadata": {},
   "outputs": [],
   "source": [
    "# 2. Encapsulation:\n",
    "''' \n",
    "Encapsulation is an process of hiding the variables and methods of an onstance of a class \n",
    "in such a way that it is not directly accessed by calling the attri. \n",
    "''' \n",
    "class employee():\n",
    "    def __init__(self,name,city,age):\n",
    "        self.name=name  # ---> this is the Public member(accessable within and outside the class i.e. in the child class as well)\n",
    "        self._city=city # ---> This is the protected member(accessable within the class and its subclass)\n",
    "        self.__age= age # ---> This is the private member (accessable only within the class)\n",
    "        "
   ]
  },
  {
   "cell_type": "code",
   "execution_count": 35,
   "metadata": {},
   "outputs": [
    {
     "ename": "AttributeError",
     "evalue": "'bank_acc' object has no attribute 'acc_name'",
     "output_type": "error",
     "traceback": [
      "\u001b[1;31m---------------------------------------------------------------------------\u001b[0m",
      "\u001b[1;31mAttributeError\u001b[0m                            Traceback (most recent call last)",
      "Cell \u001b[1;32mIn[35], line 11\u001b[0m\n\u001b[0;32m      9\u001b[0m \u001b[38;5;66;03m# Create object or instance \u001b[39;00m\n\u001b[0;32m     10\u001b[0m money \u001b[38;5;241m=\u001b[39m bank_acc(\u001b[38;5;124m'\u001b[39m\u001b[38;5;124mPragati\u001b[39m\u001b[38;5;124m'\u001b[39m,\u001b[38;5;241m434341\u001b[39m,\u001b[38;5;241m84883884834348\u001b[39m)\n\u001b[1;32m---> 11\u001b[0m \u001b[38;5;28mprint\u001b[39m(\u001b[38;5;124mF\u001b[39m\u001b[38;5;124m'\u001b[39m\u001b[38;5;124mI am a \u001b[39m\u001b[38;5;132;01m{\u001b[39;00m\u001b[43mmoney\u001b[49m\u001b[38;5;241;43m.\u001b[39;49m\u001b[43macc_name\u001b[49m\u001b[38;5;132;01m}\u001b[39;00m\u001b[38;5;124m and I have \u001b[39m\u001b[38;5;132;01m{\u001b[39;00mmoney\u001b[38;5;241m.\u001b[39macc_balance\u001b[38;5;132;01m}\u001b[39;00m\u001b[38;5;124m with me\u001b[39m\u001b[38;5;124m'\u001b[39m)\n",
      "\u001b[1;31mAttributeError\u001b[0m: 'bank_acc' object has no attribute 'acc_name'"
     ]
    }
   ],
   "source": [
    "# Lets create banking system/bank account\n",
    "\n",
    "class bank_acc():\n",
    "    def __init__(self,acc_name,acc_num,acc_balance):\n",
    "        self.__acc_name=acc_name\n",
    "        self.acc_num=acc_num\n",
    "        self.__acc_balance=acc_balance \n",
    "\n",
    "# Create object or instance \n",
    "money = bank_acc('Pragati',434341,84883884834348)\n",
    "print(F'I am a {money.acc_name} and I have {money.acc_balance} with me')"
   ]
  },
  {
   "cell_type": "markdown",
   "metadata": {},
   "source": [
    "Here we will get the error because the acc_name and acc_balance is private member"
   ]
  },
  {
   "cell_type": "code",
   "execution_count": 43,
   "metadata": {},
   "outputs": [],
   "source": [
    "# Now to access this provate member we can use the 'getter' method\n",
    "# getter is used to access the private memnber.\n",
    "\n",
    "class bank_acc():\n",
    "    def __init__(self,acc_name,acc_num,acc_balance):\n",
    "        self.__acc_name=acc_name\n",
    "        self.acc_num=acc_num\n",
    "        self.__acc_balance=acc_balance \n",
    "\n",
    "    # creating getter method/function for name\n",
    "    def get_acc_name(self):\n",
    "        return self.__acc_name \n",
    "\n",
    "    def get_acc_balance(self):\n",
    "        return self.__acc_balance\n",
    "\n",
    "\n"
   ]
  },
  {
   "cell_type": "code",
   "execution_count": 44,
   "metadata": {},
   "outputs": [
    {
     "name": "stdout",
     "output_type": "stream",
     "text": [
      "Pragati\n",
      "84883884834348\n"
     ]
    }
   ],
   "source": [
    "# Create object or instance \n",
    "money = bank_acc('Pragati',434341,84883884834348)\n",
    "\n",
    "# Calling private memnber \n",
    "print(money.get_acc_name())\n",
    "print(money.get_acc_balance())"
   ]
  },
  {
   "cell_type": "code",
   "execution_count": 46,
   "metadata": {},
   "outputs": [],
   "source": [
    "# if i am adding a new name to attributes of the class\n",
    "money.acc_name='Yogesh'  # its creating a dummy variable "
   ]
  },
  {
   "cell_type": "code",
   "execution_count": 47,
   "metadata": {},
   "outputs": [
    {
     "data": {
      "text/plain": [
       "{'_bank_acc__acc_name': 'Pragati',\n",
       " 'acc_num': 434341,\n",
       " '_bank_acc__acc_balance': 84883884834348,\n",
       " 'acc_name': 'Yogesh'}"
      ]
     },
     "execution_count": 47,
     "metadata": {},
     "output_type": "execute_result"
    }
   ],
   "source": [
    "# to check the attributes of class \n",
    "money.__dict__"
   ]
  },
  {
   "cell_type": "code",
   "execution_count": 9,
   "metadata": {},
   "outputs": [],
   "source": [
    "# By some mean i have created my class with private name and now ther is correction in the name \n",
    "# When direcly we are trying to do that its creating another dummy variable \n",
    "# So to achieve this we can use the setter method. \n",
    "\n",
    "# Lets create setter for the above bank_acc class \n",
    "\n",
    "class bank_acc():\n",
    "    def __init__(self,acc_name,acc_num,acc_balance):\n",
    "        self.__acc_name=acc_name\n",
    "        self.acc_num=acc_num\n",
    "        self.__acc_balance=acc_balance \n",
    "\n",
    "    # creating getter method/function for name\n",
    "    def get_acc_name(self):\n",
    "        return self.__acc_name \n",
    "\n",
    "    def get_acc_balance(self):\n",
    "        return self.__acc_balance\n",
    "    \n",
    "    def set_acc_name(self,new_name):\n",
    "        self.__acc_name=new_name\n",
    "\n",
    "\n",
    "\n"
   ]
  },
  {
   "cell_type": "code",
   "execution_count": 10,
   "metadata": {},
   "outputs": [
    {
     "name": "stdout",
     "output_type": "stream",
     "text": [
      "Pragati\n",
      "Yogesh\n"
     ]
    }
   ],
   "source": [
    "money = bank_acc('Pragati',434341,84883884834348)\n",
    "print(money.get_acc_name())\n",
    "# setting new_name \n",
    "money.set_acc_name('Yogesh')\n",
    "print(money.get_acc_name())\n"
   ]
  },
  {
   "cell_type": "code",
   "execution_count": 61,
   "metadata": {},
   "outputs": [
    {
     "data": {
      "text/plain": [
       "'ok'"
      ]
     },
     "execution_count": 61,
     "metadata": {},
     "output_type": "execute_result"
    }
   ],
   "source": [
    "# Plolymorphism \n",
    "\n",
    "#1. Method overloading: Same method,different parameter but within the same class.\n",
    "\n",
    "class A():\n",
    "\n",
    "    def abc(slef):\n",
    "        return 'I belongs to first'\n",
    "    def abc(slef,a,c):  # this metjod is going to overload the fist one and only second will come into picture \n",
    "        return 'ok'\n",
    "\n",
    "a =A()\n",
    "a.abc(2,3)\n",
    "\n",
    "# Hence we cannt perform the method overloading in the python since its by default taking the second method \n",
    "\n"
   ]
  },
  {
   "cell_type": "code",
   "execution_count": 65,
   "metadata": {},
   "outputs": [
    {
     "data": {
      "text/plain": [
       "'Nice!'"
      ]
     },
     "execution_count": 65,
     "metadata": {},
     "output_type": "execute_result"
    }
   ],
   "source": [
    "# checking with child class or with inheritance \n",
    "# 2. Method overiding: Same method but different class.\n",
    "class B(A):\n",
    "    def fg(self,r):\n",
    "        return 'Nice!'\n",
    "\n",
    "\n",
    "b = B()\n",
    "b.fg(2)\n",
    "\n",
    "# So its taking the method which is created currently \n",
    "# Hence we cannt perform the method overloading in the python since its by default taking the second method "
   ]
  },
  {
   "cell_type": "code",
   "execution_count": 66,
   "metadata": {},
   "outputs": [],
   "source": [
    "# Abstraction: Abstraction means its not going to impliment.\n",
    "from abc import ABC, abstractmethod\n",
    "\n",
    "class Animal(ABC):\n",
    "    def __init__(self,name):\n",
    "        self.name=name \n",
    "\n",
    "    @abstractmethod \n",
    "    def make_sound(self):\n",
    "        pass \n",
    "    \n",
    "    def sleeping(self):\n",
    "        return f'{self.name} is sleepinng'"
   ]
  },
  {
   "cell_type": "code",
   "execution_count": 68,
   "metadata": {},
   "outputs": [
    {
     "ename": "TypeError",
     "evalue": "Can't instantiate abstract class Animal without an implementation for abstract method 'make_sound'",
     "output_type": "error",
     "traceback": [
      "\u001b[1;31m---------------------------------------------------------------------------\u001b[0m",
      "\u001b[1;31mTypeError\u001b[0m                                 Traceback (most recent call last)",
      "Cell \u001b[1;32mIn[68], line 1\u001b[0m\n\u001b[1;32m----> 1\u001b[0m dog \u001b[38;5;241m=\u001b[39m \u001b[43mAnimal\u001b[49m\u001b[43m(\u001b[49m\u001b[38;5;124;43m'\u001b[39;49m\u001b[38;5;124;43mlab\u001b[39;49m\u001b[38;5;124;43m'\u001b[39;49m\u001b[43m)\u001b[49m \u001b[38;5;66;03m# Abstract class cannt be instantiate without implementation \u001b[39;00m\n",
      "\u001b[1;31mTypeError\u001b[0m: Can't instantiate abstract class Animal without an implementation for abstract method 'make_sound'"
     ]
    }
   ],
   "source": [
    "dog = Animal('lab') # Abstract class cannt be instantiate without implementation \n",
    "\n",
    "# We need to create concrete class."
   ]
  },
  {
   "cell_type": "code",
   "execution_count": 70,
   "metadata": {},
   "outputs": [
    {
     "data": {
      "text/plain": [
       "'Lab is sleepinng'"
      ]
     },
     "execution_count": 70,
     "metadata": {},
     "output_type": "execute_result"
    }
   ],
   "source": [
    "# Create concrete class \n",
    "class Dog(Animal):\n",
    "    def make_sound(self):\n",
    "        pass \n",
    "dog1 =Dog('Lab')\n",
    "dog1.sleeping()"
   ]
  },
  {
   "cell_type": "code",
   "execution_count": 8,
   "metadata": {},
   "outputs": [
    {
     "name": "stdout",
     "output_type": "stream",
     "text": [
      "Name: Leo\n",
      "Species: Lion\n",
      "The naimal make sound\n",
      "Name: Buddy\n",
      "Species: Species: Dog\n",
      "Breed: Breed: Labrador\n",
      "The dog bearks\n",
      "The dog wags its tail\n"
     ]
    }
   ],
   "source": [
    "class Animal():\n",
    "  def __init__(self,name,species,breed):\n",
    "    self._species=species\n",
    "    self.__breed=breed\n",
    "    self.name=name\n",
    "    \n",
    "  def describe_sound(self):\n",
    "    return 'The naimal make sound'\n",
    "    \n",
    "  \n",
    "  def get_species(self):\n",
    "        return f'Species: {self._species}'\n",
    "  \n",
    "  def get_breed(self):\n",
    "    return f'Breed: {self.__breed}'\n",
    "  \n",
    "  \n",
    "  \n",
    "    \n",
    "A = Animal('Leo','Lion','ok')\n",
    "print('Name:',A.name)\n",
    "print(A.get_species())\n",
    "print(A.describe_sound())\n",
    "\n",
    "class Dog(Animal):\n",
    "  def __init__(self,name,species,breed):\n",
    "    super().__init__(name,species,breed)\n",
    "  \n",
    "  def ok(self):\n",
    "    return 'The dog bearks'\n",
    "    \n",
    "  def okk(self):\n",
    "    return 'The dog wags its tail'\n",
    "    \n",
    "    \n",
    "B = Dog('Buddy','Dog','Labrador')\n",
    "print('Name:',B.name)\n",
    "print('Species:',B.get_species())\n",
    "print('Breed:',B.get_breed())\n",
    "print(B.ok())\n",
    "print(B.okk())\n",
    "    \n",
    "    \n"
   ]
  },
  {
   "cell_type": "code",
   "execution_count": 16,
   "metadata": {},
   "outputs": [
    {
     "name": "stdout",
     "output_type": "stream",
     "text": [
      "Initial Species Dog\n",
      "Initial Breed Labrador\n",
      "Updated Species Cat\n",
      "Updated Breed Ragdoll\n"
     ]
    }
   ],
   "source": [
    "class Animal():\n",
    "  def __init__(self,species,breed):\n",
    "    self._species=species\n",
    "    self.__breed=breed\n",
    "    \n",
    "    \n",
    "  def get_species(self):\n",
    "    return self._species\n",
    "  \n",
    "  def get_breed(self):\n",
    "    return self.__breed\n",
    "    \n",
    "  def set_species(self,newspec):\n",
    "    self._species=newspec\n",
    "  \n",
    "  def set_breed(self,new_breed):\n",
    "    self.__breed=new_breed \n",
    "    \n",
    "A = Animal('Dog','Labrador')\n",
    "print('Initial Species',A.get_species())\n",
    "print('Initial Breed',A.get_breed())\n",
    "\n",
    "A.set_species('Cat')\n",
    "A.set_breed('Ragdoll')\n",
    "print('Updated Species',A.get_species())\n",
    "print('Updated Breed',A.get_breed())"
   ]
  },
  {
   "cell_type": "code",
   "execution_count": 23,
   "metadata": {},
   "outputs": [
    {
     "name": "stdout",
     "output_type": "stream",
     "text": [
      "Senior\n"
     ]
    }
   ],
   "source": [
    "# cLasssify the age groups of person \n",
    "# <13 childs,13-18 teenagers,20-59adults, 60+ senior\n",
    "\n",
    "age = int(input('Enter your age to know your group: \\n'))\n",
    "if age <13:\n",
    "    print('You belongs to Child group')\n",
    "elif 13<age<19:\n",
    "    print('You belongs to Teenager group')\n",
    "elif 20<age<=59:\n",
    "    print('Adult')\n",
    "else:\n",
    "    print('Senior')"
   ]
  },
  {
   "cell_type": "code",
   "execution_count": 38,
   "metadata": {},
   "outputs": [],
   "source": [
    "# ATM system \n",
    "class ATM_machine():\n",
    "    def __init__(self):\n",
    "        self.balance=0\n",
    "\n",
    "    def deposite(self):\n",
    "        amount=float(input('Enter amount to deposite:'))\n",
    "        self.balance+=amount\n",
    "        print('Congrats!! successfuly deposited ',amount)\n",
    "\n",
    "    def withdraw(self):\n",
    "        with_amo = float(input('Enter amount to withdraw:'))\n",
    "\n",
    "        if self.balance>with_amo:\n",
    "            self.balance-=with_amo \n",
    "            print('You have withdraw:',with_amo)\n",
    "        else:\n",
    "            print('You have insufficient balance in account')\n",
    "\n",
    "    def show_bal(self):\n",
    "        print('Your net available balance is',round(self.balance,2))\n",
    "\n",
    "        \n"
   ]
  },
  {
   "cell_type": "code",
   "execution_count": 42,
   "metadata": {},
   "outputs": [
    {
     "name": "stdout",
     "output_type": "stream",
     "text": [
      "Congrats!! successfuly deposited  110000.0\n",
      "You have withdraw: 100000.0\n",
      "Your net available balance is 10000.0\n"
     ]
    }
   ],
   "source": [
    "A = ATM_machine()\n",
    "A.deposite()\n",
    "A.withdraw()\n",
    "A.show_bal()"
   ]
  },
  {
   "cell_type": "code",
   "execution_count": 43,
   "metadata": {},
   "outputs": [
    {
     "name": "stdout",
     "output_type": "stream",
     "text": [
      "Adult\n",
      "\n",
      " Your ticket price is $12\n"
     ]
    }
   ],
   "source": [
    "# cLasssify the age groups of person \n",
    "# <13 childs,13-18 teenagers,20-59adults, 60+ senior\n",
    "\n",
    "age = int(input('Enter your age to know your group: \\n'))\n",
    "if age <13:\n",
    "    print('You belongs to Child group')\n",
    "    print('Your ticket price is $8')\n",
    "elif 13<age<19:\n",
    "    print('You belongs to Teenager group')\n",
    "elif 20<age<=59:\n",
    "    print('Adult')\n",
    "    print('\\n Your ticket price is $12')\n",
    "else:\n",
    "    print('Senior')\n",
    "\n"
   ]
  },
  {
   "cell_type": "code",
   "execution_count": 44,
   "metadata": {},
   "outputs": [
    {
     "name": "stdout",
     "output_type": "stream",
     "text": [
      "Hey!\n",
      "Welcome\n",
      "to\n",
      "edureka!\n"
     ]
    }
   ],
   "source": [
    "# Using escape sequence print eavh word in new line\n",
    "a ='Hey! Welcome to edureka!' \n",
    "b  = a.split(' ')\n",
    "for i in b:\n",
    "    print(i)"
   ]
  },
  {
   "cell_type": "code",
   "execution_count": 56,
   "metadata": {},
   "outputs": [
    {
     "name": "stdout",
     "output_type": "stream",
     "text": [
      "*\n",
      "**\n",
      "***\n",
      "****\n"
     ]
    }
   ],
   "source": [
    "a = int(input('Enter number: '))\n",
    "for i in range(a):\n",
    "    print('*'*(i+1))\n",
    " "
   ]
  },
  {
   "cell_type": "code",
   "execution_count": 65,
   "metadata": {},
   "outputs": [
    {
     "name": "stdout",
     "output_type": "stream",
     "text": [
      "*\n",
      "**\n",
      "***\n",
      "****\n"
     ]
    }
   ],
   "source": [
    "a = int(input('Enter number: '))\n",
    "i=0\n",
    "while i<a:\n",
    "    print('*'*(i+1))\n",
    "    i+=1"
   ]
  },
  {
   "cell_type": "code",
   "execution_count": 74,
   "metadata": {},
   "outputs": [],
   "source": [
    "# write function to get the squr,cube and squrt\n",
    "\n",
    "import math \n",
    "\n",
    "def squar(n):\n",
    "    return lambda n:n*n\n",
    "def cube(n):\n",
    "    return lambda n:n*n*n \n",
    "def squrt(n):\n",
    "    return lambda n: math.squrt(n)\n"
   ]
  },
  {
   "cell_type": "code",
   "execution_count": 90,
   "metadata": {},
   "outputs": [
    {
     "ename": "TypeError",
     "evalue": "'int' object is not iterable",
     "output_type": "error",
     "traceback": [
      "\u001b[1;31m---------------------------------------------------------------------------\u001b[0m",
      "\u001b[1;31mTypeError\u001b[0m                                 Traceback (most recent call last)",
      "Cell \u001b[1;32mIn[90], line 3\u001b[0m\n\u001b[0;32m      1\u001b[0m a \u001b[38;5;241m=\u001b[39m \u001b[38;5;28mint\u001b[39m(\u001b[38;5;28minput\u001b[39m())\n\u001b[0;32m      2\u001b[0m s\u001b[38;5;241m=\u001b[39m\u001b[38;5;241m0\u001b[39m\n\u001b[1;32m----> 3\u001b[0m \u001b[38;5;28;01mfor\u001b[39;00m i \u001b[38;5;129;01min\u001b[39;00m \u001b[38;5;28;43mlist\u001b[39;49m\u001b[43m(\u001b[49m\u001b[43ma\u001b[49m\u001b[43m)\u001b[49m:\n\u001b[0;32m      4\u001b[0m     s\u001b[38;5;241m=\u001b[39ms\u001b[38;5;241m+\u001b[39m\u001b[38;5;28mint\u001b[39m(i)\u001b[38;5;241m*\u001b[39m\u001b[38;5;241m*\u001b[39m\u001b[38;5;241m3\u001b[39m\n\u001b[0;32m      5\u001b[0m \u001b[38;5;28;01mif\u001b[39;00m s\u001b[38;5;241m==\u001b[39m\u001b[38;5;28mint\u001b[39m(a):\n",
      "\u001b[1;31mTypeError\u001b[0m: 'int' object is not iterable"
     ]
    }
   ],
   "source": [
    "a = int(input())\n",
    "s=0\n",
    "for i in list(a):\n",
    "    s=s+int(i)**3\n",
    "if s==int(a):\n",
    "    print('yes')\n",
    "else:\n",
    "    print('no')"
   ]
  },
  {
   "cell_type": "code",
   "execution_count": 91,
   "metadata": {},
   "outputs": [
    {
     "name": "stdout",
     "output_type": "stream",
     "text": [
      "No\n"
     ]
    }
   ],
   "source": [
    "num=input()\n",
    "s=0\n",
    "for i in list(num):\n",
    " s=s+int(i)**3\n",
    "if s==int(num):\n",
    " print('Yes')\n",
    "else:\n",
    " print('No')\n"
   ]
  },
  {
   "cell_type": "code",
   "execution_count": 3,
   "metadata": {},
   "outputs": [
    {
     "data": {
      "text/html": [
       "<div>\n",
       "<style scoped>\n",
       "    .dataframe tbody tr th:only-of-type {\n",
       "        vertical-align: middle;\n",
       "    }\n",
       "\n",
       "    .dataframe tbody tr th {\n",
       "        vertical-align: top;\n",
       "    }\n",
       "\n",
       "    .dataframe thead th {\n",
       "        text-align: right;\n",
       "    }\n",
       "</style>\n",
       "<table border=\"1\" class=\"dataframe\">\n",
       "  <thead>\n",
       "    <tr style=\"text-align: right;\">\n",
       "      <th></th>\n",
       "      <th>A</th>\n",
       "      <th>B</th>\n",
       "    </tr>\n",
       "  </thead>\n",
       "  <tbody>\n",
       "    <tr>\n",
       "      <th>0</th>\n",
       "      <td>1</td>\n",
       "      <td>6</td>\n",
       "    </tr>\n",
       "    <tr>\n",
       "      <th>1</th>\n",
       "      <td>2</td>\n",
       "      <td>7</td>\n",
       "    </tr>\n",
       "    <tr>\n",
       "      <th>2</th>\n",
       "      <td>3</td>\n",
       "      <td>8</td>\n",
       "    </tr>\n",
       "    <tr>\n",
       "      <th>3</th>\n",
       "      <td>4</td>\n",
       "      <td>9</td>\n",
       "    </tr>\n",
       "    <tr>\n",
       "      <th>4</th>\n",
       "      <td>5</td>\n",
       "      <td>0</td>\n",
       "    </tr>\n",
       "  </tbody>\n",
       "</table>\n",
       "</div>"
      ],
      "text/plain": [
       "   A  B\n",
       "0  1  6\n",
       "1  2  7\n",
       "2  3  8\n",
       "3  4  9\n",
       "4  5  0"
      ]
     },
     "execution_count": 3,
     "metadata": {},
     "output_type": "execute_result"
    }
   ],
   "source": [
    "import pandas as pd \n",
    "A = pd.DataFrame({'A':[1,2,3,4,5],'B':[6,7,8,9,0]})\n",
    "A"
   ]
  },
  {
   "cell_type": "code",
   "execution_count": 9,
   "metadata": {},
   "outputs": [
    {
     "name": "stdout",
     "output_type": "stream",
     "text": [
      "   A  B   C\n",
      "0  1  6   7\n",
      "1  2  7   9\n",
      "2  3  8  11\n",
      "3  4  9  13\n",
      "4  5  0   5\n"
     ]
    }
   ],
   "source": [
    "A['C'] = A['A']+A['B']\n",
    "print(A)"
   ]
  },
  {
   "cell_type": "code",
   "execution_count": 15,
   "metadata": {},
   "outputs": [
    {
     "name": "stdout",
     "output_type": "stream",
     "text": [
      "Congrates !! you will get the IIT\n"
     ]
    }
   ],
   "source": [
    "marks = int(input('Enter your marks:'))\n",
    "if marks>=90:\n",
    "    print('Congrates !! you will get the IIT')\n",
    "else:\n",
    "    print('Well try ')"
   ]
  },
  {
   "cell_type": "code",
   "execution_count": 19,
   "metadata": {},
   "outputs": [
    {
     "name": "stdout",
     "output_type": "stream",
     "text": [
      "You win computer\n"
     ]
    }
   ],
   "source": [
    "marks = int(input('Tell me your marks:'))\n",
    "\n",
    "if marks>90:\n",
    "    print('You win computer')\n",
    "elif 70<marks<90:\n",
    "    print('You win watch')\n",
    "else:\n",
    "    print('Better luch next time')"
   ]
  },
  {
   "cell_type": "code",
   "execution_count": 21,
   "metadata": {},
   "outputs": [
    {
     "name": "stdout",
     "output_type": "stream",
     "text": [
      "Better luck next time \n"
     ]
    }
   ],
   "source": [
    "status = str(input('Enter the passign status on your marksheet:'))\n",
    "if status == 'Pass':\n",
    "    print('Congrats !!  you passed')\n",
    "else:\n",
    "    print('Better luck next time ')"
   ]
  },
  {
   "cell_type": "code",
   "execution_count": 24,
   "metadata": {},
   "outputs": [
    {
     "name": "stdout",
     "output_type": "stream",
     "text": [
      "The given number is odd\n"
     ]
    }
   ],
   "source": [
    "number = int(input('Please enter a number to check whether its even or odd:'))\n",
    "if number%2==0:\n",
    "    print('Givnen number is even')\n",
    "else:\n",
    "    print('The given number is odd')"
   ]
  },
  {
   "cell_type": "code",
   "execution_count": 27,
   "metadata": {},
   "outputs": [
    {
     "name": "stdout",
     "output_type": "stream",
     "text": [
      "Number is negative\n"
     ]
    }
   ],
   "source": [
    "# Write code to print whether the given number is positive negative or zero \n",
    "\n",
    "num = int(input('Enter number:'))\n",
    "if num>0:\n",
    "    print('Number is positive ')\n",
    "elif num<0:\n",
    "    print('Number is negative')\n",
    "else:\n",
    "    print('number is zero')"
   ]
  },
  {
   "cell_type": "code",
   "execution_count": 32,
   "metadata": {},
   "outputs": [
    {
     "name": "stdout",
     "output_type": "stream",
     "text": [
      "Sorry you are under age\n"
     ]
    }
   ],
   "source": [
    "# Checking votting eligibility \n",
    "\n",
    "Age = int(input('Please enter your age:'))\n",
    "\n",
    "if Age<18:\n",
    "    print('Sorry you are under age')\n",
    "else:\n",
    "    print('You can vote')"
   ]
  },
  {
   "cell_type": "code",
   "execution_count": 34,
   "metadata": {},
   "outputs": [
    {
     "name": "stdout",
     "output_type": "stream",
     "text": [
      "odd\n"
     ]
    }
   ],
   "source": [
    "# ternury operator menas writting the if else statement in single line \n",
    "\n",
    "num = int(input())\n",
    "result= 'even' if num%2==0 else 'odd'\n",
    "print(result)"
   ]
  },
  {
   "cell_type": "code",
   "execution_count": 41,
   "metadata": {},
   "outputs": [
    {
     "name": "stdout",
     "output_type": "stream",
     "text": [
      "Grade D\n"
     ]
    }
   ],
   "source": [
    "marks = int(input())\n",
    "\n",
    "result = 'Grade A' if marks>90 else 'Grade B' if 80<marks<89 else 'Grade C' if 70<marks<79 else 'Grade D' if 60<=marks<70 else 'Grade E'\n",
    "print(result)"
   ]
  },
  {
   "cell_type": "code",
   "execution_count": 42,
   "metadata": {},
   "outputs": [
    {
     "name": "stdout",
     "output_type": "stream",
     "text": [
      "How are you 'doing' \n"
     ]
    }
   ],
   "source": [
    "print(\"How are you 'doing' \")"
   ]
  },
  {
   "cell_type": "code",
   "execution_count": 43,
   "metadata": {},
   "outputs": [
    {
     "name": "stdout",
     "output_type": "stream",
     "text": [
      "How's the feel\n"
     ]
    }
   ],
   "source": [
    "print('How\\'s the feel')"
   ]
  },
  {
   "cell_type": "code",
   "execution_count": 45,
   "metadata": {},
   "outputs": [],
   "source": [
    "class shape():\n",
    "    def __init__(self,length,radius):\n",
    "        self.length= length\n",
    "        self.radius= radius\n",
    "\n",
    "    \n",
    "    def area_square(self):\n",
    "        length =int(input())\n",
    "        return length*length"
   ]
  },
  {
   "cell_type": "code",
   "execution_count": 48,
   "metadata": {},
   "outputs": [
    {
     "data": {
      "text/plain": [
       "16"
      ]
     },
     "execution_count": 48,
     "metadata": {},
     "output_type": "execute_result"
    }
   ],
   "source": [
    "A = shape(3,4)\n",
    "A.area_square()"
   ]
  },
  {
   "cell_type": "code",
   "execution_count": 53,
   "metadata": {},
   "outputs": [
    {
     "name": "stdout",
     "output_type": "stream",
     "text": [
      "My number is 45\n"
     ]
    }
   ],
   "source": [
    "a = 45.2324223\n",
    "print(f'My number is {a:.0f}')"
   ]
  },
  {
   "cell_type": "code",
   "execution_count": 54,
   "metadata": {},
   "outputs": [
    {
     "name": "stdout",
     "output_type": "stream",
     "text": [
      "My number is:45.2324\n"
     ]
    }
   ],
   "source": [
    "print(f'My number is:{a:.4f}')"
   ]
  },
  {
   "cell_type": "code",
   "execution_count": 58,
   "metadata": {},
   "outputs": [
    {
     "name": "stdout",
     "output_type": "stream",
     "text": [
      "2.343\n"
     ]
    }
   ],
   "source": [
    "a = 2.343434\n",
    "print(f'{a:.3f}')"
   ]
  },
  {
   "cell_type": "code",
   "execution_count": 65,
   "metadata": {},
   "outputs": [
    {
     "name": "stdout",
     "output_type": "stream",
     "text": [
      "3\n"
     ]
    }
   ],
   "source": [
    "import random \n",
    "a = random.randint(1,4)\n",
    "print(a)"
   ]
  },
  {
   "cell_type": "code",
   "execution_count": 69,
   "metadata": {},
   "outputs": [
    {
     "name": "stdout",
     "output_type": "stream",
     "text": [
      "1\n",
      "3\n",
      "4\n"
     ]
    }
   ],
   "source": [
    "num = [1,2,3,4,5]\n",
    "for i in num:\n",
    "    if i==2:\n",
    "        continue\n",
    "    elif i==5:\n",
    "        break\n",
    "    else:\n",
    "        print(i)"
   ]
  },
  {
   "cell_type": "code",
   "execution_count": 71,
   "metadata": {},
   "outputs": [
    {
     "name": "stdout",
     "output_type": "stream",
     "text": [
      "      longitude  latitude  housing_median_age  total_rooms  total_bedrooms  \\\n",
      "0       -122.23     37.88                  41          880           129.0   \n",
      "1       -122.22     37.86                  21         7099          1106.0   \n",
      "2       -122.24     37.85                  52         1467           190.0   \n",
      "3       -122.25     37.85                  52         1274           235.0   \n",
      "4       -122.25     37.85                  52         1627           280.0   \n",
      "...         ...       ...                 ...          ...             ...   \n",
      "4995    -118.30     33.99                  47         2637           588.0   \n",
      "4996    -118.30     33.99                  47         2212           533.0   \n",
      "4997    -118.28     33.99                  46         2577           703.0   \n",
      "4998    -118.29     33.99                  46         2198           530.0   \n",
      "4999    -118.28     33.99                  52         1283           342.0   \n",
      "\n",
      "      population  households  median_income  median_house_value  \\\n",
      "0            322         126         8.3252              452600   \n",
      "1           2401        1138         8.3014              358500   \n",
      "2            496         177         7.2574              352100   \n",
      "3            558         219         5.6431              341300   \n",
      "4            565         259         3.8462              342200   \n",
      "...          ...         ...            ...                 ...   \n",
      "4995        1903         521         1.8317               96500   \n",
      "4996        1903         554         1.9853              101100   \n",
      "4997        2446         687         1.2750               98300   \n",
      "4998        2067         497         2.0542              103400   \n",
      "4999        1363         329         2.5848              101900   \n",
      "\n",
      "     ocean_proximity  \n",
      "0           NEAR BAY  \n",
      "1           NEAR BAY  \n",
      "2           NEAR BAY  \n",
      "3           NEAR BAY  \n",
      "4           NEAR BAY  \n",
      "...              ...  \n",
      "4995       <1H OCEAN  \n",
      "4996       <1H OCEAN  \n",
      "4997       <1H OCEAN  \n",
      "4998       <1H OCEAN  \n",
      "4999       <1H OCEAN  \n",
      "\n",
      "[5000 rows x 10 columns]\n"
     ]
    }
   ],
   "source": [
    "import pandas as pd \n",
    "data = pd.read_csv('housing.csv')\n"
   ]
  },
  {
   "cell_type": "code",
   "execution_count": 73,
   "metadata": {},
   "outputs": [
    {
     "name": "stdout",
     "output_type": "stream",
     "text": [
      "0.6747425007394724\n"
     ]
    }
   ],
   "source": [
    "import pandas as pd \n",
    "data = pd.read_csv('housing.csv')\n",
    "correlation_coef = data['median_income'].corr(data['median_house_value'])\n",
    "print(correlation_coef)"
   ]
  },
  {
   "cell_type": "code",
   "execution_count": 76,
   "metadata": {},
   "outputs": [
    {
     "name": "stdout",
     "output_type": "stream",
     "text": [
      "   longitude  latitude  housing_median_age  total_rooms  total_bedrooms  \\\n",
      "4    -122.25     37.85                  52         1627           280.0   \n",
      "6    -122.25     37.84                  52         2535           489.0   \n",
      "7    -122.25     37.84                  52         3104           687.0   \n",
      "8    -122.26     37.84                  42         2555           665.0   \n",
      "9    -122.25     37.84                  52         3549           707.0   \n",
      "\n",
      "   population  households  median_income  median_house_value ocean_proximity  \n",
      "4         565         259         3.8462              342200        NEAR BAY  \n",
      "6        1094         514         3.6591              299200        NEAR BAY  \n",
      "7        1157         647         3.1200              241400        NEAR BAY  \n",
      "8        1206         595         2.0804              226700        NEAR BAY  \n",
      "9        1551         714         3.6912              261100        NEAR BAY  \n"
     ]
    }
   ],
   "source": [
    "import pandas as pd \n",
    "data = pd.read_csv('housing.csv')\n",
    "filtered_data= data[(data['housing_median_age']>40) & (data['median_income']<4)]\n",
    "print(filtered_data.head())"
   ]
  },
  {
   "cell_type": "code",
   "execution_count": 79,
   "metadata": {},
   "outputs": [
    {
     "name": "stdout",
     "output_type": "stream",
     "text": [
      "      longitude  latitude  housing_median_age  total_rooms  total_bedrooms  \\\n",
      "1825    -122.32     37.93                  33          296            73.0   \n",
      "2521    -122.74     39.71                  16          255            73.0   \n",
      "2779    -114.65     32.79                  21           44            33.0   \n",
      "2799    -117.02     36.40                  19          619           239.0   \n",
      "\n",
      "      population  households  median_income  median_house_value  \\\n",
      "1825         216          63         2.6750               22500   \n",
      "2521          85          38         1.6607               14999   \n",
      "2779          64          27         0.8571               25000   \n",
      "2799         490         164         2.1000               14999   \n",
      "\n",
      "     ocean_proximity  \n",
      "1825        NEAR BAY  \n",
      "2521          INLAND  \n",
      "2779          INLAND  \n",
      "2799          INLAND  \n"
     ]
    }
   ],
   "source": [
    "import pandas as pd \n",
    "data = pd.read_csv('housing.csv')\n",
    "Q1= data['median_house_value'].quantile(0.25)\n",
    "Q3= data['median_house_value'].quantile(0.75)\n",
    "\n",
    "IQR = Q3-Q1\n",
    "\n",
    "lower_bound = Q1 - 1.5*IQR\n",
    "upper_bound = Q3 - 1.5*IQR\n",
    "\n",
    "filtered_data = data[(data['median_house_value']>=lower_bound) & (data['median_house_value']<=upper_bound)]\n",
    "print(filtered_data.head())"
   ]
  },
  {
   "cell_type": "code",
   "execution_count": 85,
   "metadata": {},
   "outputs": [
    {
     "data": {
      "image/png": "[encoded data removed]",
      "text/plain": [
       "<Figure size 640x480 with 1 Axes>"
      ]
     },
     "metadata": {},
     "output_type": "display_data"
    }
   ],
   "source": [
    "import pandas as pd \n",
    "import matplotlib.pyplot as plt \n",
    "data = pd.read_csv('housing.csv')\n",
    "\n",
    "class DataVisualizer():\n",
    "    def __init__(self,data):\n",
    "        self.data = data \n",
    "\n",
    "    def Histogram(self):\n",
    "        plt.hist(x= self.data['median_house_value'],bins=20,color='skyblue',edgecolor='black')\n",
    "        plt.xlabel('median_house_value')\n",
    "        plt.ylabel('Frequency')\n",
    "        plt.title('Histogram of Median House Value')\n",
    "        plt.show()\n",
    "\n",
    "\n",
    "A = DataVisualizer(data)\n",
    "\n",
    "A.Histogram()"
   ]
  },
  {
   "cell_type": "code",
   "execution_count": 91,
   "metadata": {},
   "outputs": [
    {
     "name": "stderr",
     "output_type": "stream",
     "text": [
      "No artists with labels found to put in legend.  Note that artists whose label start with an underscore are ignored when legend() is called with no argument.\n"
     ]
    },
    {
     "data": {
      "image/png": "[encoded data removed]",
      "text/plain": [
       "<Figure size 640x480 with 1 Axes>"
      ]
     },
     "metadata": {},
     "output_type": "display_data"
    }
   ],
   "source": [
    "import pandas as pd \n",
    "import matplotlib.pyplot as plt \n",
    "data = pd.read_csv('housing.csv')\n",
    "plt.scatter(data['median_income'],data['median_house_value'],color= 'black',alpha=0.4)\n",
    "plt.xlabel('median_income')\n",
    "plt.ylabel('median_house_value')\n",
    "plt.title('Relation between median_income & median_house_value')\n",
    "plt.legend()\n",
    "plt.show()"
   ]
  },
  {
   "cell_type": "code",
   "execution_count": null,
   "metadata": {},
   "outputs": [],
   "source": []
  }
 ],
 "metadata": {
  "kernelspec": {
   "display_name": "Python 3",
   "language": "python",
   "name": "python3"
  },
  "language_info": {
   "codemirror_mode": {
    "name": "ipython",
    "version": 3
   },
   "file_extension": ".py",
   "mimetype": "text/x-python",
   "name": "python",
   "nbconvert_exporter": "python",
   "pygments_lexer": "ipython3",
   "version": "3.12.0"
  }
 },
 "nbformat": 4,
 "nbformat_minor": 2
}
