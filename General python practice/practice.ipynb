{
 "cells": [
  {
   "cell_type": "code",
   "execution_count": 15,
   "metadata": {},
   "outputs": [],
   "source": []
  },
  {
   "cell_type": "code",
   "execution_count": 20,
   "metadata": {},
   "outputs": [
    {
     "name": "stdout",
     "output_type": "stream",
     "text": [
      "11\n",
      "77\n"
     ]
    }
   ],
   "source": [
    "# find all int in string \n",
    "s = 'Always 11 focus and work it will 77 give you the efficiency'\n",
    "d = re.findall('\\d.',s)\n",
    "for i in d:\n",
    "    print(i)\n"
   ]
  },
  {
   "cell_type": "code",
   "execution_count": 34,
   "metadata": {},
   "outputs": [
    {
     "name": "stdout",
     "output_type": "stream",
     "text": [
      "['efficiency']\n",
      "efficiency\n"
     ]
    }
   ],
   "source": [
    "# is the string ending with efficiency ?\n",
    "s = 'Always 11 focus and work it will 77 give you the efficiency'\n",
    "f = re.findall('efficiency$',s)\n",
    "print(f)\n",
    "for i in f:\n",
    "    print(i)\n"
   ]
  },
  {
   "cell_type": "code",
   "execution_count": 50,
   "metadata": {},
   "outputs": [
    {
     "name": "stdout",
     "output_type": "stream",
     "text": [
      "['Always 11 focus and work it will 77 give you the efficiency']\n",
      "Always 11 focus and work it will 77 give you the efficiency\n"
     ]
    }
   ],
   "source": [
    "# Does the string contains set of char\n",
    "s = 'Always 11 focus and work it will 77 give you the efficiency'\n",
    "g = re.findall('[a-zA-Z].*',s)\n",
    "print(g)\n",
    "for i in g:\n",
    "    print(i)\n",
    "\n"
   ]
  },
  {
   "cell_type": "code",
   "execution_count": 71,
   "metadata": {},
   "outputs": [
    {
     "name": "stdout",
     "output_type": "stream",
     "text": [
      "<re.Match object; span=(20, 24), match='work'>\n",
      "<re.Match object; span=(28, 32), match='will'>\n"
     ]
    }
   ],
   "source": [
    "# give me words starts with w\n",
    "s = 'Always 11 focus and work it will 77 give you the efficiency'\n",
    "c = re.finditer(r'\\b[wW]\\w*\\b',s)\n",
    "\n",
    "for i in c:\n",
    "    print(i)\n"
   ]
  },
  {
   "cell_type": "code",
   "execution_count": 85,
   "metadata": {},
   "outputs": [
    {
     "name": "stdout",
     "output_type": "stream",
     "text": [
      "Always\n"
     ]
    }
   ],
   "source": [
    "# find does the string starts with word start with A \n",
    "s = 'Always 11 focus and work it will 77 give you the efficiency'\n",
    "d = re.match(r'\\bA\\w+\\b',s)\n",
    "\n",
    "if d:\n",
    "    print(d.group())\n",
    "else:\n",
    "    print('no')"
   ]
  },
  {
   "cell_type": "code",
   "execution_count": 99,
   "metadata": {},
   "outputs": [
    {
     "name": "stdout",
     "output_type": "stream",
     "text": [
      "['Always', '11', 'focus', 'and', 'it', '77', 'give', 'you', 'the', 'efficiency']\n"
     ]
    }
   ],
   "source": [
    "# find all the words in the string that does not start with w\n",
    "s = 'Always 11 focus and work it will 77 give you the efficiency'\n",
    "b = re.findall(r'\\b(?!w)\\w+\\b',s)\n",
    "print(b)"
   ]
  },
  {
   "cell_type": "code",
   "execution_count": 105,
   "metadata": {},
   "outputs": [
    {
     "name": "stdout",
     "output_type": "stream",
     "text": [
      "<re.Match object; span=(16, 19), match='and'>\n",
      "and\n"
     ]
    }
   ],
   "source": [
    "# find out the word in the string that contain exactly 2 letter after a\n",
    "s = 'Always 11 focus and work it will 77 give you the efficiency'\n",
    "f = re.search(r'\\ba.{2}\\b',s)\n",
    "print(f)\n",
    "print(f.group())"
   ]
  },
  {
   "cell_type": "code",
   "execution_count": 129,
   "metadata": {},
   "outputs": [
    {
     "name": "stdout",
     "output_type": "stream",
     "text": [
      "<re.Match object; span=(0, 6), match='Always'>\n",
      "<re.Match object; span=(6, 6), match=''>\n",
      "<re.Match object; span=(9, 9), match=''>\n",
      "<re.Match object; span=(10, 15), match='focus'>\n",
      "<re.Match object; span=(15, 15), match=''>\n",
      "<re.Match object; span=(16, 19), match='and'>\n",
      "<re.Match object; span=(19, 19), match=''>\n",
      "<re.Match object; span=(20, 24), match='work'>\n",
      "<re.Match object; span=(24, 24), match=''>\n",
      "<re.Match object; span=(25, 27), match='it'>\n",
      "<re.Match object; span=(27, 27), match=''>\n",
      "<re.Match object; span=(28, 32), match='will'>\n",
      "<re.Match object; span=(32, 32), match=''>\n",
      "<re.Match object; span=(35, 35), match=''>\n",
      "<re.Match object; span=(36, 40), match='give'>\n",
      "<re.Match object; span=(40, 40), match=''>\n",
      "<re.Match object; span=(41, 44), match='you'>\n",
      "<re.Match object; span=(44, 44), match=''>\n",
      "<re.Match object; span=(45, 48), match='the'>\n",
      "<re.Match object; span=(48, 48), match=''>\n",
      "<re.Match object; span=(49, 59), match='efficiency'>\n",
      "<re.Match object; span=(59, 59), match=''>\n"
     ]
    }
   ],
   "source": [
    "# Give me the below string without digits \n",
    "s = 'Always 11 focus and work it will 77 give you the efficiency'\n",
    "v = re.finditer(r'\\b(?![0-9])\\w*\\b',s)\n",
    "for i in v:\n",
    "    print(i)\n"
   ]
  },
  {
   "cell_type": "code",
   "execution_count": 135,
   "metadata": {},
   "outputs": [
    {
     "name": "stdout",
     "output_type": "stream",
     "text": [
      "['l', 'w', 'y', 's', ' ', '1', '1', ' ', 'f', 'o', 'c', 'u', 's', ' ', 'd', ' ', 'w', 'o', 'k', ' ', 'i', 't', ' ', 'w', 'i', 'l', 'l', ' ', '7', '7', ' ', 'g', 'i', 'v', 'e', ' ', 'y', 'o', 'u', ' ', 't', 'h', 'e', ' ', 'e', 'f', 'f', 'i', 'c', 'i', 'e', 'c', 'y']\n"
     ]
    }
   ],
   "source": [
    "# check whether the string has char other than aArn\n",
    "s = 'Always 11 focus and work it will 77 give you the efficiency'\n",
    "d = re.findall('[^aArn]',s)\n",
    "print(d)"
   ]
  },
  {
   "cell_type": "code",
   "execution_count": 145,
   "metadata": {},
   "outputs": [
    {
     "name": "stdout",
     "output_type": "stream",
     "text": [
      "['The', 'rain in Spain']\n"
     ]
    }
   ],
   "source": [
    "# it will split the string on white spaces\n",
    "txt = \"The rain in Spain\"\n",
    "f = re.split('\\s',txt,1) # will split at 1st position\n",
    "print(f)"
   ]
  },
  {
   "cell_type": "code",
   "execution_count": 148,
   "metadata": {},
   "outputs": [
    {
     "name": "stdout",
     "output_type": "stream",
     "text": [
      "The9rain9in9Spain\n"
     ]
    }
   ],
   "source": [
    "# it will replace spliting char with given txt\n",
    "txt = \"The rain in Spain\"\n",
    "f = re.sub('\\s','9',txt) \n",
    "print(f)"
   ]
  },
  {
   "cell_type": "code",
   "execution_count": null,
   "metadata": {},
   "outputs": [],
   "source": []
  }
 ],
 "metadata": {
  "kernelspec": {
   "display_name": "Python 3",
   "language": "python",
   "name": "python3"
  },
  "language_info": {
   "codemirror_mode": {
    "name": "ipython",
    "version": 3
   },
   "file_extension": ".py",
   "mimetype": "text/x-python",
   "name": "python",
   "nbconvert_exporter": "python",
   "pygments_lexer": "ipython3",
   "version": "3.9.1"
  }
 },
 "nbformat": 4,
 "nbformat_minor": 2
}
