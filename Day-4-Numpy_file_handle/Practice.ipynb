{
 "cells": [
  {
   "cell_type": "code",
   "execution_count": null,
   "metadata": {},
   "outputs": [],
   "source": [
    "# Array Manipulation & File Handling: \n",
    "\"\"\"\n",
    "# TOPICS:\n",
    "    -> Indexing \n",
    "    -> Fancy indexing \n",
    "    -> Slicing \n",
    "    -> Iterating numpy array \n",
    "    -> Array Manipulation \n",
    "    -> File handling using Numpy \n",
    "    -> Numpy case study - Movie rating Syatem \n",
    "     \n",
    "Array indexcing use square bracket '[]' to index the element of array so that the element can be reffered individually for various use case.\n",
    "\n",
    "When we create an array an appropriate array index is also created for the same.\n",
    "0  1 2 3 4-->\n",
    "[9,8,7,6,5]\n",
    "-5-4-3-2-1 <--\n",
    "\n",
    "\n",
    "\"\"\""
   ]
  },
  {
   "cell_type": "code",
   "execution_count": 3,
   "metadata": {},
   "outputs": [
    {
     "name": "stdout",
     "output_type": "stream",
     "text": [
      "[21 22 23 24 25]\n",
      "24\n",
      "22\n"
     ]
    }
   ],
   "source": [
    "# Examples: Indexing in single dimension array.\n",
    "\n",
    "import numpy as np \n",
    "arr= np.arange(21,26)\n",
    "print(arr)\n",
    "element= arr[3]\n",
    "print(element)\n",
    "\n",
    "ele= arr[-4]\n",
    "print(ele)"
   ]
  },
  {
   "cell_type": "code",
   "execution_count": 6,
   "metadata": {},
   "outputs": [
    {
     "name": "stdout",
     "output_type": "stream",
     "text": [
      "[[21 22 23]\n",
      " [24 25 26]\n",
      " [27 28 29]]\n"
     ]
    },
    {
     "data": {
      "text/plain": [
       "29"
      ]
     },
     "execution_count": 6,
     "metadata": {},
     "output_type": "execute_result"
    }
   ],
   "source": [
    "# Indexing in two dimensional array: In two dimensional array indexing the first index indicate row and second index indicate the colomn.\n",
    "\n",
    "import numpy as np \n",
    "a1=np.arange(21,30).reshape(3,3)\n",
    "print(a1)\n",
    "ele=a1[2,2]\n",
    "ele"
   ]
  },
  {
   "cell_type": "code",
   "execution_count": 9,
   "metadata": {},
   "outputs": [
    {
     "name": "stdout",
     "output_type": "stream",
     "text": [
      "[12 32 23 11 54 65 76 98]\n",
      "[[65 54]\n",
      " [23 11]]\n"
     ]
    }
   ],
   "source": [
    "# Fancy indexing: Fancy indexing means passing asn array of indices to access the multiple array at ehe same time.\n",
    "    #This allow us to access and modify the complicated subset of the array.\n",
    "\n",
    "import numpy as np \n",
    "a2=np.array([12,32,23,11,54,65,76,98])\n",
    "print(a2)\n",
    "ind=np.array([[5,4],[2,3]])\n",
    "print(a2[ind])\n",
    "\"\"\"\n",
    "By using fancy indexing the shape of the result reflects the shape of the index array rather than the array being indexed.\n",
    "\"\"\""
   ]
  },
  {
   "cell_type": "code",
   "execution_count": 1,
   "metadata": {},
   "outputs": [
    {
     "name": "stdout",
     "output_type": "stream",
     "text": [
      "[0 1 2 3 4 5 6 7 8 9]\n",
      "[0 2 4 6]\n"
     ]
    }
   ],
   "source": [
    "# Slicing in numpy array: The slicing is same like in the list but just a difference is here we are usign a word slicing and then providing the same start, stop and step index. And instead of semicolon we use comma.\n",
    "# The slice index is constructed by using start stop and step index using slice()\n",
    "import numpy as np\n",
    "a1= np.arange(0,10)\n",
    "print(a1)\n",
    "a1_slice=slice(0,8,2)\n",
    "print(a1[a1_slice])"
   ]
  },
  {
   "cell_type": "code",
   "execution_count": 20,
   "metadata": {},
   "outputs": [
    {
     "name": "stdout",
     "output_type": "stream",
     "text": [
      "[0 1 2 3 4 5 6 7 8 9]\n",
      "[2 3 4 5 6 7]\n"
     ]
    }
   ],
   "source": [
    "# Slicing using another way:  \n",
    "import numpy as np\n",
    "a1= np.arange(10)\n",
    "print(a1)\n",
    "print(a1[2:8:1])"
   ]
  },
  {
   "cell_type": "code",
   "execution_count": 31,
   "metadata": {},
   "outputs": [
    {
     "name": "stdout",
     "output_type": "stream",
     "text": [
      "[[0 1 2]\n",
      " [3 4 5]\n",
      " [6 7 8]]\n",
      "[[4 5]\n",
      " [7 8]]\n"
     ]
    }
   ],
   "source": [
    "# Slicing in 2D array: \n",
    "\n",
    "import numpy as np\n",
    "arr2d=np.arange(0,9).reshape(3,3)\n",
    "print(arr2d) \n",
    "\n",
    "# Now to get 4,5,7,8 as square matrix \n",
    "\n",
    "arr_slice=arr2d[1:3,1:3]    # 3 is provided because it wikk work like 3-1=2 row and the colomn.\n",
    "print(arr_slice)\n"
   ]
  },
  {
   "cell_type": "code",
   "execution_count": 37,
   "metadata": {},
   "outputs": [
    {
     "name": "stdout",
     "output_type": "stream",
     "text": [
      "1\n",
      "2\n",
      "3\n",
      "4\n",
      "5\n",
      "6\n",
      "7\n",
      "8\n"
     ]
    }
   ],
   "source": [
    "# Iterating in numpy array: \n",
    "\"\"\"\n",
    "Iterating means going through elements one by one.\n",
    "\n",
    "As we deal with multi-dimensional arrays in numpy, we can do this using basic for loop of python.\n",
    "\n",
    "\n",
    "\n",
    "\"\"\"\n",
    "# To iterate on basic 1d array as follow it will go through the each element one by one\n",
    "    # for now we are using the conventional for loop to do it \n",
    "\n",
    "import numpy as np \n",
    "arr= np.array([1,2,3,4,5,6,7,8])\n",
    "for x in arr:\n",
    "    print(x)"
   ]
  },
  {
   "cell_type": "code",
   "execution_count": 41,
   "metadata": {},
   "outputs": [
    {
     "name": "stdout",
     "output_type": "stream",
     "text": [
      "[[0 1]\n",
      " [2 3]]\n",
      "0\n",
      "1\n",
      "2\n",
      "3\n"
     ]
    }
   ],
   "source": [
    "# Iterating over 2d array: For 2D array also first it will go through all the arrays and then iterate over the elements.\n",
    "\n",
    "import numpy as np \n",
    "arr3= np.arange(0,4).reshape(2,2)\n",
    "print(arr3)\n",
    "\n",
    "for x in arr3:     # x= number of ad array in arr3\n",
    "    for y in x:     # y= number of elements in 1d array of arr3\n",
    "        print(y)\n",
    "\n",
    "\"\"\"\n",
    "If we iterate on a n-D array it will go through n-1th dimension one by one.\n",
    "\n",
    "To return the actual values, the scalars, we have to iterate the arrays in each dimension.\n",
    "\"\"\""
   ]
  },
  {
   "cell_type": "code",
   "execution_count": 2,
   "metadata": {},
   "outputs": [
    {
     "name": "stdout",
     "output_type": "stream",
     "text": [
      "0\n",
      "1\n",
      "2\n",
      "3\n",
      "4\n",
      "5\n",
      "6\n",
      "7\n",
      "8\n",
      "9\n",
      "10\n",
      "11\n",
      "12\n",
      "13\n",
      "14\n",
      "15\n",
      "16\n",
      "17\n",
      "18\n",
      "19\n",
      "20\n",
      "21\n",
      "22\n",
      "23\n",
      "24\n",
      "25\n",
      "26\n"
     ]
    }
   ],
   "source": [
    "# Iterating over 3d array:\n",
    "\n",
    "import numpy as np \n",
    "arr3=np.arange(0,27).reshape(3,3,3)\n",
    "\n",
    "\n",
    "for x in arr3:\n",
    "    for y in x:\n",
    "        for z in y:\n",
    "            print(z)"
   ]
  },
  {
   "cell_type": "code",
   "execution_count": null,
   "metadata": {},
   "outputs": [],
   "source": [
    "# Now to use the special function in numpy for iteration. i.e. np.nditer()\n",
    "\"\"\"\n",
    "The function nditer() is a helping function that can be used from very basic to very advanced iterations. \n",
    "It solves some basic issues which we face in iteration, lets go through it with examples.\n",
    "\n",
    "In basic for loops, iterating through each scalar of an array we need to use n for loops which can be \n",
    "difficult to write for arrays with very high dimensionality.\n",
    "\"\"\"\n",
    "\n",
    "import numpy as np \n",
    "arr3= np.arange(0,27).reshape(3,3,3)\n",
    "arr3\n",
    "\n",
    "for x in np.nditer(arr3):\n",
    "    print(x)"
   ]
  },
  {
   "cell_type": "code",
   "execution_count": 59,
   "metadata": {},
   "outputs": [
    {
     "name": "stdout",
     "output_type": "stream",
     "text": [
      "b'0'\n",
      "b'1'\n",
      "b'2'\n",
      "b'3'\n"
     ]
    }
   ],
   "source": [
    "# Iterating numpy array with different data type:\n",
    "\"\"\"\n",
    "We can use op_dtypes argument and pass it the expected datatype to change the datatype of elements while iterating.\n",
    "\n",
    "NumPy does not change the data type of the element in-place (where the element is in array) so it needs some other \n",
    "space to perform this action, that extra space is called buffer, and in order to enable it in nditer() we pass flags=['buffered'].\n",
    "\n",
    "\n",
    "\"\"\"\n",
    "import numpy as np\n",
    "arr= np.arange(4)\n",
    "\n",
    "for x in np.nditer(arr, flags=['buffered'],op_dtypes=['S']):\n",
    "    print(x)\n"
   ]
  },
  {
   "cell_type": "code",
   "execution_count": 6,
   "metadata": {},
   "outputs": [
    {
     "name": "stdout",
     "output_type": "stream",
     "text": [
      "(0,) 0\n",
      "(1,) 1\n",
      "(2,) 2\n"
     ]
    }
   ],
   "source": [
    "# Enumerated iteration: Eumeration means mentioning sequence number of somethings one by one.\n",
    "\n",
    "import numpy as np \n",
    "arr=np.arange(3)\n",
    "for idx,x in np.ndenumerate(arr):\n",
    "    print(idx,x)"
   ]
  },
  {
   "cell_type": "code",
   "execution_count": 9,
   "metadata": {},
   "outputs": [
    {
     "name": "stdout",
     "output_type": "stream",
     "text": [
      "[[1 2 3]\n",
      " [2 3 4]]\n"
     ]
    },
    {
     "data": {
      "text/plain": [
       "array([[1, 2],\n",
       "       [3, 2],\n",
       "       [3, 4]])"
      ]
     },
     "execution_count": 9,
     "metadata": {},
     "output_type": "execute_result"
    }
   ],
   "source": [
    "# Array manipulation in numpy: To reshape or to create an array by using the already created array we use array manipulation.\n",
    "\n",
    "#1. np.reshape(): To reshape the already existing array.\n",
    "\n",
    "import numpy as np\n",
    "\n",
    "arr= np.array([[1,2,3],[2,3,4]])\n",
    "print(arr)\n",
    "\n",
    "arr1= np.reshape(arr,(3,2))\n",
    "arr1\n",
    "\n"
   ]
  },
  {
   "cell_type": "code",
   "execution_count": 13,
   "metadata": {},
   "outputs": [
    {
     "name": "stdout",
     "output_type": "stream",
     "text": [
      "Original array is:  [[0 1 2]\n",
      " [3 4 5]\n",
      " [6 7 8]]\n",
      "[0 1 2 3 4 5 6 7 8]\n"
     ]
    }
   ],
   "source": [
    "#2. ravel(): This function is used to convert already existing 2D or 3D array to 1D array.\n",
    "\n",
    "import numpy as np \n",
    "a= np.arange(0,9).reshape(3,3)\n",
    "print(\"Original array is: \",a)\n",
    "b=np.ravel(a)   # providing 1d array out of 3d array.\n",
    "print(b)"
   ]
  },
  {
   "cell_type": "code",
   "execution_count": 17,
   "metadata": {},
   "outputs": [
    {
     "name": "stdout",
     "output_type": "stream",
     "text": [
      "a Before transpose:  [[0 1 2]\n",
      " [3 4 5]\n",
      " [6 7 8]]\n",
      "a adter transpose:  [[0 3 6]\n",
      " [1 4 7]\n",
      " [2 5 8]]\n"
     ]
    }
   ],
   "source": [
    "#3. Transpose like operation: Transpose is used to invert row with colomn.\n",
    "\n",
    "import numpy as np \n",
    "a = np.arange(0,9).reshape(3,3)\n",
    "print(\"a Before transpose: \",a)\n",
    "b= np.transpose(a)\n",
    "print(\"a adter transpose: \",b)"
   ]
  },
  {
   "cell_type": "code",
   "execution_count": 45,
   "metadata": {},
   "outputs": [
    {
     "name": "stdout",
     "output_type": "stream",
     "text": [
      "[[0 1]\n",
      " [2 3]]\n",
      "[[5 6]]\n",
      "[[0 1]\n",
      " [2 3]\n",
      " [5 6]]\n",
      "--------------------------------------\n",
      "[[1 2 3]\n",
      " [4 5 6]] [[7 8 9]\n",
      " [0 8 7]]\n",
      "---------------------------------------\n",
      "[[1 2 3]\n",
      " [4 5 6]\n",
      " [7 8 9]\n",
      " [0 8 7]]\n",
      "---------------------------------------\n",
      "[[9 8 7]\n",
      " [6 5 4]] [[43]\n",
      " [56]]\n",
      "---------------------------------------\n",
      "[[ 9  8  7 43]\n",
      " [ 6  5  4 56]]\n"
     ]
    }
   ],
   "source": [
    "#4. Joining of array- comcatenate()/stack() : Multiple arrays are merged togather to get the new array that contain all the elements of arrays.\n",
    "    #Syntex: numpy.concatenate((array1, array2, ...), axis=0)\n",
    "\n",
    "# Method-1 : Using np.concatenate() function\n",
    "\n",
    "import numpy as np \n",
    "a= np.arange(4).reshape(2,2)\n",
    "print(a)\n",
    "b= np.array([[5,6]])\n",
    "print(b)\n",
    "c= np.concatenate((a,b))     # b.T is used because when axis=1 we are adding in colomn axis and when axis=0 we are adding in row.\n",
    "                            # The default value of axis=0, but we can change the axis value to 1 or 0.\n",
    "print(c)\n",
    "print(\"--------------------------------------\")\n",
    "\n",
    "\n",
    "# If axis=0\n",
    "\n",
    "arr1= np.array([[1,2,3],[4,5,6]])\n",
    "arr2= np.array([[7,8,9],[0,8,7]])\n",
    "print(arr1,arr2)\n",
    "\n",
    "print(\"---------------------------------------\")\n",
    "\n",
    "arr3= np.concatenate((arr1,arr2),axis=0)   # When axis=0 it will add in rows only \n",
    "print(arr3)\n",
    "\n",
    "print(\"---------------------------------------\")\n",
    "\n",
    "# If axis=1\n",
    "\n",
    "arr3= np.array([[9,8,7],[6,5,4]])\n",
    "arr4= np.array([[43,56,]])\n",
    "\n",
    "print(arr3,arr4.T)\n",
    "print(\"---------------------------------------\")\n",
    "arr5= np.concatenate((arr3,arr4.T),axis=1)\n",
    "print(arr5)"
   ]
  },
  {
   "cell_type": "code",
   "execution_count": 3,
   "metadata": {},
   "outputs": [
    {
     "name": "stdout",
     "output_type": "stream",
     "text": [
      "[[0 1]\n",
      " [2 3]] \n",
      " [[7 8]\n",
      " [0 8]]\n",
      "--------------------------\n",
      "[[[0 1]\n",
      "  [7 8]]\n",
      "\n",
      " [[2 3]\n",
      "  [0 8]]]\n",
      "--------------------------------\n"
     ]
    }
   ],
   "source": [
    "# Method-2 Using np.stack() function:  When we are using stack() function the size of array should be same.\n",
    "\n",
    "    # Syntex: numpy.stack(arrays, axis=0)\n",
    "\n",
    "import numpy as np \n",
    "a= np.arange(4).reshape(2,2)\n",
    "b= np.array([[7,8],[0,8]])\n",
    "print(a,'\\n',b)\n",
    "print(\"--------------------------\")\n",
    "\n",
    "c= np.stack((a,b),axis=1)\n",
    "print(c)\n",
    "print(\"--------------------------------\")\n",
    "\n",
    "    # Now to stack 1D array into an 2D or 3D array "
   ]
  },
  {
   "cell_type": "code",
   "execution_count": 58,
   "metadata": {},
   "outputs": [
    {
     "name": "stdout",
     "output_type": "stream",
     "text": [
      "[[1 4 7]\n",
      " [2 5 8]\n",
      " [3 6 9]]\n"
     ]
    }
   ],
   "source": [
    "# Using colomn_stack() to convert 1D array to 2ED array: It will convert all 1D array into 2D array while it will put all the array into column.\n",
    "\n",
    "import numpy as np\n",
    "a=np.array([1,2,3])\n",
    "b=np.array([4,5,6])\n",
    "c=np.array([7,8,9])\n",
    "\n",
    "d= np.column_stack((a,b,c))\n",
    "\n",
    "print(d)\n",
    "\n"
   ]
  },
  {
   "cell_type": "code",
   "execution_count": 65,
   "metadata": {},
   "outputs": [
    {
     "name": "stdout",
     "output_type": "stream",
     "text": [
      "[[1 2 3]\n",
      " [4 5 6]]\n",
      "[[ 7  8  9]\n",
      " [98 89  9]]\n",
      "-------------------------\n",
      "[[ 1  2  3  7  8  9]\n",
      " [ 4  5  6 98 89  9]]\n"
     ]
    }
   ],
   "source": [
    "# Use of hstack() and Vstack(): Its same like axis=0/1, \n",
    "import numpy as np\n",
    "a= np.array([[1,2,3],[4,5,6]])\n",
    "print(a)\n",
    "b= np.array([[7,8,9],[98,89,9]])\n",
    "print(b)\n",
    "print(\"-------------------------\")\n",
    "c= np.hstack((a,b))      # It will add the second array as column to the first one.\n",
    "print(c)"
   ]
  },
  {
   "cell_type": "code",
   "execution_count": 70,
   "metadata": {},
   "outputs": [
    {
     "name": "stdout",
     "output_type": "stream",
     "text": [
      "[[1 2 3]\n",
      " [4 5 6]]\n",
      "[[98 65 34]\n",
      " [34 20 80]]\n",
      "----------------------\n",
      "[[ 1  2  3]\n",
      " [ 4  5  6]\n",
      " [98 65 34]\n",
      " [34 20 80]]\n"
     ]
    }
   ],
   "source": [
    "import numpy as np \n",
    "a= np.array([[1,2,3],[4,5,6]])\n",
    "print(a)\n",
    "b= np.array([[98,65,34],[34,20,80]])\n",
    "\n",
    "print(b)\n",
    "print(\"----------------------\")\n",
    "\n",
    "c= np.vstack((a,b))    #    It will add another array as row to the first array.\n",
    "print(c)"
   ]
  },
  {
   "cell_type": "code",
   "execution_count": 5,
   "metadata": {},
   "outputs": [
    {
     "name": "stdout",
     "output_type": "stream",
     "text": [
      "[[ 0  1  2  3]\n",
      " [ 4  5  6  7]\n",
      " [ 8  9 10 11]\n",
      " [12 13 14 15]]\n",
      "[array([[0, 1, 2, 3]]), array([[4, 5, 6, 7]]), array([[ 8,  9, 10, 11]]), array([[12, 13, 14, 15]])]\n"
     ]
    }
   ],
   "source": [
    "# Spliting of array: Spliting two arrays into two parts  \n",
    "\n",
    "#1. Split(): It will split one combined array into multiple sub-arrays.\n",
    "\n",
    "import numpy as np \n",
    "a=np.arange(16).reshape(4,4)\n",
    "print(a)\n",
    "[b,c,d,e]=np.split(a,4)\n",
    "print([b,c,d,e])\n",
    "\n"
   ]
  },
  {
   "cell_type": "code",
   "execution_count": 6,
   "metadata": {},
   "outputs": [
    {
     "name": "stdout",
     "output_type": "stream",
     "text": [
      "[[ 0  1  2  3]\n",
      " [ 4  5  6  7]\n",
      " [ 8  9 10 11]\n",
      " [12 13 14 15]]\n",
      "b= [[ 0  1]\n",
      " [ 4  5]\n",
      " [ 8  9]\n",
      " [12 13]]\n",
      "c= [[ 2  3]\n",
      " [ 6  7]\n",
      " [10 11]\n",
      " [14 15]]\n"
     ]
    }
   ],
   "source": [
    "#2. hsplit(): It will split the array horizontaly.\n",
    "\n",
    "import numpy as np \n",
    "a= np.arange(16).reshape(4,4)\n",
    "print(a)\n",
    "[b,c]=np.hsplit(a,2)\n",
    "print(\"b=\",b)\n",
    "print(\"c=\",c)\n",
    "\n"
   ]
  },
  {
   "cell_type": "code",
   "execution_count": 7,
   "metadata": {},
   "outputs": [
    {
     "name": "stdout",
     "output_type": "stream",
     "text": [
      "[[ 0  1  2  3]\n",
      " [ 4  5  6  7]\n",
      " [ 8  9 10 11]\n",
      " [12 13 14 15]]\n",
      "b= [[0 1 2 3]\n",
      " [4 5 6 7]]\n",
      "c= [[ 8  9 10 11]\n",
      " [12 13 14 15]]\n"
     ]
    }
   ],
   "source": [
    "#3. vsplit(): It will split the array verticaly.\n",
    "import numpy as np \n",
    "a= np.arange(16).reshape(4,4)\n",
    "print(a)\n",
    "[b,c]=np.vsplit(a,2)\n",
    "print(\"b=\",b)\n",
    "print(\"c=\",c)"
   ]
  },
  {
   "cell_type": "code",
   "execution_count": 18,
   "metadata": {},
   "outputs": [
    {
     "name": "stdout",
     "output_type": "stream",
     "text": [
      "[[ 0  1  2  3]\n",
      " [ 4  5  6  7]\n",
      " [ 8  9 10 11]\n",
      " [12 13 14 15]]\n",
      "----------------------------\n",
      "None\n",
      "[[ 0  1  2  3]\n",
      " [ 4  5  6  7]\n",
      " [ 8  9 10 11]\n",
      " [12 13 14 15]]\n"
     ]
    }
   ],
   "source": [
    "# Storing and retriving the data: Numpy provides pair of function with the help of which we can save and retrive the data in binary format.\n",
    "    # save(): To save the data or containt into binary format.\n",
    "    # load(): To get back the data from binary to readable format. \n",
    "    # We use .npy, .npz extention.\n",
    "\n",
    "import numpy as np\n",
    "a=np.arange(16).reshape(4,4)\n",
    "print(a)\n",
    "print(\"----------------------------\")\n",
    "\n",
    "b=np.save('a.npy',a)   # Saved to bibnary \n",
    "print(b)\n",
    "c=np.load('a.npy')  # Load back fron binary \n",
    "print(c)"
   ]
  },
  {
   "cell_type": "code",
   "execution_count": 36,
   "metadata": {},
   "outputs": [
    {
     "name": "stdout",
     "output_type": "stream",
     "text": [
      "[[ 0  1  2  3]\n",
      " [ 4  5  6  7]\n",
      " [ 8  9 10 11]\n",
      " [12 13 14 15]]\n",
      "None\n",
      "[[ 0.  1.  2.  3.]\n",
      " [ 4.  5.  6.  7.]\n",
      " [ 8.  9. 10. 11.]\n",
      " [12. 13. 14. 15.]]\n"
     ]
    }
   ],
   "source": [
    "# Loading and retriving the data in text or CSV file : \n",
    "\"\"\"\n",
    "Numpy provides two functions for that savetxt(), and genfromtxt() these two functions allows us to save and retrive the data in text file.\n",
    "\n",
    "savetxt(): To save the data into text format \n",
    "\n",
    "genfromtxt(): To retrive the data from txt to general format.\n",
    "\n",
    "save format are used for the CSV files also.\n",
    "\n",
    "\n",
    "\"\"\"\n",
    "\n",
    "import numpy as np \n",
    "a=np.arange(16).reshape(4,4)\n",
    "print(a)\n",
    "\n",
    "b=np.savetxt('a.txt',a,delimiter=',')\n",
    "print(b)  # File containt is converted to Text format.\n",
    "\n",
    "\n",
    "c= np.loadtxt('a.txt',delimiter=',')\n",
    "print(c)\n",
    "\n"
   ]
  },
  {
   "cell_type": "code",
   "execution_count": 34,
   "metadata": {},
   "outputs": [
    {
     "name": "stdout",
     "output_type": "stream",
     "text": [
      "[[ 0.  1.  2.  3.]\n",
      " [ 4.  5.  6.  7.]\n",
      " [ 8.  9. 10. 11.]\n",
      " [12. 13. 14. 15.]]\n"
     ]
    }
   ],
   "source": []
  },
  {
   "cell_type": "code",
   "execution_count": null,
   "metadata": {},
   "outputs": [],
   "source": []
  }
 ],
 "metadata": {
  "kernelspec": {
   "display_name": "Python 3.9.1 64-bit",
   "language": "python",
   "name": "python3"
  },
  "language_info": {
   "codemirror_mode": {
    "name": "ipython",
    "version": 3
   },
   "file_extension": ".py",
   "mimetype": "text/x-python",
   "name": "python",
   "nbconvert_exporter": "python",
   "pygments_lexer": "ipython3",
   "version": "3.9.1"
  },
  "orig_nbformat": 4,
  "vscode": {
   "interpreter": {
    "hash": "a6ada047e8940af673a5a678b6ba14e182d5b4e08fa205eb091207f23619d85d"
   }
  }
 },
 "nbformat": 4,
 "nbformat_minor": 2
}
