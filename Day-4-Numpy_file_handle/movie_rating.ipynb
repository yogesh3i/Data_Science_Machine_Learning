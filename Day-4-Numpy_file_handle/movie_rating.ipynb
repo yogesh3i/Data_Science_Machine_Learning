{
 "cells": [
  {
   "cell_type": "code",
   "execution_count": 4,
   "metadata": {},
   "outputs": [],
   "source": [
    "import numpy as np\n",
    "\n",
    "np.set_printoptions(formatter={'fplot_kind':'{:.3f}'.format})  # Seted a o/p float range upto 3 decimal \n"
   ]
  },
  {
   "cell_type": "code",
   "execution_count": 5,
   "metadata": {},
   "outputs": [
    {
     "name": "stdout",
     "output_type": "stream",
     "text": [
      "[1301 1302 1303 1304 1305]\n"
     ]
    },
    {
     "data": {
      "text/plain": [
       "1000"
      ]
     },
     "execution_count": 5,
     "metadata": {},
     "output_type": "execute_result"
    }
   ],
   "source": [
    "# Now to create array for 1000 movie ids starting from 1301\n",
    "movie_id=np.arange(1301,2301)\n",
    "print(movie_id[:5])\n",
    "movie_id.size"
   ]
  },
  {
   "cell_type": "code",
   "execution_count": 6,
   "metadata": {},
   "outputs": [
    {
     "name": "stdout",
     "output_type": "stream",
     "text": [
      "[20201 20202 20203 20204 20205]\n"
     ]
    },
    {
     "data": {
      "text/plain": [
       "array([20201, 20202, 20203, 20204, 20205, 20206, 20207, 20208, 20209,\n",
       "       20210, 20211, 20212, 20213, 20214, 20215, 20216, 20217, 20218,\n",
       "       20219, 20220, 20221, 20222, 20223, 20224, 20225, 20226, 20227,\n",
       "       20228, 20229, 20230, 20231, 20232, 20233, 20234, 20235, 20236,\n",
       "       20237, 20238, 20239, 20240, 20241, 20242, 20243, 20244, 20245,\n",
       "       20246, 20247, 20248, 20249, 20250, 20251, 20252, 20253, 20254,\n",
       "       20255, 20256, 20257, 20258, 20259, 20260, 20261, 20262, 20263,\n",
       "       20264, 20265, 20266, 20267, 20268, 20269, 20270, 20271, 20272,\n",
       "       20273, 20274, 20275, 20276, 20277, 20278, 20279, 20280, 20281,\n",
       "       20282, 20283, 20284, 20285, 20286, 20287, 20288, 20289, 20290,\n",
       "       20291, 20292, 20293, 20294, 20295, 20296, 20297, 20298, 20299,\n",
       "       20300])"
      ]
     },
     "execution_count": 6,
     "metadata": {},
     "output_type": "execute_result"
    }
   ],
   "source": [
    "# To create an array for 100 user ids between 20201 to 20301\n",
    "\n",
    "user_id= np.arange(20201,20301)\n",
    "print(user_id[:5])\n",
    "user_id.size\n",
    "user_id"
   ]
  },
  {
   "cell_type": "code",
   "execution_count": null,
   "metadata": {},
   "outputs": [],
   "source": [
    "# or we can create user ids as below also \n",
    "\n",
    "user_id=[]\n",
    "for i in range(20201,20301):\n",
    "    user_id.append(i)\n",
    "user_id=np.array(user_id)\n",
    "user_id"
   ]
  },
  {
   "cell_type": "code",
   "execution_count": 7,
   "metadata": {},
   "outputs": [],
   "source": [
    "# now to create movie matrix: \n",
    "import random\n",
    "movie_matrix = []\n",
    "\n",
    "for user in range(100):\n",
    "    movies_rated_by_me = np.full(1000,-1)\n",
    "    num_of_movies_rated = random.randint(0,999) # Choosing randomly how many movies are rated \n",
    "    movies_that_i_will_rate = random.sample(range(0,1000),num_of_movies_rated) # It will create index between 0 to 1000 randomly and will assign it to all the 10000 movies for which the user has been rated \n",
    "\n",
    "    for index in movies_that_i_will_rate:\n",
    "        movies_rated_by_me[index] = random.randint(0,10)\n",
    "    movie_matrix.append(movies_rated_by_me)\n",
    "   \n",
    "movie_matrix = np.array(movie_matrix)"
   ]
  },
  {
   "cell_type": "code",
   "execution_count": 8,
   "metadata": {},
   "outputs": [
    {
     "name": "stdout",
     "output_type": "stream",
     "text": [
      "Shape of the matrix: (100, 1000)\n",
      "Number of elements in the array:  100000\n",
      "Number of dimension in array:  2\n"
     ]
    }
   ],
   "source": [
    "# To print the specifications of movie matrix \n",
    "print(\"Shape of the matrix:\", movie_matrix.shape)\n",
    "print(\"Number of elements in the array: \",movie_matrix.size)\n",
    "print(\"Number of dimension in array: \", movie_matrix.ndim)"
   ]
  },
  {
   "cell_type": "code",
   "execution_count": 9,
   "metadata": {},
   "outputs": [],
   "source": [
    "# Task3: To add the 10 expert movie ratings\n",
    "\n",
    "import random\n",
    "\n",
    "expert_matrix = []\n",
    "for user in range(10):\n",
    "    movies_rated_by_me = np.full(1000,-1)\n",
    "    num_of_movies_rated = random.randint(0,999)\n",
    "    movies_that_i_will_rate = random.sample(range(0,1000),num_of_movies_rated)\n",
    "\n",
    "    for index in movies_that_i_will_rate:\n",
    "        movies_rated_by_me[index] = random.randint(0,10)\n",
    "    expert_matrix.append(movies_rated_by_me)\n",
    "expert_matrix = np.array(expert_matrix)"
   ]
  },
  {
   "cell_type": "code",
   "execution_count": 10,
   "metadata": {},
   "outputs": [
    {
     "name": "stdout",
     "output_type": "stream",
     "text": [
      "Shape of the matrix: (10, 1000)\n",
      "Number of elements in the array:  10000\n",
      "Number of dimension in array:  2\n"
     ]
    }
   ],
   "source": [
    "print(\"Shape of the matrix:\", expert_matrix.shape)\n",
    "print(\"Number of elements in the array: \",expert_matrix.size)\n",
    "print(\"Number of dimension in array: \", expert_matrix.ndim)"
   ]
  },
  {
   "cell_type": "code",
   "execution_count": 11,
   "metadata": {},
   "outputs": [
    {
     "data": {
      "text/plain": [
       "(110, 1000)"
      ]
     },
     "execution_count": 11,
     "metadata": {},
     "output_type": "execute_result"
    }
   ],
   "source": [
    "# To add the expert reviews to the original reviews \n",
    "\n",
    "movie_matrix = np.vstack([movie_matrix, expert_matrix])\n",
    "movie_matrix.shape"
   ]
  },
  {
   "cell_type": "code",
   "execution_count": 13,
   "metadata": {},
   "outputs": [
    {
     "name": "stdout",
     "output_type": "stream",
     "text": [
      "(110, 50)\n"
     ]
    }
   ],
   "source": [
    "# Now to add the 50 more movies to the existing matrx:\n",
    "\n",
    "new_movie_matrix = []\n",
    "for user in range(110):\n",
    "    movies_rated_by_me = np.full(50,-1)\n",
    "    num_movies_rated = random.randint(0,49)\n",
    "    movies_that_i_will_rate = random.sample(range(0,50),num_movies_rated)\n",
    "\n",
    "    for index in movies_that_i_will_rate:\n",
    "        movies_rated_by_me[index] = random.randint(0,10)\n",
    "    new_movie_matrix.append(movies_rated_by_me)\n",
    "    \n",
    "new_movie_matrix = np.array(new_movie_matrix)\n",
    "print(new_movie_matrix.shape)\n"
   ]
  },
  {
   "cell_type": "code",
   "execution_count": 14,
   "metadata": {},
   "outputs": [
    {
     "name": "stdout",
     "output_type": "stream",
     "text": [
      "Shape of the matrix: (110, 50)\n",
      "Number of elements in the array:  5500\n",
      "Number of dimension in array:  2\n"
     ]
    }
   ],
   "source": [
    "print(\"Shape of the matrix:\", new_movie_matrix.shape)\n",
    "print(\"Number of elements in the array: \",new_movie_matrix.size)\n",
    "print(\"Number of dimension in array: \", new_movie_matrix.ndim)"
   ]
  },
  {
   "cell_type": "code",
   "execution_count": 15,
   "metadata": {},
   "outputs": [
    {
     "data": {
      "text/plain": [
       "1050"
      ]
     },
     "execution_count": 15,
     "metadata": {},
     "output_type": "execute_result"
    }
   ],
   "source": [
    "# To append the movie ids :\n",
    "\n",
    "new_movie_id = np.append(movie_id,np.arange(2301,2351))\n",
    "new_movie_id.size"
   ]
  },
  {
   "cell_type": "code",
   "execution_count": 78,
   "metadata": {},
   "outputs": [
    {
     "data": {
      "text/plain": [
       "(110, 1700)"
      ]
     },
     "execution_count": 78,
     "metadata": {},
     "output_type": "execute_result"
    }
   ],
   "source": [
    "movie_matrix = np.hstack([movie_matrix,new_movie_matrix])\n",
    "movie_matrix.shape"
   ]
  },
  {
   "cell_type": "code",
   "execution_count": 18,
   "metadata": {},
   "outputs": [
    {
     "ename": "IndexError",
     "evalue": "index 1000 is out of bounds for axis 1 with size 1000",
     "output_type": "error",
     "traceback": [
      "\u001b[1;31m---------------------------------------------------------------------------\u001b[0m",
      "\u001b[1;31mIndexError\u001b[0m                                Traceback (most recent call last)",
      "\u001b[1;32md:\\Data science & ML\\Day-4\\movie_rating.ipynb Cell 14\u001b[0m in \u001b[0;36m<cell line: 4>\u001b[1;34m()\u001b[0m\n\u001b[0;32m      <a href='vscode-notebook-cell:/d%3A/Data%20science%20%26%20ML/Day-4/movie_rating.ipynb#X16sZmlsZQ%3D%3D?line=2'>3</a>\u001b[0m final_movie_rating \u001b[39m=\u001b[39m []\n\u001b[0;32m      <a href='vscode-notebook-cell:/d%3A/Data%20science%20%26%20ML/Day-4/movie_rating.ipynb#X16sZmlsZQ%3D%3D?line=3'>4</a>\u001b[0m \u001b[39mfor\u001b[39;00m i \u001b[39min\u001b[39;00m \u001b[39mrange\u001b[39m(\u001b[39m1050\u001b[39m):\n\u001b[1;32m----> <a href='vscode-notebook-cell:/d%3A/Data%20science%20%26%20ML/Day-4/movie_rating.ipynb#X16sZmlsZQ%3D%3D?line=4'>5</a>\u001b[0m     m \u001b[39m=\u001b[39m movie_matrix[:,i]\n\u001b[0;32m      <a href='vscode-notebook-cell:/d%3A/Data%20science%20%26%20ML/Day-4/movie_rating.ipynb#X16sZmlsZQ%3D%3D?line=5'>6</a>\u001b[0m     m\u001b[39m=\u001b[39mm[m\u001b[39m>\u001b[39m\u001b[39m=\u001b[39m\u001b[39m0\u001b[39m]\n\u001b[0;32m      <a href='vscode-notebook-cell:/d%3A/Data%20science%20%26%20ML/Day-4/movie_rating.ipynb#X16sZmlsZQ%3D%3D?line=6'>7</a>\u001b[0m     total_num_rating \u001b[39m=\u001b[39m m\u001b[39m.\u001b[39msize\n",
      "\u001b[1;31mIndexError\u001b[0m: index 1000 is out of bounds for axis 1 with size 1000"
     ]
    }
   ],
   "source": [
    "# To get the final movie rating:\n",
    "\n",
    "final_movie_rating = []\n",
    "for i in range(1050):\n",
    "    m = movie_matrix[:,i]\n",
    "    m=m[m>=0]\n",
    "    total_num_rating = m.size\n",
    "    rating = m.mean()\n",
    "    standard_deviation = m.std()\n",
    "    final_movie_rating.append([new_movie_id[i],rating,total_num_rating,standard_deviation])\n"
   ]
  },
  {
   "cell_type": "code",
   "execution_count": 19,
   "metadata": {},
   "outputs": [
    {
     "data": {
      "text/plain": [
       "4000"
      ]
     },
     "execution_count": 19,
     "metadata": {},
     "output_type": "execute_result"
    }
   ],
   "source": [
    "final_movie_rating = np.array(final_movie_rating)\n",
    "final_movie_rating.size"
   ]
  },
  {
   "cell_type": "code",
   "execution_count": 85,
   "metadata": {},
   "outputs": [
    {
     "name": "stdout",
     "output_type": "stream",
     "text": [
      "3.673076923076923\n",
      "6.280701754385965\n"
     ]
    }
   ],
   "source": [
    "print(final_movie_rating[:,1].min())\n",
    "print(final_movie_rating[:,1].max())"
   ]
  },
  {
   "cell_type": "code",
   "execution_count": 17,
   "metadata": {},
   "outputs": [
    {
     "ename": "TypeError",
     "evalue": "list indices must be integers or slices, not tuple",
     "output_type": "error",
     "traceback": [
      "\u001b[1;31m---------------------------------------------------------------------------\u001b[0m",
      "\u001b[1;31mTypeError\u001b[0m                                 Traceback (most recent call last)",
      "\u001b[1;32md:\\Data science & ML\\Day-4\\movie_rating.ipynb Cell 16\u001b[0m in \u001b[0;36m<cell line: 3>\u001b[1;34m()\u001b[0m\n\u001b[0;32m      <a href='vscode-notebook-cell:/d%3A/Data%20science%20%26%20ML/Day-4/movie_rating.ipynb#X21sZmlsZQ%3D%3D?line=0'>1</a>\u001b[0m \u001b[39m#  Converting the averagr of movie rating to get the range between 0 to 10 \u001b[39;00m\n\u001b[1;32m----> <a href='vscode-notebook-cell:/d%3A/Data%20science%20%26%20ML/Day-4/movie_rating.ipynb#X21sZmlsZQ%3D%3D?line=2'>3</a>\u001b[0m x \u001b[39m=\u001b[39m final_movie_rating[:,\u001b[39m1\u001b[39;49m]\n\u001b[0;32m      <a href='vscode-notebook-cell:/d%3A/Data%20science%20%26%20ML/Day-4/movie_rating.ipynb#X21sZmlsZQ%3D%3D?line=3'>4</a>\u001b[0m old_range \u001b[39m=\u001b[39m x\u001b[39m.\u001b[39mmax() \u001b[39m-\u001b[39m x\u001b[39m.\u001b[39mmin()\n\u001b[0;32m      <a href='vscode-notebook-cell:/d%3A/Data%20science%20%26%20ML/Day-4/movie_rating.ipynb#X21sZmlsZQ%3D%3D?line=4'>5</a>\u001b[0m new_range \u001b[39m=\u001b[39m (\u001b[39m10\u001b[39m \u001b[39m-\u001b[39m \u001b[39m0\u001b[39m)\n",
      "\u001b[1;31mTypeError\u001b[0m: list indices must be integers or slices, not tuple"
     ]
    }
   ],
   "source": [
    "#  Converting the averagr of movie rating to get the range between 0 to 10 \n",
    "\n",
    "x = final_movie_rating[:,1]\n",
    "old_range = x.max() - x.min()\n",
    "new_range = (10 - 0)\n",
    "final_movie_rating[:,1]= ((x - x.min())*(new_range/old_range) + 0)\n",
    "\n",
    "final_movie_rating "
   ]
  },
  {
   "cell_type": "code",
   "execution_count": 1,
   "metadata": {},
   "outputs": [
    {
     "ename": "NameError",
     "evalue": "name 'final_movie_rating' is not defined",
     "output_type": "error",
     "traceback": [
      "\u001b[1;31m---------------------------------------------------------------------------\u001b[0m",
      "\u001b[1;31mNameError\u001b[0m                                 Traceback (most recent call last)",
      "\u001b[1;32md:\\Data science & ML\\Day-4\\movie_rating.ipynb Cell 17\u001b[0m in \u001b[0;36m<cell line: 1>\u001b[1;34m()\u001b[0m\n\u001b[1;32m----> <a href='vscode-notebook-cell:/d%3A/Data%20science%20%26%20ML/Day-4/movie_rating.ipynb#X22sZmlsZQ%3D%3D?line=0'>1</a>\u001b[0m final_movie_rating \u001b[39m.\u001b[39mshape\n",
      "\u001b[1;31mNameError\u001b[0m: name 'final_movie_rating' is not defined"
     ]
    }
   ],
   "source": [
    "final_movie_rating .shape"
   ]
  },
  {
   "cell_type": "code",
   "execution_count": null,
   "metadata": {},
   "outputs": [],
   "source": []
  }
 ],
 "metadata": {
  "kernelspec": {
   "display_name": "Python 3.9.1 64-bit",
   "language": "python",
   "name": "python3"
  },
  "language_info": {
   "codemirror_mode": {
    "name": "ipython",
    "version": 3
   },
   "file_extension": ".py",
   "mimetype": "text/x-python",
   "name": "python",
   "nbconvert_exporter": "python",
   "pygments_lexer": "ipython3",
   "version": "3.9.1"
  },
  "orig_nbformat": 4,
  "vscode": {
   "interpreter": {
    "hash": "a6ada047e8940af673a5a678b6ba14e182d5b4e08fa205eb091207f23619d85d"
   }
  }
 },
 "nbformat": 4,
 "nbformat_minor": 2
}
