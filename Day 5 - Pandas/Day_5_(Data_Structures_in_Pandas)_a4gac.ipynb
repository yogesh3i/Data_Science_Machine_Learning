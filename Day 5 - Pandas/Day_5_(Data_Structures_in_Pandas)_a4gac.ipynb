{
 "cells": [
  {
   "cell_type": "code",
   "execution_count": 1,
   "id": "9d20db4c",
   "metadata": {},
   "outputs": [
    {
     "name": "stdout",
     "output_type": "stream",
     "text": [
      "Requirement already satisfied: pandas in c:\\users\\abhitesh.debnath\\anaconda3\\lib\\site-packages (1.4.2)\n",
      "Requirement already satisfied: python-dateutil>=2.8.1 in c:\\users\\abhitesh.debnath\\anaconda3\\lib\\site-packages (from pandas) (2.8.2)\n",
      "Requirement already satisfied: numpy>=1.18.5 in c:\\users\\abhitesh.debnath\\anaconda3\\lib\\site-packages (from pandas) (1.21.6)\n",
      "Requirement already satisfied: pytz>=2020.1 in c:\\users\\abhitesh.debnath\\anaconda3\\lib\\site-packages (from pandas) (2021.3)\n",
      "Requirement already satisfied: six>=1.5 in c:\\users\\abhitesh.debnath\\anaconda3\\lib\\site-packages (from python-dateutil>=2.8.1->pandas) (1.16.0)\n"
     ]
    }
   ],
   "source": [
    "!pip install pandas"
   ]
  },
  {
   "cell_type": "code",
   "execution_count": 1,
   "id": "e8b56f3d",
   "metadata": {},
   "outputs": [],
   "source": [
    "import pandas as pd"
   ]
  },
  {
   "cell_type": "code",
   "execution_count": 6,
   "id": "a12560b6",
   "metadata": {},
   "outputs": [],
   "source": [
    "list_of_values = list(range(10,50))"
   ]
  },
  {
   "cell_type": "code",
   "execution_count": 21,
   "id": "318c31be",
   "metadata": {},
   "outputs": [],
   "source": [
    "# list_of_values"
   ]
  },
  {
   "cell_type": "code",
   "execution_count": 22,
   "id": "e116a0e0",
   "metadata": {},
   "outputs": [],
   "source": [
    "series_of_values = pd.Series(list_of_values,index = ['abcde'])"
   ]
  },
  {
   "cell_type": "code",
   "execution_count": 26,
   "id": "0836cb9c",
   "metadata": {},
   "outputs": [
    {
     "data": {
      "text/plain": [
       "0     10\n",
       "1     11\n",
       "2     12\n",
       "3     13\n",
       "4     14\n",
       "5     15\n",
       "6     16\n",
       "7     17\n",
       "8     18\n",
       "9     19\n",
       "10    20\n",
       "11    21\n",
       "12    22\n",
       "13    23\n",
       "14    24\n",
       "15    25\n",
       "16    26\n",
       "17    27\n",
       "18    28\n",
       "19    29\n",
       "20    30\n",
       "21    31\n",
       "22    32\n",
       "23    33\n",
       "24    34\n",
       "25    35\n",
       "26    36\n",
       "27    37\n",
       "28    38\n",
       "29    39\n",
       "30    40\n",
       "31    41\n",
       "32    42\n",
       "33    43\n",
       "34    44\n",
       "35    45\n",
       "36    46\n",
       "37    47\n",
       "38    48\n",
       "39    49\n",
       "dtype: int64"
      ]
     },
     "execution_count": 26,
     "metadata": {},
     "output_type": "execute_result"
    }
   ],
   "source": [
    "series_of_values"
   ]
  },
  {
   "cell_type": "code",
   "execution_count": 30,
   "id": "01ee917e",
   "metadata": {},
   "outputs": [
    {
     "data": {
      "text/plain": [
       "pandas.core.series.Series"
      ]
     },
     "execution_count": 30,
     "metadata": {},
     "output_type": "execute_result"
    }
   ],
   "source": [
    "type(series_of_values)"
   ]
  },
  {
   "cell_type": "code",
   "execution_count": 31,
   "id": "9615abef",
   "metadata": {},
   "outputs": [],
   "source": [
    "dict_of_values = {'a':10, 'b':20, 'c':40, 'abhitesh':28}"
   ]
  },
  {
   "cell_type": "code",
   "execution_count": 32,
   "id": "305553bd",
   "metadata": {},
   "outputs": [],
   "source": [
    "series_from_dict = pd.Series(dict_of_values)"
   ]
  },
  {
   "cell_type": "code",
   "execution_count": 33,
   "id": "fb878d14",
   "metadata": {},
   "outputs": [
    {
     "data": {
      "text/plain": [
       "a           10\n",
       "b           20\n",
       "c           40\n",
       "abhitesh    28\n",
       "dtype: int64"
      ]
     },
     "execution_count": 33,
     "metadata": {},
     "output_type": "execute_result"
    }
   ],
   "source": [
    "series_from_dict"
   ]
  },
  {
   "cell_type": "code",
   "execution_count": 35,
   "id": "d3e40622",
   "metadata": {},
   "outputs": [
    {
     "data": {
      "text/plain": [
       "28"
      ]
     },
     "execution_count": 35,
     "metadata": {},
     "output_type": "execute_result"
    }
   ],
   "source": [
    "series_from_dict['abhitesh']"
   ]
  },
  {
   "cell_type": "code",
   "execution_count": 36,
   "id": "cde09591",
   "metadata": {},
   "outputs": [
    {
     "data": {
      "text/plain": [
       "28"
      ]
     },
     "execution_count": 36,
     "metadata": {},
     "output_type": "execute_result"
    }
   ],
   "source": [
    "dict_of_values['abhitesh']"
   ]
  },
  {
   "cell_type": "code",
   "execution_count": 2,
   "id": "aa6045e3",
   "metadata": {},
   "outputs": [],
   "source": [
    "data_json_dataframe = pd.read_json('data_json.json')"
   ]
  },
  {
   "cell_type": "code",
   "execution_count": 3,
   "id": "545b0b58",
   "metadata": {},
   "outputs": [
    {
     "data": {
      "text/html": [
       "<div>\n",
       "<style scoped>\n",
       "    .dataframe tbody tr th:only-of-type {\n",
       "        vertical-align: middle;\n",
       "    }\n",
       "\n",
       "    .dataframe tbody tr th {\n",
       "        vertical-align: top;\n",
       "    }\n",
       "\n",
       "    .dataframe thead th {\n",
       "        text-align: right;\n",
       "    }\n",
       "</style>\n",
       "<table border=\"1\" class=\"dataframe\">\n",
       "  <thead>\n",
       "    <tr style=\"text-align: right;\">\n",
       "      <th></th>\n",
       "      <th>emp1</th>\n",
       "      <th>emp2</th>\n",
       "      <th>emp3</th>\n",
       "    </tr>\n",
       "  </thead>\n",
       "  <tbody>\n",
       "    <tr>\n",
       "      <th>name</th>\n",
       "      <td>sonoo</td>\n",
       "      <td>sonsdsoo</td>\n",
       "      <td>abhiterh</td>\n",
       "    </tr>\n",
       "    <tr>\n",
       "      <th>salary</th>\n",
       "      <td>56000</td>\n",
       "      <td>5634000</td>\n",
       "      <td>3479345</td>\n",
       "    </tr>\n",
       "    <tr>\n",
       "      <th>married</th>\n",
       "      <td>True</td>\n",
       "      <td>False</td>\n",
       "      <td>True</td>\n",
       "    </tr>\n",
       "  </tbody>\n",
       "</table>\n",
       "</div>"
      ],
      "text/plain": [
       "          emp1      emp2      emp3\n",
       "name     sonoo  sonsdsoo  abhiterh\n",
       "salary   56000   5634000   3479345\n",
       "married   True     False      True"
      ]
     },
     "execution_count": 3,
     "metadata": {},
     "output_type": "execute_result"
    }
   ],
   "source": [
    "data_json_dataframe"
   ]
  }
 ],
 "metadata": {
  "kernelspec": {
   "display_name": "Python 3 (ipykernel)",
   "language": "python",
   "name": "python3"
  },
  "language_info": {
   "codemirror_mode": {
    "name": "ipython",
    "version": 3
   },
   "file_extension": ".py",
   "mimetype": "text/x-python",
   "name": "python",
   "nbconvert_exporter": "python",
   "pygments_lexer": "ipython3",
   "version": "3.9.1"
  }
 },
 "nbformat": 4,
 "nbformat_minor": 5
}
