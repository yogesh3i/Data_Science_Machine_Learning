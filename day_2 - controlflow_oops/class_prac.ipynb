{
 "cells": [
  {
   "cell_type": "markdown",
   "metadata": {},
   "source": [
    "# Class does not present physically but object does \n",
    "eg. Animal is class and animals under it called as objects \n",
    "    Class---> Animal Object----> Dog Lion e tc\n",
    "    - Now every objects has two things \n",
    "    1. Property/atttributes(eg. colour,age,size)\n",
    "    2. Methods (eg. Sound, eat,walk,sleep)\n"
   ]
  },
  {
   "cell_type": "code",
   "execution_count": 1,
   "metadata": {},
   "outputs": [],
   "source": [
    "class Person(): # creating empy class \n",
    "    pass"
   ]
  },
  {
   "cell_type": "code",
   "execution_count": 4,
   "metadata": {},
   "outputs": [
    {
     "name": "stdout",
     "output_type": "stream",
     "text": [
      "<__main__.Person object at 0x00000259B1F98F20>\n"
     ]
    }
   ],
   "source": [
    "# creating object/instance\n",
    "p1 = Person()\n",
    "print(p1) # when printing object it will give memory location and and classa name to which it belongs "
   ]
  },
  {
   "cell_type": "code",
   "execution_count": 5,
   "metadata": {},
   "outputs": [
    {
     "name": "stdout",
     "output_type": "stream",
     "text": [
      "<__main__.Animal object at 0x00000259B1EF3980>\n"
     ]
    }
   ],
   "source": [
    "class Animal():\n",
    "    pass \n",
    "\n",
    "Dog = Animal()\n",
    "print(Dog)"
   ]
  },
  {
   "cell_type": "code",
   "execution_count": 9,
   "metadata": {},
   "outputs": [
    {
     "name": "stdout",
     "output_type": "stream",
     "text": [
      "Yogesh\n",
      "Pragati\n"
     ]
    }
   ],
   "source": [
    "# Now lets create class with methods/function and properties/Atrributes \n",
    "# Foe which we are going to use the constructor \n",
    "'''Constructor: Is an special method/function which is called when an ogject of class is created \n",
    "and it is define using __init__() and its mention under class.\n",
    "By default a constructor takes the self keyword as mandetory input\n",
    "\n",
    "Constructor never return anything Hence it does not have any return keyword. \n",
    "''' \n",
    "\n",
    "class Person():\n",
    "    \n",
    "    def __init__(self,name,age):   # Created constructor: Special method to create object attributes\n",
    "        self.name=name\n",
    "        self.age=age\n",
    "        \n",
    "\n",
    "p1 = Person('Yogesh',24)\n",
    "p2=Person('Pragati',23)\n",
    "\n",
    "print(p1.name)\n",
    "print(p2.name)\n",
    "\n"
   ]
  },
  {
   "cell_type": "code",
   "execution_count": 20,
   "metadata": {},
   "outputs": [],
   "source": [
    "# Now lets create method for thhe class \n",
    "class Person():\n",
    "    \n",
    "    def __init__(self,name,age):   # Created constructor: Special method to create object attributes\n",
    "        self.name=name\n",
    "        self.age=age\n",
    "        \n",
    "\n",
    "    def shout(self): # as its method it will take self \n",
    "        return f'Hello I am {self.name} and I am {self.age} year\\'s old'\n",
    "\n",
    "\n",
    "    def add(self,a,b):\n",
    "        return a+b\n",
    "\n",
    "# When we called only the method of the class it will give yoy the memory loc. and class name to which it belongs to \n",
    "# But if i wanted to give some msg. instead of it we use one special method called __str__\n",
    "\n",
    "    def __str__(self):\n",
    "        return '<--Hi this is from Person class-->'"
   ]
  },
  {
   "cell_type": "code",
   "execution_count": 21,
   "metadata": {},
   "outputs": [
    {
     "name": "stdout",
     "output_type": "stream",
     "text": [
      "Yogesh\n",
      "Pragati\n",
      "Hello I am Yogesh and I am 24 year's old\n",
      "5\n",
      "<--Hi this is from Person class-->\n"
     ]
    }
   ],
   "source": [
    "p1 = Person('Yogesh',24)  # created object/instance\n",
    "p2=Person('Pragati',23)\n",
    "\n",
    "print(p1.name)  # calling attributes/property and methods/functions of class \n",
    "print(p2.name)\n",
    "print(p1.shout())\n",
    "print(p1.add(2,3))\n",
    "print(p1)"
   ]
  },
  {
   "cell_type": "markdown",
   "metadata": {},
   "source": [
    "# There are 4 main pillers of OOPS \n",
    "    1. Abstracton \n",
    "    2. Inheritance \n",
    "    3. Encapsulation\n",
    "    4. Polimorphism"
   ]
  },
  {
   "cell_type": "code",
   "execution_count": 27,
   "metadata": {},
   "outputs": [],
   "source": [
    "# 1. Inheritance:\n",
    "'''\n",
    "When something is coming from parent ot child we called it as inhiritance . \n",
    "In the same way if we take something refferance from thr parent class called as inheritance. \n",
    "''' \n",
    "\n",
    "# Lets inherit something from Person class to student class \n",
    "class student(Person): # The class from which you are going to inherit just give its name in the brackets of class \n",
    "    def __init__(self,name,age,color):\n",
    "        super().__init__(name,age) # suoer is used to inherit the properties or attributes from the person class \n",
    "        self.color=color\n",
    "\n",
    "\n",
    "\n"
   ]
  },
  {
   "cell_type": "code",
   "execution_count": 31,
   "metadata": {},
   "outputs": [
    {
     "name": "stdout",
     "output_type": "stream",
     "text": [
      "A+\n",
      "Hello I am Yogesh and I am 25 year's old\n",
      "<--Hi this is from Person class-->\n"
     ]
    }
   ],
   "source": [
    "s1 = student('Yogesh',25,'A+')\n",
    "print(s1.color)\n",
    "print(s1.shout())  # this is the method of parent class which is inherited\n",
    "print(s1) "
   ]
  },
  {
   "cell_type": "code",
   "execution_count": 32,
   "metadata": {},
   "outputs": [],
   "source": [
    "# 2. Encapsulation:\n",
    "''' \n",
    "Encapsulation is an process of hiding the variables and methods of an onstance of a class \n",
    "in such a way that it is not directly accessed by calling the attri. \n",
    "''' \n",
    "class employee():\n",
    "    def __init__(self,name,city,age):\n",
    "        self.name=name  # ---> this is the Public member(accessable within and outside the class i.e. in the child class as well)\n",
    "        self._city=city # ---> This is the protected member(accessable within the class and its subclass)\n",
    "        self.__age= age # ---> This is the private member (accessable only within the class)\n",
    "        "
   ]
  },
  {
   "cell_type": "code",
   "execution_count": 35,
   "metadata": {},
   "outputs": [
    {
     "ename": "AttributeError",
     "evalue": "'bank_acc' object has no attribute 'acc_name'",
     "output_type": "error",
     "traceback": [
      "\u001b[1;31m---------------------------------------------------------------------------\u001b[0m",
      "\u001b[1;31mAttributeError\u001b[0m                            Traceback (most recent call last)",
      "Cell \u001b[1;32mIn[35], line 11\u001b[0m\n\u001b[0;32m      9\u001b[0m \u001b[38;5;66;03m# Create object or instance \u001b[39;00m\n\u001b[0;32m     10\u001b[0m money \u001b[38;5;241m=\u001b[39m bank_acc(\u001b[38;5;124m'\u001b[39m\u001b[38;5;124mPragati\u001b[39m\u001b[38;5;124m'\u001b[39m,\u001b[38;5;241m434341\u001b[39m,\u001b[38;5;241m84883884834348\u001b[39m)\n\u001b[1;32m---> 11\u001b[0m \u001b[38;5;28mprint\u001b[39m(\u001b[38;5;124mF\u001b[39m\u001b[38;5;124m'\u001b[39m\u001b[38;5;124mI am a \u001b[39m\u001b[38;5;132;01m{\u001b[39;00m\u001b[43mmoney\u001b[49m\u001b[38;5;241;43m.\u001b[39;49m\u001b[43macc_name\u001b[49m\u001b[38;5;132;01m}\u001b[39;00m\u001b[38;5;124m and I have \u001b[39m\u001b[38;5;132;01m{\u001b[39;00mmoney\u001b[38;5;241m.\u001b[39macc_balance\u001b[38;5;132;01m}\u001b[39;00m\u001b[38;5;124m with me\u001b[39m\u001b[38;5;124m'\u001b[39m)\n",
      "\u001b[1;31mAttributeError\u001b[0m: 'bank_acc' object has no attribute 'acc_name'"
     ]
    }
   ],
   "source": [
    "# Lets create banking system/bank account\n",
    "\n",
    "class bank_acc():\n",
    "    def __init__(self,acc_name,acc_num,acc_balance):\n",
    "        self.__acc_name=acc_name\n",
    "        self.acc_num=acc_num\n",
    "        self.__acc_balance=acc_balance \n",
    "\n",
    "# Create object or instance \n",
    "money = bank_acc('Pragati',434341,84883884834348)\n",
    "print(F'I am a {money.acc_name} and I have {money.acc_balance} with me')"
   ]
  },
  {
   "cell_type": "markdown",
   "metadata": {},
   "source": [
    "Here we will get the error because the acc_name and acc_balance is private member"
   ]
  },
  {
   "cell_type": "code",
   "execution_count": 43,
   "metadata": {},
   "outputs": [],
   "source": [
    "# Now to access this provate member we can use the 'getter' method\n",
    "# getter is used to access the private memnber.\n",
    "\n",
    "class bank_acc():\n",
    "    def __init__(self,acc_name,acc_num,acc_balance):\n",
    "        self.__acc_name=acc_name\n",
    "        self.acc_num=acc_num\n",
    "        self.__acc_balance=acc_balance \n",
    "\n",
    "    # creating getter method/function for name\n",
    "    def get_acc_name(self):\n",
    "        return self.__acc_name \n",
    "\n",
    "    def get_acc_balance(self):\n",
    "        return self.__acc_balance\n",
    "\n",
    "\n"
   ]
  },
  {
   "cell_type": "code",
   "execution_count": 44,
   "metadata": {},
   "outputs": [
    {
     "name": "stdout",
     "output_type": "stream",
     "text": [
      "Pragati\n",
      "84883884834348\n"
     ]
    }
   ],
   "source": [
    "# Create object or instance \n",
    "money = bank_acc('Pragati',434341,84883884834348)\n",
    "\n",
    "# Calling private memnber \n",
    "print(money.get_acc_name())\n",
    "print(money.get_acc_balance())"
   ]
  },
  {
   "cell_type": "code",
   "execution_count": 46,
   "metadata": {},
   "outputs": [],
   "source": [
    "# if i am adding a new name to attributes of the class\n",
    "money.acc_name='Yogesh'  # its creating a dummy variable "
   ]
  },
  {
   "cell_type": "code",
   "execution_count": 47,
   "metadata": {},
   "outputs": [
    {
     "data": {
      "text/plain": [
       "{'_bank_acc__acc_name': 'Pragati',\n",
       " 'acc_num': 434341,\n",
       " '_bank_acc__acc_balance': 84883884834348,\n",
       " 'acc_name': 'Yogesh'}"
      ]
     },
     "execution_count": 47,
     "metadata": {},
     "output_type": "execute_result"
    }
   ],
   "source": [
    "# to check the attributes of class \n",
    "money.__dict__"
   ]
  },
  {
   "cell_type": "code",
   "execution_count": 48,
   "metadata": {},
   "outputs": [],
   "source": [
    "# By some mean i have created my class with private name and now ther is correction in the name \n",
    "# When direcly we are trying to do that its creating another dummy variable \n",
    "# So to achieve this we can use the setter method. \n",
    "\n",
    "# Lets create setter for the above bank_acc class \n",
    "\n",
    "class bank_acc():\n",
    "    def __init__(self,acc_name,acc_num,acc_balance):\n",
    "        self.__acc_name=acc_name\n",
    "        self.acc_num=acc_num\n",
    "        self.__acc_balance=acc_balance \n",
    "\n",
    "    # creating getter method/function for name\n",
    "    def get_acc_name(self):\n",
    "        return self.__acc_name \n",
    "\n",
    "    def get_acc_balance(self):\n",
    "        return self.__acc_balance\n",
    "    \n",
    "    def set_acc_name(self,new_name):\n",
    "        self.__acc_name=new_name\n",
    "\n",
    "\n",
    "\n"
   ]
  },
  {
   "cell_type": "code",
   "execution_count": 57,
   "metadata": {},
   "outputs": [
    {
     "name": "stdout",
     "output_type": "stream",
     "text": [
      "Pragati\n",
      "Yogesh\n"
     ]
    }
   ],
   "source": [
    "money = bank_acc('Pragati',434341,84883884834348)\n",
    "print(money.get_acc_name())\n",
    "# setting new_name \n",
    "money.set_acc_name('Yogesh')\n",
    "print(money.get_acc_name())\n"
   ]
  },
  {
   "cell_type": "code",
   "execution_count": 61,
   "metadata": {},
   "outputs": [
    {
     "data": {
      "text/plain": [
       "'ok'"
      ]
     },
     "execution_count": 61,
     "metadata": {},
     "output_type": "execute_result"
    }
   ],
   "source": [
    "# Plolymorphism \n",
    "\n",
    "#1. Method overloading: Same method,different parameter but within the same class.\n",
    "\n",
    "class A():\n",
    "\n",
    "    def abc(slef):\n",
    "        return 'I belongs to first'\n",
    "    def abc(slef,a,c):  # this metjod is going to overload the fist one and only second will come into picture \n",
    "        return 'ok'\n",
    "\n",
    "a =A()\n",
    "a.abc(2,3)\n",
    "\n",
    "# Hence we cannt perform the method overloading in the python since its by default taking the second method \n",
    "\n"
   ]
  },
  {
   "cell_type": "code",
   "execution_count": 65,
   "metadata": {},
   "outputs": [
    {
     "data": {
      "text/plain": [
       "'Nice!'"
      ]
     },
     "execution_count": 65,
     "metadata": {},
     "output_type": "execute_result"
    }
   ],
   "source": [
    "# checking with child class or with inheritance \n",
    "# 2. Method overiding: Same method but different class.\n",
    "class B(A):\n",
    "    def fg(self,r):\n",
    "        return 'Nice!'\n",
    "\n",
    "\n",
    "b = B()\n",
    "b.fg(2)\n",
    "\n",
    "# So its taking the method which is created currently \n",
    "# Hence we cannt perform the method overloading in the python since its by default taking the second method "
   ]
  },
  {
   "cell_type": "code",
   "execution_count": 66,
   "metadata": {},
   "outputs": [],
   "source": [
    "# Abstraction: Abstraction means its not going to impliment.\n",
    "from abc import ABC, abstractmethod\n",
    "\n",
    "class Animal(ABC):\n",
    "    def __init__(self,name):\n",
    "        self.name=name \n",
    "\n",
    "    @abstractmethod \n",
    "    def make_sound(self):\n",
    "        pass \n",
    "    \n",
    "    def sleeping(self):\n",
    "        return f'{self.name} is sleepinng'"
   ]
  },
  {
   "cell_type": "code",
   "execution_count": 68,
   "metadata": {},
   "outputs": [
    {
     "ename": "TypeError",
     "evalue": "Can't instantiate abstract class Animal without an implementation for abstract method 'make_sound'",
     "output_type": "error",
     "traceback": [
      "\u001b[1;31m---------------------------------------------------------------------------\u001b[0m",
      "\u001b[1;31mTypeError\u001b[0m                                 Traceback (most recent call last)",
      "Cell \u001b[1;32mIn[68], line 1\u001b[0m\n\u001b[1;32m----> 1\u001b[0m dog \u001b[38;5;241m=\u001b[39m \u001b[43mAnimal\u001b[49m\u001b[43m(\u001b[49m\u001b[38;5;124;43m'\u001b[39;49m\u001b[38;5;124;43mlab\u001b[39;49m\u001b[38;5;124;43m'\u001b[39;49m\u001b[43m)\u001b[49m \u001b[38;5;66;03m# Abstract class cannt be instantiate without implementation \u001b[39;00m\n",
      "\u001b[1;31mTypeError\u001b[0m: Can't instantiate abstract class Animal without an implementation for abstract method 'make_sound'"
     ]
    }
   ],
   "source": [
    "dog = Animal('lab') # Abstract class cannt be instantiate without implementation \n",
    "\n",
    "# We need to create concrete class."
   ]
  },
  {
   "cell_type": "code",
   "execution_count": 70,
   "metadata": {},
   "outputs": [
    {
     "data": {
      "text/plain": [
       "'Lab is sleepinng'"
      ]
     },
     "execution_count": 70,
     "metadata": {},
     "output_type": "execute_result"
    }
   ],
   "source": [
    "# Create concrete class \n",
    "class Dog(Animal):\n",
    "    def make_sound(self):\n",
    "        pass \n",
    "dog1 =Dog('Lab')\n",
    "dog1.sleeping()"
   ]
  },
  {
   "cell_type": "code",
   "execution_count": null,
   "metadata": {},
   "outputs": [],
   "source": []
  }
 ],
 "metadata": {
  "kernelspec": {
   "display_name": "Python 3",
   "language": "python",
   "name": "python3"
  },
  "language_info": {
   "codemirror_mode": {
    "name": "ipython",
    "version": 3
   },
   "file_extension": ".py",
   "mimetype": "text/x-python",
   "name": "python",
   "nbconvert_exporter": "python",
   "pygments_lexer": "ipython3",
   "version": "3.12.0"
  }
 },
 "nbformat": 4,
 "nbformat_minor": 2
}
