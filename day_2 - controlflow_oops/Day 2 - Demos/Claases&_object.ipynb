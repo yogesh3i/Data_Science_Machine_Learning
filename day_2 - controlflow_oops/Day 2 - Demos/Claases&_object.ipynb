{
 "cells": [
  {
   "attachments": {},
   "cell_type": "markdown",
   "metadata": {},
   "source": [
    "# Class and objects:\n",
    "\"\"\"\" \n",
    "A class is a user-defined blueprint or prototype from which objects are created.\n",
    "Class contains both the data and functionlaty togather and both are accesible with the help of\n",
    "object name or class name.\n",
    "\n",
    "Class have data stored inside a variables and also have function define.\n",
    "\n",
    "Togateher the variables and the functions are called class members.\n",
    "\n",
    "Once the class is created class members can be accesible with the help of object only.\n",
    "\n",
    "\"\"\"\n",
    "\n",
    "# Need of class: \n",
    "\"\"\"\n",
    "To understand the need for creating a class in Python let’s consider an example, let’s say you \n",
    "wanted to track the number of dogs that may have different attributes like breed, age. If a list\n",
    "is used, the first element could be the dog’s breed while the second element could represent its\n",
    "age. Let’s suppose there are 100 different dogs, then how would you know which element is supposed \n",
    "to be which? What if you wanted to add other properties to these dogs? This lacks organization and \n",
    "it’s the exact need for classes.\n",
    "\n",
    "Class Definition Syntax:\n",
    "\n",
    "class ClassName:\n",
    "    # Statement\n",
    "    \n",
    "Object Definition Syntax: \n",
    "\n",
    "obj = ClassName()\n",
    "print(obj.atrr)\n",
    "\n",
    "Class creates a user-defined data structure, which holds its own data members and member \n",
    "functions, which can be accessed and used by creating an instance of that class. A class\n",
    "is like a blueprint for an object.\n",
    "\n",
    "Some points on Python class:  \n",
    "\n",
    "* Classes are created by keyword class.\n",
    "* Attributes are the variables that belong to a class.\n",
    "* Attributes are always public and can be accessed using the dot (.) operator. \n",
    "Eg.: Myclass.Myattribute\n",
    "\n",
    "\n",
    "# Creating a class: \n",
    "\n",
    "    class Dog: ---> Where class is keyword and the Dog is class name. As it is a block of statement\n",
    "                    its terminated with \":\"\n",
    "\n",
    "# Creating an instance/Object:\n",
    "\n",
    "    S1 Dog(): ---> S1 is instance/object followed by the class name.\n",
    "\n",
    "An Object is an instance of a Class. A class is like a blueprint while an instance is a copy \n",
    "of the class with actual values. It’s not an idea anymore, it’s an actual dog, like a dog of \n",
    "breed pug who’s seven years old. You can have many dogs to create many different instances, \n",
    "but without the class as a guide, you would be lost, not knowing what information is required.\n",
    "\n",
    "An object consists of : \n",
    "\n",
    "State: It is represented by the attributes of an object. It also reflects the properties of an object.\n",
    "Behavior: It is represented by the methods of an object. It also reflects the response of an object to other objects.\n",
    "Identity: It gives a unique name to an object and enables one object to interact with other objects.\n",
    "\n",
    "https://www.geeksforgeeks.org/python-classes-and-objects/\n",
    "\n",
    "\n",
    "# Declaring Objects (Also called instantiating a class)\n",
    "\n",
    "When an object of a class is created, the class is said to be instantiated. All the instances \n",
    "share the attributes and the behavior of the class. But the values of those attributes, i.e. \n",
    "the state are unique for each object. A single class may have any number of instances."
   ]
  },
  {
   "cell_type": "code",
   "execution_count": 3,
   "metadata": {},
   "outputs": [
    {
     "name": "stdout",
     "output_type": "stream",
     "text": [
      "Animal\n",
      "I am a Animal\n",
      "I am a Dog\n"
     ]
    }
   ],
   "source": [
    "class Dog:\n",
    "    atrr1= \"Animal\"\n",
    "    atrr2= \"Dog\"        # Attributes are created.\n",
    "\n",
    "    def func(self):     # Function is declared.\n",
    "        print(\"I am a\", self.atrr1) \n",
    "        print(\"I am a\", self.atrr2)\n",
    "\n",
    "Rodger= Dog()    # Instance/Object for class is created.\n",
    "print(Rodger.atrr1)\n",
    "Rodger.func()\n"
   ]
  },
  {
   "attachments": {},
   "cell_type": "markdown",
   "metadata": {},
   "source": [
    "# The self: \n",
    "\"\"\"\n",
    "Class methods must have an extra first parameter in the method definition.\n",
    " We do not give a value for this parameter when we call the method, Python provides it.\n",
    "If we have a method that takes no arguments, then we still have to have one argument.\n",
    "This is similar to this pointer in C++ and this reference in Java.\n",
    "\n",
    "\n",
    "# __init__ method\n",
    "The __init__ method is similar to constructors in C++ and Java. \n",
    "Constructors are used to initializing the object’s state. Like methods, a \n",
    "constructor also contains a collection of statements(i.e. instructions) \n",
    "that are executed at the time of Object creation. It runs as soon as an \n",
    "object of a class is instantiated. \n",
    "\n",
    "The method is useful to do any initialization you want to do with your object.\n"
   ]
  },
  {
   "cell_type": "code",
   "execution_count": 22,
   "metadata": {},
   "outputs": [
    {
     "name": "stdout",
     "output_type": "stream",
     "text": [
      "Yogesh\n",
      "My name is Yogesh\n"
     ]
    }
   ],
   "source": [
    "class Person:    \n",
    "    def __init__(self,name):\n",
    "        self.name=name   \n",
    "\n",
    "    def say_hi(self):\n",
    "        print(\"My name is\",self.name)    #Upto this the class is created \n",
    "\n",
    "S1 =Person(\"Yogesh\")    # This is nothing but a object \n",
    "print(S1.name)\n",
    "S1.say_hi()"
   ]
  },
  {
   "cell_type": "code",
   "execution_count": 28,
   "metadata": {},
   "outputs": [],
   "source": [
    "class Hero:          \n",
    "  name='Yogesh'\n",
    "\n",
    "  def sy(self):\n",
    "    print(f'My name is {self.name}')\n",
    "\n",
    "    "
   ]
  },
  {
   "cell_type": "code",
   "execution_count": 32,
   "metadata": {},
   "outputs": [
    {
     "data": {
      "text/plain": [
       "'Yogesh'"
      ]
     },
     "execution_count": 32,
     "metadata": {},
     "output_type": "execute_result"
    }
   ],
   "source": [
    "Hero.name\n"
   ]
  },
  {
   "attachments": {},
   "cell_type": "markdown",
   "metadata": {},
   "source": []
  },
  {
   "cell_type": "code",
   "execution_count": 142,
   "metadata": {},
   "outputs": [],
   "source": [
    "# Creating a banking system\n",
    "\n",
    "class Bank_account():\n",
    "    def __init__(self):\n",
    "        self.balence=0\n",
    "        print('Hey Welcome to the deposit and withdrawal Machine!!!')\n",
    "\n",
    "    \n",
    "\n",
    "    def deposit(self):\n",
    "        amount=float(input('Enter a amount to Deposit:'))\n",
    "        self.balence+=amount\n",
    "        print('\\n You have deposited:',amount)\n",
    "    \n",
    "    def withdraw(self,amount):\n",
    "        \n",
    "        if self.balence>amount:\n",
    "            self.balence-=amount\n",
    "            print('\\n You have withdraw:',amount)\n",
    "\n",
    "    \n",
    "        else:\n",
    "            print('\\n You got insufficient balence:')\n",
    "    \n",
    "    def desplay(self):\n",
    "        print('\\n Your net available balence is:',round(self.balence,2))"
   ]
  },
  {
   "cell_type": "code",
   "execution_count": 143,
   "metadata": {},
   "outputs": [
    {
     "name": "stdout",
     "output_type": "stream",
     "text": [
      "Hey Welcome to the deposit and withdrawal Machine!!!\n",
      "\n",
      " You have deposited: 1000.0\n",
      "\n",
      " You have withdraw: 200.0\n",
      "\n",
      " Your net available balence is: 800.0\n"
     ]
    }
   ],
   "source": [
    "s= Bank_account()\n",
    "\n",
    "s.deposit()\n",
    "withdraw_am=float(input('Please enter amount to Withdraw:'))\n",
    "s.withdraw(withdraw_am)\n",
    "\n",
    "s.desplay()\n",
    "\n",
    "\n"
   ]
  },
  {
   "cell_type": "code",
   "execution_count": 116,
   "metadata": {},
   "outputs": [
    {
     "ename": "SyntaxError",
     "evalue": "'continue' not properly in loop (2749604795.py, line 6)",
     "output_type": "error",
     "traceback": [
      "\u001b[1;36m  Input \u001b[1;32mIn [116]\u001b[1;36m\u001b[0m\n\u001b[1;33m    continue\u001b[0m\n\u001b[1;37m    ^\u001b[0m\n\u001b[1;31mSyntaxError\u001b[0m\u001b[1;31m:\u001b[0m 'continue' not properly in loop\n"
     ]
    }
   ],
   "source": []
  },
  {
   "cell_type": "code",
   "execution_count": 33,
   "metadata": {},
   "outputs": [
    {
     "name": "stdout",
     "output_type": "stream",
     "text": [
      "50\n",
      "30\n"
     ]
    }
   ],
   "source": [
    "# Scope of variable and global variable: \n",
    "\n",
    "\"\"\"\n",
    "Scope of variable is refers to a place that we can see in the program or access the variable.\n",
    "Global variables are created before the main program starts and can be used any where in the program.\n",
    "\n",
    "\"\"\"\n",
    "#eg,\n",
    "a=50\n",
    "def number():\n",
    "    b=30\n",
    "    print(b)\n",
    "print(a)    # a is global variable where as b can not be access outside the function.\n",
    "\n",
    "a=30\n",
    "\n",
    "def add(b):\n",
    "    c=30\n",
    "    print(\"c=\",c)\n",
    "    sum=b+c\n",
    "    print(\"Addition is: \", sum)\n",
    "    add(40)\n",
    "#print(c)  it will create an error since c is having scope under the function only.\n",
    "print(a)    # This is a global variable and it will not create any error.\n",
    "\n"
   ]
  },
  {
   "cell_type": "code",
   "execution_count": 35,
   "metadata": {},
   "outputs": [
    {
     "name": "stdout",
     "output_type": "stream",
     "text": [
      "c= 30\n",
      "Addition is:  70\n"
     ]
    }
   ],
   "source": []
  },
  {
   "cell_type": "code",
   "execution_count": 39,
   "metadata": {},
   "outputs": [
    {
     "name": "stdout",
     "output_type": "stream",
     "text": [
      "inside function 15\n",
      "Outside the function 15\n"
     ]
    }
   ],
   "source": [
    "# Global keyword:\n",
    "\"\"\"\n",
    "Global keyword is keyword that allows a user to modify a variable outside a current scope.\n",
    "It is used to create global variable from non global scope i.e. inside the function.\n",
    "\n",
    "\n",
    "# Rules of global keyword\n",
    "1. Variables that are only refference inside a function are implicitly global.\n",
    "2. We use global keyword to use a global variable inside a function.\n",
    "3. There is no need to use global keyword outside a function.\n",
    "\"\"\"\n",
    "\n",
    "a=10\n",
    "def fun():\n",
    "    global a\n",
    "    a=15\n",
    "    print(\"inside function\",a)\n",
    "\n",
    "fun()\n",
    "print(\"Outside the function\",a)"
   ]
  },
  {
   "cell_type": "code",
   "execution_count": null,
   "metadata": {},
   "outputs": [],
   "source": []
  }
 ],
 "metadata": {
  "kernelspec": {
   "display_name": "Python 3",
   "language": "python",
   "name": "python3"
  },
  "language_info": {
   "codemirror_mode": {
    "name": "ipython",
    "version": 3
   },
   "file_extension": ".py",
   "mimetype": "text/x-python",
   "name": "python",
   "nbconvert_exporter": "python",
   "pygments_lexer": "ipython3",
   "version": "3.9.1"
  },
  "orig_nbformat": 4,
  "vscode": {
   "interpreter": {
    "hash": "a6ada047e8940af673a5a678b6ba14e182d5b4e08fa205eb091207f23619d85d"
   }
  }
 },
 "nbformat": 4,
 "nbformat_minor": 2
}
