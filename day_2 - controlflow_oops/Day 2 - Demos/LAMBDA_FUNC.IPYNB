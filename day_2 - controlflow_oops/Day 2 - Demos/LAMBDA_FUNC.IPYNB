{
 "cells": [
  {
   "cell_type": "code",
   "execution_count": 1,
   "metadata": {},
   "outputs": [
    {
     "name": "stdout",
     "output_type": "stream",
     "text": [
      "[2, 4, 6, 8, 10]\n"
     ]
    }
   ],
   "source": [
    "#Difference between lamda and regular function \n",
    "#Lambda functions: \n",
    "\"\"\"\"\n",
    "Are operator can have any number of arguments, but it can have only one expression. \n",
    "It cannot contain any statements and it returns a function object which can be assigned to any variable. \n",
    "They can be used in the block they were created.\n",
    "\"\"\"\n",
    "\n",
    "#def functions: \n",
    "\"\"\"\n",
    "Functions help break our program into smaller and modular chunks. As our program grows larger and larger, \n",
    "functions make it more organised and manageable. They can be called and used anywhere we want.\n",
    "\"\"\"\n",
    "#Lamda fuction are use along with some built in function like map() filter()\n",
    "\n",
    "#Syntex of Lymda functon\n",
    "\"\"\"                         Every lambda fumction \n",
    "                            begin with \"lymda\"      But it can have only \n",
    "                            keyword                 one expression\n",
    "                                |                      | \n",
    "                                |                      | \n",
    "                           f= lambda parameters: expression \n",
    "                           |                |\n",
    "                           |                |\n",
    "                variable to                 Lamda function \n",
    "                store the result            can have multiple\n",
    "                                            arguments/parameters              \n",
    "                \n",
    "eg. multi= lamda a,b: a*b\n",
    "\"\"\"\n",
    "\n",
    "\n",
    "\n",
    "\n",
    "\n",
    "#eg. to finf even numbers from the list \n",
    "\n",
    "my_list=[1,2,3,4,5,6,7,8,9,10]\n",
    "my_list_even=[]\n",
    "\n",
    "for items in my_list:\n",
    "    if items%2==0:\n",
    "     my_list_even.append(items)\n",
    "print(my_list_even)   \n",
    "\n",
    "\n",
    "\n",
    "\n"
   ]
  },
  {
   "cell_type": "code",
   "execution_count": 3,
   "metadata": {},
   "outputs": [],
   "source": [
    "#General way of checking the even numbers in python list\n",
    "\n",
    "my_list =[2,4,6,7,9,3,10]\n",
    "my_lst=[]\n",
    "\n",
    "for items in my_list:\n",
    "    if items%2==0:\n",
    "        my_lst.append(items)\n"
   ]
  },
  {
   "cell_type": "code",
   "execution_count": 4,
   "metadata": {},
   "outputs": [
    {
     "data": {
      "text/plain": [
       "[2, 4, 6, 10]"
      ]
     },
     "execution_count": 4,
     "metadata": {},
     "output_type": "execute_result"
    }
   ],
   "source": [
    "my_lst   # It will give the lsit of even numbers"
   ]
  },
  {
   "cell_type": "code",
   "execution_count": 5,
   "metadata": {},
   "outputs": [
    {
     "data": {
      "text/plain": [
       "[2, 4, 6, 10]"
      ]
     },
     "execution_count": 5,
     "metadata": {},
     "output_type": "execute_result"
    }
   ],
   "source": [
    "# Now the extraction of even numbers using def function.\n",
    "\n",
    "def check_even(num):\n",
    "    return num%2==0\n",
    "\n",
    "list(filter(check_even,my_list))"
   ]
  },
  {
   "cell_type": "code",
   "execution_count": 6,
   "metadata": {},
   "outputs": [
    {
     "data": {
      "text/plain": [
       "[2, 4, 6, 10]"
      ]
     },
     "execution_count": 6,
     "metadata": {},
     "output_type": "execute_result"
    }
   ],
   "source": [
    "# Now we can make use of the lambda function.\n",
    "\n",
    "list(filter(lambda x: x%2==0,my_list))"
   ]
  },
  {
   "cell_type": "code",
   "execution_count": 10,
   "metadata": {},
   "outputs": [
    {
     "data": {
      "text/plain": [
       "<map at 0x1b60c4f1ac0>"
      ]
     },
     "execution_count": 10,
     "metadata": {},
     "output_type": "execute_result"
    }
   ],
   "source": [
    "# map in lambda function also work in the same way as filter\n",
    "\n",
    "my_list =[2,4,6,7,9,3,10]\n",
    "map(lambda x: x*x,my_list)"
   ]
  },
  {
   "cell_type": "code",
   "execution_count": 11,
   "metadata": {},
   "outputs": [
    {
     "data": {
      "text/plain": [
       "[4, 16, 36, 49, 81, 9, 100]"
      ]
     },
     "execution_count": 11,
     "metadata": {},
     "output_type": "execute_result"
    }
   ],
   "source": [
    "# We can map it into a list\n",
    "\n",
    "list(map(lambda x: x*x,my_list))"
   ]
  },
  {
   "cell_type": "code",
   "execution_count": null,
   "metadata": {},
   "outputs": [],
   "source": []
  }
 ],
 "metadata": {
  "kernelspec": {
   "display_name": "Python 3",
   "language": "python",
   "name": "python3"
  },
  "language_info": {
   "codemirror_mode": {
    "name": "ipython",
    "version": 3
   },
   "file_extension": ".py",
   "mimetype": "text/x-python",
   "name": "python",
   "nbconvert_exporter": "python",
   "pygments_lexer": "ipython3",
   "version": "3.9.1"
  },
  "orig_nbformat": 4,
  "vscode": {
   "interpreter": {
    "hash": "a6ada047e8940af673a5a678b6ba14e182d5b4e08fa205eb091207f23619d85d"
   }
  }
 },
 "nbformat": 4,
 "nbformat_minor": 2
}
