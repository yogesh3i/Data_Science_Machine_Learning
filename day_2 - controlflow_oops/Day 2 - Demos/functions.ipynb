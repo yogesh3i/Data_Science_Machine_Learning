{
 "cells": [
  {
   "attachments": {},
   "cell_type": "markdown",
   "metadata": {},
   "source": [
    "# #Functions:-\n",
    "\"\"\"\n",
    "A function is a block of code which only runs when it is called.\n",
    "You can pass data, known as parameters, into a function.\n",
    "A function can return data as a result.\n",
    "\n",
    "There are two type of functions built in & the user define functions. \n",
    "\n",
    "**Function defination**: Function defination is the part of the code where the the operationability of the function is define. i.e What should it do. \n",
    "\n",
    "**Function call:** function call is where the function is used into the code with to perform the user define function under it. \n",
    "\n",
    "\n",
    "**Return statement:** Return statement terminates the execution of the function and return thecontrol to the function call. \n",
    "\n",
    "There are two type of functions built in & the user define functions.\n",
    "\n",
    "**Built in functions:**\n",
    "print(), type(), min(),max(),range(),tuple(),set() etc.\n",
    "\n",
    "\n",
    "**User define function are the function which works according to the logic given by the user.**\n",
    "\n",
    "\n",
    "*:)In Python a **function is defined using the def keyword**\n",
    "\n",
    "eg.\n",
    "def my_function():\n",
    "  print(\"Hello from a function\")\n",
    "\n",
    "*:)To call a function, use the function name followed by parenthesis\n",
    "\n",
    "eg.\n",
    "def my_function():  #  After def its name of the function. And in the bracket we can give arguments.\n",
    "  print(\"Hello from a function\")     # Under the function we can define what function should do.\n",
    "\n",
    "my_function()\n",
    "\n",
    "**Rangefunction:** Range function will generates a sequence of number in the form of list.\n",
    "\n",
    "range(start,stop,incremention/step)\n",
    "\n",
    "\n",
    "# Arguments in function:\n",
    "\n",
    "There are 4 types of the arguments.\n",
    "\n",
    "1) Keyword argument\n",
    "2) Default argument\n",
    "3) Variable length arguments\n",
    "4) Required arguments \n",
    "\n",
    "Information can be passed into functions as arguments.\n",
    "\n",
    "Arguments are specified after the function name, inside the parentheses. \n",
    "**You can add as many arguments as you want, just separate them with a comma**\n",
    "\n",
    "The following example has a function with one argument (fname). When the function is called, \n",
    "we pass along a first name, which is used inside the function to print the full name:\n",
    "\n",
    "\n",
    "**The terms parameter and argument can be used for the same thing:** \n",
    "information that are passed into a function.\n",
    "\n",
    "*:- From a function's perspective:\n",
    "\n",
    "**A parameter is the variable listed inside the parentheses in the function definition.**\n",
    "\n",
    "An argument is the value that is sent to the function when it is called.\n",
    "\n",
    "**By default, a function must be called with the correct number of arguments.** \n",
    "Meaning that if your function expects 2 arguments, **you have to call the function with 2 arguments, \n",
    "not more, and not less.\n",
    "**\n",
    "\n",
    "Below are some examples of the function."
   ]
  },
  {
   "cell_type": "code",
   "execution_count": 1,
   "metadata": {},
   "outputs": [
    {
     "name": "stdout",
     "output_type": "stream",
     "text": [
      "Emil Refsnes\n",
      "Tobias Refsnes\n",
      "Linus Refsnes\n"
     ]
    }
   ],
   "source": [
    "#Eg.\n",
    "\n",
    "def my_function(fname):  # Name of the function.\n",
    "  print(fname + \" Refsnes\")       # This two lines indicate the function defination./ What function will do.\n",
    "                                       \n",
    "my_function(\"Emil\")\n",
    "my_function(\"Tobias\")\n",
    "my_function(\"Linus\")"
   ]
  },
  {
   "cell_type": "code",
   "execution_count": 3,
   "metadata": {},
   "outputs": [
    {
     "name": "stdout",
     "output_type": "stream",
     "text": [
      "Yogesh Deotale\n"
     ]
    }
   ],
   "source": [
    "def my_function(fname,lname):\n",
    "    print(fname + \" \" + lname)   # NUmber of arguments are two.\n",
    "my_function(\"Yogesh\",\"Deotale\")"
   ]
  },
  {
   "cell_type": "code",
   "execution_count": 19,
   "metadata": {},
   "outputs": [
    {
     "name": "stdout",
     "output_type": "stream",
     "text": [
      "No issue \n"
     ]
    }
   ],
   "source": [
    "def myfunc(fname,lname):\n",
    "    print(fname+' '+lname)\n",
    "\n",
    "x= int(input('Enter Number:'))\n",
    "\n",
    "if x==3:\n",
    "    myfunc('Yogesh','Deotale')\n",
    "else:\n",
    "    print('No issue ')\n"
   ]
  },
  {
   "cell_type": "code",
   "execution_count": 37,
   "metadata": {},
   "outputs": [
    {
     "data": {
      "text/plain": [
       "111.2"
      ]
     },
     "execution_count": 37,
     "metadata": {},
     "output_type": "execute_result"
    }
   ],
   "source": [
    "# Function to convert celcius to farenheit.\n",
    "cel_temp= 44\n",
    "def cel_to_far(cel_temp):\n",
    "    return(9/5*cel_temp+32)\n",
    "cel_to_far(cel_temp)\n"
   ]
  },
  {
   "attachments": {},
   "cell_type": "markdown",
   "metadata": {},
   "source": [
    "**Scope of a variable- Functions:**\n",
    "\n",
    "1) Global variable: The global variable is declare outside the function and can be use anywhere in the program. \n",
    "\n",
    "eg. \n",
    "a=50\n",
    "def number():\n",
    "    b=30\n",
    "    print(b)\n",
    "print(a)\n",
    "number()\n",
    "\n",
    "Here a is global variable. \n",
    "\n",
    "2) Local variable: Local variable is the variable define inside the function. Whih can be access within the function only. \n",
    "\n",
    "\n",
    "eg. \n",
    "a=50\n",
    "def number():\n",
    "    b=30\n",
    "    print(b)\n",
    "print(a)\n",
    "number()\n",
    "\n",
    "\n",
    "Here b is the local variable."
   ]
  },
  {
   "attachments": {},
   "cell_type": "markdown",
   "metadata": {},
   "source": [
    "# #1) Keyword argument:  Keywords argument are provided with variable name while passing the value in the function call. \n",
    "\n",
    "Here what we are doing is, we will define the name of the parameter in the function defination. But while calling the function what we will do,\n",
    "we will again use the parameter name and will provide value to it. \n",
    "\n",
    "You can also send arguments with the key = value syntax.\n",
    "This way the order of the arguments does not matter."
   ]
  },
  {
   "cell_type": "code",
   "execution_count": 46,
   "metadata": {},
   "outputs": [],
   "source": [
    "# Example for keyword argument\n",
    "\n",
    "def add(num1,num2):\n",
    "    sum=num1+num2\n",
    "    print('The sum is',sum)\n",
    "    "
   ]
  },
  {
   "cell_type": "code",
   "execution_count": 47,
   "metadata": {},
   "outputs": [
    {
     "name": "stdout",
     "output_type": "stream",
     "text": [
      "The sum is 8\n"
     ]
    }
   ],
   "source": [
    "add(num1=3,num2=5)  # Here we are providing the values to the parameter in the function call itself thats waht we called keyword argument.\n",
    "                    # Here the order of the parameter does not matter. \n"
   ]
  },
  {
   "cell_type": "code",
   "execution_count": 50,
   "metadata": {},
   "outputs": [
    {
     "ename": "TypeError",
     "evalue": "'int' object is not subscriptable",
     "output_type": "error",
     "traceback": [
      "\u001b[1;31m---------------------------------------------------------------------------\u001b[0m",
      "\u001b[1;31mTypeError\u001b[0m                                 Traceback (most recent call last)",
      "\u001b[1;32md:\\Data science & ML\\day_2 - demos\\Day 2 - Demos\\functions.ipynb Cell 10\u001b[0m in \u001b[0;36m<cell line: 7>\u001b[1;34m()\u001b[0m\n\u001b[0;32m      <a href='vscode-notebook-cell:/d%3A/Data%20science%20%26%20ML/day_2%20-%20demos/Day%202%20-%20Demos/functions.ipynb#X42sZmlsZQ%3D%3D?line=3'>4</a>\u001b[0m     \u001b[39mprint\u001b[39m(\u001b[39m'\u001b[39m\u001b[39mThe substring is\u001b[39m\u001b[39m'\u001b[39m,\u001b[39mstr\u001b[39m[start_index:stop_index])\n\u001b[0;32m      <a href='vscode-notebook-cell:/d%3A/Data%20science%20%26%20ML/day_2%20-%20demos/Day%202%20-%20Demos/functions.ipynb#X42sZmlsZQ%3D%3D?line=4'>5</a>\u001b[0m     \u001b[39mreturn\u001b[39;00m()\n\u001b[1;32m----> <a href='vscode-notebook-cell:/d%3A/Data%20science%20%26%20ML/day_2%20-%20demos/Day%202%20-%20Demos/functions.ipynb#X42sZmlsZQ%3D%3D?line=6'>7</a>\u001b[0m substring(\u001b[39m'\u001b[39;49m\u001b[39mExample of the keyword argument\u001b[39;49m\u001b[39m'\u001b[39;49m,\u001b[39m10\u001b[39;49m,\u001b[39m15\u001b[39;49m)\n",
      "\u001b[1;32md:\\Data science & ML\\day_2 - demos\\Day 2 - Demos\\functions.ipynb Cell 10\u001b[0m in \u001b[0;36msubstring\u001b[1;34m(start_index, stop_index, str)\u001b[0m\n\u001b[0;32m      <a href='vscode-notebook-cell:/d%3A/Data%20science%20%26%20ML/day_2%20-%20demos/Day%202%20-%20Demos/functions.ipynb#X42sZmlsZQ%3D%3D?line=2'>3</a>\u001b[0m \u001b[39mdef\u001b[39;00m \u001b[39msubstring\u001b[39m(start_index,stop_index,\u001b[39mstr\u001b[39m):\n\u001b[1;32m----> <a href='vscode-notebook-cell:/d%3A/Data%20science%20%26%20ML/day_2%20-%20demos/Day%202%20-%20Demos/functions.ipynb#X42sZmlsZQ%3D%3D?line=3'>4</a>\u001b[0m     \u001b[39mprint\u001b[39m(\u001b[39m'\u001b[39m\u001b[39mThe substring is\u001b[39m\u001b[39m'\u001b[39m,\u001b[39mstr\u001b[39;49m[start_index:stop_index])\n\u001b[0;32m      <a href='vscode-notebook-cell:/d%3A/Data%20science%20%26%20ML/day_2%20-%20demos/Day%202%20-%20Demos/functions.ipynb#X42sZmlsZQ%3D%3D?line=4'>5</a>\u001b[0m     \u001b[39mreturn\u001b[39;00m()\n",
      "\u001b[1;31mTypeError\u001b[0m: 'int' object is not subscriptable"
     ]
    }
   ],
   "source": [
    "#eg.\n",
    "\n",
    "def substring(start_index,stop_index,str):\n",
    "    print('The substring is',str[start_index:stop_index])\n",
    "    return()\n",
    "\n",
    "substring('Example of the keyword argument',10,15)  # It will give the error because the order is not define. "
   ]
  },
  {
   "cell_type": "code",
   "execution_count": 54,
   "metadata": {},
   "outputs": [
    {
     "name": "stdout",
     "output_type": "stream",
     "text": [
      "The substring is:  the \n"
     ]
    }
   ],
   "source": [
    "#eg. \n",
    "\n",
    "def substring(start_index,stop_index,str):\n",
    "    print('The substring is:',str[start_index:stop_index])\n",
    "   \n",
    "\n",
    "substring(str='Example of the keyword argument',start_index=10,stop_index=15)"
   ]
  },
  {
   "attachments": {},
   "cell_type": "markdown",
   "metadata": {},
   "source": [
    "# 2)Default arguments: When we assign the values to the parameter in the function defination itself, that is nothing but the default arguments.\n",
    "\n"
   ]
  },
  {
   "cell_type": "code",
   "execution_count": 57,
   "metadata": {},
   "outputs": [
    {
     "name": "stdout",
     "output_type": "stream",
     "text": [
      "The sub. is: 3\n"
     ]
    }
   ],
   "source": [
    "#eg. \n",
    "def sub1(num1=9,num2=6):       # These are the default arguments itself. \n",
    "    sub=num1-num2\n",
    "    print('The sub. is:',sub)\n",
    "\n",
    "\n",
    "sub1()"
   ]
  },
  {
   "cell_type": "code",
   "execution_count": 58,
   "metadata": {},
   "outputs": [
    {
     "ename": "SyntaxError",
     "evalue": "non-default argument follows default argument (1940426420.py, line 2)",
     "output_type": "error",
     "traceback": [
      "\u001b[1;36m  Input \u001b[1;32mIn [58]\u001b[1;36m\u001b[0m\n\u001b[1;33m    def sub1(num1=9,num2):\u001b[0m\n\u001b[1;37m                        ^\u001b[0m\n\u001b[1;31mSyntaxError\u001b[0m\u001b[1;31m:\u001b[0m non-default argument follows default argument\n"
     ]
    }
   ],
   "source": [
    "# Else we can provide one argument and another will be the default. \n",
    "def sub1(num1=9,num2):         #non-default argument follows default argument\n",
    "    sub=num1-num2\n",
    "    print('The sub. is:',sub)\n",
    "\n",
    "sub1(num2=44)"
   ]
  },
  {
   "cell_type": "code",
   "execution_count": 60,
   "metadata": {},
   "outputs": [
    {
     "name": "stdout",
     "output_type": "stream",
     "text": [
      "The sub. is: 36\n"
     ]
    }
   ],
   "source": [
    "def sub1(num1,num2=8):         #non-default argument follows default argument\n",
    "    sub=num1-num2\n",
    "    print('The sub. is:',sub)\n",
    "\n",
    "sub1(num1=44) # We are calling the function without argument hence it will use the default argument. "
   ]
  },
  {
   "attachments": {},
   "cell_type": "markdown",
   "metadata": {},
   "source": [
    "# 3)Variable length arguments: When we dont know how many arguments user is going to give then we should use variable length arguments.    \n",
    "To enter the variable length arguments we provide *befire arguments name."
   ]
  },
  {
   "cell_type": "code",
   "execution_count": 61,
   "metadata": {},
   "outputs": [
    {
     "name": "stdout",
     "output_type": "stream",
     "text": [
      "The youngest child is Linus\n"
     ]
    }
   ],
   "source": [
    "#Eg.\n",
    "def my_function(*kids):\n",
    "  print(\"The youngest child is \" + kids[2])\n",
    "\n",
    "my_function(\"Emil\", \"Tobias\", \"Linus\") # We can provide as many parameter as required."
   ]
  },
  {
   "cell_type": "code",
   "execution_count": 63,
   "metadata": {},
   "outputs": [],
   "source": [
    "#Eg. \n",
    "\n",
    "def nam(*names):\n",
    "    print('The names are:',names)\n",
    "    for name in names:\n",
    "        print(name)"
   ]
  },
  {
   "cell_type": "code",
   "execution_count": 64,
   "metadata": {},
   "outputs": [
    {
     "name": "stdout",
     "output_type": "stream",
     "text": [
      "The names are: ('Tiger', 'Lion', 'Bear', 'Monkey', 'Ele')\n",
      "Tiger\n",
      "Lion\n",
      "Bear\n",
      "Monkey\n",
      "Ele\n"
     ]
    }
   ],
   "source": [
    "nam('Tiger','Lion','Bear','Monkey','Ele')"
   ]
  },
  {
   "attachments": {},
   "cell_type": "markdown",
   "metadata": {},
   "source": [
    "#Eg. \n",
    "\n",
    "\n"
   ]
  },
  {
   "cell_type": "code",
   "execution_count": 30,
   "metadata": {},
   "outputs": [
    {
     "name": "stdout",
     "output_type": "stream",
     "text": [
      "His last name is Refsnes\n"
     ]
    }
   ],
   "source": [
    "def my_function(**kid):\n",
    "  print(\"His last name is \" + kid[\"lname\"])\n",
    "\n",
    "my_function(fname = \"Tobias\", lname = \"Refsnes\")"
   ]
  },
  {
   "cell_type": "code",
   "execution_count": 22,
   "metadata": {},
   "outputs": [
    {
     "name": "stdout",
     "output_type": "stream",
     "text": [
      "The youngest child is Emil\n"
     ]
    }
   ],
   "source": [
    "def my_function(*kids):    # For the multiple arguments we can use this one./ Arbitary argument.\n",
    "  print(\"The youngest child is \" + kids[0])\n",
    "\n",
    "my_function(\"Emil\", \"Tobias\", \"Linus\")"
   ]
  },
  {
   "cell_type": "code",
   "execution_count": 29,
   "metadata": {},
   "outputs": [
    {
     "name": "stdout",
     "output_type": "stream",
     "text": [
      "The youngest child is Linus\n"
     ]
    }
   ],
   "source": [
    "def my_function(child3, child2, child1):   # If the number of the arguments are known./ Asl called key value argument.\n",
    "  print(\"The youngest child is \" + child3)\n",
    "\n",
    "my_function(child1 = \"Emil\", child2 = \"Tobias\", child3 = \"Linus\")"
   ]
  },
  {
   "cell_type": "code",
   "execution_count": 71,
   "metadata": {},
   "outputs": [],
   "source": [
    "\n",
    "# Function to make calculator: \n",
    "\n",
    "def calcu(num1,num2,operator='*'):\n",
    "    for op in operator:\n",
    "        if op=='+':\n",
    "            print('The sum is:',(num1+num2))\n",
    "        elif op =='-':\n",
    "            print('The sub is:',(num1-num2))\n",
    "        else:\n",
    "            print('The multi is:',(num1*num2))"
   ]
  },
  {
   "cell_type": "code",
   "execution_count": 73,
   "metadata": {},
   "outputs": [
    {
     "name": "stdout",
     "output_type": "stream",
     "text": [
      "The multi is: 8\n"
     ]
    }
   ],
   "source": [
    "calcu(2,4)"
   ]
  },
  {
   "cell_type": "code",
   "execution_count": 4,
   "metadata": {},
   "outputs": [
    {
     "data": {
      "text/plain": [
       "24"
      ]
     },
     "execution_count": 4,
     "metadata": {},
     "output_type": "execute_result"
    }
   ],
   "source": [
    "# Function for factorial of the number:\n",
    "\n",
    "def fact(num):\n",
    "    if num<1:\n",
    "        result=1\n",
    "    else:\n",
    "        i=num\n",
    "        result=1\n",
    "        while i>0:\n",
    "            result=result*i\n",
    "            i-=1\n",
    "    return result\n",
    "\n",
    "fact(4)"
   ]
  },
  {
   "cell_type": "markdown",
   "metadata": {},
   "source": []
  },
  {
   "cell_type": "code",
   "execution_count": 4,
   "metadata": {},
   "outputs": [
    {
     "name": "stdout",
     "output_type": "stream",
     "text": [
      "I am from India\n",
      "I am from America\n",
      "I am from Norway\n",
      "I am from New york\n"
     ]
    }
   ],
   "source": [
    "#eg.\n",
    "\n",
    "def my_function(contry=\"Norway\"):\n",
    "    print(\"I am from \" + contry)\n",
    "\n",
    "my_function(\"India\") \n",
    "my_function(\"America\") \n",
    "my_function() \n",
    "my_function(\"New york\")"
   ]
  },
  {
   "attachments": {},
   "cell_type": "markdown",
   "metadata": {},
   "source": [
    "# Passing a List as an Argument:- \n",
    "\"\"\"\n",
    "You can send any data types of argument to a function (string, number, list, dictionary etc.), \n",
    "and it will be treated as the same data type inside the function.\n",
    "\n",
    "E.g. if you send a List as an argument, it will still be a List when it reaches the function:\n"
   ]
  },
  {
   "cell_type": "code",
   "execution_count": 5,
   "metadata": {},
   "outputs": [
    {
     "name": "stdout",
     "output_type": "stream",
     "text": [
      "Your food is Apple\n",
      "Your food is Bannana\n",
      "Your food is Pineapple\n",
      "Your food is Orange\n"
     ]
    }
   ],
   "source": [
    "def your_food(food):\n",
    "    for x in food:\n",
    "        print(\"Your food is {0}\" .format(x))\n",
    "\n",
    "fruits=[\"Apple\",\"Bannana\",\"Pineapple\",\"Orange\"]\n",
    "your_food(fruits)"
   ]
  },
  {
   "attachments": {},
   "cell_type": "markdown",
   "metadata": {},
   "source": [
    "# Return Values:- Basically it return the flow of the functio to the function call.\n",
    "\n",
    "To let a function return a value, use the return statement:"
   ]
  },
  {
   "cell_type": "code",
   "execution_count": 5,
   "metadata": {},
   "outputs": [
    {
     "name": "stdout",
     "output_type": "stream",
     "text": [
      "15\n",
      "25\n",
      "45\n"
     ]
    }
   ],
   "source": [
    "def my_function(x):\n",
    "  return 5 * x\n",
    "\n",
    "print(my_function(3))\n",
    "print(my_function(5))\n",
    "print(my_function(9))"
   ]
  },
  {
   "cell_type": "code",
   "execution_count": null,
   "metadata": {},
   "outputs": [],
   "source": [
    "# The pass Statement:-\n",
    "\n",
    "function definitions cannot be empty, but if you for some reason have a function definition \n",
    "with no content, put in the pass statement to avoid getting an error. \n",
    "\n"
   ]
  },
  {
   "cell_type": "code",
   "execution_count": 7,
   "metadata": {},
   "outputs": [],
   "source": [
    "#Eg\n",
    "def myfunction():\n",
    "  pass"
   ]
  },
  {
   "attachments": {},
   "cell_type": "markdown",
   "metadata": {},
   "source": [
    "# Recursion in function:-\n",
    "\n",
    "\"\"\"\n",
    "Recursion is a common mathematical and programming concept. It means that a function calls itself.\n",
    "\n",
    "In this example, tri_recursion() is a function that we have defined to call itself (\"recurse\"). \n",
    "We use the k variable as the data, which decrements (-1) every time we recurse. \n",
    "The recursion ends when the condition is not greater than 0 (i.e. when it is 0).\n",
    "\n"
   ]
  },
  {
   "cell_type": "code",
   "execution_count": 8,
   "metadata": {},
   "outputs": [
    {
     "name": "stdout",
     "output_type": "stream",
     "text": [
      "\n",
      "\n",
      "Recursion Example Results\n",
      "1\n",
      "3\n",
      "6\n",
      "10\n",
      "15\n",
      "21\n"
     ]
    },
    {
     "data": {
      "text/plain": [
       "21"
      ]
     },
     "execution_count": 8,
     "metadata": {},
     "output_type": "execute_result"
    }
   ],
   "source": [
    "def tri_recursion(k):\n",
    "  if(k > 0):\n",
    "    result = k + tri_recursion(k - 1)\n",
    "    print(result)\n",
    "  else:\n",
    "    result = 0\n",
    "  return result\n",
    "\n",
    "print(\"\\n\\nRecursion Example Results\")\n",
    "tri_recursion(6)"
   ]
  },
  {
   "cell_type": "code",
   "execution_count": 5,
   "metadata": {},
   "outputs": [
    {
     "name": "stdout",
     "output_type": "stream",
     "text": [
      "Welcome to python  Yogesh\n"
     ]
    },
    {
     "data": {
      "text/plain": [
       "()"
      ]
     },
     "execution_count": 5,
     "metadata": {},
     "output_type": "execute_result"
    }
   ],
   "source": [
    "def my_func(str):\n",
    "    print(\"Welcome to python \",str)    #fist 2 lines are function defination\n",
    "    return()\n",
    "str=input(\"Enter you name plz: \")\n",
    "my_func(str)      #function call "
   ]
  },
  {
   "attachments": {},
   "cell_type": "markdown",
   "metadata": {},
   "source": []
  }
 ],
 "metadata": {
  "kernelspec": {
   "display_name": "Python 3",
   "language": "python",
   "name": "python3"
  },
  "language_info": {
   "codemirror_mode": {
    "name": "ipython",
    "version": 3
   },
   "file_extension": ".py",
   "mimetype": "text/x-python",
   "name": "python",
   "nbconvert_exporter": "python",
   "pygments_lexer": "ipython3",
   "version": "3.9.1"
  },
  "orig_nbformat": 4,
  "vscode": {
   "interpreter": {
    "hash": "a6ada047e8940af673a5a678b6ba14e182d5b4e08fa205eb091207f23619d85d"
   }
  }
 },
 "nbformat": 4,
 "nbformat_minor": 2
}
