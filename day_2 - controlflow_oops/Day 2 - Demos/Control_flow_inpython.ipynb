{
 "cells": [
  {
   "attachments": {},
   "cell_type": "markdown",
   "metadata": {},
   "source": [
    "# Control Flow in Python:\n",
    "A python control flow structure is basic decision making process that decides how the computer program should respond\n",
    "based on specified parameter.\n",
    "\n",
    "Topics:\n",
    "\n",
    "-> Control statements  **(if,elif,else)**\n",
    "\n",
    "-> Loops **(for, while)**\n",
    "\n",
    "-> Loop control statements \n",
    "\n",
    "-> Nested loops "
   ]
  },
  {
   "attachments": {},
   "cell_type": "markdown",
   "metadata": {},
   "source": [
    "# Conditional statements:  (if,elif,else)\n",
    "Conditional statements are used to execute a code based on some conditions.\n",
    "\n",
    "**Conditions in python are logical conditions which we use in if and else statements.** Following are some logical conditions in python.\n",
    "\n",
    "1) Equal to – x == y\n",
    "2) Not equal to – x != y\n",
    "3) Less than – x < y\n",
    "4) Less than or equal to – x <= y\n",
    "5) Greater than – x > y\n",
    "6) Greater than or equal to – x >= y\n",
    "\n",
    "These are the conditions we often use while declaring a test expression for if and else statements in python.\n",
    "\n",
    "# What Is ‘if’ And ‘else’ In Python?\n",
    "**An if statement is used to test an expression and execute certain statements accordingly.** A program can have many if statements present in a program. The subsequent or the penultimate statement that follows is an else statement, which executes a statement in case all the test expressions in the program are false. To understand the control flow of an if and else statement, take a look at the flow chart of how the execution takes place.\n",
    "\n",
    "if (test expression) :\n",
    "  # statement to be executed\n",
    "elif (test expression 2):\n",
    "  # statements of elif block\n",
    "else:\n",
    "  # final statement"
   ]
  },
  {
   "cell_type": "code",
   "execution_count": 7,
   "metadata": {},
   "outputs": [
    {
     "name": "stdout",
     "output_type": "stream",
     "text": [
      "You can try another number\n"
     ]
    }
   ],
   "source": [
    "# To understand the if else statement better lets use the following example:\n",
    "\n",
    "x = float(input('Enter NUmber:'))\n",
    "\n",
    "if x % 2 == 0:\n",
    "    print('Number is even')\n",
    "elif x % 2 == 1:\n",
    "    print('Number is odd')\n",
    "else:\n",
    "    print('You can try another number')\n"
   ]
  },
  {
   "cell_type": "code",
   "execution_count": 13,
   "metadata": {},
   "outputs": [
    {
     "name": "stdout",
     "output_type": "stream",
     "text": [
      "Not a prime number\n",
      "Its prime number\n",
      "Not a prime number\n",
      "Its prime number\n",
      "Not a prime number\n",
      "Its prime number\n",
      "Not a prime number\n"
     ]
    }
   ],
   "source": [
    "# Another example\n",
    "\n",
    "x = 9\n",
    "for i in range(2, x):\n",
    "    if i % 2 == 0:\n",
    "        print('Not a prime number')\n",
    "    else:\n",
    "        print('Its prime number')\n"
   ]
  },
  {
   "cell_type": "code",
   "execution_count": 14,
   "metadata": {},
   "outputs": [
    {
     "name": "stdout",
     "output_type": "stream",
     "text": [
      "Greater\n"
     ]
    }
   ],
   "source": [
    "# Shorthamd if\n",
    "if(3 > 2):\n",
    "    print('Greater')\n"
   ]
  },
  {
   "cell_type": "code",
   "execution_count": 17,
   "metadata": {},
   "outputs": [
    {
     "name": "stdout",
     "output_type": "stream",
     "text": [
      "Smaller\n"
     ]
    }
   ],
   "source": [
    "# Shorthand else\n",
    "print('Greater') if(3 > 4) else print('Smaller')\n"
   ]
  },
  {
   "cell_type": "code",
   "execution_count": 18,
   "metadata": {},
   "outputs": [
    {
     "name": "stdout",
     "output_type": "stream",
     "text": [
      "equall\n"
     ]
    }
   ],
   "source": [
    "print('Greater') if 3 < 2 else print('equall') if 3 == 3 else print('smaller')\n"
   ]
  },
  {
   "cell_type": "code",
   "execution_count": 20,
   "metadata": {},
   "outputs": [
    {
     "name": "stdout",
     "output_type": "stream",
     "text": [
      "smaller\n"
     ]
    }
   ],
   "source": [
    "a = 30\n",
    "b = 40\n",
    "if a > b and a > 10:\n",
    "    print('Greater')\n",
    "elif a < b or a < 10:\n",
    "    print('smaller')\n",
    "else:\n",
    "    print('Equall')\n"
   ]
  },
  {
   "cell_type": "code",
   "execution_count": 9,
   "metadata": {},
   "outputs": [
    {
     "name": "stdout",
     "output_type": "stream",
     "text": [
      "even number\n"
     ]
    }
   ],
   "source": [
    "# Nested if else:\n",
    "\n",
    "x = int(input('Enter a number'))\n",
    "if x != 0:\n",
    "    if x % 2 == 0:\n",
    "        print('even number')\n",
    "    else:\n",
    "        print('odd number')\n",
    "elif x == 0:\n",
    "    print('Equal to zero')\n",
    "elif x > 0:\n",
    "    for i in range(2, x):\n",
    "        if i % 2 == 0:\n",
    "            print('Not a Prime')\n",
    "        else:\n",
    "            print('Prime number')\n",
    "else:\n",
    "    print('Less than zero')\n"
   ]
  },
  {
   "attachments": {},
   "cell_type": "markdown",
   "metadata": {},
   "source": [
    "# Task\n",
    "\n",
    "Given an integer, , perform the following conditional actions:\n",
    "\n",
    "If is odd, print Weird\n",
    "If is even and in the inclusive range of 2 to 5 , print Not Weird\n",
    "If is even and in the inclusive range of 6 to 20 , print Weird\n",
    "If is even and greater than , print Not Weird\n"
   ]
  },
  {
   "cell_type": "code",
   "execution_count": 2,
   "metadata": {},
   "outputs": [
    {
     "name": "stdout",
     "output_type": "stream",
     "text": [
      "Ohh Weird\n"
     ]
    }
   ],
   "source": [
    "# Solutioln:\n",
    "\n",
    "n = int(input('ENTER A NUMBER PLEASE:'))\n",
    "\n",
    "if n%2==1:\n",
    "    print('Ohh Weird')\n",
    "elif n>=2 and n<=5:\n",
    "    print('Not weird')\n",
    "elif n>=6 and n<=20:\n",
    "    print('Ohh wierd')\n",
    "else:\n",
    "    print('Not wierd')\n"
   ]
  },
  {
   "attachments": {},
   "cell_type": "markdown",
   "metadata": {},
   "source": [
    "**Task**\n",
    "The provided code stub reads and integer,n, from STDIN. For all non-negative integers , print i2."
   ]
  },
  {
   "cell_type": "code",
   "execution_count": null,
   "metadata": {},
   "outputs": [],
   "source": [
    "n = int(input('Enter a number please:'))\n",
    "\n",
    "if n>0:\n",
    "    for i in range(n):\n",
    "        print(i)\n",
    "i=0\n",
    "while i<n:\n",
    "    print('\\n',i*i)\n",
    "    i+=1  "
   ]
  },
  {
   "attachments": {},
   "cell_type": "markdown",
   "metadata": {},
   "source": [
    "# Problem statement; \n",
    "An extra day is added to the calendar almost every four years as February 29, and the day is called a leap day. It corrects the calendar for the fact that our planet takes approximately 365.25 days to orbit the sun. A leap year contains a leap day.\n",
    "\n",
    "In the Gregorian calendar, three conditions are used to identify leap years:\n",
    "\n",
    "The year can be evenly divided by 4, is a leap year, unless:\n",
    "The year can be evenly divided by 100, it is NOT a leap year, unless:\n",
    "The year is also evenly divisible by 400. Then it is a leap year.\n",
    "This means that in the Gregorian calendar, the years 2000 and 2400 are leap years, while 1800, 1900, 2100, 2200, 2300 and 2500 are NOT leap years"
   ]
  },
  {
   "cell_type": "code",
   "execution_count": 13,
   "metadata": {},
   "outputs": [
    {
     "data": {
      "text/plain": [
       "False"
      ]
     },
     "execution_count": 13,
     "metadata": {},
     "output_type": "execute_result"
    }
   ],
   "source": [
    "def leap_year(year):\n",
    "    if year%4==0:\n",
    "        if year%100==0:\n",
    "            if year%400==0:\n",
    "                return True \n",
    "            else:\n",
    "                return False\n",
    "        else: \n",
    "            return False\n",
    "    else:\n",
    "        return False\n",
    "\n",
    "leap_year(2024)"
   ]
  },
  {
   "attachments": {},
   "cell_type": "markdown",
   "metadata": {},
   "source": [
    "# Loops in Python:\n",
    "\n",
    "Loops in Python allow us to execute a group of statements several times. It will execute like below.\n",
    "\n",
    "\n",
    "\n",
    "                                (Incre/Decre)                \n",
    "                         -----------------------|\n",
    "                         |                      |\n",
    "                         |                      |\n",
    "[Initialisatin]----->[Condition]---(True)--->[Statement]\n",
    "                           |\n",
    "                           |\n",
    "                        (False)\n",
    "                           |\n",
    "                        [End]\n",
    "\n",
    "\n",
    "The execution starts and checks if the condition is True or False. A condition could be any logic that we want to test in our program. If its true it will execute the body of the loop and if its false, It will exit the loop.\n",
    "\n",
    "**Conditional statements:**\n",
    "\n",
    "Equals: a == b\n",
    "Not Equals: a != b\n",
    "Less than: a < b\n",
    "Less than or equal to: a <= b\n",
    "Greater than: a > b\n",
    "Greater than or equal to : a >= b"
   ]
  },
  {
   "attachments": {},
   "cell_type": "markdown",
   "metadata": {},
   "source": [
    "# For loop:\n",
    "A for loop is used to execute statements, once for each item in the sequence. The sequence could be a list, a Dictionary, a set or a string.\n",
    "\n",
    "A for loop is used to execute statements, once for each item in the sequence. The sequence could be a list, a Dictionary, a set or a string.\n",
    "\n",
    "A for loop has two parts, the block where the iteration statement is specified and then there is the body which is executed once every iteration.\n",
    "\n",
    "Below is the example:\n",
    "\n",
    "\n"
   ]
  },
  {
   "cell_type": "code",
   "execution_count": 11,
   "metadata": {},
   "outputs": [
    {
     "name": "stdout",
     "output_type": "stream",
     "text": [
      "Sunday\n",
      "Monday\n",
      "Tuesday\n",
      "Wednesday\n",
      "Thursday\n",
      "Friday\n",
      "Sturday\n"
     ]
    }
   ],
   "source": [
    "x= ['Sunday','Monday','Tuesday','Wednesday','Thursday','Friday','Sturday']\n",
    "for i in x:\n",
    "    print(i)\n",
    "\n",
    "#Here we were iterating through the list. \n",
    "# To iterate through a code for a specified number of times we could use the range() function."
   ]
  },
  {
   "attachments": {},
   "cell_type": "markdown",
   "metadata": {},
   "source": [
    "# Range function:\n",
    "Range function requires a specific sequence of numbers. It starts at 0 and then the value increments by 1 until the specified number is reached.\n",
    "\n",
    "Example is below:\n"
   ]
  },
  {
   "cell_type": "code",
   "execution_count": 17,
   "metadata": {},
   "outputs": [
    {
     "name": "stdout",
     "output_type": "stream",
     "text": [
      "0\n",
      "1\n",
      "2\n"
     ]
    }
   ],
   "source": [
    "\n",
    "for x in range(3):\n",
    "    print(x)  # It will print form 0-2 its means at the count of 3."
   ]
  },
  {
   "cell_type": "code",
   "execution_count": 26,
   "metadata": {},
   "outputs": [
    {
     "name": "stdout",
     "output_type": "stream",
     "text": [
      "6\n"
     ]
    }
   ],
   "source": [
    "# To find the factorial usig for loop and the if else statement:\n",
    "\n",
    "num = int(input('Enter the number: '))\n",
    "\n",
    "factorial=1\n",
    "if num<0:\n",
    "    print('Invalid number')\n",
    "elif num==0:\n",
    "    print('Factorial=1')\n",
    "else:\n",
    "    for i in range(1,num+1):  # (start,end,step)\n",
    "        factorial=factorial*i\n",
    "    print(factorial)\n"
   ]
  },
  {
   "attachments": {},
   "cell_type": "markdown",
   "metadata": {},
   "source": [
    "# While loop:\n",
    "\n",
    "The ‘while’ loop executes the set of statements as long as the condition is true.\n",
    "\n",
    "It consists of a condition block and the body with the set of statements, It will keep on executing the statement until the condition becomes false. There is no guarantee to see how long the loop will keep iterating.\n",
    "\n",
    "Example as follw:\n",
    "\n"
   ]
  },
  {
   "cell_type": "code",
   "execution_count": 3,
   "metadata": {},
   "outputs": [
    {
     "name": "stdout",
     "output_type": "stream",
     "text": [
      "1\n",
      "2\n",
      "3\n",
      "4\n",
      "5\n"
     ]
    }
   ],
   "source": [
    "i = 1\n",
    "while i < 6:\n",
    "    print(i)\n",
    "    i += 1\n"
   ]
  },
  {
   "cell_type": "code",
   "execution_count": 3,
   "metadata": {},
   "outputs": [
    {
     "name": "stdout",
     "output_type": "stream",
     "text": [
      "WELCOME TO THE GAME\n",
      "The choosen number is large:)\n",
      "The choosen number is large:)\n",
      "The choosen number is large:)\n",
      "The choosen number is large:)\n",
      "You got it \n",
      "And you only took 5 tries!\n"
     ]
    }
   ],
   "source": [
    "# Number Guessing Game:\n",
    "\n",
    "import random\n",
    "number = random.randint(1, 9)\n",
    "guess = 0\n",
    "count = 0\n",
    "print('WELCOME TO THE GAME')\n",
    "while count != 6:\n",
    "    guess = int(input('Enter your choice between 1-9:'))\n",
    "    count += 1\n",
    "    if guess < number:\n",
    "        print('The choosen number is small:)')\n",
    "    elif guess > number:\n",
    "        print('The choosen number is large:)')\n",
    "    else:\n",
    "        print('You got it ')\n",
    "        print('And you only took', count, 'tries!')\n",
    "        break\n"
   ]
  },
  {
   "attachments": {},
   "cell_type": "markdown",
   "metadata": {},
   "source": [
    "# Lop control sattement: \n",
    "\n",
    "To control the flow of the loop or to alter the execution based on a few specified conditions we use the loop control statements discussed below. The control statements are used to alter the execution based on the conditions.\n",
    "\n",
    "In Python we have three control statements:\n",
    "\n",
    "-> break\n",
    "-> continue\n",
    "-> pass\n",
    "\n",
    "\n",
    "# Break:\n",
    "\n",
    "Break statement is used to terminate the execution of the loop containing it. As soon as the loop comes across a break statement, the loop terminates and the execution transfers to the next statement following the loop.\n",
    "\n",
    " else:\n",
    "        print('You got it ')\n",
    "        print('And you only took', count, 'tries!')\n",
    "        break  # Here the loop will terminate\n",
    "\n",
    "\n",
    "\n",
    "# continue:\n",
    "\n",
    "The continue statement is used to skip the rest of the code in the loop for the current iteration. It does not terminate the loop like the break statement and continues with the remaining iterations.\n",
    "\n",
    "\n",
    "# Pass: \n",
    "The pass statement is a null operation. It basically means that the statement is required syntactically but you do not wish to execute any command or code.   If we wanted to insert somethimg in between the code exicution we use pass command.\n"
   ]
  },
  {
   "cell_type": "code",
   "execution_count": 6,
   "metadata": {},
   "outputs": [
    {
     "name": "stdout",
     "output_type": "stream",
     "text": [
      "s\n",
      "t\n",
      "r\n"
     ]
    }
   ],
   "source": [
    "#Eg, Break \n",
    "\n",
    "for val in \"string\" :\n",
    "    if val == \"i\":\n",
    "       break    # At i the loop will break and will not itterate further aas per next command it will print the  values.\n",
    "    print(val)\n",
    "    "
   ]
  },
  {
   "cell_type": "code",
   "execution_count": 15,
   "metadata": {},
   "outputs": [
    {
     "name": "stdout",
     "output_type": "stream",
     "text": [
      "s\n",
      "t\n",
      "r\n",
      "n\n",
      "g\n",
      "the end\n"
     ]
    }
   ],
   "source": [
    "# Eg conti.\n",
    "\n",
    "for val in \"string\" :\n",
    "    if val == \"i\":\n",
    "       continue   # It will only skip that char. at which its applied amd rest of the will execute.\n",
    "    print(val)\n",
    "print(\"the end\")"
   ]
  },
  {
   "cell_type": "code",
   "execution_count": 16,
   "metadata": {},
   "outputs": [
    {
     "name": "stdout",
     "output_type": "stream",
     "text": [
      "s\n",
      "t\n",
      "r\n",
      "Hello\n",
      "i\n",
      "n\n",
      "g\n"
     ]
    }
   ],
   "source": [
    "# Eg, pass \n",
    "\n",
    "for val in \"string\" :\n",
    "    if val == \"i\":\n",
    "       print('Hello')  # It will not replace anythiong or will not terminate the loop but it will take place of \n",
    "                            # that char. at which the pass is given.\n",
    "    print(val)\n"
   ]
  },
  {
   "cell_type": "code",
   "execution_count": 9,
   "metadata": {},
   "outputs": [
    {
     "name": "stdout",
     "output_type": "stream",
     "text": [
      "1\n",
      "2\n",
      "3\n",
      "4\n"
     ]
    }
   ],
   "source": [
    "# Some examples of loops and the loop control statements:\n",
    "\n",
    "# While loop using break statement:\n",
    "\n",
    "i =1\n",
    "while i<6:\n",
    "    print(i)\n",
    "    if i==4:\n",
    "        break\n",
    "    i+=1\n",
    "    "
   ]
  },
  {
   "cell_type": "code",
   "execution_count": 2,
   "metadata": {},
   "outputs": [
    {
     "name": "stdout",
     "output_type": "stream",
     "text": [
      "1\n",
      "2\n",
      "3\n",
      "4\n",
      "5\n",
      "6\n"
     ]
    }
   ],
   "source": [
    "i =0\n",
    "while i<6:\n",
    "    i+=1\n",
    "    print(i)\n",
    "    if i ==3:\n",
    "        continue\n"
   ]
  },
  {
   "attachments": {},
   "cell_type": "markdown",
   "metadata": {},
   "source": [
    "# Nested loops: \n",
    "A nested loop is a loop inside a loop.\n",
    "\n",
    "The \"inner loop\" will be executed one time for each iteration of the \"outer loop\":"
   ]
  },
  {
   "cell_type": "code",
   "execution_count": 6,
   "metadata": {},
   "outputs": [
    {
     "name": "stdout",
     "output_type": "stream",
     "text": [
      "red apple\n",
      "red banana\n",
      "red cherry\n",
      "big apple\n",
      "big banana\n",
      "big cherry\n",
      "tasty apple\n",
      "tasty banana\n",
      "tasty cherry\n"
     ]
    }
   ],
   "source": [
    "# For loop inside for loop \n",
    "\n",
    "adj =[\"red\", \"big\", \"tasty\"]\n",
    "fruits = [\"apple\", \"banana\", \"cherry\"] # The inner loop will exicute for the every itteration of the outer loop.\n",
    "\n",
    "for x in adj:\n",
    "    for y in fruits:\n",
    "        print(x,y)"
   ]
  },
  {
   "cell_type": "code",
   "execution_count": 10,
   "metadata": {},
   "outputs": [],
   "source": [
    "# Eg.\n",
    "\n",
    "traveling = input('Yes/No')\n",
    "while traveling.lower() == 'Yes':\n",
    "        num = int(input('Enter number of people traveling:'))\n",
    "        for num in range(1, num+1):\n",
    "            name = input('Enter name:')\n",
    "            age = input('Enter age:')\n",
    "            gender = input('Enter gender:')\n",
    "            print(name)\n",
    "            print(age)\n",
    "            print(gender)\n",
    "        \n"
   ]
  },
  {
   "cell_type": "code",
   "execution_count": 8,
   "metadata": {},
   "outputs": [
    {
     "name": "stdout",
     "output_type": "stream",
     "text": [
      "-----------\n",
      "gg\n",
      "-----------\n",
      "2\n",
      "-----------\n",
      "j\n",
      "-----------\n"
     ]
    }
   ],
   "source": [
    "traveling = input('Yes/No')\n",
    "while traveling.lower() == 'yes':\n",
    "    num_people = int(input('Enter number of people traveling:'))\n",
    "    for num_people in range(1, num_people + 1):\n",
    "        name = input('Enter name:')\n",
    "        age = input('Enter age:')\n",
    "        gender = input('Enter gender:')\n",
    "        print('-----------')\n",
    "        print(name)\n",
    "        print('-----------')\n",
    "        print(age)\n",
    "        print('-----------')\n",
    "        print(gender)\n",
    "        print('-----------')\n",
    "    traveling = input('Do you want to continue? (Yes/No): ')\n"
   ]
  },
  {
   "cell_type": "markdown",
   "metadata": {},
   "source": [
    "#Ternary Operator\n",
    "\n",
    "\n"
   ]
  },
  {
   "cell_type": "code",
   "execution_count": 14,
   "metadata": {},
   "outputs": [
    {
     "name": "stdout",
     "output_type": "stream",
     "text": [
      "Positive\n"
     ]
    }
   ],
   "source": [
    "a = int(input('Enter number'))\n",
    "\n",
    "print('Positive') if a>0 else (print('Negative') if a<0 else print('Zero'))"
   ]
  },
  {
   "cell_type": "code",
   "execution_count": null,
   "metadata": {},
   "outputs": [],
   "source": []
  },
  {
   "cell_type": "code",
   "execution_count": null,
   "metadata": {},
   "outputs": [],
   "source": []
  }
 ],
 "metadata": {
  "kernelspec": {
   "display_name": "Python 3",
   "language": "python",
   "name": "python3"
  },
  "language_info": {
   "codemirror_mode": {
    "name": "ipython",
    "version": 3
   },
   "file_extension": ".py",
   "mimetype": "text/x-python",
   "name": "python",
   "nbconvert_exporter": "python",
   "pygments_lexer": "ipython3",
   "version": "3.12.0"
  },
  "orig_nbformat": 4,
  "vscode": {
   "interpreter": {
    "hash": "a6ada047e8940af673a5a678b6ba14e182d5b4e08fa205eb091207f23619d85d"
   }
  }
 },
 "nbformat": 4,
 "nbformat_minor": 2
}
