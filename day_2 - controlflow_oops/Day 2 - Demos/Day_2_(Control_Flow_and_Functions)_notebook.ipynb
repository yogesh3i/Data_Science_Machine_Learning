{
 "cells": [
  {
   "cell_type": "code",
   "execution_count": null,
   "id": "e0cb03f1",
   "metadata": {},
   "outputs": [],
   "source": [
    "a = 1000\n",
    "b = 100"
   ]
  },
  {
   "cell_type": "code",
   "execution_count": null,
   "id": "bebbcac2",
   "metadata": {},
   "outputs": [],
   "source": [
    "if a > b:\n",
    "    print()\n",
    "else:\n",
    "    "
   ]
  },
  {
   "cell_type": "code",
   "execution_count": null,
   "id": "76a82eca",
   "metadata": {},
   "outputs": [],
   "source": [
    "print(a)"
   ]
  },
  {
   "cell_type": "code",
   "execution_count": null,
   "id": "9bc27051",
   "metadata": {},
   "outputs": [],
   "source": [
    "if a > b:\n",
    "    print(\"a is greater\")\n",
    "elif b > a:\n",
    "    print(\"b is greater\")\n",
    "else:\n",
    "    print(\"Both a & b are equal\")"
   ]
  },
  {
   "cell_type": "code",
   "execution_count": null,
   "id": "f591da69",
   "metadata": {},
   "outputs": [],
   "source": [
    "food = input(\"Enter food:\")\n",
    "\n",
    "if food == 'burger':\n",
    "    print(\"I am happy\")\n",
    "elif food == 'broccoli':\n",
    "    print(\"I am sad\")\n",
    "else:\n",
    "    print(\"I am annoyed\")"
   ]
  },
  {
   "cell_type": "code",
   "execution_count": null,
   "id": "ed82344f",
   "metadata": {},
   "outputs": [],
   "source": [
    "temp_of_tea = 150"
   ]
  },
  {
   "cell_type": "code",
   "execution_count": null,
   "id": "cd00bbdb",
   "metadata": {},
   "outputs": [],
   "source": [
    "if temp_of_tea > 112:\n",
    "    print(\"Tea is hot\")\n",
    "    temp_of_tea -= 1\n",
    "print(\"Tea is drinkable at temperature {0}\".format(temp_of_tea))"
   ]
  },
  {
   "cell_type": "code",
   "execution_count": null,
   "id": "239c87ab",
   "metadata": {},
   "outputs": [],
   "source": [
    "num = int(input(\"Enter the number:\"))"
   ]
  },
  {
   "cell_type": "code",
   "execution_count": null,
   "id": "4d12dd79",
   "metadata": {},
   "outputs": [],
   "source": [
    "# i -> 2 3 4 5\n",
    "# j -> 2 3 4 5"
   ]
  },
  {
   "cell_type": "code",
   "execution_count": null,
   "id": "9c27dc28",
   "metadata": {},
   "outputs": [],
   "source": [
    "i = 2\n",
    "while i < num:\n",
    "    j = 2\n",
    "    flag = False\n",
    "    while (j < i):\n",
    "        if (i%j) == 0:\n",
    "            flag = True\n",
    "            break\n",
    "        j += 1\n",
    "    if flag:\n",
    "        pass\n",
    "    else:\n",
    "        print(i, \"is a prime\")\n",
    "    i += 1\n",
    "print(\"Done\")"
   ]
  },
  {
   "cell_type": "code",
   "execution_count": null,
   "id": "afafaff4",
   "metadata": {},
   "outputs": [],
   "source": [
    "list_of_colors = ['red', 'yellow', 'green', 'white', 'magenta']\n",
    "for color in list_of_colors:\n",
    "    if color == 'green':\n",
    "        continue\n",
    "    print(\"Color is\",color)"
   ]
  },
  {
   "cell_type": "code",
   "execution_count": null,
   "id": "a401fc62",
   "metadata": {},
   "outputs": [],
   "source": [
    "def celcius_to_fahr(temp = 40):\n",
    "    \"\"\"\n",
    "    This function is used to convert celcius to fahrenheit\n",
    "    \"\"\"\n",
    "    return (9/5 * temp + 32)"
   ]
  },
  {
   "cell_type": "code",
   "execution_count": null,
   "id": "c32c00f8",
   "metadata": {},
   "outputs": [],
   "source": [
    "# This cell is the code to convert temp in celcius to fahr\n",
    "cel_temp = 48\n",
    "far_temp = celcius_to_fahr(cel_temp, 48)\n",
    "print(f\"The temp in fahrenheit is {far_temp}\")"
   ]
  },
  {
   "cell_type": "code",
   "execution_count": 2,
   "id": "49fe3433",
   "metadata": {},
   "outputs": [
    {
     "name": "stdout",
     "output_type": "stream",
     "text": [
      "Hello Edureka !\n"
     ]
    }
   ],
   "source": [
    "def print_hello():\n",
    "    string = \"Edureka\"\n",
    "    print(\"Hello\",string,\"!\")\n",
    "print_hello()"
   ]
  },
  {
   "cell_type": "code",
   "execution_count": 1,
   "id": "4a51ec59",
   "metadata": {},
   "outputs": [
    {
     "ename": "NameError",
     "evalue": "name 'print_hello' is not defined",
     "output_type": "error",
     "traceback": [
      "\u001b[1;31m---------------------------------------------------------------------------\u001b[0m",
      "\u001b[1;31mNameError\u001b[0m                                 Traceback (most recent call last)",
      "\u001b[1;32md:\\Data science & ML\\day_2 - demos\\Day 2 - Demos\\Day_2_(Control_Flow_and_Functions)_notebook.ipynb Cell 15\u001b[0m in \u001b[0;36m<cell line: 1>\u001b[1;34m()\u001b[0m\n\u001b[1;32m----> <a href='vscode-notebook-cell:/d%3A/Data%20science%20%26%20ML/day_2%20-%20demos/Day%202%20-%20Demos/Day_2_%28Control_Flow_and_Functions%29_notebook.ipynb#ch0000014?line=0'>1</a>\u001b[0m print_hello()\n",
      "\u001b[1;31mNameError\u001b[0m: name 'print_hello' is not defined"
     ]
    }
   ],
   "source": [
    "print_hello()"
   ]
  },
  {
   "cell_type": "code",
   "execution_count": null,
   "id": "99e0367d",
   "metadata": {},
   "outputs": [],
   "source": [
    "cel_temp = [48,43, 40, 44, 56]"
   ]
  },
  {
   "cell_type": "code",
   "execution_count": null,
   "id": "cb710f89",
   "metadata": {},
   "outputs": [],
   "source": [
    "list(range(len(cel_temp)))"
   ]
  },
  {
   "cell_type": "code",
   "execution_count": null,
   "id": "bf3931f1",
   "metadata": {},
   "outputs": [],
   "source": [
    "for temp in range(len(cel_temp)):\n",
    "    far_temp = celcius_to_fahr(temp)\n",
    "    print(f\"The temp in fahrenheit is {far_temp} F for {temp} C\")"
   ]
  },
  {
   "cell_type": "code",
   "execution_count": null,
   "id": "0578dcf9",
   "metadata": {},
   "outputs": [],
   "source": [
    "list(range(10))"
   ]
  },
  {
   "cell_type": "code",
   "execution_count": 1,
   "id": "dd79688b",
   "metadata": {},
   "outputs": [],
   "source": [
    "string = \"Edureka\""
   ]
  },
  {
   "cell_type": "code",
   "execution_count": 2,
   "id": "7b6416e6",
   "metadata": {},
   "outputs": [
    {
     "name": "stdout",
     "output_type": "stream",
     "text": [
      "E\n",
      "d\n",
      "u\n",
      "r\n",
      "Hola\n",
      "k\n",
      "a\n"
     ]
    }
   ],
   "source": [
    "for index in range(len(string)):\n",
    "    if string[index] == 'e':\n",
    "        print(\"Hola\")\n",
    "    else:\n",
    "        print(string[index])"
   ]
  },
  {
   "cell_type": "code",
   "execution_count": 3,
   "id": "1dee1faa",
   "metadata": {},
   "outputs": [],
   "source": [
    "a = 10\n",
    "def number_me():\n",
    "    b = 20\n",
    "    print(b)\n",
    "    return b + a"
   ]
  },
  {
   "cell_type": "code",
   "execution_count": null,
   "id": "293af9f6",
   "metadata": {},
   "outputs": [],
   "source": [
    "print(a)"
   ]
  },
  {
   "cell_type": "code",
   "execution_count": null,
   "id": "db5195f0",
   "metadata": {},
   "outputs": [],
   "source": [
    "number_me()"
   ]
  },
  {
   "cell_type": "code",
   "execution_count": null,
   "id": "e7c58b84",
   "metadata": {},
   "outputs": [],
   "source": [
    "print(b)"
   ]
  },
  {
   "cell_type": "code",
   "execution_count": null,
   "id": "9059e763",
   "metadata": {},
   "outputs": [],
   "source": [
    "def diff_of_2_num(num1 = 2000, num2 = 100):\n",
    "    result = num1 - num2\n",
    "    return result"
   ]
  },
  {
   "cell_type": "code",
   "execution_count": null,
   "id": "ce0353cf",
   "metadata": {},
   "outputs": [],
   "source": [
    "diff_of_2_num(20, 10)"
   ]
  },
  {
   "cell_type": "code",
   "execution_count": null,
   "id": "92471441",
   "metadata": {},
   "outputs": [],
   "source": [
    "def name_of_students(*names):\n",
    "    print(\"The name of students\")\n",
    "    for name in names:\n",
    "        print(name)"
   ]
  },
  {
   "cell_type": "code",
   "execution_count": null,
   "id": "cb2bd9b0",
   "metadata": {},
   "outputs": [],
   "source": [
    "name_of_students()"
   ]
  },
  {
   "cell_type": "code",
   "execution_count": null,
   "id": "6e4e4649",
   "metadata": {},
   "outputs": [],
   "source": [
    "for i in range(10):\n",
    "    print(\"Hello World\")"
   ]
  },
  {
   "cell_type": "code",
   "execution_count": null,
   "id": "7220c5ae",
   "metadata": {},
   "outputs": [],
   "source": [
    "num = 0\n",
    "try:\n",
    "    num = int(input(\"Enter the number\"))\n",
    "except:\n",
    "    print(\"User entered a string\")"
   ]
  },
  {
   "cell_type": "code",
   "execution_count": null,
   "id": "58a66898",
   "metadata": {},
   "outputs": [],
   "source": [
    "print(num)"
   ]
  },
  {
   "cell_type": "code",
   "execution_count": null,
   "id": "2b26c7cd",
   "metadata": {},
   "outputs": [],
   "source": [
    "def calculator(num1, num2, *operators):\n",
    "    result = []\n",
    "    for operator in operators:\n",
    "        if operator == \"+\":\n",
    "            result.append( num1 + num2)\n",
    "        elif operator == \"-\":\n",
    "            result.append( num1 - num2)\n",
    "    for res in result:\n",
    "        print(result)"
   ]
  },
  {
   "cell_type": "code",
   "execution_count": null,
   "id": "3ad4803c",
   "metadata": {},
   "outputs": [],
   "source": [
    "calculator(10, 20, '+', '-')"
   ]
  },
  {
   "cell_type": "code",
   "execution_count": null,
   "id": "55f6f8a6",
   "metadata": {},
   "outputs": [],
   "source": [
    "def factorial_of_num(num):\n",
    "    if num < 1:\n",
    "        result = 1\n",
    "    else:\n",
    "        i = num\n",
    "        result = 1\n",
    "        while i > 0:\n",
    "            result = result * i\n",
    "            i -= 1\n",
    "    return result"
   ]
  },
  {
   "cell_type": "code",
   "execution_count": null,
   "id": "0bba11f1",
   "metadata": {},
   "outputs": [],
   "source": [
    "factorial_of_num(10)"
   ]
  },
  {
   "cell_type": "code",
   "execution_count": null,
   "id": "a75ba564",
   "metadata": {},
   "outputs": [],
   "source": [
    "my_list = [1, 5, 6, 10, 2, 7, 9]"
   ]
  },
  {
   "cell_type": "code",
   "execution_count": null,
   "id": "73f26d90",
   "metadata": {},
   "outputs": [],
   "source": [
    "my_list_even = []\n",
    "for items in my_list:\n",
    "    if items%2 == 0:\n",
    "        my_list_even.append(items)"
   ]
  },
  {
   "cell_type": "code",
   "execution_count": null,
   "id": "1c6f8e84",
   "metadata": {},
   "outputs": [],
   "source": [
    "my_list_even"
   ]
  },
  {
   "cell_type": "code",
   "execution_count": null,
   "id": "f31ece49",
   "metadata": {},
   "outputs": [],
   "source": [
    "list(filter(lambda x: x%2 == 0, my_list))"
   ]
  },
  {
   "cell_type": "code",
   "execution_count": null,
   "id": "424a3be0",
   "metadata": {},
   "outputs": [],
   "source": [
    "my_list"
   ]
  },
  {
   "cell_type": "code",
   "execution_count": null,
   "id": "3a1f0065",
   "metadata": {},
   "outputs": [],
   "source": [
    "list(map(lambda x: x*x, my_list))"
   ]
  },
  {
   "cell_type": "code",
   "execution_count": null,
   "id": "693c9c24",
   "metadata": {},
   "outputs": [],
   "source": [
    "my_new_list = [1, 2, 3, 4, 2.3, 4.5, \"Edureka\", \"Random\"]"
   ]
  },
  {
   "cell_type": "code",
   "execution_count": null,
   "id": "dcd19ea1",
   "metadata": {},
   "outputs": [],
   "source": [
    "a = \"evrerv\"\n",
    "type(a)"
   ]
  },
  {
   "cell_type": "code",
   "execution_count": null,
   "id": "3ef89e15",
   "metadata": {},
   "outputs": [],
   "source": [
    "list(filter(lambda x: type(x) == str,my_new_list))"
   ]
  },
  {
   "cell_type": "code",
   "execution_count": null,
   "id": "b501ebc4",
   "metadata": {},
   "outputs": [],
   "source": [
    "import calculator"
   ]
  },
  {
   "cell_type": "code",
   "execution_count": null,
   "id": "1c332fb4",
   "metadata": {},
   "outputs": [],
   "source": [
    "calculator.div2num(10, 3)"
   ]
  },
  {
   "cell_type": "code",
   "execution_count": null,
   "id": "58da7ab4",
   "metadata": {},
   "outputs": [],
   "source": [
    "from calculator import div2num"
   ]
  },
  {
   "cell_type": "code",
   "execution_count": null,
   "id": "f9c65db7",
   "metadata": {},
   "outputs": [],
   "source": [
    "div2num(10, 3)"
   ]
  },
  {
   "cell_type": "code",
   "execution_count": null,
   "id": "d05cd5b0",
   "metadata": {},
   "outputs": [],
   "source": [
    "print \"Hello world\""
   ]
  },
  {
   "cell_type": "code",
   "execution_count": null,
   "id": "8046f1b7",
   "metadata": {},
   "outputs": [],
   "source": [
    "list1 = [1, 2, 3, 4, 5, 10]"
   ]
  },
  {
   "cell_type": "code",
   "execution_count": null,
   "id": "bcde6d64",
   "metadata": {},
   "outputs": [],
   "source": [
    "if 10 in list1:\n",
    "    print(\"10 is here\")"
   ]
  },
  {
   "cell_type": "code",
   "execution_count": null,
   "id": "a1f3beef",
   "metadata": {},
   "outputs": [],
   "source": [
    "type(list1)"
   ]
  },
  {
   "cell_type": "code",
   "execution_count": null,
   "id": "f2ddd9a6",
   "metadata": {},
   "outputs": [],
   "source": [
    "type(list1) == list"
   ]
  },
  {
   "cell_type": "code",
   "execution_count": null,
   "id": "5801f819",
   "metadata": {},
   "outputs": [],
   "source": [
    "N = int(input(\"Enter Number: \"))\n",
    "D = 0\n",
    "i = 1 \n",
    "while i<=N:\n",
    "    D += i\n",
    "    i += 1\n",
    "print(D)"
   ]
  },
  {
   "cell_type": "code",
   "execution_count": null,
   "id": "58281912",
   "metadata": {},
   "outputs": [],
   "source": [
    "sum([1,2,3,4,5])"
   ]
  },
  {
   "cell_type": "code",
   "execution_count": null,
   "id": "5614dc7a",
   "metadata": {},
   "outputs": [],
   "source": []
  },
  {
   "cell_type": "code",
   "execution_count": null,
   "id": "cd7e4dc4",
   "metadata": {},
   "outputs": [],
   "source": [
    "list1 = [1, 2, 3, 4.5, \"EDUREKA\", \"test\"]"
   ]
  },
  {
   "cell_type": "code",
   "execution_count": null,
   "id": "264345c0",
   "metadata": {},
   "outputs": [],
   "source": [
    "list(filter(lambda string: type(string) == str,list1))"
   ]
  },
  {
   "cell_type": "code",
   "execution_count": null,
   "id": "fd0a310a",
   "metadata": {},
   "outputs": [],
   "source": [
    "def elements_to_check(ele):\n",
    "    return type(ele) == str"
   ]
  },
  {
   "cell_type": "code",
   "execution_count": null,
   "id": "4fb11a5e",
   "metadata": {},
   "outputs": [],
   "source": [
    "list(filter(elements_to_check,list1))"
   ]
  },
  {
   "cell_type": "code",
   "execution_count": null,
   "id": "8e887762",
   "metadata": {},
   "outputs": [],
   "source": [
    "var = 2"
   ]
  },
  {
   "cell_type": "code",
   "execution_count": null,
   "id": "db62073d",
   "metadata": {},
   "outputs": [],
   "source": [
    "type(var)"
   ]
  },
  {
   "cell_type": "code",
   "execution_count": null,
   "id": "0652ccba",
   "metadata": {},
   "outputs": [],
   "source": [
    "try:\n",
    "    float_var = float(var)\n",
    "    print(float_var)\n",
    "except:\n",
    "    pass"
   ]
  },
  {
   "cell_type": "code",
   "execution_count": null,
   "id": "249f02dc",
   "metadata": {},
   "outputs": [],
   "source": [
    "type(float_var)"
   ]
  },
  {
   "cell_type": "code",
   "execution_count": null,
   "id": "7ae94097",
   "metadata": {},
   "outputs": [],
   "source": [
    "float_var"
   ]
  },
  {
   "cell_type": "code",
   "execution_count": null,
   "id": "f57957ee",
   "metadata": {},
   "outputs": [],
   "source": [
    "list1 = list(map(int,(input(\"Enter a list\")).split()))\n",
    "list1"
   ]
  },
  {
   "cell_type": "code",
   "execution_count": null,
   "id": "a5f5bdc2",
   "metadata": {},
   "outputs": [],
   "source": [
    "f\"My name is {var}. I am teaching in {list1}.\""
   ]
  },
  {
   "cell_type": "code",
   "execution_count": null,
   "id": "da4aa8e7",
   "metadata": {},
   "outputs": [],
   "source": [
    "str(100)"
   ]
  },
  {
   "cell_type": "code",
   "execution_count": null,
   "id": "ff6ac550",
   "metadata": {},
   "outputs": [],
   "source": []
  },
  {
   "cell_type": "code",
   "execution_count": null,
   "id": "489800bf",
   "metadata": {},
   "outputs": [],
   "source": [
    "from my_package import *"
   ]
  },
  {
   "cell_type": "code",
   "execution_count": null,
   "id": "b57507dc",
   "metadata": {},
   "outputs": [],
   "source": [
    "dir(calculator)"
   ]
  },
  {
   "cell_type": "code",
   "execution_count": null,
   "id": "d9942ce3",
   "metadata": {},
   "outputs": [],
   "source": []
  },
  {
   "cell_type": "code",
   "execution_count": null,
   "id": "81d89b57",
   "metadata": {},
   "outputs": [],
   "source": [
    "import numpy as abc"
   ]
  },
  {
   "cell_type": "code",
   "execution_count": null,
   "id": "b54a373f",
   "metadata": {},
   "outputs": [],
   "source": [
    "dir(abc)"
   ]
  },
  {
   "cell_type": "code",
   "execution_count": null,
   "id": "e78457b2",
   "metadata": {},
   "outputs": [],
   "source": [
    "import sys\n",
    "print(sys.version)"
   ]
  },
  {
   "cell_type": "code",
   "execution_count": null,
   "id": "9a48d912",
   "metadata": {},
   "outputs": [],
   "source": [
    "import sys"
   ]
  },
  {
   "cell_type": "code",
   "execution_count": null,
   "id": "87f2de01",
   "metadata": {},
   "outputs": [],
   "source": [
    "print(not sys)"
   ]
  },
  {
   "cell_type": "code",
   "execution_count": null,
   "id": "a89d7e91",
   "metadata": {},
   "outputs": [],
   "source": [
    "print(sys.winver)"
   ]
  },
  {
   "cell_type": "code",
   "execution_count": null,
   "id": "9d818b59",
   "metadata": {},
   "outputs": [],
   "source": [
    "print(sys.flags)"
   ]
  },
  {
   "cell_type": "code",
   "execution_count": null,
   "id": "67743b16",
   "metadata": {},
   "outputs": [],
   "source": [
    "print(sys.prefix)"
   ]
  },
  {
   "cell_type": "code",
   "execution_count": null,
   "id": "2d9a3f38",
   "metadata": {},
   "outputs": [],
   "source": [
    "import os"
   ]
  },
  {
   "cell_type": "code",
   "execution_count": null,
   "id": "9c6f4265",
   "metadata": {},
   "outputs": [],
   "source": [
    "print(os.getcwd())"
   ]
  },
  {
   "cell_type": "code",
   "execution_count": null,
   "id": "ff8d04fa",
   "metadata": {},
   "outputs": [],
   "source": [
    "os.mkdir('Abhitesh')"
   ]
  },
  {
   "cell_type": "code",
   "execution_count": null,
   "id": "2f274f4c",
   "metadata": {},
   "outputs": [],
   "source": [
    "os.rmdir('Abhitesh')"
   ]
  },
  {
   "cell_type": "code",
   "execution_count": null,
   "id": "3ff6a161",
   "metadata": {},
   "outputs": [],
   "source": [
    "print(os.name)"
   ]
  },
  {
   "cell_type": "code",
   "execution_count": null,
   "id": "10eb9322",
   "metadata": {},
   "outputs": [],
   "source": [
    "print(os.environ['PATH'])"
   ]
  },
  {
   "cell_type": "code",
   "execution_count": null,
   "id": "f76b0a89",
   "metadata": {},
   "outputs": [],
   "source": [
    "print(os.getlogin())"
   ]
  },
  {
   "cell_type": "code",
   "execution_count": null,
   "id": "ed3cf282",
   "metadata": {},
   "outputs": [],
   "source": [
    "os.getppid()"
   ]
  },
  {
   "cell_type": "code",
   "execution_count": null,
   "id": "9bf02842",
   "metadata": {},
   "outputs": [],
   "source": [
    "import math"
   ]
  },
  {
   "cell_type": "code",
   "execution_count": null,
   "id": "bb05e059",
   "metadata": {},
   "outputs": [],
   "source": [
    "math.ceil(10.4)"
   ]
  },
  {
   "cell_type": "code",
   "execution_count": null,
   "id": "a18e53d3",
   "metadata": {},
   "outputs": [],
   "source": [
    "math.copysign(-10, -23)"
   ]
  },
  {
   "cell_type": "code",
   "execution_count": null,
   "id": "7b258575",
   "metadata": {},
   "outputs": [],
   "source": [
    "\"02/07/2022\""
   ]
  },
  {
   "cell_type": "code",
   "execution_count": null,
   "id": "ad2f3eb1",
   "metadata": {},
   "outputs": [],
   "source": [
    "import datetime"
   ]
  },
  {
   "cell_type": "code",
   "execution_count": null,
   "id": "c817293a",
   "metadata": {},
   "outputs": [],
   "source": [
    "today_date = datetime.datetime.today()"
   ]
  },
  {
   "cell_type": "code",
   "execution_count": null,
   "id": "69b95b12",
   "metadata": {},
   "outputs": [],
   "source": [
    "prev_date = datetime.datetime(2000, 7, 2, 16, 29, 59)"
   ]
  },
  {
   "cell_type": "code",
   "execution_count": null,
   "id": "9d8a4c66",
   "metadata": {},
   "outputs": [],
   "source": [
    "today_date - prev_date"
   ]
  },
  {
   "cell_type": "code",
   "execution_count": null,
   "id": "bd0f9255",
   "metadata": {},
   "outputs": [],
   "source": [
    "print(datetime.datetime.today())"
   ]
  },
  {
   "cell_type": "code",
   "execution_count": null,
   "id": "605a0107",
   "metadata": {},
   "outputs": [],
   "source": [
    "import random"
   ]
  },
  {
   "cell_type": "code",
   "execution_count": null,
   "id": "a26bb0fe",
   "metadata": {},
   "outputs": [],
   "source": [
    "file_obj = open('test_file.txt','w')"
   ]
  },
  {
   "cell_type": "code",
   "execution_count": null,
   "id": "33901d89",
   "metadata": {},
   "outputs": [],
   "source": [
    "file_obj.write(\"Hello world!\")"
   ]
  },
  {
   "cell_type": "code",
   "execution_count": null,
   "id": "578bd41d",
   "metadata": {},
   "outputs": [],
   "source": [
    "file_obj.close()"
   ]
  },
  {
   "cell_type": "code",
   "execution_count": null,
   "id": "15140815",
   "metadata": {},
   "outputs": [],
   "source": [
    "file_obj = open('test_file.txt','r')"
   ]
  },
  {
   "cell_type": "code",
   "execution_count": null,
   "id": "6ac3c236",
   "metadata": {},
   "outputs": [],
   "source": [
    "file_obj.read()"
   ]
  },
  {
   "cell_type": "code",
   "execution_count": null,
   "id": "23e8d7f9",
   "metadata": {},
   "outputs": [],
   "source": [
    "file_obj.close()"
   ]
  },
  {
   "cell_type": "code",
   "execution_count": null,
   "id": "4c2bde13",
   "metadata": {},
   "outputs": [],
   "source": [
    "file_obj = open('test_file.txt','w')"
   ]
  },
  {
   "cell_type": "code",
   "execution_count": null,
   "id": "234ab309",
   "metadata": {},
   "outputs": [],
   "source": [
    "file_obj.write(\"Hello world this is python!\")"
   ]
  },
  {
   "cell_type": "code",
   "execution_count": null,
   "id": "369cff54",
   "metadata": {},
   "outputs": [],
   "source": [
    "file_obj.close()"
   ]
  },
  {
   "cell_type": "code",
   "execution_count": null,
   "id": "83d6b7ea",
   "metadata": {},
   "outputs": [],
   "source": [
    "file_obj = open('test_file.txt','r')"
   ]
  },
  {
   "cell_type": "code",
   "execution_count": null,
   "id": "b3045f03",
   "metadata": {},
   "outputs": [],
   "source": [
    "file_obj.write(\" But this is not a joke!\")"
   ]
  },
  {
   "cell_type": "code",
   "execution_count": null,
   "id": "cea87e4d",
   "metadata": {},
   "outputs": [],
   "source": [
    "file_obj.close()"
   ]
  },
  {
   "cell_type": "code",
   "execution_count": null,
   "id": "c2fb11ba",
   "metadata": {},
   "outputs": [],
   "source": [
    "file_obj.read()"
   ]
  },
  {
   "cell_type": "code",
   "execution_count": null,
   "id": "bedf32c5",
   "metadata": {},
   "outputs": [],
   "source": [
    "file_obj.seek(0)"
   ]
  },
  {
   "cell_type": "code",
   "execution_count": null,
   "id": "abb6cb73",
   "metadata": {},
   "outputs": [],
   "source": [
    "import os"
   ]
  },
  {
   "cell_type": "code",
   "execution_count": null,
   "id": "8b27d9e6",
   "metadata": {},
   "outputs": [],
   "source": [
    "os.rename(\"test_file.txt\", \"test_file_2.txt\")"
   ]
  },
  {
   "cell_type": "code",
   "execution_count": null,
   "id": "31558c5f",
   "metadata": {},
   "outputs": [],
   "source": [
    "os.remove(\"test_file_2.txt\")"
   ]
  },
  {
   "cell_type": "code",
   "execution_count": null,
   "id": "bc77a4bb",
   "metadata": {},
   "outputs": [],
   "source": [
    "a = 50\n",
    "def fun():\n",
    "    global b\n",
    "    b = 30\n",
    "    print(b)"
   ]
  },
  {
   "cell_type": "code",
   "execution_count": null,
   "id": "4fff1764",
   "metadata": {},
   "outputs": [],
   "source": [
    "print(a)"
   ]
  },
  {
   "cell_type": "code",
   "execution_count": null,
   "id": "932868c7",
   "metadata": {},
   "outputs": [],
   "source": [
    "fun()"
   ]
  },
  {
   "cell_type": "code",
   "execution_count": null,
   "id": "59fc4102",
   "metadata": {},
   "outputs": [],
   "source": [
    "print(b)"
   ]
  },
  {
   "cell_type": "code",
   "execution_count": 2,
   "id": "f11484be",
   "metadata": {},
   "outputs": [],
   "source": [
    "ans = 40\n",
    "def addition(b):\n",
    "#     global ans\n",
    "    ans = 30\n",
    "    print(ans)\n",
    "    print(b)"
   ]
  },
  {
   "cell_type": "code",
   "execution_count": null,
   "id": "6ffb1af0",
   "metadata": {},
   "outputs": [],
   "source": [
    "print(ans)"
   ]
  },
  {
   "cell_type": "code",
   "execution_count": null,
   "id": "5bf3079f",
   "metadata": {},
   "outputs": [],
   "source": [
    "addition(20)"
   ]
  },
  {
   "cell_type": "code",
   "execution_count": 1,
   "id": "b72ee492",
   "metadata": {},
   "outputs": [
    {
     "name": "stdout",
     "output_type": "stream",
     "text": [
      "Hello\n"
     ]
    }
   ],
   "source": [
    "while True:\n",
    "    print(\"Hello\")\n",
    "    break"
   ]
  }
 ],
 "metadata": {
  "kernelspec": {
   "display_name": "Python 3.9.1 64-bit",
   "language": "python",
   "name": "python3"
  },
  "language_info": {
   "codemirror_mode": {
    "name": "ipython",
    "version": 3
   },
   "file_extension": ".py",
   "mimetype": "text/x-python",
   "name": "python",
   "nbconvert_exporter": "python",
   "pygments_lexer": "ipython3",
   "version": "3.9.1"
  },
  "vscode": {
   "interpreter": {
    "hash": "a6ada047e8940af673a5a678b6ba14e182d5b4e08fa205eb091207f23619d85d"
   }
  }
 },
 "nbformat": 4,
 "nbformat_minor": 5
}
