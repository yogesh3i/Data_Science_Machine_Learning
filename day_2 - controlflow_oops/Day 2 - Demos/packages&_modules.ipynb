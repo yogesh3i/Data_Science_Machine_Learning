{
 "cells": [
  {
   "attachments": {},
   "cell_type": "markdown",
   "metadata": {},
   "source": [
    "# #Packages and modules->\n",
    "\n",
    "**#Built in functions:** The functions for which we dont need to import any library\n",
    "they are already installed by a python we can directly import it.\n",
    "\n",
    "\n",
    "**#Modules->** Modules are nothing but python or .py files inside which we write our code.\n",
    "\n",
    "**#Packages->** Packages are notjing but collection of differnt modules.\n",
    "\n",
    "\n",
    "\n",
    "# Import statement:-import statement is uesed to load the modules in python.\n",
    "    We can import it with a desirable name. Like below \n",
    "\n",
    "    import numpy as np "
   ]
  },
  {
   "cell_type": "code",
   "execution_count": 2,
   "metadata": {},
   "outputs": [
    {
     "name": "stdout",
     "output_type": "stream",
     "text": [
      "3\n",
      "['__doc__', '__loader__', '__name__', '__package__', '__spec__', 'acos', 'acosh', 'asin', 'asinh', 'atan', 'atan2', 'atanh', 'ceil', 'comb', 'copysign', 'cos', 'cosh', 'degrees', 'dist', 'e', 'erf', 'erfc', 'exp', 'expm1', 'fabs', 'factorial', 'floor', 'fmod', 'frexp', 'fsum', 'gamma', 'gcd', 'hypot', 'inf', 'isclose', 'isfinite', 'isinf', 'isnan', 'isqrt', 'lcm', 'ldexp', 'lgamma', 'log', 'log10', 'log1p', 'log2', 'modf', 'nan', 'nextafter', 'perm', 'pi', 'pow', 'prod', 'radians', 'remainder', 'sin', 'sinh', 'sqrt', 'tan', 'tanh', 'tau', 'trunc', 'ulp']\n"
     ]
    }
   ],
   "source": [
    "# How to import module from a package \n",
    "\n",
    "from my_packages import calculator as cl\n",
    "print(cl.add2num(1,2))\n",
    "\n",
    "from my_packages import*   #To import everything from the module \n",
    "\n",
    "# dir--> dir os a library which provids the list of string containing the name define by the modules.\n",
    "\n",
    "#eg.\n",
    "import math\n",
    "print(dir (math))"
   ]
  },
  {
   "cell_type": "code",
   "execution_count": 4,
   "metadata": {},
   "outputs": [
    {
     "name": "stdout",
     "output_type": "stream",
     "text": [
      "['__breakpointhook__', '__displayhook__', '__doc__', '__excepthook__', '__interactivehook__', '__loader__', '__name__', '__package__', '__spec__', '__stderr__', '__stdin__', '__stdout__', '__unraisablehook__', '_base_executable', '_clear_type_cache', '_current_frames', '_debugmallocstats', '_enablelegacywindowsfsencoding', '_framework', '_getframe', '_git', '_home', '_xoptions', 'addaudithook', 'api_version', 'argv', 'audit', 'base_exec_prefix', 'base_prefix', 'breakpointhook', 'builtin_module_names', 'byteorder', 'call_tracing', 'copyright', 'displayhook', 'dllhandle', 'dont_write_bytecode', 'exc_info', 'excepthook', 'exec_prefix', 'executable', 'exit', 'flags', 'float_info', 'float_repr_style', 'get_asyncgen_hooks', 'get_coroutine_origin_tracking_depth', 'getallocatedblocks', 'getdefaultencoding', 'getfilesystemencodeerrors', 'getfilesystemencoding', 'getprofile', 'getrecursionlimit', 'getrefcount', 'getsizeof', 'getswitchinterval', 'gettrace', 'getwindowsversion', 'hash_info', 'hexversion', 'implementation', 'int_info', 'intern', 'is_finalizing', 'last_traceback', 'last_type', 'last_value', 'maxsize', 'maxunicode', 'meta_path', 'modules', 'path', 'path_hooks', 'path_importer_cache', 'platform', 'platlibdir', 'prefix', 'ps1', 'ps2', 'ps3', 'pycache_prefix', 'set_asyncgen_hooks', 'set_coroutine_origin_tracking_depth', 'setprofile', 'setrecursionlimit', 'setswitchinterval', 'settrace', 'stderr', 'stdin', 'stdout', 'thread_info', 'unraisablehook', 'version', 'version_info', 'warnoptions', 'winver']\n"
     ]
    }
   ],
   "source": [
    "import sys\n",
    "print(dir(sys))\n"
   ]
  },
  {
   "attachments": {},
   "cell_type": "markdown",
   "metadata": {},
   "source": [
    "# Important modules in python \n",
    "\n",
    "\n",
    "1) Sys\n",
    "2) OS\n",
    "3) Math\n",
    "4) DateTime\n",
    "5) Random "
   ]
  },
  {
   "cell_type": "code",
   "execution_count": 10,
   "metadata": {},
   "outputs": [
    {
     "name": "stdout",
     "output_type": "stream",
     "text": [
      "['c:\\\\Users\\\\yogesh\\\\AppData\\\\Local\\\\Programs\\\\Python\\\\Python39\\\\lib\\\\site-packages\\\\ipykernel_launcher.py', '--ip=127.0.0.1', '--stdin=9008', '--control=9006', '--hb=9005', '--Session.signature_scheme=\"hmac-sha256\"', '--Session.key=b\"f9df1cd4-b85c-4ab2-8f45-422792ae02c3\"', '--shell=9007', '--transport=\"tcp\"', '--iopub=9009', '--f=c:\\\\Users\\\\yogesh\\\\AppData\\\\Roaming\\\\jupyter\\\\runtime\\\\kernel-v2-44436CL4KkeD4TeCd.json']\n"
     ]
    }
   ],
   "source": [
    "# 1) Sys:\n",
    "\"\"\"\n",
    "Sys module provides access to some variables that are used and maintained by the interpretor \n",
    " and to the function also which strongly interact with interpretor.\n",
    "\n",
    "\"\"\"\n",
    "\n",
    "import sys\n",
    "print(sys.argv)\n",
    "\n",
    "    "
   ]
  },
  {
   "cell_type": "code",
   "execution_count": 15,
   "metadata": {},
   "outputs": [
    {
     "ename": "NameError",
     "evalue": "name 'get' is not defined",
     "output_type": "error",
     "traceback": [
      "\u001b[1;31m---------------------------------------------------------------------------\u001b[0m",
      "\u001b[1;31mNameError\u001b[0m                                 Traceback (most recent call last)",
      "\u001b[1;32md:\\Data science & ML\\day_2 - demos\\Day 2 - Demos\\packages&_modules.ipynb Cell 6\u001b[0m in \u001b[0;36m<cell line: 8>\u001b[1;34m()\u001b[0m\n\u001b[0;32m      <a href='vscode-notebook-cell:/d%3A/Data%20science%20%26%20ML/day_2%20-%20demos/Day%202%20-%20Demos/packages%26_modules.ipynb#W6sZmlsZQ%3D%3D?line=2'>3</a>\u001b[0m \u001b[39m\"\"\"OS module includes code that let the python work with your operating system and run some operating \u001b[39;00m\n\u001b[0;32m      <a href='vscode-notebook-cell:/d%3A/Data%20science%20%26%20ML/day_2%20-%20demos/Day%202%20-%20Demos/packages%26_modules.ipynb#W6sZmlsZQ%3D%3D?line=3'>4</a>\u001b[0m \u001b[39msystem command.\u001b[39;00m\n\u001b[0;32m      <a href='vscode-notebook-cell:/d%3A/Data%20science%20%26%20ML/day_2%20-%20demos/Day%202%20-%20Demos/packages%26_modules.ipynb#W6sZmlsZQ%3D%3D?line=4'>5</a>\u001b[0m \u001b[39mhttps://www.geeksforgeeks.org/os-module-python-examples/\"\"\"\u001b[39;00m\n\u001b[0;32m      <a href='vscode-notebook-cell:/d%3A/Data%20science%20%26%20ML/day_2%20-%20demos/Day%202%20-%20Demos/packages%26_modules.ipynb#W6sZmlsZQ%3D%3D?line=6'>7</a>\u001b[0m \u001b[39mimport\u001b[39;00m \u001b[39mos\u001b[39;00m\n\u001b[1;32m----> <a href='vscode-notebook-cell:/d%3A/Data%20science%20%26%20ML/day_2%20-%20demos/Day%202%20-%20Demos/packages%26_modules.ipynb#W6sZmlsZQ%3D%3D?line=7'>8</a>\u001b[0m get\u001b[39m.\u001b[39mCWD\n",
      "\u001b[1;31mNameError\u001b[0m: name 'get' is not defined"
     ]
    }
   ],
   "source": [
    "# 2) OS:\n",
    "\n",
    "\"\"\"OS module includes code that let the python work with your operating system and run some operating \n",
    "system command.\n",
    "https://www.geeksforgeeks.org/os-module-python-examples/\"\"\"\n",
    "\n"
   ]
  },
  {
   "cell_type": "code",
   "execution_count": 17,
   "metadata": {},
   "outputs": [
    {
     "ename": "FileNotFoundError",
     "evalue": "[WinError 3] The system cannot find the path specified: '/packages_modules/pallindrom'",
     "output_type": "error",
     "traceback": [
      "\u001b[1;31m---------------------------------------------------------------------------\u001b[0m",
      "\u001b[1;31mFileNotFoundError\u001b[0m                         Traceback (most recent call last)",
      "\u001b[1;32md:\\Data science & ML\\day_2 - demos\\Day 2 - Demos\\packages&_modules.ipynb Cell 7\u001b[0m in \u001b[0;36m<cell line: 5>\u001b[1;34m()\u001b[0m\n\u001b[0;32m      <a href='vscode-notebook-cell:/d%3A/Data%20science%20%26%20ML/day_2%20-%20demos/Day%202%20-%20Demos/packages%26_modules.ipynb#X10sZmlsZQ%3D%3D?line=1'>2</a>\u001b[0m os\u001b[39m.\u001b[39mmkdir(\u001b[39m'\u001b[39m\u001b[39mYogesh44\u001b[39m\u001b[39m'\u001b[39m)   \u001b[39m# To make directory \u001b[39;00m\n\u001b[0;32m      <a href='vscode-notebook-cell:/d%3A/Data%20science%20%26%20ML/day_2%20-%20demos/Day%202%20-%20Demos/packages%26_modules.ipynb#X10sZmlsZQ%3D%3D?line=3'>4</a>\u001b[0m \u001b[39mimport\u001b[39;00m \u001b[39mos\u001b[39;00m\n\u001b[1;32m----> <a href='vscode-notebook-cell:/d%3A/Data%20science%20%26%20ML/day_2%20-%20demos/Day%202%20-%20Demos/packages%26_modules.ipynb#X10sZmlsZQ%3D%3D?line=4'>5</a>\u001b[0m os\u001b[39m.\u001b[39;49mchdir(\u001b[39m'\u001b[39;49m\u001b[39m/packages_modules/pallindrom\u001b[39;49m\u001b[39m'\u001b[39;49m)        \u001b[39m# To change the current working directory \u001b[39;00m\n\u001b[0;32m      <a href='vscode-notebook-cell:/d%3A/Data%20science%20%26%20ML/day_2%20-%20demos/Day%202%20-%20Demos/packages%26_modules.ipynb#X10sZmlsZQ%3D%3D?line=6'>7</a>\u001b[0m \u001b[39mimport\u001b[39;00m \u001b[39mos\u001b[39;00m\n\u001b[0;32m      <a href='vscode-notebook-cell:/d%3A/Data%20science%20%26%20ML/day_2%20-%20demos/Day%202%20-%20Demos/packages%26_modules.ipynb#X10sZmlsZQ%3D%3D?line=7'>8</a>\u001b[0m os\u001b[39m.\u001b[39mrmdir(\u001b[39m'\u001b[39m\u001b[39mName of directory\u001b[39m\u001b[39m'\u001b[39m)    \u001b[39m# To remove the directory \u001b[39;00m\n",
      "\u001b[1;31mFileNotFoundError\u001b[0m: [WinError 3] The system cannot find the path specified: '/packages_modules/pallindrom'"
     ]
    }
   ],
   "source": [
    " \n",
    "\n",
    "\n",
    "\n",
    "import os\n",
    "os.mkdir('Yogesh44')   # To make directory \n",
    "\n",
    "import os\n",
    "os.chdir('/packages_modules/pallindrom')        # To change the current working directory \n",
    "\n",
    "import os\n",
    "os.rmdir('Name of directory')    # To remove the directory \n",
    "\n",
    "# Some more OS command as follow\n",
    "\n",
    "import os\n",
    "print(os.name )    #Returns the name of operating system dependent module imported \n",
    "\n",
    "import os\n",
    "print(os.environ)    # Returns the mapping object representing the string environment \n",
    "\n",
    "import os\n",
    "print(os.getlogin())    # Represemnts the user logged in in controlling terminal of thr process.\n",
    "\n",
    "import os\n",
    "print(os.getppid)   # To get the unique id of the process."
   ]
  },
  {
   "cell_type": "code",
   "execution_count": null,
   "metadata": {},
   "outputs": [],
   "source": [
    "# 3) Math: Math module provides  access to the  mathematical functions.\n",
    "# https://www.geeksforgeeks.org/python-math-module/\n",
    "\n",
    "import math\n",
    "print(math.ceil(10.98))   # CEIL FUNCTION IS USED TO GET THE ROUND OFF VALUE OF NUMBER\n",
    "\n",
    "import math \n",
    "print(math.copysign(19,-1))   # It will returns the x with sign of y  \n",
    "\n",
    "import math \n",
    "print(math.fabs(-19.5))   #Rturns a absolute value i.e. the positive value."
   ]
  },
  {
   "cell_type": "code",
   "execution_count": null,
   "metadata": {},
   "outputs": [],
   "source": [
    "# 4) DateTime:  https://www.geeksforgeeks.org/python-datetime-module/\n",
    "\n",
    "\n",
    "\n",
    "\n",
    "# 5) Random: Ramdom module impliments random number generation for various distribution.\n",
    " #https://www.geeksforgeeks.org/python-random-module/"
   ]
  },
  {
   "cell_type": "code",
   "execution_count": 19,
   "metadata": {},
   "outputs": [
    {
     "name": "stdout",
     "output_type": "stream",
     "text": [
      "65\n",
      "12\n",
      "5\n",
      "<bound method Random.getstate of <random.Random object at 0x000002322902AC70>>\n",
      "<bound method Random.getstate of <random.Random object at 0x000002322902AC70>>\n",
      "3.2034457491581456\n"
     ]
    }
   ],
   "source": [
    "import random \n",
    "num= random.randrange(100)   # Will generate a random number between 1-100.\n",
    "print(num)\n",
    "\n",
    "import random \n",
    "ran= random.randrange(0,20,3)  #It will return a number between start to end with given steps.\n",
    "print(ran)\n",
    "\n",
    "import random\n",
    "inte=random.randint(0,30)  # It will return an integer  inte>=0 inte<=30\n",
    "print(inte)\n",
    "print(random.getstate)\n",
    "\n",
    "import random\n",
    "print(random.getstate)  # To get the current state of a generator.and\n",
    "\n",
    "import random \n",
    "print(random.uniform(2,6))  # It will returns random floating number."
   ]
  },
  {
   "cell_type": "code",
   "execution_count": null,
   "metadata": {},
   "outputs": [],
   "source": []
  }
 ],
 "metadata": {
  "kernelspec": {
   "display_name": "Python 3",
   "language": "python",
   "name": "python3"
  },
  "language_info": {
   "codemirror_mode": {
    "name": "ipython",
    "version": 3
   },
   "file_extension": ".py",
   "mimetype": "text/x-python",
   "name": "python",
   "nbconvert_exporter": "python",
   "pygments_lexer": "ipython3",
   "version": "3.9.1"
  },
  "orig_nbformat": 4,
  "vscode": {
   "interpreter": {
    "hash": "a6ada047e8940af673a5a678b6ba14e182d5b4e08fa205eb091207f23619d85d"
   }
  }
 },
 "nbformat": 4,
 "nbformat_minor": 2
}
