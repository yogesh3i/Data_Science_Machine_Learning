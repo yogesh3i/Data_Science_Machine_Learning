{
  "cells": [
    {
      "cell_type": "markdown",
      "metadata": {
        "id": "ATlkM5MQqvwJ"
      },
      "source": [
        "<h2>Regresssion</h2>\n",
        "\n",
        "## Demo 2 : Calculating R Square in Python  \n",
        "\n",
        "In this demo, you will be calculating R-squared for different inputs"
      ]
    },
    {
      "cell_type": "markdown",
      "metadata": {
        "id": "MFhuEWMdqv2Q"
      },
      "source": [
        "<div style=\"background-color:##EDF9FF\">\n",
        " <ul><li><h3>Import required libraries</h3></li></ul>\n",
        "</div>"
      ]
    },
    {
      "cell_type": "code",
      "execution_count": 1,
      "metadata": {
        "id": "VvoHKCPqqv2R"
      },
      "outputs": [],
      "source": [
        "import numpy as np \n",
        "import matplotlib.pyplot as plt \n",
        "%matplotlib inline"
      ]
    },
    {
      "cell_type": "markdown",
      "metadata": {
        "id": "kzS6dmFkqv2V"
      },
      "source": [
        "<div style=\"background-color:##EDF9FF\">\n",
        " <ul><li><h3>Function to calculate intercept and slope</h3></li></ul>\n",
        "</div>"
      ]
    },
    {
      "cell_type": "code",
      "execution_count": 2,
      "metadata": {
        "id": "trb4x2TCqv2W"
      },
      "outputs": [],
      "source": [
        "#This function will be used to find the value of y intercept and slope\n",
        "def coef_estimation(x, y): \n",
        "    # number of observations/points\n",
        "    n = np.size(x) \n",
        "  \n",
        "    # Find mean of x and y\n",
        "    x_mean = np.mean(x)\n",
        "    y_mean = np.mean(y) \n",
        "  \n",
        "    # Use sum of square to find out the intercept and slope\n",
        "    \n",
        "    SS_xy = np.sum(y*x) - (n * y_mean * x_mean)\n",
        "    SS_xx = np.sum(x*x) - (n * x_mean * x_mean)\n",
        "  \n",
        "    # calculating regression coefficients \n",
        "    slope = SS_xy / SS_xx \n",
        "    y_intercept = y_mean - slope*x_mean\n",
        "  \n",
        "    return(y_intercept, slope) "
      ]
    },
    {
      "cell_type": "markdown",
      "metadata": {
        "id": "ZIisCUcIqv2b"
      },
      "source": [
        "<div style=\"background-color:##EDF9FF\">\n",
        " <ul><li><h3>Finding R-squared using the above generated function and sklearn library     \n",
        "              </h3></li></ul>\n",
        "</div>"
      ]
    },
    {
      "cell_type": "markdown",
      "metadata": {
        "id": "BW3EGMckqv2d"
      },
      "source": [
        "<div style=\"background-color:##EDF9FF\">\n",
        " <ul><li><h3>Example-1</h3></li></ul>\n",
        "</div>"
      ]
    },
    {
      "cell_type": "code",
      "execution_count": 3,
      "metadata": {
        "colab": {
          "base_uri": "https://localhost:8080/"
        },
        "id": "sFoai5Fyqv2f",
        "outputId": "b8b17129-bc1d-4eed-e0d4-19cf479accb9"
      },
      "outputs": [
        {
          "name": "stdout",
          "output_type": "stream",
          "text": [
            "R-Square:  0.9597000937207123\n"
          ]
        }
      ],
      "source": [
        "from sklearn.metrics import r2_score\n",
        "\n",
        "x = np.array([0, 1, 2, 3, 4, 5, 6, 7, 8, 9]) \n",
        "y = np.array([1, 3, 2, 5, 7, 7, 8, 9, 10, 12]) \n",
        "\n",
        "c, m = coef_estimation(x,y)\n",
        "y_pred = c+ m*x\n",
        "print(\"R-Square: \",r2_score(y, y_pred))"
      ]
    },
    {
      "cell_type": "markdown",
      "metadata": {
        "id": "-vQuRKrQqv2q"
      },
      "source": [
        "<div style=\"background-color:##EDF9FF\">\n",
        " <ul><li><h3>Example-2</h3></li></ul>\n",
        "</div>"
      ]
    },
    {
      "cell_type": "code",
      "execution_count": 4,
      "metadata": {
        "colab": {
          "base_uri": "https://localhost:8080/"
        },
        "id": "fMY4k3tgqv2r",
        "outputId": "32064374-57a0-4cc6-9be3-f165a82dfc93"
      },
      "outputs": [
        {
          "name": "stdout",
          "output_type": "stream",
          "text": [
            "R-Square:  0.3076923076923078\n"
          ]
        }
      ],
      "source": [
        "from sklearn.metrics import r2_score\n",
        "\n",
        "x = np.array([1, 2, 3, 4, 5]) \n",
        "y = np.array([3, 4, 2, 4, 5]) \n",
        "\n",
        "c, m = coef_estimation(x,y)\n",
        "y_pred = c+ m*x\n",
        "print(\"R-Square: \",r2_score(y, y_pred))"
      ]
    },
    {
      "cell_type": "markdown",
      "metadata": {
        "id": "2Am5eyNXqv2s"
      },
      "source": [
        "<b> conclusion </b> : we have calculated R-squared for different values of input"
      ]
    },
    {
      "cell_type": "code",
      "execution_count": 4,
      "metadata": {
        "id": "QBKauDfGqv2t"
      },
      "outputs": [],
      "source": []
    }
  ],
  "metadata": {
    "colab": {
      "name": "1752_day14_demo2 - Calculating R Square in Python.ipynb",
      "provenance": []
    },
    "kernelspec": {
      "display_name": "Python 3",
      "language": "python",
      "name": "python3"
    },
    "language_info": {
      "codemirror_mode": {
        "name": "ipython",
        "version": 3
      },
      "file_extension": ".py",
      "mimetype": "text/x-python",
      "name": "python",
      "nbconvert_exporter": "python",
      "pygments_lexer": "ipython3",
      "version": "3.7.3"
    }
  },
  "nbformat": 4,
  "nbformat_minor": 0
}
