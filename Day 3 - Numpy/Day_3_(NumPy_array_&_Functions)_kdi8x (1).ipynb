{
 "cells": [
  {
   "cell_type": "code",
   "execution_count": 1,
   "id": "62b79c50",
   "metadata": {},
   "outputs": [],
   "source": [
    "import numpy as np"
   ]
  },
  {
   "cell_type": "code",
   "execution_count": 2,
   "id": "d34938d2",
   "metadata": {},
   "outputs": [
    {
     "name": "stdout",
     "output_type": "stream",
     "text": [
      "1.23.1\n"
     ]
    }
   ],
   "source": [
    "# To print the versions of array\n",
    "print(np.__version__)"
   ]
  },
  {
   "cell_type": "code",
   "execution_count": 3,
   "id": "664b2213",
   "metadata": {},
   "outputs": [],
   "source": [
    "def print_array_attribute(arr):\n",
    "    \"\"\"\n",
    "    Function to print the attributes of array\n",
    "    \"\"\"\n",
    "    print(f\"The array is \\n{arr}\")\n",
    "    print(f\"\\nThe shape of array is {arr.shape}\")\n",
    "    print(f\"Dimension of array is {arr.ndim}\")\n",
    "    print(f\"The size of array is {arr.size}\")\n",
    "    print(f\"The data type of each element of array is {arr.dtype}\")\n",
    "    print(f\"The byte size of each element of array is {arr.itemsize} bytes\")"
   ]
  },
  {
   "cell_type": "code",
   "execution_count": 4,
   "id": "c972a32b",
   "metadata": {},
   "outputs": [],
   "source": [
    "# List to create 1d array\n",
    "a1d_list = [2, 3, 4, 5, 6,]"
   ]
  },
  {
   "cell_type": "code",
   "execution_count": 5,
   "id": "ae0309c1",
   "metadata": {},
   "outputs": [
    {
     "data": {
      "text/plain": [
       "array([2, 3, 4, 5, 6])"
      ]
     },
     "execution_count": 5,
     "metadata": {},
     "output_type": "execute_result"
    }
   ],
   "source": [
    "# 1d array creation with list\n",
    "a1d_array = np.array(a1d_list)\n",
    "a1d_array"
   ]
  },
  {
   "cell_type": "code",
   "execution_count": 6,
   "id": "3092f133",
   "metadata": {},
   "outputs": [
    {
     "name": "stdout",
     "output_type": "stream",
     "text": [
      "The array is \n",
      "[2 3 4 5 6]\n",
      "\n",
      "The shape of array is (5,)\n",
      "Dimension of array is 1\n",
      "The size of array is 5\n",
      "The data type of each element of array is int32\n",
      "The byte size of each element of array is 4 bytes\n"
     ]
    }
   ],
   "source": [
    "# Print attributes of array\n",
    "print_array_attribute(a1d_array)"
   ]
  },
  {
   "cell_type": "code",
   "execution_count": 7,
   "id": "c3710346",
   "metadata": {},
   "outputs": [
    {
     "data": {
      "text/plain": [
       "[[1, 2, 3], [4, 5, 6], [7, 8, 9]]"
      ]
     },
     "execution_count": 7,
     "metadata": {},
     "output_type": "execute_result"
    }
   ],
   "source": [
    "# List to create 2d array\n",
    "a2d_list = [[1,2,3],[4,5,6],[7,8,9]]\n",
    "a2d_list"
   ]
  },
  {
   "cell_type": "code",
   "execution_count": 8,
   "id": "2827edd6",
   "metadata": {},
   "outputs": [
    {
     "data": {
      "text/plain": [
       "array([[1, 2, 3],\n",
       "       [4, 5, 6],\n",
       "       [7, 8, 9]])"
      ]
     },
     "execution_count": 8,
     "metadata": {},
     "output_type": "execute_result"
    }
   ],
   "source": [
    "# 2d array created using list\n",
    "a2d_array = np.array(a2d_list)\n",
    "a2d_array"
   ]
  },
  {
   "cell_type": "code",
   "execution_count": 9,
   "id": "050b64c0",
   "metadata": {},
   "outputs": [
    {
     "name": "stdout",
     "output_type": "stream",
     "text": [
      "The array is \n",
      "[[1 2 3]\n",
      " [4 5 6]\n",
      " [7 8 9]]\n",
      "\n",
      "The shape of array is (3, 3)\n",
      "Dimension of array is 2\n",
      "The size of array is 9\n",
      "The data type of each element of array is int32\n",
      "The byte size of each element of array is 4 bytes\n"
     ]
    }
   ],
   "source": [
    "# Print attributes of array\n",
    "print_array_attribute(a2d_array)"
   ]
  },
  {
   "cell_type": "code",
   "execution_count": 10,
   "id": "86f9f8ff",
   "metadata": {},
   "outputs": [
    {
     "data": {
      "text/plain": [
       "[[[1, 2, 3], [4, 5, 6], [7, 8, 9]], [[1, 2, 3], [4, 5, 6], [7, 8, 9]]]"
      ]
     },
     "execution_count": 10,
     "metadata": {},
     "output_type": "execute_result"
    }
   ],
   "source": [
    "# List to create 3d array\n",
    "a3d_list = [[[1,2,3],[4,5,6],[7,8,9]],[[1,2,3],[4,5,6],[7,8,9]]]\n",
    "a3d_list"
   ]
  },
  {
   "cell_type": "code",
   "execution_count": 11,
   "id": "662d06a2",
   "metadata": {},
   "outputs": [
    {
     "data": {
      "text/plain": [
       "array([[[1, 2, 3],\n",
       "        [4, 5, 6],\n",
       "        [7, 8, 9]],\n",
       "\n",
       "       [[1, 2, 3],\n",
       "        [4, 5, 6],\n",
       "        [7, 8, 9]]])"
      ]
     },
     "execution_count": 11,
     "metadata": {},
     "output_type": "execute_result"
    }
   ],
   "source": [
    "# 3d array creation with list\n",
    "a3d_array = np.array(a3d_list)\n",
    "a3d_array"
   ]
  },
  {
   "cell_type": "code",
   "execution_count": 12,
   "id": "f31c47f9",
   "metadata": {},
   "outputs": [
    {
     "name": "stdout",
     "output_type": "stream",
     "text": [
      "The array is \n",
      "[[[1 2 3]\n",
      "  [4 5 6]\n",
      "  [7 8 9]]\n",
      "\n",
      " [[1 2 3]\n",
      "  [4 5 6]\n",
      "  [7 8 9]]]\n",
      "\n",
      "The shape of array is (2, 3, 3)\n",
      "Dimension of array is 3\n",
      "The size of array is 18\n",
      "The data type of each element of array is int32\n",
      "The byte size of each element of array is 4 bytes\n"
     ]
    }
   ],
   "source": [
    "# Print attributes of array\n",
    "print_array_attribute(a3d_array)"
   ]
  },
  {
   "cell_type": "code",
   "execution_count": 13,
   "id": "40701fc8",
   "metadata": {},
   "outputs": [
    {
     "data": {
      "text/plain": [
       "[[[[1, 2, 3], [4, 5, 6], [7, 8, 9]],\n",
       "  [[1, 2, 3], [4, 5, 6], [7, 8, 9]],\n",
       "  [[1, 2, 3], [4, 5, 6], [7, 8, 9]]]]"
      ]
     },
     "execution_count": 13,
     "metadata": {},
     "output_type": "execute_result"
    }
   ],
   "source": [
    "# List to create 4d array\n",
    "a4d_list = [[[[1,2,3],[4,5,6],[7,8,9]],[[1,2,3],[4,5,6],[7,8,9]],[[1,2,3],[4,5,6],[7,8,9]]]]\n",
    "a4d_list"
   ]
  },
  {
   "cell_type": "code",
   "execution_count": 14,
   "id": "f802791b",
   "metadata": {},
   "outputs": [
    {
     "data": {
      "text/plain": [
       "array([[[[1, 2, 3],\n",
       "         [4, 5, 6],\n",
       "         [7, 8, 9]],\n",
       "\n",
       "        [[1, 2, 3],\n",
       "         [4, 5, 6],\n",
       "         [7, 8, 9]],\n",
       "\n",
       "        [[1, 2, 3],\n",
       "         [4, 5, 6],\n",
       "         [7, 8, 9]]]])"
      ]
     },
     "execution_count": 14,
     "metadata": {},
     "output_type": "execute_result"
    }
   ],
   "source": [
    "# 4d array creation with list\n",
    "a4d_array = np.array(a4d_list)\n",
    "a4d_array"
   ]
  },
  {
   "cell_type": "code",
   "execution_count": 15,
   "id": "18c03901",
   "metadata": {},
   "outputs": [
    {
     "name": "stdout",
     "output_type": "stream",
     "text": [
      "The array is \n",
      "[[[[1 2 3]\n",
      "   [4 5 6]\n",
      "   [7 8 9]]\n",
      "\n",
      "  [[1 2 3]\n",
      "   [4 5 6]\n",
      "   [7 8 9]]\n",
      "\n",
      "  [[1 2 3]\n",
      "   [4 5 6]\n",
      "   [7 8 9]]]]\n",
      "\n",
      "The shape of array is (1, 3, 3, 3)\n",
      "Dimension of array is 4\n",
      "The size of array is 27\n",
      "The data type of each element of array is int32\n",
      "The byte size of each element of array is 4 bytes\n"
     ]
    }
   ],
   "source": [
    "# Print attributes of array\n",
    "print_array_attribute(a4d_array)"
   ]
  }
 ],
 "metadata": {
  "kernelspec": {
   "display_name": "Python 3 (ipykernel)",
   "language": "python",
   "name": "python3"
  },
  "language_info": {
   "codemirror_mode": {
    "name": "ipython",
    "version": 3
   },
   "file_extension": ".py",
   "mimetype": "text/x-python",
   "name": "python",
   "nbconvert_exporter": "python",
   "pygments_lexer": "ipython3",
   "version": "3.9.12"
  }
 },
 "nbformat": 4,
 "nbformat_minor": 5
}
