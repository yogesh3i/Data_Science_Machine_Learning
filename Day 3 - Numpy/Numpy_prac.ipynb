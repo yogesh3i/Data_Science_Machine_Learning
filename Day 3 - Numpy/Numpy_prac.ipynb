{
 "cells": [
  {
   "cell_type": "code",
   "execution_count": null,
   "metadata": {},
   "outputs": [],
   "source": [
    "# Need of numpy array:\n",
    "\"\"\"\n",
    "By using numpy array we can perform complex mathematical operations like below\n",
    "1. Creation of array/Matrices\n",
    "2. To perform integral calculation\n",
    "3. Solving differential equation\n",
    "4. Statastic related operations\n",
    "\n",
    "To perform such complex mathematical operations python does not contain any inbuilt library.\n",
    "Numpy was written in python and C(Hence the performance of the numpy array is good as compared to conventional list) language also.\n",
    "\"\"\"\n",
    "# Why numpy is fast:\n",
    "\"\"\"\n",
    "NumPy arrays are stored at one continuous place in memory unlike lists, so processes can \n",
    "access and manipulate them very efficiently.\n",
    "\n",
    "This behavior is called locality of reference in computer science.\n",
    "\n",
    "This is the main reason why NumPy is faster than lists. Also it is optimized to work with \n",
    "latest CPU architectures.\n",
    "\"\"\"\n",
    "\n",
    "# What is array in numpy :\n",
    "\"\"\"\n",
    "An array is a data structure which can store data of same data type.\n",
    "In python this is the only difference between the list and the array because list can contain data \n",
    "corresponds to diffrent datatypes while array only have of same data type.\n",
    "In numpy we can hold the data by using the array data structure.\n",
    "The array which are created by using numpy are called nd array.\n",
    "nd array are used in most of the data science library like pandas, scikit learn etc.\n",
    "\n",
    "\"\"\"\n"
   ]
  },
  {
   "cell_type": "code",
   "execution_count": null,
   "metadata": {},
   "outputs": [],
   "source": [
    "import numpy as np  # NumPy is usually imported under the np alias.\n"
   ]
  },
  {
   "cell_type": "code",
   "execution_count": 4,
   "metadata": {},
   "outputs": [
    {
     "name": "stdout",
     "output_type": "stream",
     "text": [
      "1.23.1\n"
     ]
    }
   ],
   "source": [
    "print(np.__version__)  # To print thr\n"
   ]
  },
  {
   "cell_type": "code",
   "execution_count": 10,
   "metadata": {},
   "outputs": [
    {
     "name": "stdout",
     "output_type": "stream",
     "text": [
      "[[1 2 3 4]\n",
      " [5 6 7 8]\n",
      " [9 0 1 2]]\n",
      "<class 'numpy.ndarray'>\n"
     ]
    },
    {
     "data": {
      "text/plain": [
       "(3, 4)"
      ]
     },
     "execution_count": 10,
     "metadata": {},
     "output_type": "execute_result"
    }
   ],
   "source": [
    "# Numpy creating array: \n",
    "\n",
    "\"\"\"NumPy is used to work with arrays. The array object in NumPy is called ndarray.\n",
    "We can create a NumPy ndarray object by using the array() function.\"\"\"\n",
    "\n",
    "# type(): This built-in Python function tells us the type of the object passed to it.\n",
    "#  Like in above code it shows that arr is numpy.ndarray type.\n",
    "\n",
    "import numpy as np\n",
    "\n",
    "lst = [1, 2, 3, 4]\n",
    "lst1 = [5, 6, 7, 8]\n",
    "lst2 = [9, 0, 1, 2]\n",
    "arr = np.array([lst, lst1, lst2])\n",
    "print(arr)\n",
    "print(type(arr))\n",
    "np.shape(arr)"
   ]
  },
  {
   "cell_type": "code",
   "execution_count": 3,
   "metadata": {},
   "outputs": [
    {
     "name": "stdout",
     "output_type": "stream",
     "text": [
      "[1 2 3 4]\n"
     ]
    }
   ],
   "source": [
    "# or we can directly pass the list/tuple/array\n",
    "import numpy as np\n",
    "arr1 = np.array((1, 2, 3, 4))\n",
    "print(arr1)\n"
   ]
  },
  {
   "cell_type": "code",
   "execution_count": 20,
   "metadata": {},
   "outputs": [],
   "source": [
    "# Function to print the array attribute:\n",
    "\n",
    "def print_array_attributes(arr):  # Function to print Array atributes\n",
    "    print(f\"The array is \\n{arr}\")\n",
    "    print(f\"The shape of the array is {arr.shape}\")\n",
    "    print(f\"The size of the array is {arr.size}\")\n",
    "    print(f\"Array dimension is {arr.ndim}\")\n",
    "    print(f\"Data type of an array is {arr.dtype}\")\n",
    "    print(f\"The size of each element of array is {arr.itemsize} bytes\")\n"
   ]
  },
  {
   "cell_type": "code",
   "execution_count": 16,
   "metadata": {},
   "outputs": [
    {
     "name": "stdout",
     "output_type": "stream",
     "text": [
      "The array is \n",
      "[[1 2 3 4]\n",
      " [5 6 7 8]]\n",
      "The shape of the array is (2, 4)\n",
      "The size of the array is 8\n",
      "Array dimension is 2\n",
      "Data type of an array is int32\n",
      "The size of each element of array is 4 bytes\n"
     ]
    }
   ],
   "source": [
    "print_array_attributes(arr2)\n"
   ]
  },
  {
   "cell_type": "code",
   "execution_count": 4,
   "metadata": {},
   "outputs": [
    {
     "name": "stdout",
     "output_type": "stream",
     "text": [
      "[[[[[1 2 3 4]]]]]\n",
      "Dmensions: 5\n"
     ]
    }
   ],
   "source": [
    "# Higher dimensional array: To create an array with 5 Dimension.\n",
    "\n",
    "import numpy as np\n",
    "arr = np.array([1, 2, 3, 4], ndmin=5)\n",
    "print(arr)\n",
    "print(\"Dmensions:\", arr.ndim)\n"
   ]
  },
  {
   "cell_type": "code",
   "execution_count": 6,
   "metadata": {},
   "outputs": [
    {
     "name": "stdout",
     "output_type": "stream",
     "text": [
      "\n",
      " [[0. 0. 0. 0. 0.]\n",
      " [0. 0. 0. 0. 0.]\n",
      " [0. 0. 0. 0. 0.]\n",
      " [0. 0. 0. 0. 0.]]\n",
      "\n",
      " [[1. 1. 1. 1. 1. 1.]\n",
      " [1. 1. 1. 1. 1. 1.]\n",
      " [1. 1. 1. 1. 1. 1.]\n",
      " [1. 1. 1. 1. 1. 1.]\n",
      " [1. 1. 1. 1. 1. 1.]]\n",
      "\n",
      " [1 1]\n",
      "\n",
      " [[[1. 1. 1. 1.]\n",
      "  [1. 1. 1. 1.]\n",
      "  [1. 1. 1. 1.]]\n",
      "\n",
      " [[1. 1. 1. 1.]\n",
      "  [1. 1. 1. 1.]\n",
      "  [1. 1. 1. 1.]]]\n"
     ]
    }
   ],
   "source": [
    "# Array creation routines: Array can be created using the following methods.\n",
    "\n",
    "# 1. Array of 1's and 0's : zeros() or ones() can create array of only ones or zeros with dimension given in the shape argument.\n",
    "\n",
    "import numpy as np\n",
    "arr = np.zeros((4, 5))\n",
    "print('\\n',arr)\n",
    "\n",
    "arr1 = np.ones((5, 6))\n",
    "print('\\n',arr1)\n",
    "\n",
    "# to change the data type of the element to int.\n",
    "arr2 = np.ones((2), dtype=int)\n",
    "print('\\n',arr2)\n",
    "\n",
    "# 3-D array of ons\n",
    "aee3 = np.ones((2, 3, 4))\n",
    "print('\\n',aee3)\n"
   ]
  },
  {
   "cell_type": "code",
   "execution_count": 2,
   "metadata": {},
   "outputs": [
    {
     "name": "stdout",
     "output_type": "stream",
     "text": [
      "[1 2 3 4 4]\n"
     ]
    }
   ],
   "source": [
    "# 2. Creating an NUMPY array from the existing data:\n",
    "import numpy as np\n",
    "lst = [1, 2, 3, 4, 4]  # Existing data\n",
    "arr = np.array(lst)\n",
    "print(arr)\n"
   ]
  },
  {
   "cell_type": "code",
   "execution_count": 3,
   "metadata": {},
   "outputs": [
    {
     "name": "stdout",
     "output_type": "stream",
     "text": [
      "\n",
      " [1 2 3 4]\n",
      "\n",
      " [1 2 3 4]\n",
      "\n",
      " [1 9 3 4]\n",
      "\n",
      " [1 9 3 4]\n"
     ]
    }
   ],
   "source": [
    "import numpy as np\n",
    "lst = [1, 2, 3, 4]\n",
    "a1 = np.array(lst)\n",
    "print('\\n',a1)\n",
    "\n",
    "b1 = a1\n",
    "print('\\n',b1)\n",
    "a1[1] = 9\n",
    "print('\\n',a1)    # Here means b1 is acting like poniter for the a1 and if we are changing any content of a1 the content\n",
    "# of b1 is also changing because its stored at the same memeory location.\n",
    "print('\\n',b1)\n"
   ]
  },
  {
   "cell_type": "code",
   "execution_count": 4,
   "metadata": {},
   "outputs": [
    {
     "name": "stdout",
     "output_type": "stream",
     "text": [
      "[1 2 3 4]\n",
      "[1 2 3 4]\n",
      "[1 2 3 5]\n",
      "[1 2 3 4]\n"
     ]
    }
   ],
   "source": [
    "# Hence we can use a .copy() function method  to avoide this.\n",
    "import numpy as np\n",
    "lst = [1, 2, 3, 4]\n",
    "a1 = np.array(lst)\n",
    "print(a1)\n",
    "b1 = a1.copy()\n",
    "print(b1)\n",
    "a1[3] = 5\n",
    "print(a1)\n",
    "print(b1)    # now the copy array is not changed\n"
   ]
  },
  {
   "cell_type": "code",
   "execution_count": 40,
   "metadata": {},
   "outputs": [
    {
     "name": "stdout",
     "output_type": "stream",
     "text": [
      "[ 1  2  3  4  5  6  7  8  9 10 11 12 13 14 15 16 17 18 19]\n"
     ]
    }
   ],
   "source": [
    "# Create an numpy array using arange() fuhnction: In this method we can use starting, ending and step value\n",
    "# and numpy will create an array in that range count.\n",
    "\n",
    "import numpy as np\n",
    "arr = np.arange(1, 20, 1)\n",
    "print(arr)\n"
   ]
  },
  {
   "cell_type": "code",
   "execution_count": 5,
   "metadata": {},
   "outputs": [
    {
     "name": "stdout",
     "output_type": "stream",
     "text": [
      "[ 3  4  5  6  7  8  9 10 11 12 13 14 15 16 17 18 19 20 21 22 23]\n"
     ]
    }
   ],
   "source": [
    "# also we can specify as below\n",
    "import numpy as np\n",
    "arr = np.arange(start=3, stop=24, step=1)\n",
    "print(arr)\n"
   ]
  },
  {
   "cell_type": "code",
   "execution_count": 58,
   "metadata": {},
   "outputs": [
    {
     "name": "stdout",
     "output_type": "stream",
     "text": [
      "[2. 3. 4. 5.]\n"
     ]
    }
   ],
   "source": [
    "# Creating an numpy array using linspace:\n",
    "\n",
    "# syntex: numpy.linspace(start, stop, num=50)\n",
    "\n",
    "\n",
    "import numpy as np\n",
    "arr1 = np.linspace(start=2, stop=5, num=4)\n",
    "print(arr1)\n"
   ]
  },
  {
   "cell_type": "code",
   "execution_count": 65,
   "metadata": {},
   "outputs": [
    {
     "name": "stdout",
     "output_type": "stream",
     "text": [
      "[3 4 5 6 7 8]\n",
      "[ 2  4  6  8 10 12]\n",
      "[0.2 0.4 0.6 0.8 1.  1.2]\n",
      "[-5 -4 -3 -2 -1  0]\n"
     ]
    }
   ],
   "source": [
    "# Arithmatic operations on the numpy array: \n",
    "# 1. To add a number to the each element of the array.\n",
    "import numpy as np \n",
    "lst= [1,2,3,4,5,6]\n",
    "arr2=np.array(lst)\n",
    "arr3=arr2+2\n",
    "print(arr3)\n",
    "arr4=arr2*2\n",
    "print(arr4)\n",
    "arr5=arr2/5\n",
    "print(arr5)\n",
    "arr6=arr2-6\n",
    "print(arr6)\n"
   ]
  },
  {
   "cell_type": "code",
   "execution_count": 71,
   "metadata": {},
   "outputs": [
    {
     "name": "stdout",
     "output_type": "stream",
     "text": [
      "[ 5  7  9 11]\n",
      "[-3 -3 -3 -3]\n",
      "[0.25       0.4        0.5        0.57142857]\n",
      "[ 4 10 18 28]\n"
     ]
    }
   ],
   "source": [
    "#2. How to add two arrays: To perform arithmatic operations on the two different arrays that array shoild be of same dimensions.\n",
    "\n",
    "import numpy as np\n",
    "arr1= np.array([1,2,3,4])\n",
    "arr2= np.array([4,5,6,7])\n",
    "print(arr1+arr2)\n",
    "print(arr1-arr2)\n",
    "print(arr1/arr2)\n",
    "print(arr1*arr2)\n"
   ]
  },
  {
   "cell_type": "code",
   "execution_count": 4,
   "metadata": {},
   "outputs": [
    {
     "name": "stdout",
     "output_type": "stream",
     "text": [
      "The array is \n",
      "[ 0  1  2  3  4  5  6  7  8  9 10 11]\n",
      "The shape of the array is (12,)\n",
      "The size of the array is 12\n",
      "Array dimension is 1\n",
      "Data type of an array is int32\n",
      "The size of each element of array is 4 bytes\n"
     ]
    }
   ],
   "source": [
    "#  How to use reshape function: By using this function we can reshape the array to different dimensions.\n",
    "import numpy as np \n",
    "arr1d= np.arange(0,12)\n",
    "print_array_attributes(arr1d)"
   ]
  },
  {
   "cell_type": "code",
   "execution_count": 5,
   "metadata": {},
   "outputs": [
    {
     "name": "stdout",
     "output_type": "stream",
     "text": [
      "The array is \n",
      "[[ 0  1  2]\n",
      " [ 3  4  5]\n",
      " [ 6  7  8]\n",
      " [ 9 10 11]]\n",
      "The shape of the array is (4, 3)\n",
      "The size of the array is 12\n",
      "Array dimension is 2\n",
      "Data type of an array is int32\n",
      "The size of each element of array is 4 bytes\n"
     ]
    }
   ],
   "source": [
    "arr2d=arr1d.reshape(4,3)    # This function is used to change the dimension of the aray or to reshaped the function.\n",
    "print_array_attributes(arr2d)"
   ]
  },
  {
   "cell_type": "code",
   "execution_count": 9,
   "metadata": {},
   "outputs": [
    {
     "name": "stdout",
     "output_type": "stream",
     "text": [
      "The array is \n",
      "[[ 0  1  2  3]\n",
      " [ 4  5  6  7]\n",
      " [ 8  9 10 11]\n",
      " [12 13 14 15]]\n",
      "The shape of the array is (4, 4)\n",
      "The size of the array is 16\n",
      "Array dimension is 2\n",
      "Data type of an array is int32\n",
      "The size of each element of array is 4 bytes\n",
      "The array is \n",
      "[[1 1 1 1]\n",
      " [1 1 1 1]\n",
      " [1 1 1 1]\n",
      " [1 1 1 1]]\n",
      "The shape of the array is (4, 4)\n",
      "The size of the array is 16\n",
      "Array dimension is 2\n",
      "Data type of an array is int32\n",
      "The size of each element of array is 4 bytes\n"
     ]
    }
   ],
   "source": [
    "import numpy as np \n",
    "arr1d= np.arange(0,16).reshape(4,4)\n",
    "arr2= np.ones(16,dtype=int).reshape(4,4)\n",
    "print_array_attributes(arr1d)\n",
    "print_array_attributes(arr2)\n",
    "\n"
   ]
  },
  {
   "cell_type": "code",
   "execution_count": 10,
   "metadata": {},
   "outputs": [
    {
     "name": "stdout",
     "output_type": "stream",
     "text": [
      "The array is \n",
      "[[ 1  2  3  4]\n",
      " [ 5  6  7  8]\n",
      " [ 9 10 11 12]\n",
      " [13 14 15 16]]\n",
      "The shape of the array is (4, 4)\n",
      "The size of the array is 16\n",
      "Array dimension is 2\n",
      "Data type of an array is int32\n",
      "The size of each element of array is 4 bytes\n"
     ]
    }
   ],
   "source": [
    "arradd=arr1d + arr2\n",
    "print_array_attributes(arradd)"
   ]
  },
  {
   "cell_type": "code",
   "execution_count": 19,
   "metadata": {},
   "outputs": [
    {
     "name": "stdout",
     "output_type": "stream",
     "text": [
      "[[0 1 2]\n",
      " [3 4 5]\n",
      " [6 7 8]]\n",
      "[[1 1 1]\n",
      " [1 1 1]\n",
      " [1 1 1]]\n",
      "[[ 3  3  3]\n",
      " [12 12 12]\n",
      " [21 21 21]]\n",
      "The array is \n",
      "[[ 3  3  3]\n",
      " [12 12 12]\n",
      " [21 21 21]]\n",
      "The shape of the array is (3, 3)\n",
      "The size of the array is 9\n",
      "Array dimension is 2\n",
      "Data type of an array is int32\n",
      "The size of each element of array is 4 bytes\n"
     ]
    }
   ],
   "source": [
    "# To perform the matrix product: Syntex print(np.dot(a,b))\n",
    "\n",
    "import numpy as np \n",
    "arr1= np.arange(0,9).reshape(3,3)\n",
    "arr2= np.ones(9,dtype=int).reshape(3,3)\n",
    "print(arr1)\n",
    "print(arr2)\n",
    "\n",
    "arr3=np.dot(arr1,arr2)\n",
    "print(arr3)\n",
    "print_array_attributes(arr3)\n",
    "\n"
   ]
  },
  {
   "cell_type": "code",
   "execution_count": 8,
   "metadata": {},
   "outputs": [
    {
     "name": "stdout",
     "output_type": "stream",
     "text": [
      "[[0 1 2]\n",
      " [3 4 5]\n",
      " [6 7 8]]\n"
     ]
    }
   ],
   "source": [
    " import numpy as np \n",
    " arr= np.arange(0,9).reshape(3,3)\n",
    " print(arr)"
   ]
  },
  {
   "cell_type": "code",
   "execution_count": 9,
   "metadata": {},
   "outputs": [
    {
     "name": "stdout",
     "output_type": "stream",
     "text": [
      "[[1 2 3]\n",
      " [4 5 6]\n",
      " [7 8 9]]\n"
     ]
    }
   ],
   "source": [
    "lst= [1,2,3,4,5,6,7,8,9]\n",
    "arr2= np.array(lst).reshape(3,3)\n",
    "print(arr2)"
   ]
  },
  {
   "cell_type": "code",
   "execution_count": 10,
   "metadata": {},
   "outputs": [
    {
     "name": "stdout",
     "output_type": "stream",
     "text": [
      "[[ 18  21  24]\n",
      " [ 54  66  78]\n",
      " [ 90 111 132]]\n"
     ]
    }
   ],
   "source": [
    "import numpy as np \n",
    "arr3= np.dot(arr,arr2)\n",
    "\n",
    "print(arr3)"
   ]
  },
  {
   "cell_type": "code",
   "execution_count": 1,
   "metadata": {},
   "outputs": [
    {
     "name": "stdout",
     "output_type": "stream",
     "text": [
      "[2. 3. 9.]\n"
     ]
    }
   ],
   "source": [
    "# Function in numpy:  \n",
    "\"\"\"Universal functions in Numpy are simple mathematical functions. Numpy provides various universal functions that cover a wide variety of operations. \n",
    "These functions include standard trigonometric functions, functions for arithmetic operations, handling complex numbers, statistical functions, etc.\n",
    "\n",
    "    # Characteristics of universal functions:\n",
    "        1. These functions are operates on ndarray.\n",
    "        2. It performs elementwise fast nd operations.\n",
    "        3. It supports various features like array brodcasting and type casting.\n",
    "        4. Pyhton universal function can be created by using frompyfunc library function. \n",
    "        5. Some unifunc are used internally when any of the mathematical operator is being used in the operation.\n",
    "            eg. When '+' operator is used in the statement then np.add() function is called internally. \"\"\"\n",
    "\n",
    "import numpy as np \n",
    "root=np.sqrt([4,9,81])\n",
    "print(root)\n"
   ]
  },
  {
   "cell_type": "code",
   "execution_count": null,
   "metadata": {},
   "outputs": [],
   "source": [
    "# Types of universal functions:\n",
    "\"\"\"\"\n",
    "1. Mathematical operations\n",
    "    add()\n",
    "    log()\n",
    "    sqrt()\n",
    "    mod()\n",
    "2. Trignometric function\n",
    "    sin()\n",
    "    cos()\n",
    "    hypot()\n",
    "3. Bit-twiddling fuhnction\n",
    "    isinfinite()\n",
    "    isnan()\n",
    "4. Comparison function\n",
    "    greater()\n",
    "    less()\n",
    "    equal()\n",
    "5. Floating function\n",
    "    bitwise_and()\n",
    "    bitwise_or()\n",
    "6. Aggregate function\n",
    "    sum\n",
    "    min\n",
    "    max\n",
    "    mean\n",
    "    stnd deviation\n",
    "\"\"\""
   ]
  },
  {
   "cell_type": "code",
   "execution_count": 7,
   "metadata": {},
   "outputs": [
    {
     "name": "stdout",
     "output_type": "stream",
     "text": [
      "The array is : [0 1 2 3 4 5]\n",
      "The total sum of the elements is: 15\n"
     ]
    }
   ],
   "source": [
    "# 1. Mathematical function: Universal function performs a element wise operation on the array.\n",
    "\n",
    "import numpy as np \n",
    "x= int(input(\"Enter the range of array: \"))\n",
    "a1= np.arange(x)\n",
    "print(\"The array is :\",a1)\n",
    "a1_sum= a1.sum()\n",
    "print(\"The total sum of the elements is:\", a1_sum)\n",
    "\n",
    "\n"
   ]
  },
  {
   "cell_type": "code",
   "execution_count": 34,
   "metadata": {},
   "outputs": [
    {
     "name": "stdout",
     "output_type": "stream",
     "text": [
      "[0.6931471805599453, 1.6094379124341003]\n"
     ]
    },
    {
     "data": {
      "text/plain": [
       "array([False, False])"
      ]
     },
     "execution_count": 34,
     "metadata": {},
     "output_type": "execute_result"
    }
   ],
   "source": [
    "import numpy as np\n",
    "a= ([np.log(2),np.log(5)])\n",
    "print(a)\n",
    "np.isnan(a)  # It's checking is not a number."
   ]
  },
  {
   "cell_type": "code",
   "execution_count": 14,
   "metadata": {},
   "outputs": [
    {
     "name": "stdout",
     "output_type": "stream",
     "text": [
      "The array is \n",
      "[24 45 67 89 87 54]\n",
      "The shape of the array is (6,)\n",
      "The size of the array is 6\n",
      "Array dimension is 1\n",
      "Data type of an array is int32\n",
      "The size of each element of array is 4 bytes\n",
      "-----------------------------------------------------\n",
      "The array is \n",
      "[0.41887902 0.78539816 1.1693706  1.55334303 1.51843645 0.9424778 ]\n",
      "The shape of the array is (6,)\n",
      "The size of the array is 6\n",
      "Array dimension is 1\n",
      "Data type of an array is float64\n",
      "The size of each element of array is 8 bytes\n",
      "-----------------------------------------------------\n",
      "The array is \n",
      "[0.40673664 0.70710678 0.92050485 0.9998477  0.99862953 0.80901699]\n",
      "The shape of the array is (6,)\n",
      "The size of the array is 6\n",
      "Array dimension is 1\n",
      "Data type of an array is float64\n",
      "The size of each element of array is 8 bytes\n",
      "-----------------------------------------------------\n",
      "The array is \n",
      "[0.91354546 0.70710678 0.39073113 0.01745241 0.05233596 0.58778525]\n",
      "The shape of the array is (6,)\n",
      "The size of the array is 6\n",
      "Array dimension is 1\n",
      "Data type of an array is float64\n",
      "The size of each element of array is 8 bytes\n"
     ]
    }
   ],
   "source": [
    "# Trignometric funtions: These functions are only work on the radians, to perform these function we need to cover the angles to the radians by multi, it by pi/180.\n",
    "\"\"\"\n",
    "Functions                                      Description\n",
    "--------------------------------------------------------------------------------------------------------\n",
    "sin, cos tan   ------->                 It willperform the sin cos and the tan ioperation on the angles.\n",
    "--------------------------------------------------------------------------------------------------------\n",
    "arcsin,arccos,arctan    ------->        Calculate the inverse sin cosin and tangent. \n",
    "---------------------------------------------------------------------------------------------------------\n",
    "hypot   ------->                        It will calculate the hypotnuse of the right triangle.\n",
    "---------------------------------------------------------------------------------------------------------\n",
    "sinh,cosh,tanh  ------->                It will perform the hyperbo;ic sin cos and tangent.\n",
    "---------------------------------------------------------------------------------------------------------\n",
    "arcsinh,atccosh,arctanh  ------->       To perform inverse hyperbolic sin cos and tangent.\n",
    "---------------------------------------------------------------------------------------------------------\n",
    "deg2rad ------->                        It will convert degree to radian.\n",
    "---------------------------------------------------------------------------------------------------------\n",
    "rad2deg ------->                        To convert rad to deg\n",
    "\n",
    "\"\"\"\n",
    "# Program to demostrate the trignometric functions:\n",
    "\n",
    "import numpy as np \n",
    "Angles= np.array([24,45,67,89,87,54])\n",
    "print_array_attributes(Angles)\n",
    "print(\"-----------------------------------------------------\")\n",
    "\n",
    "Radians=np.deg2rad(Angles)      # Degree to radian conversion \n",
    "print_array_attributes(Radians)\n",
    "print(\"-----------------------------------------------------\")\n",
    "\n",
    "sin_value=np.sin(Radians)\n",
    "print_array_attributes(sin_value)\n",
    "print(\"-----------------------------------------------------\")\n",
    "\n",
    "cos_value=np.cos(Radians)   # To print sin of the angles \n",
    "print_array_attributes(cos_value)\n",
    "\n"
   ]
  },
  {
   "cell_type": "code",
   "execution_count": 15,
   "metadata": {},
   "outputs": [
    {
     "name": "stdout",
     "output_type": "stream",
     "text": [
      "The array is \n",
      "[0.91354546 0.70710678 0.39073113 0.01745241 0.05233596 0.58778525]\n",
      "The shape of the array is (6,)\n",
      "The size of the array is 6\n",
      "Array dimension is 1\n",
      "Data type of an array is float64\n",
      "The size of each element of array is 8 bytes\n"
     ]
    }
   ],
   "source": [
    "cos_value=np.cos(Radians)       # To print the cos of angles\n",
    "print_array_attributes(cos_value)           # And hence same goes for the others also "
   ]
  },
  {
   "cell_type": "code",
   "execution_count": 19,
   "metadata": {},
   "outputs": [
    {
     "name": "stdout",
     "output_type": "stream",
     "text": [
      "Hypotnuse of the given angle is:  4.242640687119285\n"
     ]
    }
   ],
   "source": [
    "# To calculate the hypotnuse and of the triangles:\n",
    "import numpy as np\n",
    "Base= int(input(\"Enter the Base of triangle: \"))\n",
    "Height= int(input(\"Enter the Height of triangle: \"))\n",
    "Hypotnuse=np.hypot(Base,Height)\n",
    "print(\"Hypotnuse of the given angle is: \",Hypotnuse)"
   ]
  },
  {
   "cell_type": "code",
   "execution_count": 18,
   "metadata": {},
   "outputs": [
    {
     "name": "stdout",
     "output_type": "stream",
     "text": [
      "2.8284271247461903\n"
     ]
    }
   ],
   "source": [
    "# Statastical operatpion: These functions are used to calculate mean, median, variance, minimum of array elements. It includes functions like-\n",
    "\"\"\"\n",
    "Features                                                    Description\n",
    "-----------------------------------------------------------------------------------------------------------------\n",
    "1. amin,amax            ------->              Used to  find the minimum and the maximum of the given array \n",
    "------------------------------------------------------------------------------------------------------------------\n",
    "2. ptp                  ------->              Used to find the range of the given array (minimum to maximum) \n",
    "------------------------------------------------------------------------------------------------------------------\n",
    "3. percentile           ------->              Used to find the percentile of the given range of the array \n",
    "------------------------------------------------------------------------------------------------------------------\n",
    "4. median               ------->              Calculate the median of the data along specific axis \n",
    "-------------------------------------------------------------------------------------------------------------------\n",
    "5. mean                 ------->              Calculate the mean of the data along the given axis \n",
    "-------------------------------------------------------------------------------------------------------------------\n",
    "6. std                  ------->              To calculate the standard deviation of the given array \n",
    "-------------------------------------------------------------------------------------------------------------------\n",
    "7. var                  ------->              To calculate the variance of the data along the given axis    \n",
    "-------------------------------------------------------------------------------------------------------------------\n",
    "8. average              ------->              To calculate the average of the data along the given axis\n",
    "             \n",
    "\"\"\""
   ]
  },
  {
   "cell_type": "code",
   "execution_count": 14,
   "metadata": {},
   "outputs": [
    {
     "name": "stdout",
     "output_type": "stream",
     "text": [
      "Minimum weight of the student is:   23\n",
      "Maximunm weight of the student is:   89\n",
      "Weight in the range of:  66\n",
      "Median=  65.0\n",
      "Mean=  60.833333333333336\n",
      "Standars deviation=  21.62110594355021\n",
      "Variance=  467.47222222222223\n",
      "Average=  60.833333333333336\n"
     ]
    }
   ],
   "source": [
    "# Demo:\n",
    "import numpy as np \n",
    "weight= np.array([23,45,65,78,65,89])\n",
    "\n",
    "min_weight=np.amin(weight )\n",
    "print(\"Minimum weight of the student is:  \",min_weight)\n",
    "\n",
    "max_weight=np.amax(weight)\n",
    "print(\"Maximunm weight of the student is:  \",max_weight)\n",
    "\n",
    "range_of_weight= np.ptp(weight)\n",
    "print(\"Weight in the range of: \",range_of_weight)\n",
    "\n",
    "median=np.median(weight) \n",
    "print(\"Median= \",median)\n",
    "\n",
    "mean= np.mean(weight)\n",
    "print(\"Mean= \",mean)\n",
    "\n",
    "standard_devi= np.std(weight)\n",
    "print(\"Standars deviation= \",standard_devi)\n",
    "\n",
    "variance=np.var(weight)\n",
    "print(\"Variance= \",variance)\n",
    "\n",
    "average=np.average(weight)\n",
    "print(\"Average= \",average)\n"
   ]
  },
  {
   "cell_type": "code",
   "execution_count": null,
   "metadata": {},
   "outputs": [],
   "source": [
    "# Bit-twidlling operation: Python will take integer value as input it will convert it to binary number and perform the bitwise operations.\n",
    "\n",
    "\"\"\"\n",
    "Features                                        Description\n",
    "----------------------------------------------------------------------------------------\n",
    "bitwise_or      ------->          It will perform bitwise OR operation\n",
    "----------------------------------------------------------------------------------------\n",
    "bitwise_and     ------->          It will perform bitwise AND operation\n",
    "----------------------------------------------------------------------------------------\n",
    "bitwise_xor     ------->          It will perform bitwise XOR operation\n",
    "----------------------------------------------------------------------------------------\n",
    "invert          ------->          Will perform bitwise inversion of the array element \n",
    "----------------------------------------------------------------------------------------\n",
    "left_shift      ------->          Perform the bitwise left shift of the array element \n",
    "----------------------------------------------------------------------------------------\n",
    "right_shift     ------->           Perform the bitwise right shift of the array element  \n",
    "\n",
    "\n",
    "\n",
    "\"\"\"\n"
   ]
  },
  {
   "cell_type": "code",
   "execution_count": 12,
   "metadata": {},
   "outputs": [
    {
     "name": "stdout",
     "output_type": "stream",
     "text": [
      "AND_OP:  [ 2  4  6  8 10 12]\n",
      "OR_OP:  [ 3  5  7  9 11 13]\n",
      "Bitwise_XOR:  [1 1 1 1 1 1]\n",
      "Inversion: [ -4  -6  -8 -10 -12 -14]\n",
      "Right_shift:  [1 2 3 4 5 6]\n",
      "Left_shift:  [ 4  8 12 16 20 24]\n"
     ]
    }
   ],
   "source": [
    "import numpy as np \n",
    "even = np.array([2,4,6,8,10,12])\n",
    "odd= np.array([3,5,7,9,11,13])\n",
    "\n",
    "print(\"AND_OP: \",np.bitwise_and(even,odd))\n",
    "\n",
    "print(\"OR_OP: \",np.bitwise_or(even,odd))\n",
    "\n",
    "print(\"Bitwise_XOR: \", np.bitwise_xor(even,odd))\n",
    "\n",
    "print(\"Inversion:\",np.invert(odd))\n",
    "\n",
    "print(\"Right_shift: \",np.right_shift(even,1))\n",
    "\n",
    "print(\"Left_shift: \",np.left_shift(even,1))"
   ]
  },
  {
   "cell_type": "code",
   "execution_count": 26,
   "metadata": {},
   "outputs": [
    {
     "name": "stdout",
     "output_type": "stream",
     "text": [
      "Greater:  [ True  True  True  True]\n",
      "Less:  [False False False False]\n",
      "Greater:  [ True  True  True  True]\n",
      "Less_or_equal: [ True  True  True  True]\n",
      "Greater_or_equal:  [False False False False]\n"
     ]
    }
   ],
   "source": [
    "#  Comparison function: greater(), less(), equal(), less_equal(), greater_equal()\n",
    "import numpy as np\n",
    "a1= np.array([2,3,4,5])\n",
    "a2= np.array([5,6,7,8])\n",
    "print(\"Greater: \",np.greater(a2,a1))\n",
    "\n",
    "print(\"Less: \",np.less(a2,a1))\n",
    "\n",
    "print(\"Greater: \",np.greater(a2,a1))\n",
    "\n",
    "print(\"Less_or_equal:\",np.less_equal(a1,a2))\n",
    "\n",
    "print(\"Greater_or_equal: \",np.greater_equal(a1,a2))"
   ]
  },
  {
   "cell_type": "code",
   "execution_count": 2,
   "metadata": {},
   "outputs": [
    {
     "name": "stdout",
     "output_type": "stream",
     "text": [
      "[420 280 350 269 317 470 333 365 305 350 460 474 409 377 415 382 298 462\n",
      " 370 313 464 302 252 259 308 392 424 403 370 328 398 434 291 472 263 439\n",
      " 464 449 401 364 296 292 438 357 331 317 429 407 321 274 447 274 437 411\n",
      " 257 310 396 270 311 459 378 316 283 266 381 409 313 306 448 348 292 400\n",
      " 352 441 428 309 441 439 264 281 302 432 423 336 383 321 469 270 341 281\n",
      " 403 333 323 348 345 397 449 261 456 370 322 379 446 404 301 254 351 444\n",
      " 264 286 463 273 316 324 465 398 324 340 414 346 408 332 394 474 398 262\n",
      " 410 391 444 461]\n"
     ]
    }
   ],
   "source": [
    "# Loadtxt: format:- numpy.loadtxt(fname, dtype=<class 'float'>, comments='#', delimiter=None, converters=None, skiprows=0, usecols=None, unpack=False, ndmin=0, encoding='bytes', max_rows=None, *, quotechar=None, like=None)\n",
    "    # Used to load the data of any CSV file.\n",
    "\n",
    "import numpy as np \n",
    "data= np.loadtxt('marks.csv',dtype=int,delimiter=',',usecols=(5),skiprows=1)\n",
    "print(data)"
   ]
  },
  {
   "cell_type": "code",
   "execution_count": 38,
   "metadata": {},
   "outputs": [
    {
     "name": "stdout",
     "output_type": "stream",
     "text": [
      "sum:  47356\n",
      "Minimum_marks:  252\n",
      "Maximum_marks:  474\n",
      "Standard_devi:  66.17947803971762\n",
      "Average:  364.2769230769231\n"
     ]
    }
   ],
   "source": [
    "\n",
    "\n",
    "print(\"Minimum_marks: \",np.amin(data))\n",
    "\n",
    "print(\"Maximum_marks: \",np.amax(data))\n",
    "\n",
    "print(\"Standard_devi: \",np.std(data))\n",
    "\n",
    "print(\"Average: \",np.average(data))"
   ]
  },
  {
   "cell_type": "code",
   "execution_count": 3,
   "metadata": {},
   "outputs": [
    {
     "data": {
      "text/plain": [
       "False"
      ]
     },
     "execution_count": 3,
     "metadata": {},
     "output_type": "execute_result"
    }
   ],
   "source": [
    "# Logic functions: Testing truth value - all()\n",
    "    # numpy.all() test whether all the element along the given axixs and check whether its evaluate to TRUE or not.\n",
    "\n",
    "import numpy as np \n",
    "np.all([[True,False],[True,True]])   # it will perform aAND operation between two given arrays \n",
    "                                        #[True,False]= False\n",
    "                                        #[True,True]= True\n",
    "                                                    # False\n",
    "\n",
    "\n",
    "                                        "
   ]
  },
  {
   "cell_type": "code",
   "execution_count": 5,
   "metadata": {},
   "outputs": [
    {
     "data": {
      "text/plain": [
       "array([ True, False])"
      ]
     },
     "execution_count": 5,
     "metadata": {},
     "output_type": "execute_result"
    }
   ],
   "source": [
    "import numpy as np \n",
    "np.all([[True,False],[True,True]],axis=0)\n",
    "\n",
    "# This array is taken as: \n",
    "\"\"\"\n",
    "[True     [True     ----> This will act as axis 0 = True\n",
    "\n",
    "\n",
    "False ]     False]  ----> Will act as axis 1 = False \n",
    "\n",
    "\"\"\"                               # Hence the ans. ([True,False])"
   ]
  },
  {
   "cell_type": "code",
   "execution_count": 12,
   "metadata": {},
   "outputs": [
    {
     "data": {
      "text/plain": [
       "True"
      ]
     },
     "execution_count": 12,
     "metadata": {},
     "output_type": "execute_result"
    }
   ],
   "source": [
    "import numpy as np \n",
    "np.all([-1,5,1])\n",
    "\n",
    "\n",
    "\n",
    "\n"
   ]
  },
  {
   "cell_type": "code",
   "execution_count": 13,
   "metadata": {},
   "outputs": [
    {
     "data": {
      "text/plain": [
       "False"
      ]
     },
     "execution_count": 13,
     "metadata": {},
     "output_type": "execute_result"
    }
   ],
   "source": [
    "import numpy as np \n",
    "np.all([1,2,3,0])   #   For infinity also it will give true. Because its  not a zero.\n",
    "\n",
    "#NaN positive infinity negative infinity  and evaluates to TRUE because its not equal to zero."
   ]
  },
  {
   "cell_type": "code",
   "execution_count": 14,
   "metadata": {},
   "outputs": [
    {
     "data": {
      "text/plain": [
       "True"
      ]
     },
     "execution_count": 14,
     "metadata": {},
     "output_type": "execute_result"
    }
   ],
   "source": [
    "# Logic function testing truth value with - any() function \n",
    "\n",
    "    # numpy.any() test whether an array element along the axis of array evaluates to TRUE or not. It performs OR poeration \n",
    "\n",
    "import numpy as np \n",
    "np.any([[True,False],[False,True]])"
   ]
  },
  {
   "cell_type": "code",
   "execution_count": 16,
   "metadata": {},
   "outputs": [
    {
     "data": {
      "text/plain": [
       "array([ True, False])"
      ]
     },
     "execution_count": 16,
     "metadata": {},
     "output_type": "execute_result"
    }
   ],
   "source": [
    "import numpy as np \n",
    "np.any([[True,False],[False,False]],axis=0)  # Will do OR operation according to Axis."
   ]
  },
  {
   "cell_type": "code",
   "execution_count": 18,
   "metadata": {},
   "outputs": [
    {
     "data": {
      "text/plain": [
       "True"
      ]
     },
     "execution_count": 18,
     "metadata": {},
     "output_type": "execute_result"
    }
   ],
   "source": [
    "import numpy as np \n",
    "np.any([-1,2,3])"
   ]
  },
  {
   "cell_type": "code",
   "execution_count": 21,
   "metadata": {},
   "outputs": [
    {
     "data": {
      "text/plain": [
       "array([ True, False, False, False,  True])"
      ]
     },
     "execution_count": 21,
     "metadata": {},
     "output_type": "execute_result"
    }
   ],
   "source": [
    "# Logic function to test the array type: isreal or iscomplex\n",
    "\n",
    "# np.copmlex()   Output will be TRUE if the given element are complex.conjugate\n",
    "# np.real()      Output will be TRUE if the given element is real .\n",
    "\n",
    "import numpy as np\n",
    "j=1\n",
    "np.iscomplex([2+3j,3,1+j,4,4+3j])"
   ]
  },
  {
   "cell_type": "code",
   "execution_count": 23,
   "metadata": {},
   "outputs": [
    {
     "data": {
      "text/plain": [
       "array([False,  True,  True,  True])"
      ]
     },
     "execution_count": 23,
     "metadata": {},
     "output_type": "execute_result"
    }
   ],
   "source": [
    "import numpy as np \n",
    "j=1\n",
    "np.isreal([2+4j,3,4,5])"
   ]
  },
  {
   "cell_type": "code",
   "execution_count": 44,
   "metadata": {},
   "outputs": [
    {
     "name": "stdout",
     "output_type": "stream",
     "text": [
      "[0 1 2 3 4]\n",
      "[False False  True  True False]\n",
      "[ True  True  True  True  True]\n",
      "[ True  True False False False]\n",
      "[ True  True False False  True]\n",
      "[False False False False  True]\n",
      "[False False False False  True]\n",
      "[ True  True  True  True  True]\n",
      "[False  True False False]\n",
      "[False False  True False]\n",
      "[ True  True False  True]\n"
     ]
    }
   ],
   "source": [
    "# Element-wise logical operation: \n",
    "\"\"\"\n",
    " 1. np.logical_and()\n",
    " 2. np.logical_or()\n",
    " 3. np.logical_xor()\n",
    " 4. np.logical_not()\n",
    " 5. np.greater()\n",
    " 6. np.greater_equal()\n",
    " 7. np.less()\n",
    " 8. np.less_equal()\n",
    " 9. np.equal()\n",
    " 10. np.not_equal()\n",
    "\n",
    " And the output will be logical value TRUE/FALSE \n",
    "\n",
    "\"\"\"\n",
    "\n",
    "import numpy as np \n",
    "x= np.arange(5)\n",
    "print(x)\n",
    "print(np.logical_and(x>1,x<4))\n",
    "\n",
    "print(np.logical_or(x>1,x<4))\n",
    "\n",
    "print(np.logical_not(x>1,x<4))\n",
    "\n",
    "print(np.logical_xor(x>1,x<4))\n",
    "\n",
    "print(np.greater([1,2,3,4,5],[6,9,4,23,2]))\n",
    "\n",
    "print(np.greater_equal([3,4,5,6,7],[4,8,9,9,3]))\n",
    "\n",
    "print(np.less([3,4,5,6,7],[9,7,6,8,9]))\n",
    "\n",
    "print(np.less_equal([2,2,4,5],[1,2,3,4]))\n",
    "\n",
    "print(np.equal([2,3,3,5],[1,2,3,4]))\n",
    "\n",
    "print(np.not_equal([3,4,5,6],[9,6,5,4]))"
   ]
  },
  {
   "cell_type": "code",
   "execution_count": 47,
   "metadata": {},
   "outputs": [
    {
     "name": "stdout",
     "output_type": "stream",
     "text": [
      "Before swapping [[ 0  1  2  3  4]\n",
      " [ 5  6  7  8  9]\n",
      " [10 11 12 13 14]\n",
      " [15 16 17 18 19]\n",
      " [20 21 22 23 24]]\n",
      "After swapping [[ 5  6  7  8  9]\n",
      " [ 0  1  2  3  4]\n",
      " [10 11 12 13 14]\n",
      " [15 16 17 18 19]\n",
      " [20 21 22 23 24]]\n"
     ]
    }
   ],
   "source": [
    "# Swapping row of the array:\n",
    "\n",
    "import numpy as np \n",
    "A =np.arange(25).reshape(5,5)\n",
    "print(\"Before swapping\",A)\n",
    "A[[0,1]]=A[[1,0]]\n",
    "print(\"After swapping\",A)"
   ]
  },
  {
   "cell_type": "code",
   "execution_count": 51,
   "metadata": {},
   "outputs": [
    {
     "name": "stdout",
     "output_type": "stream",
     "text": [
      "[  1.           6.21052632  11.42105263  16.63157895  21.84210526\n",
      "  27.05263158  32.26315789  37.47368421  42.68421053  47.89473684\n",
      "  53.10526316  58.31578947  63.52631579  68.73684211  73.94736842\n",
      "  79.15789474  84.36842105  89.57894737  94.78947368 100.        ]\n"
     ]
    }
   ],
   "source": [
    "# Create 1-D array between 1-100 with 20 elements and evenly spaced \n",
    "\n",
    "import numpy as np\n",
    "x=np.linspace(1,100,20)\n",
    "print(x)"
   ]
  },
  {
   "cell_type": "code",
   "execution_count": 62,
   "metadata": {},
   "outputs": [
    {
     "name": "stdout",
     "output_type": "stream",
     "text": [
      "[74 50 77 37 48]\n",
      "[81 13 30  2 45]\n",
      "[False False False False False]\n",
      "[ True False False False False]\n",
      "[ True  True  True  True  True] [ True  True  True  True  True]\n",
      "[False False False False False] [False False False False False]\n"
     ]
    }
   ],
   "source": [
    "# Create two random arrays and perform different operations on it:\n",
    "\n",
    "import numpy as np \n",
    "A= np.random.randint(1,100,5)\n",
    "B= np.random.randint(1,100,5)\n",
    "print(A)\n",
    "print(B)\n",
    "\n",
    "\n",
    "print(np.equal(A,B))\n",
    "\n",
    "print(np.greater(B,A))\n",
    "\n",
    "print(np.isreal(A),np.isreal(B))\n",
    "\n",
    "print(np.iscomplex(A),np.iscomplex(B))\n",
    "\n"
   ]
  },
  {
   "cell_type": "code",
   "execution_count": null,
   "metadata": {},
   "outputs": [],
   "source": []
  },
  {
   "cell_type": "code",
   "execution_count": null,
   "metadata": {},
   "outputs": [],
   "source": []
  }
 ],
 "metadata": {
  "kernelspec": {
   "display_name": "Python 3.9.1 64-bit",
   "language": "python",
   "name": "python3"
  },
  "language_info": {
   "codemirror_mode": {
    "name": "ipython",
    "version": 3
   },
   "file_extension": ".py",
   "mimetype": "text/x-python",
   "name": "python",
   "nbconvert_exporter": "python",
   "pygments_lexer": "ipython3",
   "version": "3.9.12"
  },
  "orig_nbformat": 4,
  "vscode": {
   "interpreter": {
    "hash": "a6ada047e8940af673a5a678b6ba14e182d5b4e08fa205eb091207f23619d85d"
   }
  }
 },
 "nbformat": 4,
 "nbformat_minor": 2
}
