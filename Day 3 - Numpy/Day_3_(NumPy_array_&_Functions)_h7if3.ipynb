{
 "cells": [
  {
   "cell_type": "code",
   "execution_count": 1,
   "id": "62b79c50",
   "metadata": {},
   "outputs": [],
   "source": [
    "import numpy as np"
   ]
  },
  {
   "cell_type": "code",
   "execution_count": 2,
   "id": "12abbba5",
   "metadata": {},
   "outputs": [
    {
     "name": "stdout",
     "output_type": "stream",
     "text": [
      "1.23.1\n"
     ]
    }
   ],
   "source": [
    "# To print the versions of array\n",
    "print(np.__version__)"
   ]
  },
  {
   "cell_type": "code",
   "execution_count": 3,
   "id": "c1facb23",
   "metadata": {},
   "outputs": [],
   "source": [
    "def print_array_attribute(arr):\n",
    "    \"\"\"\n",
    "    Function to print the attributes of array\n",
    "    \"\"\"\n",
    "    print(f\"The array is \\n{arr}\")\n",
    "    print(f\"\\nThe shape of array is {arr.shape}\")\n",
    "    print(f\"Dimension of array is {arr.ndim}\")\n",
    "    print(f\"The size of array is {arr.size}\")\n",
    "    print(f\"The data type of each element of array is {arr.dtype}\")\n",
    "    print(f\"The byte size of each element of array is {arr.itemsize} bytes\")"
   ]
  },
  {
   "cell_type": "code",
   "execution_count": 100,
   "id": "9288a1a4",
   "metadata": {},
   "outputs": [],
   "source": [
    "# Create an array from a dict\n",
    "dic = {'a':1,'b':2}\n",
    "arr_dic = np.array(dic)"
   ]
  },
  {
   "cell_type": "code",
   "execution_count": 103,
   "id": "44f044e4",
   "metadata": {},
   "outputs": [
    {
     "data": {
      "text/plain": [
       "numpy.ndarray"
      ]
     },
     "execution_count": 103,
     "metadata": {},
     "output_type": "execute_result"
    }
   ],
   "source": [
    "arr_dic"
   ]
  },
  {
   "cell_type": "code",
   "execution_count": 4,
   "id": "3b9e7d58",
   "metadata": {},
   "outputs": [],
   "source": [
    "# List to create 1d array\n",
    "a1d_list = [2, 3, 4, 5, 6,]"
   ]
  },
  {
   "cell_type": "code",
   "execution_count": 91,
   "id": "a1965dcf",
   "metadata": {},
   "outputs": [
    {
     "data": {
      "text/plain": [
       "array([2, 3, 4, 5, 6])"
      ]
     },
     "execution_count": 91,
     "metadata": {},
     "output_type": "execute_result"
    }
   ],
   "source": [
    "# 1d array creation with list\n",
    "a1d_array = np.array(a1d_list)\n",
    "a1d_array"
   ]
  },
  {
   "cell_type": "code",
   "execution_count": 85,
   "id": "c7635925",
   "metadata": {},
   "outputs": [
    {
     "data": {
      "text/plain": [
       "array([2, 3, 4, 5, 6])"
      ]
     },
     "execution_count": 85,
     "metadata": {},
     "output_type": "execute_result"
    }
   ],
   "source": [
    "a1d_array = np.array((2, 3, 4, 5, 6,))\n",
    "a1d_array"
   ]
  },
  {
   "cell_type": "code",
   "execution_count": 86,
   "id": "308b7d6c",
   "metadata": {},
   "outputs": [
    {
     "name": "stdout",
     "output_type": "stream",
     "text": [
      "[2 3 4 5 6]\n"
     ]
    }
   ],
   "source": [
    "print(a1d_array)"
   ]
  },
  {
   "cell_type": "code",
   "execution_count": 92,
   "id": "e8bba63d",
   "metadata": {},
   "outputs": [
    {
     "name": "stdout",
     "output_type": "stream",
     "text": [
      "[2 3 4 5 6]\n"
     ]
    }
   ],
   "source": [
    "a1d_array_copy = a1d_array.copy()\n",
    "print(a1d_array_copy)"
   ]
  },
  {
   "cell_type": "code",
   "execution_count": 98,
   "id": "b7d59dff",
   "metadata": {},
   "outputs": [
    {
     "name": "stdout",
     "output_type": "stream",
     "text": [
      "[ 2  3  4  5 10 12]\n"
     ]
    }
   ],
   "source": [
    "a1d_array[4] = 10\n",
    "a1d_array = np.append(a1d_array, 12)\n",
    "print(a1d_array)"
   ]
  },
  {
   "cell_type": "code",
   "execution_count": 94,
   "id": "2a83804b",
   "metadata": {},
   "outputs": [
    {
     "name": "stdout",
     "output_type": "stream",
     "text": [
      "[2 3 4 5 6]\n"
     ]
    }
   ],
   "source": [
    "print(a1d_array_copy)"
   ]
  },
  {
   "cell_type": "code",
   "execution_count": 80,
   "id": "51e4da86",
   "metadata": {},
   "outputs": [
    {
     "data": {
      "text/plain": [
       "3"
      ]
     },
     "execution_count": 80,
     "metadata": {},
     "output_type": "execute_result"
    }
   ],
   "source": [
    "a1d_array[-4]"
   ]
  },
  {
   "cell_type": "code",
   "execution_count": 6,
   "id": "009dfee2",
   "metadata": {},
   "outputs": [
    {
     "name": "stdout",
     "output_type": "stream",
     "text": [
      "The array is \n",
      "[2 3 4 5 6]\n",
      "\n",
      "The shape of array is (5,)\n",
      "Dimension of array is 1\n",
      "The size of array is 5\n",
      "The data type of each element of array is int32\n",
      "The byte size of each element of array is 4 bytes\n"
     ]
    }
   ],
   "source": [
    "# Print attributes of array\n",
    "print_array_attribute(a1d_array)"
   ]
  },
  {
   "cell_type": "code",
   "execution_count": 7,
   "id": "476c878e",
   "metadata": {},
   "outputs": [
    {
     "data": {
      "text/plain": [
       "[[1, 2, 3], [4, 5, 6], [7, 8, 9]]"
      ]
     },
     "execution_count": 7,
     "metadata": {},
     "output_type": "execute_result"
    }
   ],
   "source": [
    "# List to create 2d array\n",
    "a2d_list = [[1,2,3],[4,5,6],[7,8,9]]\n",
    "a2d_list"
   ]
  },
  {
   "cell_type": "code",
   "execution_count": 81,
   "id": "16bac7c8",
   "metadata": {},
   "outputs": [
    {
     "data": {
      "text/plain": [
       "array([[1, 2, 3],\n",
       "       [4, 5, 6],\n",
       "       [7, 8, 9]])"
      ]
     },
     "execution_count": 81,
     "metadata": {},
     "output_type": "execute_result"
    }
   ],
   "source": [
    "# 2d array created using list\n",
    "a2d_array = np.array(a2d_list)\n",
    "a2d_array"
   ]
  },
  {
   "cell_type": "code",
   "execution_count": 83,
   "id": "0a327047",
   "metadata": {},
   "outputs": [
    {
     "data": {
      "text/plain": [
       "8"
      ]
     },
     "execution_count": 83,
     "metadata": {},
     "output_type": "execute_result"
    }
   ],
   "source": [
    "a2d_array[-1, -2]"
   ]
  },
  {
   "cell_type": "code",
   "execution_count": 9,
   "id": "e22c5cff",
   "metadata": {},
   "outputs": [
    {
     "name": "stdout",
     "output_type": "stream",
     "text": [
      "The array is \n",
      "[[1 2 3]\n",
      " [4 5 6]\n",
      " [7 8 9]]\n",
      "\n",
      "The shape of array is (3, 3)\n",
      "Dimension of array is 2\n",
      "The size of array is 9\n",
      "The data type of each element of array is int32\n",
      "The byte size of each element of array is 4 bytes\n"
     ]
    }
   ],
   "source": [
    "# Print attributes of array\n",
    "print_array_attribute(a2d_array)"
   ]
  },
  {
   "cell_type": "code",
   "execution_count": 10,
   "id": "ebccb4f4",
   "metadata": {},
   "outputs": [
    {
     "data": {
      "text/plain": [
       "[[[1, 2, 3], [4, 5, 6], [7, 8, 9]], [[1, 2, 3], [4, 5, 6], [7, 8, 9]]]"
      ]
     },
     "execution_count": 10,
     "metadata": {},
     "output_type": "execute_result"
    }
   ],
   "source": [
    "# List to create 3d array\n",
    "a3d_list = [[[1,2,3],[4,5,6],[7,8,9]],[[1,2,3],[4,5,6],[7,8,9]]]\n",
    "a3d_list"
   ]
  },
  {
   "cell_type": "code",
   "execution_count": 11,
   "id": "47bfac2b",
   "metadata": {},
   "outputs": [
    {
     "data": {
      "text/plain": [
       "array([[[1, 2, 3],\n",
       "        [4, 5, 6],\n",
       "        [7, 8, 9]],\n",
       "\n",
       "       [[1, 2, 3],\n",
       "        [4, 5, 6],\n",
       "        [7, 8, 9]]])"
      ]
     },
     "execution_count": 11,
     "metadata": {},
     "output_type": "execute_result"
    }
   ],
   "source": [
    "# 3d array creation with list\n",
    "a3d_array = np.array(a3d_list)\n",
    "a3d_array"
   ]
  },
  {
   "cell_type": "code",
   "execution_count": 12,
   "id": "9aa087f3",
   "metadata": {},
   "outputs": [
    {
     "name": "stdout",
     "output_type": "stream",
     "text": [
      "The array is \n",
      "[[[1 2 3]\n",
      "  [4 5 6]\n",
      "  [7 8 9]]\n",
      "\n",
      " [[1 2 3]\n",
      "  [4 5 6]\n",
      "  [7 8 9]]]\n",
      "\n",
      "The shape of array is (2, 3, 3)\n",
      "Dimension of array is 3\n",
      "The size of array is 18\n",
      "The data type of each element of array is int32\n",
      "The byte size of each element of array is 4 bytes\n"
     ]
    }
   ],
   "source": [
    "# Print attributes of array\n",
    "print_array_attribute(a3d_array)"
   ]
  },
  {
   "cell_type": "code",
   "execution_count": 13,
   "id": "f38226c9",
   "metadata": {},
   "outputs": [
    {
     "data": {
      "text/plain": [
       "[[[[1, 2, 3], [4, 5, 6], [7, 8, 9]],\n",
       "  [[1, 2, 3], [4, 5, 6], [7, 8, 9]],\n",
       "  [[1, 2, 3], [4, 5, 6], [7, 8, 9]]]]"
      ]
     },
     "execution_count": 13,
     "metadata": {},
     "output_type": "execute_result"
    }
   ],
   "source": [
    "# List to create 4d array\n",
    "a4d_list = [[[[1,2,3],[4,5,6],[7,8,9]],[[1,2,3],[4,5,6],[7,8,9]],[[1,2,3],[4,5,6],[7,8,9]]]]\n",
    "a4d_list"
   ]
  },
  {
   "cell_type": "code",
   "execution_count": 14,
   "id": "dc62c5a2",
   "metadata": {},
   "outputs": [
    {
     "data": {
      "text/plain": [
       "array([[[[1, 2, 3],\n",
       "         [4, 5, 6],\n",
       "         [7, 8, 9]],\n",
       "\n",
       "        [[1, 2, 3],\n",
       "         [4, 5, 6],\n",
       "         [7, 8, 9]],\n",
       "\n",
       "        [[1, 2, 3],\n",
       "         [4, 5, 6],\n",
       "         [7, 8, 9]]]])"
      ]
     },
     "execution_count": 14,
     "metadata": {},
     "output_type": "execute_result"
    }
   ],
   "source": [
    "# 4d array creation with list\n",
    "a4d_array = np.array(a4d_list)\n",
    "a4d_array"
   ]
  },
  {
   "cell_type": "code",
   "execution_count": 15,
   "id": "4e3b2425",
   "metadata": {},
   "outputs": [
    {
     "name": "stdout",
     "output_type": "stream",
     "text": [
      "The array is \n",
      "[[[[1 2 3]\n",
      "   [4 5 6]\n",
      "   [7 8 9]]\n",
      "\n",
      "  [[1 2 3]\n",
      "   [4 5 6]\n",
      "   [7 8 9]]\n",
      "\n",
      "  [[1 2 3]\n",
      "   [4 5 6]\n",
      "   [7 8 9]]]]\n",
      "\n",
      "The shape of array is (1, 3, 3, 3)\n",
      "Dimension of array is 4\n",
      "The size of array is 27\n",
      "The data type of each element of array is int32\n",
      "The byte size of each element of array is 4 bytes\n"
     ]
    }
   ],
   "source": [
    "# Print attributes of array\n",
    "print_array_attribute(a4d_array)"
   ]
  },
  {
   "cell_type": "code",
   "execution_count": 44,
   "id": "113f9194",
   "metadata": {},
   "outputs": [
    {
     "name": "stdout",
     "output_type": "stream",
     "text": [
      "The array is \n",
      "[[ 0  1  2  3]\n",
      " [ 4  5  6  7]\n",
      " [ 8  9 10 11]]\n",
      "\n",
      "The shape of array is (3, 4)\n",
      "Dimension of array is 2\n",
      "The size of array is 12\n",
      "The data type of each element of array is int32\n",
      "The byte size of each element of array is 4 bytes\n"
     ]
    }
   ],
   "source": [
    "a = np.arange(12).reshape(3,4)\n",
    "# Print attributes of array\n",
    "print_array_attribute(a)"
   ]
  },
  {
   "cell_type": "code",
   "execution_count": 45,
   "id": "7d19a3ed",
   "metadata": {},
   "outputs": [
    {
     "name": "stdout",
     "output_type": "stream",
     "text": [
      "The array is \n",
      "[[ 0  1  2]\n",
      " [ 3  4  5]\n",
      " [ 6  7  8]\n",
      " [ 9 10 11]]\n",
      "\n",
      "The shape of array is (4, 3)\n",
      "Dimension of array is 2\n",
      "The size of array is 12\n",
      "The data type of each element of array is int32\n",
      "The byte size of each element of array is 4 bytes\n"
     ]
    }
   ],
   "source": [
    "b = np.arange(12).reshape(4,3)\n",
    "# Print attributes of array\n",
    "print_array_attribute(b)"
   ]
  },
  {
   "cell_type": "code",
   "execution_count": 72,
   "id": "33e99809",
   "metadata": {},
   "outputs": [
    {
     "name": "stdout",
     "output_type": "stream",
     "text": [
      "[0 0 0 0 0 0 0 0 0 0]\n"
     ]
    }
   ],
   "source": [
    "# Create an array with only zeroes\n",
    "# Creating a 1D array\n",
    "arr = np.zeros((10),dtype=int)\n",
    "print(arr)"
   ]
  },
  {
   "cell_type": "code",
   "execution_count": 73,
   "id": "3d109416",
   "metadata": {},
   "outputs": [
    {
     "name": "stdout",
     "output_type": "stream",
     "text": [
      "The array is \n",
      "[0 0 0 0 0 0 0 0 0 0]\n",
      "\n",
      "The shape of array is (10,)\n",
      "Dimension of array is 1\n",
      "The size of array is 10\n",
      "The data type of each element of array is int32\n",
      "The byte size of each element of array is 4 bytes\n"
     ]
    }
   ],
   "source": [
    "print_array_attribute(arr)"
   ]
  },
  {
   "cell_type": "code",
   "execution_count": 62,
   "id": "11ce8650",
   "metadata": {},
   "outputs": [
    {
     "name": "stdout",
     "output_type": "stream",
     "text": [
      "[[0. 0. 0. 0. 0. 0.]\n",
      " [0. 0. 0. 0. 0. 0.]\n",
      " [0. 0. 0. 0. 0. 0.]\n",
      " [0. 0. 0. 0. 0. 0.]]\n"
     ]
    }
   ],
   "source": [
    "# Creating a 2D array\n",
    "arr = np.zeros((4,6))\n",
    "print(arr)"
   ]
  },
  {
   "cell_type": "code",
   "execution_count": 75,
   "id": "b7960776",
   "metadata": {},
   "outputs": [
    {
     "name": "stdout",
     "output_type": "stream",
     "text": [
      "[1 1 1 1 1 1 1 1 1 1]\n"
     ]
    }
   ],
   "source": [
    "# Create an array with only ones\n",
    "# Creating a 1D array\n",
    "arr = np.ones((10),dtype=int)\n",
    "print(arr)"
   ]
  },
  {
   "cell_type": "code",
   "execution_count": 77,
   "id": "3122ada4",
   "metadata": {},
   "outputs": [
    {
     "data": {
      "text/plain": [
       "1"
      ]
     },
     "execution_count": 77,
     "metadata": {},
     "output_type": "execute_result"
    }
   ],
   "source": [
    "arr[-2]"
   ]
  },
  {
   "cell_type": "code",
   "execution_count": 65,
   "id": "a4ceb2c5",
   "metadata": {},
   "outputs": [
    {
     "name": "stdout",
     "output_type": "stream",
     "text": [
      "[[1. 1. 1. 1. 1. 1. 1. 1.]\n",
      " [1. 1. 1. 1. 1. 1. 1. 1.]\n",
      " [1. 1. 1. 1. 1. 1. 1. 1.]\n",
      " [1. 1. 1. 1. 1. 1. 1. 1.]\n",
      " [1. 1. 1. 1. 1. 1. 1. 1.]]\n"
     ]
    }
   ],
   "source": [
    "# Creating a 2D array\n",
    "arr = np.ones((5,8))\n",
    "print(arr)"
   ]
  },
  {
   "cell_type": "code",
   "execution_count": 69,
   "id": "c0739f29",
   "metadata": {},
   "outputs": [
    {
     "name": "stdout",
     "output_type": "stream",
     "text": [
      "[[[1. 1. 1. 1. 1. 1. 1. 1.]\n",
      "  [1. 1. 1. 1. 1. 1. 1. 1.]\n",
      "  [1. 1. 1. 1. 1. 1. 1. 1.]\n",
      "  [1. 1. 1. 1. 1. 1. 1. 1.]\n",
      "  [1. 1. 1. 1. 1. 1. 1. 1.]]\n",
      "\n",
      " [[1. 1. 1. 1. 1. 1. 1. 1.]\n",
      "  [1. 1. 1. 1. 1. 1. 1. 1.]\n",
      "  [1. 1. 1. 1. 1. 1. 1. 1.]\n",
      "  [1. 1. 1. 1. 1. 1. 1. 1.]\n",
      "  [1. 1. 1. 1. 1. 1. 1. 1.]]]\n"
     ]
    }
   ],
   "source": [
    "# Creating a 3D array\n",
    "arr = np.ones((2,5,8))\n",
    "print(arr)"
   ]
  },
  {
   "cell_type": "code",
   "execution_count": 74,
   "id": "bc221ff7",
   "metadata": {},
   "outputs": [
    {
     "name": "stdout",
     "output_type": "stream",
     "text": [
      "The array is \n",
      "[[[1. 1. 1. 1. 1. 1. 1. 1.]\n",
      "  [1. 1. 1. 1. 1. 1. 1. 1.]\n",
      "  [1. 1. 1. 1. 1. 1. 1. 1.]\n",
      "  [1. 1. 1. 1. 1. 1. 1. 1.]\n",
      "  [1. 1. 1. 1. 1. 1. 1. 1.]]]\n",
      "\n",
      "The shape of array is (1, 5, 8)\n",
      "Dimension of array is 3\n",
      "The size of array is 40\n",
      "The data type of each element of array is float64\n",
      "The byte size of each element of array is 8 bytes\n"
     ]
    }
   ],
   "source": [
    "# Creating a 3D array\n",
    "arr = np.ones((1,5,8))\n",
    "print_array_attribute(arr)"
   ]
  },
  {
   "cell_type": "code",
   "execution_count": 124,
   "id": "338820a7",
   "metadata": {},
   "outputs": [
    {
     "data": {
      "text/plain": [
       "array([1, 2, 3, 4, 5, 6])"
      ]
     },
     "execution_count": 124,
     "metadata": {},
     "output_type": "execute_result"
    }
   ],
   "source": [
    "# Create an array of numpy using arange func\n",
    "a1d_array_arange = np.arange(1,7)\n",
    "a1d_array_arange"
   ]
  },
  {
   "cell_type": "code",
   "execution_count": 125,
   "id": "933bf3f1",
   "metadata": {},
   "outputs": [
    {
     "data": {
      "text/plain": [
       "array([ 5,  6,  7,  8,  9, 10])"
      ]
     },
     "execution_count": 125,
     "metadata": {},
     "output_type": "execute_result"
    }
   ],
   "source": [
    "# Add 4 to each of the element in the array\n",
    "a1d_array_arange + 4"
   ]
  },
  {
   "cell_type": "code",
   "execution_count": 126,
   "id": "99532aba",
   "metadata": {},
   "outputs": [
    {
     "data": {
      "text/plain": [
       "array([ 4,  8, 12, 16, 20, 24])"
      ]
     },
     "execution_count": 126,
     "metadata": {},
     "output_type": "execute_result"
    }
   ],
   "source": [
    "# Multiply 4 to each of the element in the array\n",
    "a1d_array_arange * 4"
   ]
  },
  {
   "cell_type": "code",
   "execution_count": 133,
   "id": "470fc14c",
   "metadata": {},
   "outputs": [],
   "source": [
    "# Adding 2 arrays\n",
    "first_array = np.arange(0,10)\n",
    "second_array = np.ones(10)"
   ]
  },
  {
   "cell_type": "code",
   "execution_count": 134,
   "id": "03c8e777",
   "metadata": {},
   "outputs": [
    {
     "name": "stdout",
     "output_type": "stream",
     "text": [
      "first_array =  [0 1 2 3 4 5 6 7 8 9]\n",
      "second_array =  [1. 1. 1. 1. 1. 1. 1. 1. 1. 1.]\n"
     ]
    }
   ],
   "source": [
    "print(\"first_array = \",first_array)\n",
    "print(\"second_array = \",second_array)"
   ]
  },
  {
   "cell_type": "code",
   "execution_count": 135,
   "id": "8a42074f",
   "metadata": {},
   "outputs": [
    {
     "name": "stdout",
     "output_type": "stream",
     "text": [
      "third_array =  [ 1.  2.  3.  4.  5.  6.  7.  8.  9. 10.]\n"
     ]
    }
   ],
   "source": [
    "third_array = first_array + second_array\n",
    "print(\"third_array = \",third_array)"
   ]
  },
  {
   "cell_type": "code",
   "execution_count": 157,
   "id": "75704be4",
   "metadata": {},
   "outputs": [
    {
     "name": "stdout",
     "output_type": "stream",
     "text": [
      "The array is \n",
      "[0 1 2 3 4 5 6 7 8 9]\n",
      "\n",
      "The shape of array is (10,)\n",
      "Dimension of array is 1\n",
      "The size of array is 10\n",
      "The data type of each element of array is int32\n",
      "The byte size of each element of array is 4 bytes\n"
     ]
    }
   ],
   "source": [
    "# Use case of reshape function\n",
    "arr_1d = np.arange(0,10)\n",
    "print_array_attribute(arr_1d)"
   ]
  },
  {
   "cell_type": "code",
   "execution_count": 159,
   "id": "09ce7cd7",
   "metadata": {},
   "outputs": [
    {
     "name": "stdout",
     "output_type": "stream",
     "text": [
      "The array is \n",
      "[[0 1 2 3 4]\n",
      " [5 6 7 8 9]]\n",
      "\n",
      "The shape of array is (2, 5)\n",
      "Dimension of array is 2\n",
      "The size of array is 10\n",
      "The data type of each element of array is int32\n",
      "The byte size of each element of array is 4 bytes\n"
     ]
    }
   ],
   "source": [
    "arr_2d = arr_1d.reshape(2,5)\n",
    "print_array_attribute(arr_2d)"
   ]
  },
  {
   "cell_type": "code",
   "execution_count": 138,
   "id": "56f18db0",
   "metadata": {},
   "outputs": [
    {
     "name": "stdout",
     "output_type": "stream",
     "text": [
      "The array is \n",
      "[[[0 1]\n",
      "  [2 3]\n",
      "  [4 5]\n",
      "  [6 7]\n",
      "  [8 9]]]\n",
      "\n",
      "The shape of array is (1, 5, 2)\n",
      "Dimension of array is 3\n",
      "The size of array is 10\n",
      "The data type of each element of array is int32\n",
      "The byte size of each element of array is 4 bytes\n"
     ]
    }
   ],
   "source": [
    "arr_3d = arr_1d.reshape(1,5,2)\n",
    "print_array_attribute(arr_3d)"
   ]
  },
  {
   "cell_type": "code",
   "execution_count": 139,
   "id": "5c062b6d",
   "metadata": {},
   "outputs": [
    {
     "name": "stdout",
     "output_type": "stream",
     "text": [
      "The array is \n",
      "[0 1 2 3 4 5 6 7 8 9]\n",
      "\n",
      "The shape of array is (10,)\n",
      "Dimension of array is 1\n",
      "The size of array is 10\n",
      "The data type of each element of array is int32\n",
      "The byte size of each element of array is 4 bytes\n"
     ]
    }
   ],
   "source": [
    "arr_1d_reshaped = arr_2d.reshape(10)\n",
    "print_array_attribute(arr_1d_reshaped)"
   ]
  },
  {
   "cell_type": "code",
   "execution_count": 152,
   "id": "f374b627",
   "metadata": {},
   "outputs": [],
   "source": [
    "first_array = np.arange(0,12).reshape(4,3)\n",
    "second_array = np.ones((4,3),dtype=int)"
   ]
  },
  {
   "cell_type": "code",
   "execution_count": 153,
   "id": "a95b9fdb",
   "metadata": {},
   "outputs": [
    {
     "name": "stdout",
     "output_type": "stream",
     "text": [
      "The array is \n",
      "[[ 0  1  2]\n",
      " [ 3  4  5]\n",
      " [ 6  7  8]\n",
      " [ 9 10 11]]\n",
      "\n",
      "The shape of array is (4, 3)\n",
      "Dimension of array is 2\n",
      "The size of array is 12\n",
      "The data type of each element of array is int32\n",
      "The byte size of each element of array is 4 bytes\n"
     ]
    }
   ],
   "source": [
    "print_array_attribute(first_array)"
   ]
  },
  {
   "cell_type": "code",
   "execution_count": 154,
   "id": "e6609b5a",
   "metadata": {},
   "outputs": [
    {
     "name": "stdout",
     "output_type": "stream",
     "text": [
      "The array is \n",
      "[[1 1 1]\n",
      " [1 1 1]\n",
      " [1 1 1]\n",
      " [1 1 1]]\n",
      "\n",
      "The shape of array is (4, 3)\n",
      "Dimension of array is 2\n",
      "The size of array is 12\n",
      "The data type of each element of array is int32\n",
      "The byte size of each element of array is 4 bytes\n"
     ]
    }
   ],
   "source": [
    "print_array_attribute(second_array)"
   ]
  },
  {
   "cell_type": "code",
   "execution_count": 155,
   "id": "78388a66",
   "metadata": {},
   "outputs": [],
   "source": [
    "third_array = first_array + second_array"
   ]
  },
  {
   "cell_type": "code",
   "execution_count": 156,
   "id": "1d009fd2",
   "metadata": {},
   "outputs": [
    {
     "name": "stdout",
     "output_type": "stream",
     "text": [
      "The array is \n",
      "[[ 1  2  3]\n",
      " [ 4  5  6]\n",
      " [ 7  8  9]\n",
      " [10 11 12]]\n",
      "\n",
      "The shape of array is (4, 3)\n",
      "Dimension of array is 2\n",
      "The size of array is 12\n",
      "The data type of each element of array is int32\n",
      "The byte size of each element of array is 4 bytes\n"
     ]
    }
   ],
   "source": [
    "print_array_attribute(third_array)"
   ]
  },
  {
   "cell_type": "code",
   "execution_count": 2,
   "id": "5dfa6c38",
   "metadata": {},
   "outputs": [],
   "source": [
    "# Create an array of numpy using linspace func\n",
    "a1d_array_linspace = np.linspace(start = 5.5, stop = 10.5, num = 100)\n",
    "# a1d_array_linspace"
   ]
  },
  {
   "cell_type": "code",
   "execution_count": 3,
   "id": "d56fc41d",
   "metadata": {},
   "outputs": [
    {
     "data": {
      "text/plain": [
       "array([ 5.5       ,  5.55050505,  5.6010101 ,  5.65151515,  5.7020202 ,\n",
       "        5.75252525,  5.8030303 ,  5.85353535,  5.9040404 ,  5.95454545,\n",
       "        6.00505051,  6.05555556,  6.10606061,  6.15656566,  6.20707071,\n",
       "        6.25757576,  6.30808081,  6.35858586,  6.40909091,  6.45959596,\n",
       "        6.51010101,  6.56060606,  6.61111111,  6.66161616,  6.71212121,\n",
       "        6.76262626,  6.81313131,  6.86363636,  6.91414141,  6.96464646,\n",
       "        7.01515152,  7.06565657,  7.11616162,  7.16666667,  7.21717172,\n",
       "        7.26767677,  7.31818182,  7.36868687,  7.41919192,  7.46969697,\n",
       "        7.52020202,  7.57070707,  7.62121212,  7.67171717,  7.72222222,\n",
       "        7.77272727,  7.82323232,  7.87373737,  7.92424242,  7.97474747,\n",
       "        8.02525253,  8.07575758,  8.12626263,  8.17676768,  8.22727273,\n",
       "        8.27777778,  8.32828283,  8.37878788,  8.42929293,  8.47979798,\n",
       "        8.53030303,  8.58080808,  8.63131313,  8.68181818,  8.73232323,\n",
       "        8.78282828,  8.83333333,  8.88383838,  8.93434343,  8.98484848,\n",
       "        9.03535354,  9.08585859,  9.13636364,  9.18686869,  9.23737374,\n",
       "        9.28787879,  9.33838384,  9.38888889,  9.43939394,  9.48989899,\n",
       "        9.54040404,  9.59090909,  9.64141414,  9.69191919,  9.74242424,\n",
       "        9.79292929,  9.84343434,  9.89393939,  9.94444444,  9.99494949,\n",
       "       10.04545455, 10.0959596 , 10.14646465, 10.1969697 , 10.24747475,\n",
       "       10.2979798 , 10.34848485, 10.3989899 , 10.44949495, 10.5       ])"
      ]
     },
     "execution_count": 3,
     "metadata": {},
     "output_type": "execute_result"
    }
   ],
   "source": [
    "a1d_array_linspace"
   ]
  },
  {
   "cell_type": "code",
   "execution_count": 6,
   "id": "4f30643c",
   "metadata": {},
   "outputs": [
    {
     "data": {
      "text/plain": [
       "0.05050505050505194"
      ]
     },
     "execution_count": 6,
     "metadata": {},
     "output_type": "execute_result"
    }
   ],
   "source": [
    "a1d_array_linspace[80] - a1d_array_linspace[79]"
   ]
  },
  {
   "cell_type": "code",
   "execution_count": null,
   "id": "5f4d0a1b",
   "metadata": {},
   "outputs": [],
   "source": []
  },
  {
   "cell_type": "code",
   "execution_count": 7,
   "id": "7111512d",
   "metadata": {},
   "outputs": [
    {
     "data": {
      "text/plain": [
       "100"
      ]
     },
     "execution_count": 7,
     "metadata": {},
     "output_type": "execute_result"
    }
   ],
   "source": [
    "a1d_array_linspace.size"
   ]
  },
  {
   "cell_type": "code",
   "execution_count": 54,
   "id": "34699fc4",
   "metadata": {},
   "outputs": [],
   "source": [
    "def multiply_matrices(a,b):\n",
    "    no_of_cols_a = a.shape[1]\n",
    "    no_of_rows_b = b.shape[0]\n",
    "    \n",
    "    no_of_cols_b = b.shape[1]\n",
    "    no_of_rows_a = a.shape[0]\n",
    "    if no_of_cols_a == no_of_rows_b:\n",
    "        c = np.dot(a,b)\n",
    "        print(a)\n",
    "        print(\"X\")\n",
    "        print(b)\n",
    "        print(\"=\")\n",
    "        print(c)\n",
    "    elif no_of_cols_b == no_of_rows_a:\n",
    "        c = np.dot(b,a)\n",
    "        print(b)\n",
    "        print(\"X\")\n",
    "        print(a)\n",
    "        print(\"=\")\n",
    "        print(c)\n",
    "    else:\n",
    "        print(\"The matrix cannot be multiplied\")"
   ]
  },
  {
   "cell_type": "code",
   "execution_count": 58,
   "id": "7d8f6ed7",
   "metadata": {},
   "outputs": [
    {
     "name": "stdout",
     "output_type": "stream",
     "text": [
      "[[ 0  1  2]\n",
      " [ 3  4  5]\n",
      " [ 6  7  8]\n",
      " [ 9 10 11]]\n",
      "X\n",
      "[[ 0  1  2  3]\n",
      " [ 4  5  6  7]\n",
      " [ 8  9 10 11]]\n",
      "=\n",
      "[[ 20  23  26  29]\n",
      " [ 56  68  80  92]\n",
      " [ 92 113 134 155]\n",
      " [128 158 188 218]]\n"
     ]
    }
   ],
   "source": [
    "multiply_matrices(b, a)"
   ]
  },
  {
   "cell_type": "code",
   "execution_count": 8,
   "id": "8ea96c2e",
   "metadata": {},
   "outputs": [
    {
     "data": {
      "text/plain": [
       "array([6, 5, 8, 2])"
      ]
     },
     "execution_count": 8,
     "metadata": {},
     "output_type": "execute_result"
    }
   ],
   "source": [
    "np.array([6,5,8,2])"
   ]
  },
  {
   "cell_type": "code",
   "execution_count": 4,
   "id": "788f2e14",
   "metadata": {},
   "outputs": [
    {
     "data": {
      "text/plain": [
       "52"
      ]
     },
     "execution_count": 4,
     "metadata": {},
     "output_type": "execute_result"
    }
   ],
   "source": [
    "6 ** 2 + 4 ** 2"
   ]
  },
  {
   "cell_type": "code",
   "execution_count": 6,
   "id": "3b3f00de",
   "metadata": {},
   "outputs": [
    {
     "name": "stderr",
     "output_type": "stream",
     "text": [
      "C:\\Users\\Abhitesh.Debnath\\AppData\\Local\\Temp\\ipykernel_4844\\3352044822.py:1: RuntimeWarning: invalid value encountered in log\n",
      "  x = (np.log(-1),1, np.log(0))\n",
      "C:\\Users\\Abhitesh.Debnath\\AppData\\Local\\Temp\\ipykernel_4844\\3352044822.py:1: RuntimeWarning: divide by zero encountered in log\n",
      "  x = (np.log(-1),1, np.log(0))\n"
     ]
    }
   ],
   "source": [
    "x = [np.log(-1), 1, np.log(0)]"
   ]
  },
  {
   "cell_type": "code",
   "execution_count": 10,
   "id": "8d6ec2bc",
   "metadata": {},
   "outputs": [
    {
     "data": {
      "text/plain": [
       "(nan, 1, -inf)"
      ]
     },
     "execution_count": 10,
     "metadata": {},
     "output_type": "execute_result"
    }
   ],
   "source": [
    "x"
   ]
  },
  {
   "cell_type": "code",
   "execution_count": 9,
   "id": "55e5d9d0",
   "metadata": {},
   "outputs": [
    {
     "data": {
      "text/plain": [
       "array([ True, False, False])"
      ]
     },
     "execution_count": 9,
     "metadata": {},
     "output_type": "execute_result"
    }
   ],
   "source": [
    "np.isnan(x)"
   ]
  },
  {
   "cell_type": "code",
   "execution_count": 11,
   "id": "eb6f2de0",
   "metadata": {},
   "outputs": [
    {
     "data": {
      "text/plain": [
       "array([0, 1, 2, 3, 4])"
      ]
     },
     "execution_count": 11,
     "metadata": {},
     "output_type": "execute_result"
    }
   ],
   "source": [
    "x = np.arange(5)\n",
    "x"
   ]
  },
  {
   "cell_type": "code",
   "execution_count": 12,
   "id": "15c3de38",
   "metadata": {},
   "outputs": [
    {
     "data": {
      "text/plain": [
       "array([False, False,  True,  True,  True])"
      ]
     },
     "execution_count": 12,
     "metadata": {},
     "output_type": "execute_result"
    }
   ],
   "source": [
    "x>1"
   ]
  },
  {
   "cell_type": "code",
   "execution_count": 13,
   "id": "c8f18da0",
   "metadata": {},
   "outputs": [
    {
     "data": {
      "text/plain": [
       "array([ True,  True,  True,  True, False])"
      ]
     },
     "execution_count": 13,
     "metadata": {},
     "output_type": "execute_result"
    }
   ],
   "source": [
    "x<4"
   ]
  },
  {
   "cell_type": "code",
   "execution_count": null,
   "id": "5999d67b",
   "metadata": {},
   "outputs": [],
   "source": [
    "True, True, True, True, True"
   ]
  }
 ],
 "metadata": {
  "kernelspec": {
   "display_name": "Python 3 (ipykernel)",
   "language": "python",
   "name": "python3"
  },
  "language_info": {
   "codemirror_mode": {
    "name": "ipython",
    "version": 3
   },
   "file_extension": ".py",
   "mimetype": "text/x-python",
   "name": "python",
   "nbconvert_exporter": "python",
   "pygments_lexer": "ipython3",
   "version": "3.9.12"
  },
  "vscode": {
   "interpreter": {
    "hash": "bfc2d35bf3eb13c1ee782020354ad7883cff7e77e5ae9cff04434e315ce2dfba"
   }
  }
 },
 "nbformat": 4,
 "nbformat_minor": 5
}
