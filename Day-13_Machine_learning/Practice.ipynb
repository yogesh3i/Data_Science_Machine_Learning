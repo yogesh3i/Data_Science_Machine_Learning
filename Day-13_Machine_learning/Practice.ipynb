{
 "cells": [
  {
   "cell_type": "markdown",
   "metadata": {},
   "source": [
    "# Practicing the Preprocessing techniques and the Train/Test split of the Data "
   ]
  },
  {
   "cell_type": "markdown",
   "metadata": {},
   "source": [
    "#Handling missing Value\n",
    "\n",
    "#Using a SimpleImputer \n",
    "\n"
   ]
  },
  {
   "cell_type": "code",
   "execution_count": 17,
   "metadata": {},
   "outputs": [
    {
     "name": "stdout",
     "output_type": "stream",
     "text": [
      "Table Before:\n",
      "    One  Two\n",
      "a  1.0  1.0\n",
      "b  2.0  2.0\n",
      "c  NaN  3.0\n",
      "d  NaN  4.0\n",
      "e  5.0  NaN\n"
     ]
    }
   ],
   "source": [
    "#Creating dataset \n",
    "import pandas as pd\n",
    "import numpy as np \n",
    "import sklearn\n",
    "import warnings\n",
    "warnings.filterwarnings('ignore',category=UserWarning)\n",
    "\n",
    "data= {'One':pd.Series([1,2,5],index=['a','b','e']),\n",
    "        'Two':pd.Series([1,2,3,4],index=['a','b','c','d'])}\n",
    "\n",
    "table=pd.DataFrame(data)\n",
    "table\n",
    "print('Table Before:\\n',table)\n",
    "\n"
   ]
  },
  {
   "cell_type": "code",
   "execution_count": 21,
   "metadata": {},
   "outputs": [
    {
     "name": "stdout",
     "output_type": "stream",
     "text": [
      "After Simpleimputer:\n",
      "         One  Two\n",
      "0  1.000000  1.0\n",
      "1  2.000000  2.0\n",
      "2  2.666667  3.0\n",
      "3  2.666667  4.0\n",
      "4  5.000000  2.5\n"
     ]
    }
   ],
   "source": [
    "# Now Applying the SimpleImputer method to fill out the missing values \n",
    "from sklearn.impute import SimpleImputer\n",
    "imputer=SimpleImputer(missing_values=np.nan,strategy='mean')\n",
    "imputer.fit(table) #applying the imputer stategy on the table\n",
    "imputed_data=imputer.transform(table.values)\n",
    "table2=pd.DataFrame(imputed_data,columns=['One','Two'])\n",
    "print('After Simpleimputer:\\n',table2)"
   ]
  },
  {
   "cell_type": "markdown",
   "metadata": {},
   "source": [
    "#Handling categorical values\n",
    "\n",
    "#1. get_dummies"
   ]
  },
  {
   "cell_type": "code",
   "execution_count": 34,
   "metadata": {},
   "outputs": [
    {
     "name": "stdout",
     "output_type": "stream",
     "text": [
      "   Customer_id       Loan_type Income\n",
      "0            1       Home Loan    30K\n",
      "1            2   Personal Loan    25K\n",
      "2            3  Education Loan    15K\n",
      "3            4       Home Loan    40K\n",
      "4            5     Credit Loan    35K\n"
     ]
    }
   ],
   "source": [
    "import pandas as pd\n",
    "data = {'Customer_id': pd.Series([1,2,3,4,5]),\n",
    "        'Loan_type': pd.Series(['Home Loan',\n",
    "                                'Personal Loan',\n",
    "                                'Education Loan',\n",
    "                                'Home Loan',\n",
    "                                'Credit Loan']),\n",
    "        'Income': pd.Series(['30K','25K',\n",
    "                        '15K','40K','35K'])}\n",
    "loan_info = pd.DataFrame(data)\n",
    "print(loan_info)\n"
   ]
  },
  {
   "cell_type": "code",
   "execution_count": 35,
   "metadata": {},
   "outputs": [
    {
     "data": {
      "text/html": [
       "<div>\n",
       "<style scoped>\n",
       "    .dataframe tbody tr th:only-of-type {\n",
       "        vertical-align: middle;\n",
       "    }\n",
       "\n",
       "    .dataframe tbody tr th {\n",
       "        vertical-align: top;\n",
       "    }\n",
       "\n",
       "    .dataframe thead th {\n",
       "        text-align: right;\n",
       "    }\n",
       "</style>\n",
       "<table border=\"1\" class=\"dataframe\">\n",
       "  <thead>\n",
       "    <tr style=\"text-align: right;\">\n",
       "      <th></th>\n",
       "      <th>Customer_id</th>\n",
       "      <th>Loan_type_Credit Loan</th>\n",
       "      <th>Loan_type_Education Loan</th>\n",
       "      <th>Loan_type_Home Loan</th>\n",
       "      <th>Loan_type_Personal Loan</th>\n",
       "      <th>Income_15K</th>\n",
       "      <th>Income_25K</th>\n",
       "      <th>Income_30K</th>\n",
       "      <th>Income_35K</th>\n",
       "      <th>Income_40K</th>\n",
       "    </tr>\n",
       "  </thead>\n",
       "  <tbody>\n",
       "    <tr>\n",
       "      <th>0</th>\n",
       "      <td>1</td>\n",
       "      <td>False</td>\n",
       "      <td>False</td>\n",
       "      <td>True</td>\n",
       "      <td>False</td>\n",
       "      <td>False</td>\n",
       "      <td>False</td>\n",
       "      <td>True</td>\n",
       "      <td>False</td>\n",
       "      <td>False</td>\n",
       "    </tr>\n",
       "    <tr>\n",
       "      <th>1</th>\n",
       "      <td>2</td>\n",
       "      <td>False</td>\n",
       "      <td>False</td>\n",
       "      <td>False</td>\n",
       "      <td>True</td>\n",
       "      <td>False</td>\n",
       "      <td>True</td>\n",
       "      <td>False</td>\n",
       "      <td>False</td>\n",
       "      <td>False</td>\n",
       "    </tr>\n",
       "    <tr>\n",
       "      <th>2</th>\n",
       "      <td>3</td>\n",
       "      <td>False</td>\n",
       "      <td>True</td>\n",
       "      <td>False</td>\n",
       "      <td>False</td>\n",
       "      <td>True</td>\n",
       "      <td>False</td>\n",
       "      <td>False</td>\n",
       "      <td>False</td>\n",
       "      <td>False</td>\n",
       "    </tr>\n",
       "    <tr>\n",
       "      <th>3</th>\n",
       "      <td>4</td>\n",
       "      <td>False</td>\n",
       "      <td>False</td>\n",
       "      <td>True</td>\n",
       "      <td>False</td>\n",
       "      <td>False</td>\n",
       "      <td>False</td>\n",
       "      <td>False</td>\n",
       "      <td>False</td>\n",
       "      <td>True</td>\n",
       "    </tr>\n",
       "    <tr>\n",
       "      <th>4</th>\n",
       "      <td>5</td>\n",
       "      <td>True</td>\n",
       "      <td>False</td>\n",
       "      <td>False</td>\n",
       "      <td>False</td>\n",
       "      <td>False</td>\n",
       "      <td>False</td>\n",
       "      <td>False</td>\n",
       "      <td>True</td>\n",
       "      <td>False</td>\n",
       "    </tr>\n",
       "  </tbody>\n",
       "</table>\n",
       "</div>"
      ],
      "text/plain": [
       "   Customer_id  Loan_type_Credit Loan  Loan_type_Education Loan  \\\n",
       "0            1                  False                     False   \n",
       "1            2                  False                     False   \n",
       "2            3                  False                      True   \n",
       "3            4                  False                     False   \n",
       "4            5                   True                     False   \n",
       "\n",
       "   Loan_type_Home Loan  Loan_type_Personal Loan  Income_15K  Income_25K  \\\n",
       "0                 True                    False       False       False   \n",
       "1                False                     True       False        True   \n",
       "2                False                    False        True       False   \n",
       "3                 True                    False       False       False   \n",
       "4                False                    False       False       False   \n",
       "\n",
       "   Income_30K  Income_35K  Income_40K  \n",
       "0        True       False       False  \n",
       "1       False       False       False  \n",
       "2       False       False       False  \n",
       "3       False       False        True  \n",
       "4       False        True       False  "
      ]
     },
     "execution_count": 35,
     "metadata": {},
     "output_type": "execute_result"
    }
   ],
   "source": [
    "pd.get_dummies(loan_info,prefix_sep='_',drop_first=False)"
   ]
  },
  {
   "cell_type": "markdown",
   "metadata": {},
   "source": [
    "#Handling categorical values\n",
    "\n",
    "#2.Using LabelEncoder"
   ]
  },
  {
   "cell_type": "code",
   "execution_count": 32,
   "metadata": {},
   "outputs": [
    {
     "name": "stdout",
     "output_type": "stream",
     "text": [
      "   Customer_id       Loan_type Income\n",
      "0            1       Home Loan    30K\n",
      "1            2   Personal Loan    25K\n",
      "2            3  Education Loan    15K\n",
      "3            4       Home Loan    40K\n",
      "4            5     Credit Loan    35K\n"
     ]
    }
   ],
   "source": [
    "import pandas as pd\n",
    "data = {'Customer_id': pd.Series([1,2,3,4,5]),\n",
    "        'Loan_type': pd.Series(['Home Loan',\n",
    "                                'Personal Loan',\n",
    "                                'Education Loan',\n",
    "                                'Home Loan',\n",
    "                                'Credit Loan']),\n",
    "        'Income': pd.Series(['30K','25K',\n",
    "                        '15K','40K','35K'])}\n",
    "loan_info = pd.DataFrame(data)\n",
    "print(loan_info)\n"
   ]
  },
  {
   "cell_type": "code",
   "execution_count": 33,
   "metadata": {},
   "outputs": [
    {
     "data": {
      "text/html": [
       "<div>\n",
       "<style scoped>\n",
       "    .dataframe tbody tr th:only-of-type {\n",
       "        vertical-align: middle;\n",
       "    }\n",
       "\n",
       "    .dataframe tbody tr th {\n",
       "        vertical-align: top;\n",
       "    }\n",
       "\n",
       "    .dataframe thead th {\n",
       "        text-align: right;\n",
       "    }\n",
       "</style>\n",
       "<table border=\"1\" class=\"dataframe\">\n",
       "  <thead>\n",
       "    <tr style=\"text-align: right;\">\n",
       "      <th></th>\n",
       "      <th>Customer_id</th>\n",
       "      <th>Loan_type</th>\n",
       "      <th>Income</th>\n",
       "    </tr>\n",
       "  </thead>\n",
       "  <tbody>\n",
       "    <tr>\n",
       "      <th>0</th>\n",
       "      <td>0</td>\n",
       "      <td>2</td>\n",
       "      <td>2</td>\n",
       "    </tr>\n",
       "    <tr>\n",
       "      <th>1</th>\n",
       "      <td>1</td>\n",
       "      <td>3</td>\n",
       "      <td>1</td>\n",
       "    </tr>\n",
       "    <tr>\n",
       "      <th>2</th>\n",
       "      <td>2</td>\n",
       "      <td>1</td>\n",
       "      <td>0</td>\n",
       "    </tr>\n",
       "    <tr>\n",
       "      <th>3</th>\n",
       "      <td>3</td>\n",
       "      <td>2</td>\n",
       "      <td>4</td>\n",
       "    </tr>\n",
       "    <tr>\n",
       "      <th>4</th>\n",
       "      <td>4</td>\n",
       "      <td>0</td>\n",
       "      <td>3</td>\n",
       "    </tr>\n",
       "  </tbody>\n",
       "</table>\n",
       "</div>"
      ],
      "text/plain": [
       "   Customer_id  Loan_type  Income\n",
       "0            0          2       2\n",
       "1            1          3       1\n",
       "2            2          1       0\n",
       "3            3          2       4\n",
       "4            4          0       3"
      ]
     },
     "execution_count": 33,
     "metadata": {},
     "output_type": "execute_result"
    }
   ],
   "source": [
    "# Above data have lots of categorical values \n",
    "Labelencoder=LabelEncoder()\n",
    "df_up=loan_info.apply(Labelencoder.fit_transform)\n",
    "df_u=pd.DataFrame(df_up)\n",
    "df_u"
   ]
  },
  {
   "cell_type": "markdown",
   "metadata": {},
   "source": [
    "#Handling categorical variable \n",
    "\n",
    "#Using onehotencoding \n"
   ]
  },
  {
   "cell_type": "code",
   "execution_count": 6,
   "metadata": {},
   "outputs": [
    {
     "name": "stdout",
     "output_type": "stream",
     "text": [
      "[[1. 0. 0. 0. 0. 0. 0. 1. 0. 0. 0. 1. 0. 0.]\n",
      " [0. 1. 0. 0. 0. 0. 0. 0. 1. 0. 1. 0. 0. 0.]\n",
      " [0. 0. 1. 0. 0. 0. 1. 0. 0. 1. 0. 0. 0. 0.]\n",
      " [0. 0. 0. 1. 0. 0. 0. 1. 0. 0. 0. 0. 0. 1.]\n",
      " [0. 0. 0. 0. 1. 1. 0. 0. 0. 0. 0. 0. 1. 0.]]\n"
     ]
    }
   ],
   "source": [
    "import pandas as pd\n",
    "data = {'Customer_id': pd.Series([1,2,3,4,5]),\n",
    "        'Loan_type': pd.Series(['Home Loan',\n",
    "                                'Personal Loan',\n",
    "                                'Education Loan',\n",
    "                                'Home Loan',\n",
    "                                'Credit Loan']),\n",
    "        'Income': pd.Series(['30K','25K','15K',\n",
    "                             '40K','35K'])}\n",
    "loan_info = pd.DataFrame(data)\n",
    "\n",
    "from sklearn.preprocessing import OneHotEncoder\n",
    "Onehotencoder=OneHotEncoder()\n",
    "x=Onehotencoder.fit_transform(loan_info).toarray()\n",
    "print(x)"
   ]
  },
  {
   "cell_type": "markdown",
   "metadata": {},
   "source": [
    "#Scaling the data \n",
    "\n",
    "1. Standard scalar \n",
    "\n",
    "2. MinMaxScalar \n",
    "\n",
    "3. Robust scalar"
   ]
  },
  {
   "cell_type": "code",
   "execution_count": 10,
   "metadata": {},
   "outputs": [
    {
     "data": {
      "text/plain": [
       "<Axes: >"
      ]
     },
     "execution_count": 10,
     "metadata": {},
     "output_type": "execute_result"
    },
    {
     "data": {
      "image/png": "[encoded data removed]",
      "text/plain": [
       "<Figure size 640x480 with 1 Axes>"
      ]
     },
     "metadata": {},
     "output_type": "display_data"
    }
   ],
   "source": [
    "# 1. Standard scalar \n",
    "import matplotlib.pyplot as plt \n",
    "import seaborn as sns \n",
    "import numpy as np \n",
    "data1 = np.array([[-100.3],\n",
    "                  [27.5], \n",
    "                  [0],\n",
    "                  [-200.9],\n",
    "                  [1000]])\n",
    "sns.scatterplot(data1)\n",
    "\n",
    "\"\"\"So in the below graph the data points are distributed in very wide range, if i can limit then in the correct range the \n",
    "    distribution will be fine and we will be able to draw some insights.\"\"\"\n",
    "\n",
    "# Hence need to scale the data "
   ]
  },
  {
   "cell_type": "code",
   "execution_count": 12,
   "metadata": {},
   "outputs": [
    {
     "data": {
      "text/plain": [
       "array([[-0.5646401 ],\n",
       "       [-0.27077707],\n",
       "       [-0.33401051],\n",
       "       [-0.79595951],\n",
       "       [ 1.96538718]])"
      ]
     },
     "execution_count": 12,
     "metadata": {},
     "output_type": "execute_result"
    }
   ],
   "source": [
    "\"\"\"This means that after applying StandardScaler, a feature will have a mean of 0 and a standard deviation of 1. \"\"\"\n",
    "\n",
    "from sklearn.preprocessing import StandardScaler\n",
    "standard=StandardScaler()\n",
    "data_scaled = standard.fit_transform(data1)\n",
    "data_scaled\n",
    "\n",
    "\"\"\"The range of the data after standardization will depend on the distribution of the data itself; \n",
    "because standardization does not bound the data to a specific range, the resulting transformed data can have any range.\"\"\""
   ]
  },
  {
   "cell_type": "code",
   "execution_count": 13,
   "metadata": {},
   "outputs": [
    {
     "data": {
      "text/plain": [
       "<Axes: >"
      ]
     },
     "execution_count": 13,
     "metadata": {},
     "output_type": "execute_result"
    },
    {
     "data": {
      "image/png": "[encoded data removed]",
      "text/plain": [
       "<Figure size 640x480 with 1 Axes>"
      ]
     },
     "metadata": {},
     "output_type": "display_data"
    }
   ],
   "source": [
    "# Now lets check the distribution \n",
    "sns.scatterplot(data_scaled)  \n",
    "\n",
    "# Featurs will be at the same scale but the ratio will change "
   ]
  },
  {
   "cell_type": "code",
   "execution_count": 15,
   "metadata": {},
   "outputs": [
    {
     "name": "stdout",
     "output_type": "stream",
     "text": [
      "Before scaling\n",
      " [[-100.3]\n",
      " [  27.5]\n",
      " [   0. ]\n",
      " [-200.9]\n",
      " [1000. ]]\n",
      "After scaling:\n",
      " [[1.08377051]\n",
      " [1.19019069]\n",
      " [1.1672912 ]\n",
      " [1.        ]\n",
      " [2.        ]]\n"
     ]
    }
   ],
   "source": [
    "#2. MinMax scalar \n",
    "import numpy as np\n",
    "from sklearn import preprocessing\n",
    "\n",
    "data1 = np.array([[-100.3],\n",
    "                  [27.5], \n",
    "                  [0],\n",
    "                  [-200.9],\n",
    "                  [1000]])\n",
    "print('Before scaling\\n',data1)\n",
    "\n",
    "# Minmax scalar scale the data in the perticular range 'given'\n",
    "from sklearn.preprocessing import MinMaxScaler\n",
    "minmax=MinMaxScaler(feature_range=(1,2))\n",
    "\n",
    "data_scaled= minmax.fit_transform(data1)\n",
    "print('After scaling:\\n',data_scaled)"
   ]
  },
  {
   "cell_type": "code",
   "execution_count": 19,
   "metadata": {},
   "outputs": [
    {
     "name": "stdout",
     "output_type": "stream",
     "text": [
      "Before Scaling\n",
      " [[-100.3]\n",
      " [  27.5]\n",
      " [   0. ]\n",
      " [-200.9]\n",
      " [1000. ]]\n",
      "After scale:\n",
      " [[-0.78482003]\n",
      " [ 0.21517997]\n",
      " [ 0.        ]\n",
      " [-1.57198748]\n",
      " [ 7.82472613]]\n"
     ]
    }
   ],
   "source": [
    "#3. Robust scalling \n",
    "# It uses the IQr for scaling the each data point \n",
    "\n",
    "import numpy as np\n",
    "from sklearn import preprocessing\n",
    "\n",
    "data1 = np.array([[-100.3],\n",
    "                  [27.5], \n",
    "                  [0],\n",
    "                  [-200.9],\n",
    "                  [1000]])\n",
    "print('Before Scaling\\n',data1)\n",
    "\n",
    "from sklearn.preprocessing import RobustScaler\n",
    "\n",
    "Robust= RobustScaler()\n",
    "data_scaled = Robust.fit_transform(data1)\n",
    "print('After scale:\\n',data_scaled)"
   ]
  },
  {
   "cell_type": "markdown",
   "metadata": {},
   "source": [
    "#Normalization"
   ]
  },
  {
   "cell_type": "code",
   "execution_count": 28,
   "metadata": {},
   "outputs": [
    {
     "name": "stdout",
     "output_type": "stream",
     "text": [
      "Before Normalization\n",
      " [[5.1 3.5 1.4 0.2]\n",
      " [4.9 3.  1.4 0.2]\n",
      " [4.7 3.2 1.3 0.2]\n",
      " [4.6 3.1 1.5 0.2]\n",
      " [5.  3.6 1.4 0.2]]\n",
      "\n",
      "After normalization:\n",
      " [[0.80377277 0.55160877 0.22064351 0.0315205 ]\n",
      " [0.82813287 0.50702013 0.23660939 0.03380134]\n",
      " [0.80533308 0.54831188 0.2227517  0.03426949]\n",
      " [0.80003025 0.53915082 0.26087943 0.03478392]\n",
      " [0.790965   0.5694948  0.2214702  0.0316386 ]]\n"
     ]
    }
   ],
   "source": [
    "import numpy as np\n",
    "from sklearn import preprocessing\n",
    "\n",
    "data = np.array(\n",
    "    [[5.1,3.5,1.4,0.2],\n",
    "     [4.9,3.0,1.4,0.2],\n",
    "     [4.7,3.2,1.3,0.2],\n",
    "     [4.6,3.1,1.5,0.2],\n",
    "     [5.0,3.6,1.4,0.2]])\n",
    "print('Before Normalization\\n',data)\n",
    "\n",
    "from sklearn.preprocessing import normalize\n",
    "\n",
    "data_nor=normalize(data)\n",
    "print('\\nAfter normalization:\\n',data_nor)"
   ]
  },
  {
   "cell_type": "code",
   "execution_count": 1,
   "metadata": {},
   "outputs": [],
   "source": [
    "import matplotlib.pyplot as plt "
   ]
  },
  {
   "cell_type": "code",
   "execution_count": null,
   "metadata": {},
   "outputs": [],
   "source": []
  }
 ],
 "metadata": {
  "kernelspec": {
   "display_name": "Python 3",
   "language": "python",
   "name": "python3"
  },
  "language_info": {
   "codemirror_mode": {
    "name": "ipython",
    "version": 3
   },
   "file_extension": ".py",
   "mimetype": "text/x-python",
   "name": "python",
   "nbconvert_exporter": "python",
   "pygments_lexer": "ipython3",
   "version": "3.12.0"
  }
 },
 "nbformat": 4,
 "nbformat_minor": 2
}
