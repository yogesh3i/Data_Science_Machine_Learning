{
  "cells": [
    {
      "cell_type": "markdown",
      "metadata": {
        "id": "HSSzOCJuqYb6"
      },
      "source": [
        "\n",
        "\n",
        "# Introduction to Machine Learning\n",
        "\n",
        "## In-class codes"
      ]
    },
    {
      "cell_type": "markdown",
      "metadata": {
        "id": "V_xV5DysqYcB"
      },
      "source": [
        "In this demo, you will be pre-processing the data using various pre-processing techniques and also train/test split the data"
      ]
    },
    {
      "cell_type": "markdown",
      "metadata": {
        "id": "XCFaLbK2qYcC"
      },
      "source": [
        "---"
      ]
    },
    {
      "cell_type": "markdown",
      "metadata": {
        "id": "-rfsyxcZqYcD"
      },
      "source": [
        "<div style=\"background-color:##EDF9FF\">\n",
        " <ul><li><h3>Simple imputer</h3></li></ul>\n",
        "</div>"
      ]
    },
    {
      "cell_type": "code",
      "execution_count": null,
      "metadata": {
        "colab": {
          "base_uri": "https://localhost:8080/"
        },
        "id": "LY3ZhfJmqYcF",
        "outputId": "16a39329-216b-4aac-f542-2f79943be7f2"
      },
      "outputs": [
        {
          "name": "stdout",
          "output_type": "stream",
          "text": [
            "Before:\n",
            "    one  two\n",
            "a  1.0  1.0\n",
            "b  2.0  2.0\n",
            "c  NaN  3.0\n",
            "d  NaN  4.0\n",
            "e  5.0  NaN\n",
            "After:\n",
            "         one  two\n",
            "0  1.000000  1.0\n",
            "1  2.000000  2.0\n",
            "2  2.666667  3.0\n",
            "3  2.666667  4.0\n",
            "4  5.000000  2.5\n"
          ]
        },
        {
          "name": "stderr",
          "output_type": "stream",
          "text": [
            "/usr/local/lib/python3.7/dist-packages/sklearn/base.py:451: UserWarning: X does not have valid feature names, but SimpleImputer was fitted with feature names\n",
            "  \"X does not have valid feature names, but\"\n"
          ]
        }
      ],
      "source": [
        "import pandas\n",
        "import numpy as np\n",
        "data = {'one': pandas.Series([1, 2, 5], \n",
        "                             index=['a', 'b', 'e']),\n",
        "        'two': pandas.Series([1, 2, 3, 4], \n",
        "                             index=['a', 'b', 'c', 'd'])}\n",
        "table = pandas.DataFrame(data)\n",
        "print(\"Before:\\n\",table)\n",
        "\n",
        "from sklearn.impute import SimpleImputer\n",
        "imputer = SimpleImputer(missing_values=np.nan, strategy='mean')\n",
        "imputer.fit(table)\n",
        "imputed_data = imputer.transform(table.values)\n",
        "print(\"After:\\n\",pandas.DataFrame(imputed_data, columns=['one','two']))"
      ]
    },
    {
      "cell_type": "markdown",
      "metadata": {
        "id": "n9e2mDXEqYcJ"
      },
      "source": [
        "#<div style=\"background-color:##EDF9FF\">\n",
        " <ul><li><h3>loan_info dataframe</h3></li></ul>\n",
        "</div>"
      ]
    },
    {
      "cell_type": "code",
      "execution_count": null,
      "metadata": {
        "colab": {
          "base_uri": "https://localhost:8080/"
        },
        "id": "POn5HjMZqYcK",
        "outputId": "41d93959-cd08-4f02-cb9c-35db67b8d692"
      },
      "outputs": [
        {
          "name": "stdout",
          "output_type": "stream",
          "text": [
            "   Customer_id       Loan_type Income\n",
            "0            1       Home Loan    30K\n",
            "1            2   Personal Loan    25K\n",
            "2            3  Education Loan    15K\n",
            "3            4       Home Loan    40K\n",
            "4            5     Credit Loan    35K\n"
          ]
        }
      ],
      "source": [
        "import pandas as pd\n",
        "data = {'Customer_id': pd.Series([1,2,3,4,5]),\n",
        "        'Loan_type': pd.Series(['Home Loan',\n",
        "                                'Personal Loan',\n",
        "                                'Education Loan',\n",
        "                                'Home Loan',\n",
        "                                'Credit Loan']),\n",
        "        'Income': pd.Series(['30K','25K',\n",
        "                        '15K','40K','35K'])}\n",
        "loan_info = pd.DataFrame(data)\n",
        "print(loan_info)\n"
      ]
    },
    {
      "cell_type": "markdown",
      "metadata": {
        "id": "Jc7LyW5rqYcL"
      },
      "source": [
        "<div style=\"background-color:##EDF9FF\">\n",
        " <ul><li><h3>get-dummies</h3></li></ul>\n",
        "</div>"
      ]
    },
    {
      "cell_type": "code",
      "execution_count": null,
      "metadata": {
        "colab": {
          "base_uri": "https://localhost:8080/"
        },
        "id": "YkLriMOiqYcL",
        "outputId": "07e63d7d-8d41-4b3f-8905-22a72c607868"
      },
      "outputs": [
        {
          "name": "stdout",
          "output_type": "stream",
          "text": [
            "   Customer_id  Loan_type_Credit Loan  Loan_type_Education Loan  \\\n",
            "0            1                      0                         0   \n",
            "1            2                      0                         0   \n",
            "2            3                      0                         1   \n",
            "3            4                      0                         0   \n",
            "4            5                      1                         0   \n",
            "\n",
            "   Loan_type_Home Loan  Loan_type_Personal Loan  Income_15K  Income_25K  \\\n",
            "0                    1                        0           0           0   \n",
            "1                    0                        1           0           1   \n",
            "2                    0                        0           1           0   \n",
            "3                    1                        0           0           0   \n",
            "4                    0                        0           0           0   \n",
            "\n",
            "   Income_30K  Income_35K  Income_40K  \n",
            "0           1           0           0  \n",
            "1           0           0           0  \n",
            "2           0           0           0  \n",
            "3           0           0           1  \n",
            "4           0           1           0  \n"
          ]
        }
      ],
      "source": [
        "import pandas as pd\n",
        "data = {'Customer_id': pd.Series([1,2,3,4,5]),\n",
        "        'Loan_type': pd.Series(['Home Loan',\n",
        "                                'Personal Loan',\n",
        "                                'Education Loan',\n",
        "                                'Home Loan',\n",
        "                                'Credit Loan']),\n",
        "        'Income': pd.Series(['30K','25K',\n",
        "                        '15K','40K','35K'])}\n",
        "loan_info = pd.get_dummies(loan_info, \n",
        "                        prefix_sep='_', \n",
        "                        drop_first=False)\n",
        "print(loan_info)"
      ]
    },
    {
      "cell_type": "markdown",
      "metadata": {
        "id": "4E_E8x4SqYcN"
      },
      "source": [
        "<div style=\"background-color:##EDF9FF\">\n",
        " <ul><li><h3>label-encoder</h3></li></ul>\n",
        "</div>"
      ]
    },
    {
      "cell_type": "code",
      "execution_count": null,
      "metadata": {
        "colab": {
          "base_uri": "https://localhost:8080/"
        },
        "id": "gE4sYtw6qYcN",
        "outputId": "1bd9eb92-919d-4000-9850-d0b8a69a2d1c"
      },
      "outputs": [
        {
          "name": "stdout",
          "output_type": "stream",
          "text": [
            "   Customer_id  Loan_type  Income\n",
            "0            0          2       2\n",
            "1            1          3       1\n",
            "2            2          1       0\n",
            "3            3          2       4\n",
            "4            4          0       3\n"
          ]
        }
      ],
      "source": [
        "import pandas as pd\n",
        "data = {'Customer_id': pd.Series([1,2,3,4,5]),\n",
        "        'Loan_type': pd.Series(['Home Loan',\n",
        "                                'Personal Loan',\n",
        "                                'Education Loan',\n",
        "                                'Home Loan',\n",
        "                                'Credit Loan']),\n",
        "        'Income': pd.Series(['30K','25K','15K',\n",
        "                             '40K','35K'])}\n",
        "loan_info = pd.DataFrame(data)\n",
        "\n",
        "from sklearn.preprocessing import LabelEncoder\n",
        "labelencoder = LabelEncoder()\n",
        "loan_info_upd=loan_info.apply(labelencoder.fit_transform)\n",
        "print(loan_info_upd)"
      ]
    },
    {
      "cell_type": "markdown",
      "metadata": {
        "id": "JJ6coy4wqYcO"
      },
      "source": [
        "<div style=\"background-color:##EDF9FF\">\n",
        " <ul><li><h3>OneHotEncoding</h3></li></ul>\n",
        "</div>"
      ]
    },
    {
      "cell_type": "code",
      "execution_count": null,
      "metadata": {
        "colab": {
          "base_uri": "https://localhost:8080/"
        },
        "id": "YNbL_46kqYcP",
        "outputId": "0c0d4826-a8c9-4192-812c-ca77bd265543"
      },
      "outputs": [
        {
          "name": "stdout",
          "output_type": "stream",
          "text": [
            "[[1. 0. 0. 0. 0. 0. 0. 1. 0. 0. 0. 1. 0. 0.]\n",
            " [0. 1. 0. 0. 0. 0. 0. 0. 1. 0. 1. 0. 0. 0.]\n",
            " [0. 0. 1. 0. 0. 0. 1. 0. 0. 1. 0. 0. 0. 0.]\n",
            " [0. 0. 0. 1. 0. 0. 0. 1. 0. 0. 0. 0. 0. 1.]\n",
            " [0. 0. 0. 0. 1. 1. 0. 0. 0. 0. 0. 0. 1. 0.]]\n"
          ]
        }
      ],
      "source": [
        "import pandas as pd\n",
        "data = {'Customer_id': pd.Series([1,2,3,4,5]),\n",
        "        'Loan_type': pd.Series(['Home Loan',\n",
        "                                'Personal Loan',\n",
        "                                'Education Loan',\n",
        "                                'Home Loan',\n",
        "                                'Credit Loan']),\n",
        "        'Income': pd.Series(['30K','25K','15K',\n",
        "                             '40K','35K'])}\n",
        "loan_info = pd.DataFrame(data)\n",
        "\n",
        "from sklearn.preprocessing import OneHotEncoder\n",
        "onehotencoder = OneHotEncoder()\n",
        "X = onehotencoder.fit_transform(loan_info).toarray()\n",
        "print(X)"
      ]
    },
    {
      "cell_type": "markdown",
      "metadata": {
        "id": "JQwo8SmgqYcQ"
      },
      "source": [
        "<div style=\"background-color:##EDF9FF\">\n",
        " <ul><li><h3>Standard Scaler</h3></li></ul>\n",
        "</div>"
      ]
    },
    {
      "cell_type": "code",
      "execution_count": null,
      "metadata": {
        "colab": {
          "base_uri": "https://localhost:8080/"
        },
        "id": "MMT9XBxoqYcR",
        "outputId": "d58349d1-98f6-48aa-8235-05223acdb8f5"
      },
      "outputs": [
        {
          "name": "stdout",
          "output_type": "stream",
          "text": [
            "Before Scaling\n",
            " [[-100.3]\n",
            " [  27.5]\n",
            " [   0. ]\n",
            " [-200.9]\n",
            " [1000. ]]\n",
            "\n",
            "After standard scaler\n",
            " [[-0.5646401 ]\n",
            " [-0.27077707]\n",
            " [-0.33401051]\n",
            " [-0.79595951]\n",
            " [ 1.96538718]]\n"
          ]
        }
      ],
      "source": [
        "import numpy as np\n",
        "from sklearn import preprocessing\n",
        "\n",
        "data1 = np.array([[-100.3],\n",
        "                  [27.5], \n",
        "                  [0],\n",
        "                  [-200.9],\n",
        "                  [1000]])\n",
        "print('Before Scaling\\n',data1)\n",
        "\n",
        "standard_scaler = preprocessing.StandardScaler()\n",
        "scaled = standard_scaler.fit_transform(data1)\n",
        "print('\\nAfter standard scaler\\n',scaled)"
      ]
    },
    {
      "cell_type": "markdown",
      "metadata": {
        "id": "mOBpmqlYqYcS"
      },
      "source": [
        "<div style=\"background-color:##EDF9FF\">\n",
        " <ul><li><h3>Min-Max Scaler</h3></li></ul>\n",
        "</div>"
      ]
    },
    {
      "cell_type": "code",
      "execution_count": null,
      "metadata": {
        "colab": {
          "base_uri": "https://localhost:8080/"
        },
        "id": "MmEmIY0-qYcS",
        "outputId": "55ae7ed3-cee0-443a-9f6b-5f0b1e7b6666"
      },
      "outputs": [
        {
          "name": "stdout",
          "output_type": "stream",
          "text": [
            "Before scaling\n",
            " [[-100.3]\n",
            " [  27.5]\n",
            " [   0. ]\n",
            " [-200.9]\n",
            " [1000. ]]\n",
            "\n",
            "After Min-Max Scaler\n",
            " [[1.08377051]\n",
            " [1.19019069]\n",
            " [1.1672912 ]\n",
            " [1.        ]\n",
            " [2.        ]]\n"
          ]
        }
      ],
      "source": [
        "import numpy as np\n",
        "from sklearn import preprocessing\n",
        "\n",
        "data1 = np.array([[-100.3],\n",
        "                  [27.5], \n",
        "                  [0],\n",
        "                  [-200.9],\n",
        "                  [1000]])\n",
        "print('Before scaling\\n',data1)\n",
        "\n",
        "minmax_scale = preprocessing.MinMaxScaler(feature_range=(1, 2))\n",
        "scaled = minmax_scale.fit_transform(data1)\n",
        "print('\\nAfter Min-Max Scaler\\n',scaled)"
      ]
    },
    {
      "cell_type": "markdown",
      "metadata": {
        "id": "k_bMTBZsqYcT"
      },
      "source": [
        "<div style=\"background-color:##EDF9FF\">\n",
        " <ul><li><h3>Robust Scaler</h3></li></ul>\n",
        "</div>"
      ]
    },
    {
      "cell_type": "code",
      "execution_count": null,
      "metadata": {
        "colab": {
          "base_uri": "https://localhost:8080/"
        },
        "id": "OKNm-BrnqYcU",
        "outputId": "50fb033f-a7f0-43f7-9106-30969e3592bc"
      },
      "outputs": [
        {
          "name": "stdout",
          "output_type": "stream",
          "text": [
            "Before Scaling\n",
            " [[-100.3]\n",
            " [  27.5]\n",
            " [   0. ]\n",
            " [-200.9]\n",
            " [1000. ]]\n",
            "\n",
            " After Robust Scaler\n",
            " [[-0.78482003]\n",
            " [ 0.21517997]\n",
            " [ 0.        ]\n",
            " [-1.57198748]\n",
            " [ 7.82472613]]\n"
          ]
        }
      ],
      "source": [
        "import numpy as np\n",
        "from sklearn import preprocessing\n",
        "\n",
        "data1 = np.array([[-100.3],\n",
        "                  [27.5], \n",
        "                  [0],\n",
        "                  [-200.9],\n",
        "                  [1000]])\n",
        "print('Before Scaling\\n',data1)\n",
        "\n",
        "robust_scaler = preprocessing.RobustScaler()\n",
        "scaled = robust_scaler.fit_transform(data1)\n",
        "print('\\n After Robust Scaler\\n',scaled)"
      ]
    },
    {
      "cell_type": "markdown",
      "metadata": {
        "id": "85wPuS9yqYcU"
      },
      "source": [
        "<div style=\"background-color:##EDF9FF\">\n",
        " <ul><li><h3>Normalization</h3></li></ul>\n",
        "</div>"
      ]
    },
    {
      "cell_type": "code",
      "execution_count": null,
      "metadata": {
        "colab": {
          "base_uri": "https://localhost:8080/"
        },
        "id": "sDtEoq_gqYcV",
        "outputId": "99f90bd3-598f-4d68-b6fe-14c3c1db4082"
      },
      "outputs": [
        {
          "name": "stdout",
          "output_type": "stream",
          "text": [
            "Before Normalization\n",
            " [[5.1 3.5 1.4 0.2]\n",
            " [4.9 3.  1.4 0.2]\n",
            " [4.7 3.2 1.3 0.2]\n",
            " [4.6 3.1 1.5 0.2]\n",
            " [5.  3.6 1.4 0.2]]\n",
            "\n",
            "After Normalization\n",
            " [[0.80377277 0.55160877 0.22064351 0.0315205 ]\n",
            " [0.82813287 0.50702013 0.23660939 0.03380134]\n",
            " [0.80533308 0.54831188 0.2227517  0.03426949]\n",
            " [0.80003025 0.53915082 0.26087943 0.03478392]\n",
            " [0.790965   0.5694948  0.2214702  0.0316386 ]]\n"
          ]
        }
      ],
      "source": [
        "import numpy as np\n",
        "from sklearn import preprocessing\n",
        "\n",
        "data = np.array(\n",
        "    [[5.1,3.5,1.4,0.2],\n",
        "     [4.9,3.0,1.4,0.2],\n",
        "     [4.7,3.2,1.3,0.2],\n",
        "     [4.6,3.1,1.5,0.2],\n",
        "     [5.0,3.6,1.4,0.2]])\n",
        "print('Before Normalization\\n',data)\n",
        "\n",
        "normalized_data = preprocessing.normalize(data)\n",
        "print('\\nAfter Normalization\\n',normalized_data)"
      ]
    },
    {
      "cell_type": "markdown",
      "metadata": {
        "id": "EwAvqxy6qYcW"
      },
      "source": [
        "<div style=\"background-color:##EDF9FF\">\n",
        " <ul><li><h3>Feature Selection</h3></li></ul>\n",
        "</div>"
      ]
    },
    {
      "cell_type": "code",
      "execution_count": null,
      "metadata": {
        "colab": {
          "base_uri": "https://localhost:8080/",
          "height": 462
        },
        "id": "YJnoLUzmqYcW",
        "outputId": "83e473f2-eb4f-4c2f-9c8f-a6659d221808",
        "scrolled": false
      },
      "outputs": [
        {
          "data": {
            "image/png": "[encoded data removed]",
            "text/plain": [
              "<Figure size 432x432 with 2 Axes>"
            ]
          },
          "metadata": {},
          "output_type": "display_data"
        }
      ],
      "source": [
        "import pandas as pd\n",
        "import numpy as np\n",
        "import seaborn as sns\n",
        "import matplotlib.pyplot as plt\n",
        "#import the dataset\n",
        "df = pd.read_csv(\"Car_sales.csv\")\n",
        "#drop the unwanted columns\n",
        "df=df.drop(['4-year resale value','Price in thousands'],axis=1) \n",
        "#get correlations of each features in dataset\n",
        "corr_mat = df.corr()\n",
        "top_corr_features = corr_mat.index\n",
        "#plot the figure using matplot lib\n",
        "plt.figure(figsize=(6,6))\n",
        "#plot heat map using seaborn\n",
        "x=sns.heatmap(df[top_corr_features].corr(),annot=True,cmap=\"RdYlGn\")"
      ]
    },
    {
      "cell_type": "code",
      "execution_count": 22,
      "metadata": {
        "colab": {
          "base_uri": "https://localhost:8080/",
          "height": 457
        },
        "id": "oR6YZAjeqYcY",
        "outputId": "48d21366-fbdb-4853-da2c-df0337672376",
        "scrolled": true
      },
      "outputs": [
        {
          "output_type": "execute_result",
          "data": {
            "text/plain": [
              "          calories   protein       fat    sodium     fiber     carbo  \\\n",
              "calories  1.000000  0.019066  0.498610  0.300649 -0.293413  0.257638   \n",
              "protein   0.019066  1.000000  0.208431 -0.054674  0.500330 -0.025012   \n",
              "fat       0.498610  0.208431  1.000000 -0.005407  0.016719 -0.300003   \n",
              "sodium    0.300649 -0.054674 -0.005407  1.000000 -0.070675  0.297687   \n",
              "fiber    -0.293413  0.500330  0.016719 -0.070675  1.000000 -0.380357   \n",
              "carbo     0.257638 -0.025012 -0.300003  0.297687 -0.380357  1.000000   \n",
              "sugars    0.564092 -0.324112  0.275086  0.096291 -0.141225 -0.471184   \n",
              "potass   -0.072063  0.563706  0.200445 -0.042632  0.911528 -0.365003   \n",
              "vitamins  0.265356  0.007335 -0.031156  0.361477 -0.032243  0.219202   \n",
              "shelf     0.097234  0.133865  0.263691 -0.069719  0.297539 -0.192650   \n",
              "weight    0.696091  0.216158  0.214625  0.308576  0.247226  0.138467   \n",
              "cups      0.087200 -0.244469 -0.175892  0.119665 -0.513061  0.367460   \n",
              "rating   -0.689376  0.470618 -0.409284 -0.401295  0.584160  0.088712   \n",
              "\n",
              "            sugars    potass  vitamins     shelf    weight      cups    rating  \n",
              "calories  0.564092 -0.072063  0.265356  0.097234  0.696091  0.087200 -0.689376  \n",
              "protein  -0.324112  0.563706  0.007335  0.133865  0.216158 -0.244469  0.470618  \n",
              "fat       0.275086  0.200445 -0.031156  0.263691  0.214625 -0.175892 -0.409284  \n",
              "sodium    0.096291 -0.042632  0.361477 -0.069719  0.308576  0.119665 -0.401295  \n",
              "fiber    -0.141225  0.911528 -0.032243  0.297539  0.247226 -0.513061  0.584160  \n",
              "carbo    -0.471184 -0.365003  0.219202 -0.192650  0.138467  0.367460  0.088712  \n",
              "sugars    1.000000 -0.002120  0.122000  0.096623  0.452308 -0.034450 -0.761732  \n",
              "potass   -0.002120  1.000000 -0.005427  0.385784  0.419933 -0.501607  0.416009  \n",
              "vitamins  0.122000 -0.005427  1.000000  0.299262  0.320324  0.128405 -0.240544  \n",
              "shelf     0.096623  0.385784  0.299262  1.000000  0.190762 -0.335269  0.025159  \n",
              "weight    0.452308  0.419933  0.320324  0.190762  1.000000 -0.199583 -0.298124  \n",
              "cups     -0.034450 -0.501607  0.128405 -0.335269 -0.199583  1.000000 -0.203160  \n",
              "rating   -0.761732  0.416009 -0.240544  0.025159 -0.298124 -0.203160  1.000000  "
            ],
            "text/html": [
              "\n",
              "  <div id=\"df-be374510-3815-4451-9a6d-4fdd4e3ce496\">\n",
              "    <div class=\"colab-df-container\">\n",
              "      <div>\n",
              "<style scoped>\n",
              "    .dataframe tbody tr th:only-of-type {\n",
              "        vertical-align: middle;\n",
              "    }\n",
              "\n",
              "    .dataframe tbody tr th {\n",
              "        vertical-align: top;\n",
              "    }\n",
              "\n",
              "    .dataframe thead th {\n",
              "        text-align: right;\n",
              "    }\n",
              "</style>\n",
              "<table border=\"1\" class=\"dataframe\">\n",
              "  <thead>\n",
              "    <tr style=\"text-align: right;\">\n",
              "      <th></th>\n",
              "      <th>calories</th>\n",
              "      <th>protein</th>\n",
              "      <th>fat</th>\n",
              "      <th>sodium</th>\n",
              "      <th>fiber</th>\n",
              "      <th>carbo</th>\n",
              "      <th>sugars</th>\n",
              "      <th>potass</th>\n",
              "      <th>vitamins</th>\n",
              "      <th>shelf</th>\n",
              "      <th>weight</th>\n",
              "      <th>cups</th>\n",
              "      <th>rating</th>\n",
              "    </tr>\n",
              "  </thead>\n",
              "  <tbody>\n",
              "    <tr>\n",
              "      <th>calories</th>\n",
              "      <td>1.000000</td>\n",
              "      <td>0.019066</td>\n",
              "      <td>0.498610</td>\n",
              "      <td>0.300649</td>\n",
              "      <td>-0.293413</td>\n",
              "      <td>0.257638</td>\n",
              "      <td>0.564092</td>\n",
              "      <td>-0.072063</td>\n",
              "      <td>0.265356</td>\n",
              "      <td>0.097234</td>\n",
              "      <td>0.696091</td>\n",
              "      <td>0.087200</td>\n",
              "      <td>-0.689376</td>\n",
              "    </tr>\n",
              "    <tr>\n",
              "      <th>protein</th>\n",
              "      <td>0.019066</td>\n",
              "      <td>1.000000</td>\n",
              "      <td>0.208431</td>\n",
              "      <td>-0.054674</td>\n",
              "      <td>0.500330</td>\n",
              "      <td>-0.025012</td>\n",
              "      <td>-0.324112</td>\n",
              "      <td>0.563706</td>\n",
              "      <td>0.007335</td>\n",
              "      <td>0.133865</td>\n",
              "      <td>0.216158</td>\n",
              "      <td>-0.244469</td>\n",
              "      <td>0.470618</td>\n",
              "    </tr>\n",
              "    <tr>\n",
              "      <th>fat</th>\n",
              "      <td>0.498610</td>\n",
              "      <td>0.208431</td>\n",
              "      <td>1.000000</td>\n",
              "      <td>-0.005407</td>\n",
              "      <td>0.016719</td>\n",
              "      <td>-0.300003</td>\n",
              "      <td>0.275086</td>\n",
              "      <td>0.200445</td>\n",
              "      <td>-0.031156</td>\n",
              "      <td>0.263691</td>\n",
              "      <td>0.214625</td>\n",
              "      <td>-0.175892</td>\n",
              "      <td>-0.409284</td>\n",
              "    </tr>\n",
              "    <tr>\n",
              "      <th>sodium</th>\n",
              "      <td>0.300649</td>\n",
              "      <td>-0.054674</td>\n",
              "      <td>-0.005407</td>\n",
              "      <td>1.000000</td>\n",
              "      <td>-0.070675</td>\n",
              "      <td>0.297687</td>\n",
              "      <td>0.096291</td>\n",
              "      <td>-0.042632</td>\n",
              "      <td>0.361477</td>\n",
              "      <td>-0.069719</td>\n",
              "      <td>0.308576</td>\n",
              "      <td>0.119665</td>\n",
              "      <td>-0.401295</td>\n",
              "    </tr>\n",
              "    <tr>\n",
              "      <th>fiber</th>\n",
              "      <td>-0.293413</td>\n",
              "      <td>0.500330</td>\n",
              "      <td>0.016719</td>\n",
              "      <td>-0.070675</td>\n",
              "      <td>1.000000</td>\n",
              "      <td>-0.380357</td>\n",
              "      <td>-0.141225</td>\n",
              "      <td>0.911528</td>\n",
              "      <td>-0.032243</td>\n",
              "      <td>0.297539</td>\n",
              "      <td>0.247226</td>\n",
              "      <td>-0.513061</td>\n",
              "      <td>0.584160</td>\n",
              "    </tr>\n",
              "    <tr>\n",
              "      <th>carbo</th>\n",
              "      <td>0.257638</td>\n",
              "      <td>-0.025012</td>\n",
              "      <td>-0.300003</td>\n",
              "      <td>0.297687</td>\n",
              "      <td>-0.380357</td>\n",
              "      <td>1.000000</td>\n",
              "      <td>-0.471184</td>\n",
              "      <td>-0.365003</td>\n",
              "      <td>0.219202</td>\n",
              "      <td>-0.192650</td>\n",
              "      <td>0.138467</td>\n",
              "      <td>0.367460</td>\n",
              "      <td>0.088712</td>\n",
              "    </tr>\n",
              "    <tr>\n",
              "      <th>sugars</th>\n",
              "      <td>0.564092</td>\n",
              "      <td>-0.324112</td>\n",
              "      <td>0.275086</td>\n",
              "      <td>0.096291</td>\n",
              "      <td>-0.141225</td>\n",
              "      <td>-0.471184</td>\n",
              "      <td>1.000000</td>\n",
              "      <td>-0.002120</td>\n",
              "      <td>0.122000</td>\n",
              "      <td>0.096623</td>\n",
              "      <td>0.452308</td>\n",
              "      <td>-0.034450</td>\n",
              "      <td>-0.761732</td>\n",
              "    </tr>\n",
              "    <tr>\n",
              "      <th>potass</th>\n",
              "      <td>-0.072063</td>\n",
              "      <td>0.563706</td>\n",
              "      <td>0.200445</td>\n",
              "      <td>-0.042632</td>\n",
              "      <td>0.911528</td>\n",
              "      <td>-0.365003</td>\n",
              "      <td>-0.002120</td>\n",
              "      <td>1.000000</td>\n",
              "      <td>-0.005427</td>\n",
              "      <td>0.385784</td>\n",
              "      <td>0.419933</td>\n",
              "      <td>-0.501607</td>\n",
              "      <td>0.416009</td>\n",
              "    </tr>\n",
              "    <tr>\n",
              "      <th>vitamins</th>\n",
              "      <td>0.265356</td>\n",
              "      <td>0.007335</td>\n",
              "      <td>-0.031156</td>\n",
              "      <td>0.361477</td>\n",
              "      <td>-0.032243</td>\n",
              "      <td>0.219202</td>\n",
              "      <td>0.122000</td>\n",
              "      <td>-0.005427</td>\n",
              "      <td>1.000000</td>\n",
              "      <td>0.299262</td>\n",
              "      <td>0.320324</td>\n",
              "      <td>0.128405</td>\n",
              "      <td>-0.240544</td>\n",
              "    </tr>\n",
              "    <tr>\n",
              "      <th>shelf</th>\n",
              "      <td>0.097234</td>\n",
              "      <td>0.133865</td>\n",
              "      <td>0.263691</td>\n",
              "      <td>-0.069719</td>\n",
              "      <td>0.297539</td>\n",
              "      <td>-0.192650</td>\n",
              "      <td>0.096623</td>\n",
              "      <td>0.385784</td>\n",
              "      <td>0.299262</td>\n",
              "      <td>1.000000</td>\n",
              "      <td>0.190762</td>\n",
              "      <td>-0.335269</td>\n",
              "      <td>0.025159</td>\n",
              "    </tr>\n",
              "    <tr>\n",
              "      <th>weight</th>\n",
              "      <td>0.696091</td>\n",
              "      <td>0.216158</td>\n",
              "      <td>0.214625</td>\n",
              "      <td>0.308576</td>\n",
              "      <td>0.247226</td>\n",
              "      <td>0.138467</td>\n",
              "      <td>0.452308</td>\n",
              "      <td>0.419933</td>\n",
              "      <td>0.320324</td>\n",
              "      <td>0.190762</td>\n",
              "      <td>1.000000</td>\n",
              "      <td>-0.199583</td>\n",
              "      <td>-0.298124</td>\n",
              "    </tr>\n",
              "    <tr>\n",
              "      <th>cups</th>\n",
              "      <td>0.087200</td>\n",
              "      <td>-0.244469</td>\n",
              "      <td>-0.175892</td>\n",
              "      <td>0.119665</td>\n",
              "      <td>-0.513061</td>\n",
              "      <td>0.367460</td>\n",
              "      <td>-0.034450</td>\n",
              "      <td>-0.501607</td>\n",
              "      <td>0.128405</td>\n",
              "      <td>-0.335269</td>\n",
              "      <td>-0.199583</td>\n",
              "      <td>1.000000</td>\n",
              "      <td>-0.203160</td>\n",
              "    </tr>\n",
              "    <tr>\n",
              "      <th>rating</th>\n",
              "      <td>-0.689376</td>\n",
              "      <td>0.470618</td>\n",
              "      <td>-0.409284</td>\n",
              "      <td>-0.401295</td>\n",
              "      <td>0.584160</td>\n",
              "      <td>0.088712</td>\n",
              "      <td>-0.761732</td>\n",
              "      <td>0.416009</td>\n",
              "      <td>-0.240544</td>\n",
              "      <td>0.025159</td>\n",
              "      <td>-0.298124</td>\n",
              "      <td>-0.203160</td>\n",
              "      <td>1.000000</td>\n",
              "    </tr>\n",
              "  </tbody>\n",
              "</table>\n",
              "</div>\n",
              "      <button class=\"colab-df-convert\" onclick=\"convertToInteractive('df-be374510-3815-4451-9a6d-4fdd4e3ce496')\"\n",
              "              title=\"Convert this dataframe to an interactive table.\"\n",
              "              style=\"display:none;\">\n",
              "        \n",
              "  <svg xmlns=\"http://www.w3.org/2000/svg\" height=\"24px\"viewBox=\"0 0 24 24\"\n",
              "       width=\"24px\">\n",
              "    <path d=\"M0 0h24v24H0V0z\" fill=\"none\"/>\n",
              "    <path d=\"M18.56 5.44l.94 2.06.94-2.06 2.06-.94-2.06-.94-.94-2.06-.94 2.06-2.06.94zm-11 1L8.5 8.5l.94-2.06 2.06-.94-2.06-.94L8.5 2.5l-.94 2.06-2.06.94zm10 10l.94 2.06.94-2.06 2.06-.94-2.06-.94-.94-2.06-.94 2.06-2.06.94z\"/><path d=\"M17.41 7.96l-1.37-1.37c-.4-.4-.92-.59-1.43-.59-.52 0-1.04.2-1.43.59L10.3 9.45l-7.72 7.72c-.78.78-.78 2.05 0 2.83L4 21.41c.39.39.9.59 1.41.59.51 0 1.02-.2 1.41-.59l7.78-7.78 2.81-2.81c.8-.78.8-2.07 0-2.86zM5.41 20L4 18.59l7.72-7.72 1.47 1.35L5.41 20z\"/>\n",
              "  </svg>\n",
              "      </button>\n",
              "      \n",
              "  <style>\n",
              "    .colab-df-container {\n",
              "      display:flex;\n",
              "      flex-wrap:wrap;\n",
              "      gap: 12px;\n",
              "    }\n",
              "\n",
              "    .colab-df-convert {\n",
              "      background-color: #E8F0FE;\n",
              "      border: none;\n",
              "      border-radius: 50%;\n",
              "      cursor: pointer;\n",
              "      display: none;\n",
              "      fill: #1967D2;\n",
              "      height: 32px;\n",
              "      padding: 0 0 0 0;\n",
              "      width: 32px;\n",
              "    }\n",
              "\n",
              "    .colab-df-convert:hover {\n",
              "      background-color: #E2EBFA;\n",
              "      box-shadow: 0px 1px 2px rgba(60, 64, 67, 0.3), 0px 1px 3px 1px rgba(60, 64, 67, 0.15);\n",
              "      fill: #174EA6;\n",
              "    }\n",
              "\n",
              "    [theme=dark] .colab-df-convert {\n",
              "      background-color: #3B4455;\n",
              "      fill: #D2E3FC;\n",
              "    }\n",
              "\n",
              "    [theme=dark] .colab-df-convert:hover {\n",
              "      background-color: #434B5C;\n",
              "      box-shadow: 0px 1px 3px 1px rgba(0, 0, 0, 0.15);\n",
              "      filter: drop-shadow(0px 1px 2px rgba(0, 0, 0, 0.3));\n",
              "      fill: #FFFFFF;\n",
              "    }\n",
              "  </style>\n",
              "\n",
              "      <script>\n",
              "        const buttonEl =\n",
              "          document.querySelector('#df-be374510-3815-4451-9a6d-4fdd4e3ce496 button.colab-df-convert');\n",
              "        buttonEl.style.display =\n",
              "          google.colab.kernel.accessAllowed ? 'block' : 'none';\n",
              "\n",
              "        async function convertToInteractive(key) {\n",
              "          const element = document.querySelector('#df-be374510-3815-4451-9a6d-4fdd4e3ce496');\n",
              "          const dataTable =\n",
              "            await google.colab.kernel.invokeFunction('convertToInteractive',\n",
              "                                                     [key], {});\n",
              "          if (!dataTable) return;\n",
              "\n",
              "          const docLinkHtml = 'Like what you see? Visit the ' +\n",
              "            '<a target=\"_blank\" href=https://colab.research.google.com/notebooks/data_table.ipynb>data table notebook</a>'\n",
              "            + ' to learn more about interactive tables.';\n",
              "          element.innerHTML = '';\n",
              "          dataTable['output_type'] = 'display_data';\n",
              "          await google.colab.output.renderOutput(dataTable, element);\n",
              "          const docLink = document.createElement('div');\n",
              "          docLink.innerHTML = docLinkHtml;\n",
              "          element.appendChild(docLink);\n",
              "        }\n",
              "      </script>\n",
              "    </div>\n",
              "  </div>\n",
              "  "
            ]
          },
          "metadata": {},
          "execution_count": 22
        }
      ],
      "source": [
        "df.corr()"
      ]
    },
    {
      "cell_type": "code",
      "execution_count": null,
      "metadata": {
        "id": "jB_Y4pJauUFm"
      },
      "outputs": [],
      "source": [
        ""
      ]
    },
    {
      "cell_type": "markdown",
      "metadata": {
        "id": "rXVJlv_nqYcY"
      },
      "source": [
        "<div style=\"background-color:##EDF9FF\">\n",
        " <ul><li><h3>Test/Train split</h3></li></ul>\n",
        "</div>"
      ]
    },
    {
      "cell_type": "code",
      "execution_count": 20,
      "metadata": {
        "id": "DEKsu5cIqYcZ",
        "scrolled": true,
        "colab": {
          "base_uri": "https://localhost:8080/",
          "height": 206
        },
        "outputId": "b6d88751-942a-4bd4-d426-e8c1a420d0c7"
      },
      "outputs": [
        {
          "output_type": "execute_result",
          "data": {
            "text/plain": [
              "                        name mfr type  calories  protein  fat  sodium  fiber  \\\n",
              "0                  100% Bran   N    C        70        4    1     130   10.0   \n",
              "1          100% Natural Bran   Q    C       120        3    5      15    2.0   \n",
              "2                   All-Bran   K    C        70        4    1     260    9.0   \n",
              "3  All-Bran with Extra Fiber   K    C        50        4    0     140   14.0   \n",
              "4             Almond Delight   R    C       110        2    2     200    1.0   \n",
              "\n",
              "   carbo  sugars  potass  vitamins  shelf  weight  cups     rating  \n",
              "0    5.0       6   280.0        25      3     1.0  0.33  68.402973  \n",
              "1    8.0       8   135.0         0      3     1.0  1.00  33.983679  \n",
              "2    7.0       5   320.0        25      3     1.0  0.33  59.425505  \n",
              "3    8.0       0   330.0        25      3     1.0  0.50  93.704912  \n",
              "4   14.0       8     NaN        25      3     1.0  0.75  34.384843  "
            ],
            "text/html": [
              "\n",
              "  <div id=\"df-4b90a0f8-016d-4fc1-b64a-711801eb90f7\">\n",
              "    <div class=\"colab-df-container\">\n",
              "      <div>\n",
              "<style scoped>\n",
              "    .dataframe tbody tr th:only-of-type {\n",
              "        vertical-align: middle;\n",
              "    }\n",
              "\n",
              "    .dataframe tbody tr th {\n",
              "        vertical-align: top;\n",
              "    }\n",
              "\n",
              "    .dataframe thead th {\n",
              "        text-align: right;\n",
              "    }\n",
              "</style>\n",
              "<table border=\"1\" class=\"dataframe\">\n",
              "  <thead>\n",
              "    <tr style=\"text-align: right;\">\n",
              "      <th></th>\n",
              "      <th>name</th>\n",
              "      <th>mfr</th>\n",
              "      <th>type</th>\n",
              "      <th>calories</th>\n",
              "      <th>protein</th>\n",
              "      <th>fat</th>\n",
              "      <th>sodium</th>\n",
              "      <th>fiber</th>\n",
              "      <th>carbo</th>\n",
              "      <th>sugars</th>\n",
              "      <th>potass</th>\n",
              "      <th>vitamins</th>\n",
              "      <th>shelf</th>\n",
              "      <th>weight</th>\n",
              "      <th>cups</th>\n",
              "      <th>rating</th>\n",
              "    </tr>\n",
              "  </thead>\n",
              "  <tbody>\n",
              "    <tr>\n",
              "      <th>0</th>\n",
              "      <td>100% Bran</td>\n",
              "      <td>N</td>\n",
              "      <td>C</td>\n",
              "      <td>70</td>\n",
              "      <td>4</td>\n",
              "      <td>1</td>\n",
              "      <td>130</td>\n",
              "      <td>10.0</td>\n",
              "      <td>5.0</td>\n",
              "      <td>6</td>\n",
              "      <td>280.0</td>\n",
              "      <td>25</td>\n",
              "      <td>3</td>\n",
              "      <td>1.0</td>\n",
              "      <td>0.33</td>\n",
              "      <td>68.402973</td>\n",
              "    </tr>\n",
              "    <tr>\n",
              "      <th>1</th>\n",
              "      <td>100% Natural Bran</td>\n",
              "      <td>Q</td>\n",
              "      <td>C</td>\n",
              "      <td>120</td>\n",
              "      <td>3</td>\n",
              "      <td>5</td>\n",
              "      <td>15</td>\n",
              "      <td>2.0</td>\n",
              "      <td>8.0</td>\n",
              "      <td>8</td>\n",
              "      <td>135.0</td>\n",
              "      <td>0</td>\n",
              "      <td>3</td>\n",
              "      <td>1.0</td>\n",
              "      <td>1.00</td>\n",
              "      <td>33.983679</td>\n",
              "    </tr>\n",
              "    <tr>\n",
              "      <th>2</th>\n",
              "      <td>All-Bran</td>\n",
              "      <td>K</td>\n",
              "      <td>C</td>\n",
              "      <td>70</td>\n",
              "      <td>4</td>\n",
              "      <td>1</td>\n",
              "      <td>260</td>\n",
              "      <td>9.0</td>\n",
              "      <td>7.0</td>\n",
              "      <td>5</td>\n",
              "      <td>320.0</td>\n",
              "      <td>25</td>\n",
              "      <td>3</td>\n",
              "      <td>1.0</td>\n",
              "      <td>0.33</td>\n",
              "      <td>59.425505</td>\n",
              "    </tr>\n",
              "    <tr>\n",
              "      <th>3</th>\n",
              "      <td>All-Bran with Extra Fiber</td>\n",
              "      <td>K</td>\n",
              "      <td>C</td>\n",
              "      <td>50</td>\n",
              "      <td>4</td>\n",
              "      <td>0</td>\n",
              "      <td>140</td>\n",
              "      <td>14.0</td>\n",
              "      <td>8.0</td>\n",
              "      <td>0</td>\n",
              "      <td>330.0</td>\n",
              "      <td>25</td>\n",
              "      <td>3</td>\n",
              "      <td>1.0</td>\n",
              "      <td>0.50</td>\n",
              "      <td>93.704912</td>\n",
              "    </tr>\n",
              "    <tr>\n",
              "      <th>4</th>\n",
              "      <td>Almond Delight</td>\n",
              "      <td>R</td>\n",
              "      <td>C</td>\n",
              "      <td>110</td>\n",
              "      <td>2</td>\n",
              "      <td>2</td>\n",
              "      <td>200</td>\n",
              "      <td>1.0</td>\n",
              "      <td>14.0</td>\n",
              "      <td>8</td>\n",
              "      <td>NaN</td>\n",
              "      <td>25</td>\n",
              "      <td>3</td>\n",
              "      <td>1.0</td>\n",
              "      <td>0.75</td>\n",
              "      <td>34.384843</td>\n",
              "    </tr>\n",
              "  </tbody>\n",
              "</table>\n",
              "</div>\n",
              "      <button class=\"colab-df-convert\" onclick=\"convertToInteractive('df-4b90a0f8-016d-4fc1-b64a-711801eb90f7')\"\n",
              "              title=\"Convert this dataframe to an interactive table.\"\n",
              "              style=\"display:none;\">\n",
              "        \n",
              "  <svg xmlns=\"http://www.w3.org/2000/svg\" height=\"24px\"viewBox=\"0 0 24 24\"\n",
              "       width=\"24px\">\n",
              "    <path d=\"M0 0h24v24H0V0z\" fill=\"none\"/>\n",
              "    <path d=\"M18.56 5.44l.94 2.06.94-2.06 2.06-.94-2.06-.94-.94-2.06-.94 2.06-2.06.94zm-11 1L8.5 8.5l.94-2.06 2.06-.94-2.06-.94L8.5 2.5l-.94 2.06-2.06.94zm10 10l.94 2.06.94-2.06 2.06-.94-2.06-.94-.94-2.06-.94 2.06-2.06.94z\"/><path d=\"M17.41 7.96l-1.37-1.37c-.4-.4-.92-.59-1.43-.59-.52 0-1.04.2-1.43.59L10.3 9.45l-7.72 7.72c-.78.78-.78 2.05 0 2.83L4 21.41c.39.39.9.59 1.41.59.51 0 1.02-.2 1.41-.59l7.78-7.78 2.81-2.81c.8-.78.8-2.07 0-2.86zM5.41 20L4 18.59l7.72-7.72 1.47 1.35L5.41 20z\"/>\n",
              "  </svg>\n",
              "      </button>\n",
              "      \n",
              "  <style>\n",
              "    .colab-df-container {\n",
              "      display:flex;\n",
              "      flex-wrap:wrap;\n",
              "      gap: 12px;\n",
              "    }\n",
              "\n",
              "    .colab-df-convert {\n",
              "      background-color: #E8F0FE;\n",
              "      border: none;\n",
              "      border-radius: 50%;\n",
              "      cursor: pointer;\n",
              "      display: none;\n",
              "      fill: #1967D2;\n",
              "      height: 32px;\n",
              "      padding: 0 0 0 0;\n",
              "      width: 32px;\n",
              "    }\n",
              "\n",
              "    .colab-df-convert:hover {\n",
              "      background-color: #E2EBFA;\n",
              "      box-shadow: 0px 1px 2px rgba(60, 64, 67, 0.3), 0px 1px 3px 1px rgba(60, 64, 67, 0.15);\n",
              "      fill: #174EA6;\n",
              "    }\n",
              "\n",
              "    [theme=dark] .colab-df-convert {\n",
              "      background-color: #3B4455;\n",
              "      fill: #D2E3FC;\n",
              "    }\n",
              "\n",
              "    [theme=dark] .colab-df-convert:hover {\n",
              "      background-color: #434B5C;\n",
              "      box-shadow: 0px 1px 3px 1px rgba(0, 0, 0, 0.15);\n",
              "      filter: drop-shadow(0px 1px 2px rgba(0, 0, 0, 0.3));\n",
              "      fill: #FFFFFF;\n",
              "    }\n",
              "  </style>\n",
              "\n",
              "      <script>\n",
              "        const buttonEl =\n",
              "          document.querySelector('#df-4b90a0f8-016d-4fc1-b64a-711801eb90f7 button.colab-df-convert');\n",
              "        buttonEl.style.display =\n",
              "          google.colab.kernel.accessAllowed ? 'block' : 'none';\n",
              "\n",
              "        async function convertToInteractive(key) {\n",
              "          const element = document.querySelector('#df-4b90a0f8-016d-4fc1-b64a-711801eb90f7');\n",
              "          const dataTable =\n",
              "            await google.colab.kernel.invokeFunction('convertToInteractive',\n",
              "                                                     [key], {});\n",
              "          if (!dataTable) return;\n",
              "\n",
              "          const docLinkHtml = 'Like what you see? Visit the ' +\n",
              "            '<a target=\"_blank\" href=https://colab.research.google.com/notebooks/data_table.ipynb>data table notebook</a>'\n",
              "            + ' to learn more about interactive tables.';\n",
              "          element.innerHTML = '';\n",
              "          dataTable['output_type'] = 'display_data';\n",
              "          await google.colab.output.renderOutput(dataTable, element);\n",
              "          const docLink = document.createElement('div');\n",
              "          docLink.innerHTML = docLinkHtml;\n",
              "          element.appendChild(docLink);\n",
              "        }\n",
              "      </script>\n",
              "    </div>\n",
              "  </div>\n",
              "  "
            ]
          },
          "metadata": {},
          "execution_count": 20
        }
      ],
      "source": [
        "#importing libraries\n",
        "import pandas as pd\n",
        "from sklearn.model_selection import train_test_split\n",
        "#read the data-sets\n",
        "df=pd.read_csv('cereal.csv')\n",
        "df.head()"
      ]
    },
    {
      "cell_type": "code",
      "execution_count": 21,
      "metadata": {
        "id": "jVQVUeLiqYcZ",
        "scrolled": true,
        "colab": {
          "base_uri": "https://localhost:8080/"
        },
        "outputId": "4d70f09c-2363-42e8-8d49-ef72f69ce812"
      },
      "outputs": [
        {
          "output_type": "stream",
          "name": "stdout",
          "text": [
            "Trained data-set: (61, 2)\n",
            "Test data-set: (16, 2)\n"
          ]
        }
      ],
      "source": [
        "#Restructuring the Dataframe \n",
        "x=df[['calories','protein']].values \n",
        "y=df['rating'].values\n",
        "# Splitting the data-set into training and testing into 80%-20%\n",
        "x_train,x_test,y_train,y_test=train_test_split(x,y,test_size=0.2)\n",
        "# train data-set is observed to be 80% of data\n",
        "print('Trained data-set:',x_train.shape)\n",
        "#test data-set is observed to be 20% of data\n",
        "print('Test data-set:',x_test.shape)"
      ]
    },
    {
      "cell_type": "markdown",
      "metadata": {
        "id": "wPs0xFuPqYca"
      },
      "source": [
        "<b>conclusion</b> : we have performed different pre-processing techniques and train/test splitted the data as well"
      ]
    },
    {
      "cell_type": "code",
      "execution_count": null,
      "metadata": {
        "id": "Lr1eakbbqYcb"
      },
      "outputs": [],
      "source": [
        ""
      ]
    }
  ],
  "metadata": {
    "colab": {
      "name": "1752_day13_demo1-in class codes.ipynb",
      "provenance": []
    },
    "kernelspec": {
      "display_name": "Python 3",
      "language": "python",
      "name": "python3"
    },
    "language_info": {
      "codemirror_mode": {
        "name": "ipython",
        "version": 3
      },
      "file_extension": ".py",
      "mimetype": "text/x-python",
      "name": "python",
      "nbconvert_exporter": "python",
      "pygments_lexer": "ipython3",
      "version": "3.7.3"
    }
  },
  "nbformat": 4,
  "nbformat_minor": 0
}