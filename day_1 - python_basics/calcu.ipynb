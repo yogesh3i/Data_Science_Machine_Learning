{
 "cells": [
  {
   "cell_type": "code",
   "execution_count": 1,
   "metadata": {},
   "outputs": [
    {
     "name": "stdout",
     "output_type": "stream",
     "text": [
      "--------------------------------------------------\n",
      "--------------------------------------------------\n",
      "Sum of 45 and 45 is 90\n",
      "--------------------------------------------------\n",
      "Sub of 45 and 45 is 0\n",
      "--------------------------------------------------\n",
      "multi of 45 and 45 is 2025 \n",
      "--------------------------------------------------\n",
      "div of 45 and 45 is 1.0 \n",
      "--------------------------------------------------\n",
      "min of 45 and 45 is 45.0 \n"
     ]
    }
   ],
   "source": [
    "# Building a simple calculator \n",
    "\n",
    "num1=int(input(\"Enter a first number  :\"))\n",
    "print(\"--------------------------------------------------\")\n",
    "num2=int(input(\"Enter a second number :\"))\n",
    "print(\"--------------------------------------------------\")\n",
    "sum = num1 + num2\n",
    "sub = num1 - num2\n",
    "multi = num1 * num2\n",
    "div = num1/num2\n",
    "min = (num1+num2)/2\n",
    "\n",
    "print(\"Sum of {0} and {1} is {2}\".format(num1, num2,sum))\n",
    "print(\"--------------------------------------------------\")\n",
    "print(\"Sub of {0} and {1} is {2}\".format(num1, num2,sub))\n",
    "print(\"--------------------------------------------------\")\n",
    "print(\"multi of {0} and {1} is {2} \".format(num1, num2,multi))\n",
    "print(\"--------------------------------------------------\")\n",
    "print(\"div of {0} and {1} is {2} \".format(num1, num2,div))\n",
    "print(\"--------------------------------------------------\")\n",
    "print(\"min of {0} and {1} is {2} \".format(num1, num2,min))"
   ]
  },
  {
   "cell_type": "code",
   "execution_count": 6,
   "metadata": {},
   "outputs": [
    {
     "name": "stdout",
     "output_type": "stream",
     "text": [
      "10 20\n",
      "30 10\n",
      "30 10\n"
     ]
    }
   ],
   "source": [
    "a = 10\n",
    "b = 20\n",
    "print(a,b)\n",
    "\n",
    "\n"
   ]
  },
  {
   "cell_type": "code",
   "execution_count": null,
   "metadata": {},
   "outputs": [],
   "source": []
  }
 ],
 "metadata": {
  "kernelspec": {
   "display_name": "Python 3.9.1 64-bit",
   "language": "python",
   "name": "python3"
  },
  "language_info": {
   "codemirror_mode": {
    "name": "ipython",
    "version": 3
   },
   "file_extension": ".py",
   "mimetype": "text/x-python",
   "name": "python",
   "nbconvert_exporter": "python",
   "pygments_lexer": "ipython3",
   "version": "3.9.1 (tags/v3.9.1:1e5d33e, Dec  7 2020, 17:08:21) [MSC v.1927 64 bit (AMD64)]"
  },
  "orig_nbformat": 4,
  "vscode": {
   "interpreter": {
    "hash": "a6ada047e8940af673a5a678b6ba14e182d5b4e08fa205eb091207f23619d85d"
   }
  }
 },
 "nbformat": 4,
 "nbformat_minor": 2
}
