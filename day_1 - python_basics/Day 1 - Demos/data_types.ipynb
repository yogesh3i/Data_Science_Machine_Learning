{
 "cells": [
  {
   "attachments": {},
   "cell_type": "markdown",
   "metadata": {},
   "source": [
    "# Data_Types_in_Python:\n",
    "\n",
    "According to the properties they possess, there are mainly six python data types. Although there is one more \n",
    "data type range which is often used while working with loops in python.\n",
    "\n",
    "**To check the type of any variable data type, we can use the type() function. It will return the type of the mentioned variable data type.**\n",
    "\n",
    "\n",
    "1) Number/Numeric Data type \n",
    "2) String\n",
    "3) List\n",
    "4) Tuples\n",
    "5) Sets\n",
    "6) Dictionary \n",
    "7) Range"
   ]
  },
  {
   "attachments": {},
   "cell_type": "markdown",
   "metadata": {},
   "source": [
    "# Numerical data type in python :\n",
    "\n",
    "#Numerical data type holds numerical value. In numerical data there are 4 sub types as well. Following are the sub-types of numerical data type:\n",
    "\n",
    "-> Integer:     \n",
    "            Integers are used to represent whole number values.\n",
    "\n",
    "            x = 100\n",
    "            y = 124\n",
    "            #it will be the integer as long as the value is a whole number.\n",
    "            \n",
    "-> Float:   Float data type is used to represent decimal point values.\n",
    "\n",
    "            x  = 10.25\n",
    "            y = 12.30\n",
    "\n",
    "-> Complex:\n",
    "            Complex numbers are used to represent imaginary values. Imaginary values are denoted with ‘j’ at the end of the number.\n",
    "\n",
    "            x = 10 + 5j\n",
    "-> Boolean:\n",
    "            Boolean is used for categorical output, since the output of boolean is either true or false.\n",
    "\n"
   ]
  },
  {
   "attachments": {},
   "cell_type": "markdown",
   "metadata": {},
   "source": [
    "\"\"\"\n",
    "# Strings:  Strings in python are used to represent unicode character values. Python does not have a character data type, \n",
    "            a single character is also considered as a string.\n",
    "            We denote or declare the string values inside single quotes or double quotes. To access the values in a string, we use the indexes \n",
    "            and square brackets.\n",
    "\n",
    "            -6  -5  -4  -3  -2  -1\n",
    "            Y   O   G   E   S   H\n",
    "            0   1   2   3   4   5      According to this indexes we can access the string values. In Square brackets.\n",
    "\n",
    "Strings are immutable in nature, which means you cannot change a string once replaced. "
   ]
  },
  {
   "cell_type": "code",
   "execution_count": 1,
   "metadata": {},
   "outputs": [
    {
     "name": "stdout",
     "output_type": "stream",
     "text": [
      "Hello Yogesh\n"
     ]
    }
   ],
   "source": [
    "\n",
    "x=input()\n",
    "print('Hello',x)\n"
   ]
  },
  {
   "cell_type": "code",
   "execution_count": 8,
   "metadata": {},
   "outputs": [
    {
     "data": {
      "text/plain": [
       "'oge'"
      ]
     },
     "execution_count": 8,
     "metadata": {},
     "output_type": "execute_result"
    }
   ],
   "source": [
    "# Operations on string: \n",
    "\n",
    "name = 'Yogesh'\n",
    "name.upper() # All letters will be upper \n",
    "name.lower() # All letters will be upper \n",
    "name.replace('e','E') # It will replace small e with capital E \n",
    "name[1:4]    # [start_index:stop_index:step]"
   ]
  },
  {
   "attachments": {},
   "cell_type": "markdown",
   "metadata": {},
   "source": [
    "# Lists: \n",
    "\n",
    "**List is one of the four collection data type that we have in python**. When we are choosing a collection type, it is important to understand the functionality and limitations of the collection. Tuple, set and dictionary are the other collection data type of python.\n",
    "\n",
    "A list is ordered and changeable, unlike strings. We can add duplicate values as well. To declare a list we use the square brackets."
   ]
  },
  {
   "cell_type": "code",
   "execution_count": 11,
   "metadata": {},
   "outputs": [
    {
     "data": {
      "text/plain": [
       "'Yogesh'"
      ]
     },
     "execution_count": 11,
     "metadata": {},
     "output_type": "execute_result"
    }
   ],
   "source": [
    "my_list = [1,2,3,4,5,'Yogesh']\n",
    "\n",
    "# Accessing values of list \n",
    "my_list[1:5] # It will return the list value from 1 to 5 \n"
   ]
  },
  {
   "cell_type": "code",
   "execution_count": 14,
   "metadata": {},
   "outputs": [
    {
     "data": {
      "text/plain": [
       "[1, 2, 3, 4, 5, 'Python']"
      ]
     },
     "execution_count": 14,
     "metadata": {},
     "output_type": "execute_result"
    }
   ],
   "source": [
    "# Adding and replacing value in list:\n",
    "my_list[5]='Python' # It will replace the 5th index with Python.\n",
    "my_list"
   ]
  },
  {
   "cell_type": "code",
   "execution_count": 31,
   "metadata": {},
   "outputs": [
    {
     "data": {
      "text/plain": [
       "[]"
      ]
     },
     "execution_count": 31,
     "metadata": {},
     "output_type": "execute_result"
    }
   ],
   "source": [
    "my_list.append('Pragati')  # It will add Pragati at the end of the list.\n",
    "my_list.clear()  #  It will clear all the list element.\n",
    "my_list"
   ]
  },
  {
   "cell_type": "code",
   "execution_count": 32,
   "metadata": {},
   "outputs": [
    {
     "data": {
      "text/plain": [
       "['T', 'o', 'u', 'c', 'h']"
      ]
     },
     "execution_count": 32,
     "metadata": {},
     "output_type": "execute_result"
    }
   ],
   "source": [
    "my_list.extend('Touch')  #add the elements of the list to the end of the current list\n",
    "my_list"
   ]
  },
  {
   "attachments": {},
   "cell_type": "markdown",
   "metadata": {},
   "source": [
    "# Method Name                       Property\n",
    "\t                                     \n",
    "clear()\t                            removes all the elements from the list\n",
    "copy()\t                            returns a copy of the list\n",
    "extend()\t                        add the elements of the list to the end of the current list\n",
    "count()\t                            returns the number of elements of the specified value\n",
    "index()\t                            returns the index of the element\n",
    "pop()\t                            removes the element from the specified position\n",
    "remove()\t                        removes the item with the specified value\n",
    "sort()\t                            sorts the list\n",
    "reverse()\t                        returns the reversed list"
   ]
  },
  {
   "cell_type": "code",
   "execution_count": 35,
   "metadata": {},
   "outputs": [
    {
     "data": {
      "text/plain": [
       "['Yogesh', 5, 4, 3, 2, 1]"
      ]
     },
     "execution_count": 35,
     "metadata": {},
     "output_type": "execute_result"
    }
   ],
   "source": [
    "my_list = [1,2,3,4,5,'Yogesh']\n",
    "my_list.reverse()\n",
    "my_list\n"
   ]
  },
  {
   "cell_type": "code",
   "execution_count": 38,
   "metadata": {},
   "outputs": [
    {
     "data": {
      "text/plain": [
       "'regiT'"
      ]
     },
     "execution_count": 38,
     "metadata": {},
     "output_type": "execute_result"
    }
   ],
   "source": [
    "f = 'Tiger'\n",
    "f.reverse() # It will not work because its string, if you want to do so use indexing.\n",
    "\n",
    "# Lists can store any data type as items. Be it numbers, strings or any other data type as well."
   ]
  },
  {
   "attachments": {},
   "cell_type": "markdown",
   "metadata": {},
   "source": [
    "# Tuples:\n",
    "\n",
    "**Tuple is a collection which is unchangeable or immutable.** It is ordered and the values can be accessed using the index values. **A tuple can have duplicate values as well.** To declare a tuple we use the round brackets.\n",
    "\n",
    "Since a tuple is unchangeable once you have declared it, there are not many operations you can perform on a tuple. But there is a bright side to using a tuple, you can store values in a tuple which you do not want to change while working in a project. Although you will be able to access the values, but there will not be any changes to be made.\n"
   ]
  },
  {
   "cell_type": "code",
   "execution_count": 45,
   "metadata": {},
   "outputs": [
    {
     "name": "stdout",
     "output_type": "stream",
     "text": [
      "2\n",
      "2\n"
     ]
    }
   ],
   "source": [
    "tu =(23,23,34,44,54,7)\n",
    "print(tu.count(23)) # It will give the count of the values present in the tuple\n",
    "print(tu.index(34)) # It will returnt the index vlaue of the element.\n",
    "\n"
   ]
  },
  {
   "attachments": {},
   "cell_type": "markdown",
   "metadata": {},
   "source": [
    "# Sets: \n",
    "        A set is a collection which is unordered,  it does not have any indexes as well. To declare a set in python we use the curly brackets.\n",
    "\n",
    "myset = {10, 20 , 30 ,40, 50, 50}\n",
    "\n",
    "**A set does not have any duplicate values,** even though it will not show any errors while declaring the set, the output will only have the distinct values.\n",
    "\n",
    "To access the values in a set we can either loop through the set, or use a membership operator to find a particular value."
   ]
  },
  {
   "cell_type": "code",
   "execution_count": 58,
   "metadata": {},
   "outputs": [
    {
     "name": "stdout",
     "output_type": "stream",
     "text": [
      "50\n",
      "20\n",
      "40\n",
      "10\n",
      "30\n"
     ]
    },
    {
     "data": {
      "text/plain": [
       "True"
      ]
     },
     "execution_count": 58,
     "metadata": {},
     "output_type": "execute_result"
    }
   ],
   "source": [
    "myset = {10, 20 , 30 ,40, 50, 50}\n",
    "\n",
    "for x in myset:\n",
    "    print(x)\n",
    "\n",
    "20 in myset  # To chekc whether the value is present in the set or not.\n",
    "\n",
    "\n"
   ]
  },
  {
   "cell_type": "code",
   "execution_count": 59,
   "metadata": {},
   "outputs": [
    {
     "data": {
      "text/plain": [
       "{10, 20, 30, 40, 50, 'Yogesh'}"
      ]
     },
     "execution_count": 59,
     "metadata": {},
     "output_type": "execute_result"
    }
   ],
   "source": [
    "myset.add('Yogesh') # It will add Yogesh at the end.\n",
    "myset"
   ]
  },
  {
   "cell_type": "code",
   "execution_count": 60,
   "metadata": {},
   "outputs": [
    {
     "data": {
      "text/plain": [
       "{10, 20, 30, 40, 50, 60, 'Yogesh'}"
      ]
     },
     "execution_count": 60,
     "metadata": {},
     "output_type": "execute_result"
    }
   ],
   "source": [
    "myset.update([10,20,30,40,50,60,'Yogesh'])  # To update the values in set.\n",
    "myset\n"
   ]
  },
  {
   "cell_type": "code",
   "execution_count": 61,
   "metadata": {},
   "outputs": [
    {
     "data": {
      "text/plain": [
       "False"
      ]
     },
     "execution_count": 61,
     "metadata": {},
     "output_type": "execute_result"
    }
   ],
   "source": [
    "set1 ={1,2,3,4,5}\n",
    "set2={4,5,6,7,8}\n",
    "set1.issubset(set2) # See whether the set is subset of another or not."
   ]
  },
  {
   "cell_type": "code",
   "execution_count": 62,
   "metadata": {},
   "outputs": [
    {
     "data": {
      "text/plain": [
       "{1, 2, 3, 4, 5, 6, 7, 8}"
      ]
     },
     "execution_count": 62,
     "metadata": {},
     "output_type": "execute_result"
    }
   ],
   "source": [
    "set1.union(set2)  # It will make union out of two sets. "
   ]
  },
  {
   "attachments": {},
   "cell_type": "markdown",
   "metadata": {},
   "source": [
    "# Method Name                       Property\n",
    "\t                                \n",
    "clear()\t                            clears the items from a set\n",
    "copy()\t                            returns the copy of the set\n",
    "difference()\t                    returns a set with the difference of the two sets\n",
    "isdisjoint()\t                    returns if the sets have intersection\n",
    "issubset()\t                        returns if the set is a subset\n",
    "symmetricdifference()\t            returns a set with the symmetric difference\n",
    "update()\t                        update the sets with union of the set"
   ]
  },
  {
   "cell_type": "code",
   "execution_count": 63,
   "metadata": {},
   "outputs": [
    {
     "data": {
      "text/plain": [
       "{1, 2, 3}"
      ]
     },
     "execution_count": 63,
     "metadata": {},
     "output_type": "execute_result"
    }
   ],
   "source": [
    "set1.difference(set2)  # it will provide the difference between two sets."
   ]
  },
  {
   "attachments": {},
   "cell_type": "markdown",
   "metadata": {},
   "source": [
    "# Dictionary:\n",
    "A dictionary is just like any other collection array in python. But they have key value pairs. A dictionary is unordered and changeable. We use the keys to access the items from a dictionary. To declare a dictionary, we use the curly brackets.\n",
    "\n",
    "**Since we are using the keys to access the items, they cannot be duplicate.The values can have duplicate items.**\n"
   ]
  },
  {
   "cell_type": "code",
   "execution_count": 65,
   "metadata": {},
   "outputs": [
    {
     "data": {
      "text/plain": [
       "'pandas'"
      ]
     },
     "execution_count": 65,
     "metadata": {},
     "output_type": "execute_result"
    }
   ],
   "source": [
    "\n",
    "mydictionary = { 'python': 'data science', 'machine learning' : 'tensorflow' , 'artificial intelligence': 'keras'}\n",
    "\n",
    "#adding a new value\n",
    " \n",
    "mydictionary['analysis'] = 'matplotlib'\n",
    " \n",
    "#replacing a value\n",
    " \n",
    "mydictionary['analysis'] = 'pandas'\n",
    " \n",
    "#deleting a value\n",
    " \n",
    "mydictionary.pop('analysis')"
   ]
  },
  {
   "attachments": {},
   "cell_type": "markdown",
   "metadata": {},
   "source": [
    "Other operations in a dictionary include the following.\n",
    "\n",
    "# Method Name\t                       Property        \n",
    "               \n",
    "copy()\t                returns a copy of the dictionary\n",
    "clear()\t                clears the dictionary\n",
    "items()\t                returns a list containing tuple of key value pairs\n",
    "keys()\t                returns a list containing all the keys\n",
    "update()\t            updates the dictionary with all the key-value pairs\n",
    "values()\t            returns a list of all the values in a dictionary\n",
    "setdefault()\t        returns the value of a specified key"
   ]
  },
  {
   "cell_type": "code",
   "execution_count": 68,
   "metadata": {},
   "outputs": [
    {
     "data": {
      "text/plain": [
       "{'python': 'data science',\n",
       " 'machine learning': 'tensorflow',\n",
       " 'artificial intelligence': 'keras'}"
      ]
     },
     "execution_count": 68,
     "metadata": {},
     "output_type": "execute_result"
    }
   ],
   "source": [
    "a=mydictionary.copy()\n",
    "a"
   ]
  },
  {
   "cell_type": "code",
   "execution_count": 70,
   "metadata": {},
   "outputs": [],
   "source": [
    "# Dictionary nested inside a dictionary nested inside a dictionary\n",
    "d = {'key1': {'nestkey': {'subnestkey': 'value'}}}"
   ]
  },
  {
   "cell_type": "code",
   "execution_count": 71,
   "metadata": {},
   "outputs": [
    {
     "data": {
      "text/plain": [
       "'value'"
      ]
     },
     "execution_count": 71,
     "metadata": {},
     "output_type": "execute_result"
    }
   ],
   "source": [
    "# Keep calling the keys\n",
    "d['key1']['nestkey']['subnestkey']\n"
   ]
  },
  {
   "cell_type": "code",
   "execution_count": null,
   "metadata": {},
   "outputs": [],
   "source": []
  }
 ],
 "metadata": {
  "kernelspec": {
   "display_name": "Python 3",
   "language": "python",
   "name": "python3"
  },
  "language_info": {
   "codemirror_mode": {
    "name": "ipython",
    "version": 3
   },
   "file_extension": ".py",
   "mimetype": "text/x-python",
   "name": "python",
   "nbconvert_exporter": "python",
   "pygments_lexer": "ipython3",
   "version": "3.9.1"
  },
  "orig_nbformat": 4,
  "vscode": {
   "interpreter": {
    "hash": "a6ada047e8940af673a5a678b6ba14e182d5b4e08fa205eb091207f23619d85d"
   }
  }
 },
 "nbformat": 4,
 "nbformat_minor": 2
}
