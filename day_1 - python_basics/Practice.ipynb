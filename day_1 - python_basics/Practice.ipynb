{
 "cells": [
  {
   "cell_type": "code",
   "execution_count": 1,
   "metadata": {},
   "outputs": [
    {
     "name": "stdout",
     "output_type": "stream",
     "text": [
      "30\n"
     ]
    }
   ],
   "source": [
    "a= 10\n",
    "b= 20\n",
    "print(a+b)"
   ]
  },
  {
   "cell_type": "code",
   "execution_count": 6,
   "metadata": {},
   "outputs": [
    {
     "data": {
      "text/plain": [
       "6"
      ]
     },
     "execution_count": 6,
     "metadata": {},
     "output_type": "execute_result"
    }
   ],
   "source": [
    "2*3"
   ]
  },
  {
   "cell_type": "code",
   "execution_count": 7,
   "metadata": {},
   "outputs": [
    {
     "name": "stdout",
     "output_type": "stream",
     "text": [
      "50 100\n"
     ]
    }
   ],
   "source": [
    "a=50\n",
    "b=100\n",
    "print(a,b)"
   ]
  },
  {
   "cell_type": "code",
   "execution_count": 9,
   "metadata": {},
   "outputs": [
    {
     "name": "stdout",
     "output_type": "stream",
     "text": [
      "100 50\n"
     ]
    }
   ],
   "source": [
    "a=a+b  # 150\n",
    "b=a-b   # 50\n",
    "a=a-b\n",
    "print(a,b)\n"
   ]
  },
  {
   "cell_type": "code",
   "execution_count": 11,
   "metadata": {},
   "outputs": [
    {
     "name": "stdout",
     "output_type": "stream",
     "text": [
      "The input was string\n"
     ]
    }
   ],
   "source": [
    "try: \n",
    "    a=int(input('It requires an input'))\n",
    "    print(a+10)\n",
    "except:\n",
    "    print('The input was string')"
   ]
  },
  {
   "cell_type": "code",
   "execution_count": 16,
   "metadata": {},
   "outputs": [
    {
     "name": "stdout",
     "output_type": "stream",
     "text": [
      "6 X 1 = 6\n",
      "6 X 2 = 12\n",
      "6 X 3 = 18\n",
      "6 X 4 = 24\n",
      "6 X 5 = 30\n",
      "6 X 6 = 36\n",
      "6 X 7 = 42\n",
      "6 X 8 = 48\n",
      "6 X 9 = 54\n",
      "6 X 10 = 60\n"
     ]
    }
   ],
   "source": [
    "num = int(input('Please enter a number: '))\n",
    "for i in range(1,11):\n",
    "    print(num,'X',i,'=',num*i)"
   ]
  },
  {
   "cell_type": "code",
   "execution_count": 19,
   "metadata": {},
   "outputs": [
    {
     "name": "stdout",
     "output_type": "stream",
     "text": [
      "<class 'str'>\n",
      "<class 'bool'>\n"
     ]
    }
   ],
   "source": [
    "a= 'Hello' \n",
    "\n",
    "print(type(a))\n",
    "b=True\n",
    "print(type(b))"
   ]
  },
  {
   "cell_type": "code",
   "execution_count": 23,
   "metadata": {},
   "outputs": [
    {
     "name": "stdout",
     "output_type": "stream",
     "text": [
      "5.65\n"
     ]
    }
   ],
   "source": [
    "\n",
    "print(round(5.654,2))"
   ]
  },
  {
   "cell_type": "code",
   "execution_count": 25,
   "metadata": {},
   "outputs": [
    {
     "name": "stdout",
     "output_type": "stream",
     "text": [
      "3.605551275463989\n"
     ]
    }
   ],
   "source": [
    "x= complex('2+3j')\n",
    "print(abs(x))"
   ]
  },
  {
   "cell_type": "code",
   "execution_count": 29,
   "metadata": {},
   "outputs": [
    {
     "data": {
      "text/plain": [
       "(1, 1)"
      ]
     },
     "execution_count": 29,
     "metadata": {},
     "output_type": "execute_result"
    }
   ],
   "source": [
    "divmod(10,9)"
   ]
  },
  {
   "cell_type": "code",
   "execution_count": 31,
   "metadata": {},
   "outputs": [
    {
     "name": "stdout",
     "output_type": "stream",
     "text": [
      "9\n",
      "2\n"
     ]
    }
   ],
   "source": [
    "print(pow(3,2))\n",
    "print(pow(3,3,5))"
   ]
  },
  {
   "cell_type": "code",
   "execution_count": 33,
   "metadata": {},
   "outputs": [
    {
     "data": {
      "text/plain": [
       "True"
      ]
     },
     "execution_count": 33,
     "metadata": {},
     "output_type": "execute_result"
    }
   ],
   "source": [
    "2<=8"
   ]
  },
  {
   "cell_type": "code",
   "execution_count": 36,
   "metadata": {},
   "outputs": [
    {
     "name": "stdout",
     "output_type": "stream",
     "text": [
      "16\n"
     ]
    }
   ],
   "source": [
    "x=8\n",
    "x+=8\n",
    "print(x)"
   ]
  },
  {
   "cell_type": "code",
   "execution_count": 39,
   "metadata": {},
   "outputs": [
    {
     "data": {
      "text/plain": [
       "False"
      ]
     },
     "execution_count": 39,
     "metadata": {},
     "output_type": "execute_result"
    }
   ],
   "source": [
    "2==4"
   ]
  },
  {
   "cell_type": "code",
   "execution_count": 40,
   "metadata": {},
   "outputs": [
    {
     "name": "stdout",
     "output_type": "stream",
     "text": [
      "<class 'bool'>\n"
     ]
    }
   ],
   "source": [
    "a= True\n",
    "print(type(a))"
   ]
  },
  {
   "cell_type": "code",
   "execution_count": 41,
   "metadata": {},
   "outputs": [],
   "source": [
    "# Operations on the string \n",
    "\n",
    "gyan = \"Yogesh\""
   ]
  },
  {
   "cell_type": "code",
   "execution_count": 55,
   "metadata": {},
   "outputs": [
    {
     "name": "stdout",
     "output_type": "stream",
     "text": [
      "YogeshYogeshYogeshYogesh\n"
     ]
    }
   ],
   "source": [
    "print(gyan*4)"
   ]
  },
  {
   "cell_type": "code",
   "execution_count": 10,
   "metadata": {},
   "outputs": [
    {
     "data": {
      "text/plain": [
       "[2.0, 4.0, 5.0, 6.0, 7.8]"
      ]
     },
     "execution_count": 10,
     "metadata": {},
     "output_type": "execute_result"
    }
   ],
   "source": [
    "a = map(float,input(\"Enter few numbers:\").split(','))\n",
    "a=list(a)\n",
    "a"
   ]
  },
  {
   "cell_type": "code",
   "execution_count": null,
   "metadata": {},
   "outputs": [],
   "source": [
    "# https://www.w3schools.com/python/python_lists.asp"
   ]
  },
  {
   "cell_type": "code",
   "execution_count": 12,
   "metadata": {},
   "outputs": [
    {
     "name": "stdout",
     "output_type": "stream",
     "text": [
      "Type of a: <class 'int'>\n",
      "Type of b: <class 'complex'>\n"
     ]
    }
   ],
   "source": [
    "a = 5\n",
    "print('Type of a:', type(a))\n",
    "\n",
    "b = 2+3j\n",
    "print('Type of b:',type(b))"
   ]
  },
  {
   "cell_type": "code",
   "execution_count": 23,
   "metadata": {},
   "outputs": [
    {
     "name": "stdout",
     "output_type": "stream",
     "text": [
      "hsegoY\n"
     ]
    }
   ],
   "source": [
    "x = input('Please enter your name:')\n",
    "print(x[::-1])\n"
   ]
  },
  {
   "cell_type": "code",
   "execution_count": 28,
   "metadata": {},
   "outputs": [
    {
     "name": "stdout",
     "output_type": "stream",
     "text": [
      "First three days if sales:  [23, 54, 67]\n",
      "Sale of 4th day 98\n",
      "None\n",
      "[7, 8, 23, 54, 67, 87, 90, 98]\n"
     ]
    },
    {
     "data": {
      "text/plain": [
       "[7, 8, 23, 54, 67, 87, 90, 98, [23, 23, 44, 55, 66, 77, 88]]"
      ]
     },
     "execution_count": 28,
     "metadata": {},
     "output_type": "execute_result"
    }
   ],
   "source": [
    "# List and operatron on the list \n",
    "\n",
    "sales = [23,54,67,87,98,90,8,7]\n",
    "sales=list(sales)\n",
    "sales\n",
    "print('First three days if sales: ',sales[:3])\n",
    "print('Sale of 4th day', sales[4])\n",
    "print(sales.sort())\n",
    "print(sales)\n",
    "sales[::-1]\n",
    "\n",
    "second_week_sale = [23,23,44,55,66,77,88]\n",
    "sales.append(second_week_sale)\n",
    "sales\n",
    "\n"
   ]
  },
  {
   "cell_type": "code",
   "execution_count": null,
   "metadata": {},
   "outputs": [],
   "source": [
    "second"
   ]
  },
  {
   "cell_type": "code",
   "execution_count": 41,
   "metadata": {},
   "outputs": [
    {
     "name": "stdout",
     "output_type": "stream",
     "text": [
      "Type of lst: <class 'list'>\n",
      "4\n"
     ]
    },
    {
     "data": {
      "text/plain": [
       "['my_name', 'uare', 'stuggle', 'journey', 'Double', 'Forgot', 'Nation']"
      ]
     },
     "execution_count": 41,
     "metadata": {},
     "output_type": "execute_result"
    }
   ],
   "source": [
    "lst = ['my_name','uare','stuggle','journey']\n",
    "print('Type of lst:',type(lst))\n",
    "print(len(lst))\n",
    "lst[0:3:2]\n",
    "lst1=['Double','Forgot','Nation']\n",
    "lst.extend(lst1)\n",
    "lst"
   ]
  },
  {
   "cell_type": "code",
   "execution_count": 44,
   "metadata": {},
   "outputs": [
    {
     "name": "stdout",
     "output_type": "stream",
     "text": [
      "['my_name', 'uare', 'stuggle', 'journey', 'Double', 'Forgot', 'Nation', ['Double', 'Forgot', 'Nation'], ['Double', 'Forgot', 'Nation'], ['Double', 'Forgot', 'Nation']]\n"
     ]
    }
   ],
   "source": [
    "lst.append(lst1)   # Append function is used to add a single element where as extend will add the element as part of the main string or list.\n",
    "print(lst)"
   ]
  },
  {
   "cell_type": "code",
   "execution_count": 60,
   "metadata": {},
   "outputs": [
    {
     "name": "stdout",
     "output_type": "stream",
     "text": [
      "[1, 2, 3, 4, 5, 6, 7]\n",
      "[]\n",
      "[1, 2, 3, 4, 5, 6, 7]\n"
     ]
    }
   ],
   "source": [
    "a=[1,2,3,4,5,6,7]\n",
    "print(a)\n",
    "#1. Append \n",
    "a1=a.append(6)\n",
    "a1\n",
    "\n",
    "#2. clear\n",
    "a.clear()\n",
    "print(a)\n",
    "\n",
    "#3.copy()\n",
    "a=[1,2,3,4,5,6,7]\n",
    "b=a.copy()\n",
    "print(b)\n",
    "\n",
    "#4. Count()\n",
    "a = [3,4,5,6,7,7,6,6,5,5,4]\n",
    "a.count(4)\n",
    "\n",
    "a = [1,2,3,4,5,6]\n",
    "a.extend(range(3,6))"
   ]
  },
  {
   "cell_type": "code",
   "execution_count": 62,
   "metadata": {},
   "outputs": [
    {
     "name": "stdout",
     "output_type": "stream",
     "text": [
      "[1, 2, 3, 4, 5, 6, 3, 4, 5]\n"
     ]
    }
   ],
   "source": [
    "# Exrend  It will extend the list in the range at the end \n",
    "a = [1,2,3,4,5,6]\n",
    "a.extend(range(3,6))\n",
    "print(a)"
   ]
  },
  {
   "cell_type": "code",
   "execution_count": 66,
   "metadata": {},
   "outputs": [
    {
     "data": {
      "text/plain": [
       "['Yogesh', 'Pragati', 'AI', 'yash', 'Ravi', 'Riya']"
      ]
     },
     "execution_count": 66,
     "metadata": {},
     "output_type": "execute_result"
    }
   ],
   "source": [
    "#inser()\n",
    "a=['Yogesh', 'Pragati','yash','Ravi','Riya']\n",
    "a.insert(2,'AI')  # At the position of two it will add AI \n",
    "a"
   ]
  },
  {
   "cell_type": "code",
   "execution_count": 67,
   "metadata": {},
   "outputs": [
    {
     "data": {
      "text/plain": [
       "1"
      ]
     },
     "execution_count": 67,
     "metadata": {},
     "output_type": "execute_result"
    }
   ],
   "source": [
    "#index()  It will return the index number of the string \n",
    "a=['Yogesh', 'Pragati','yash','Ravi','Riya']\n",
    "a.index('Pragati')"
   ]
  },
  {
   "cell_type": "code",
   "execution_count": 68,
   "metadata": {},
   "outputs": [
    {
     "data": {
      "text/plain": [
       "6"
      ]
     },
     "execution_count": 68,
     "metadata": {},
     "output_type": "execute_result"
    }
   ],
   "source": [
    "# pop()\n",
    "a = [1,2,3,4,5,6]\n",
    "a.pop() # It will return the last value in the list i.e. 6."
   ]
  },
  {
   "cell_type": "code",
   "execution_count": 70,
   "metadata": {},
   "outputs": [
    {
     "data": {
      "text/plain": [
       "[1, 2, 3, 4, 5]"
      ]
     },
     "execution_count": 70,
     "metadata": {},
     "output_type": "execute_result"
    }
   ],
   "source": [
    "# remove()\n",
    "a = [1,2,3,4,5,6]\n",
    "a.remove(6)\n",
    "a"
   ]
  },
  {
   "cell_type": "code",
   "execution_count": 71,
   "metadata": {},
   "outputs": [
    {
     "ename": "SyntaxError",
     "evalue": "EOL while scanning string literal (426330034.py, line 6)",
     "output_type": "error",
     "traceback": [
      "\u001b[1;36m  Input \u001b[1;32mIn [71]\u001b[1;36m\u001b[0m\n\u001b[1;33m    \"\"\"\"\u001b[0m\n\u001b[1;37m        \n^\u001b[0m\n\u001b[1;31mSyntaxError\u001b[0m\u001b[1;31m:\u001b[0m EOL while scanning string literal\n"
     ]
    }
   ],
   "source": [
    "\"\"\"\n",
    "[start:stop:step]\n",
    "start is the index where you start. If it's omitted, Python assumes you want to start at the beginning.\n",
    "stop is where you want to stop. If you omit it, Python assumes you want to go until the end.\n",
    "step is what the -1 is taking advantage of. 1 is the default value. 2 iterates over every other element. -1 iterates over all of the elements, but backwards.\n",
    "\"\"\"\"\n",
    "\n"
   ]
  },
  {
   "cell_type": "code",
   "execution_count": 74,
   "metadata": {},
   "outputs": [
    {
     "data": {
      "text/plain": [
       "[1, 2, 3, 4, 5, 6]"
      ]
     },
     "execution_count": 74,
     "metadata": {},
     "output_type": "execute_result"
    }
   ],
   "source": [
    "# reverse()\n",
    "a = [1,2,3,4,5,6]\n",
    "\n",
    "a.reverse()\n",
    "a\n",
    "\n",
    "# OR\n",
    "\n",
    "a[::-1]"
   ]
  },
  {
   "cell_type": "code",
   "execution_count": 75,
   "metadata": {},
   "outputs": [
    {
     "data": {
      "text/plain": [
       "[1, 2, 3, 4, 5, 6]"
      ]
     },
     "execution_count": 75,
     "metadata": {},
     "output_type": "execute_result"
    }
   ],
   "source": [
    "a[::-1]"
   ]
  },
  {
   "cell_type": "code",
   "execution_count": 78,
   "metadata": {},
   "outputs": [
    {
     "data": {
      "text/plain": [
       "[3, 4, 5, 6, 7, 8, 12, 23, 43]"
      ]
     },
     "execution_count": 78,
     "metadata": {},
     "output_type": "execute_result"
    }
   ],
   "source": [
    "#sort()  It will sort in assending order\n",
    "a=[23,43,12,3,4,5,6,7,8]\n",
    "a.sort()\n",
    "a"
   ]
  },
  {
   "cell_type": "code",
   "execution_count": 81,
   "metadata": {},
   "outputs": [
    {
     "data": {
      "text/plain": [
       "['grand', 'Reverse', 'Your', 'You', 'Just']"
      ]
     },
     "execution_count": 81,
     "metadata": {},
     "output_type": "execute_result"
    }
   ],
   "source": [
    "#replacing\n",
    "a=['grand','Reverse','Your','Mine','Just']\n",
    "a[3]='You'\n",
    "a"
   ]
  },
  {
   "cell_type": "code",
   "execution_count": 95,
   "metadata": {},
   "outputs": [
    {
     "name": "stdout",
     "output_type": "stream",
     "text": [
      "Just\n"
     ]
    }
   ],
   "source": [
    "#Iterrating over list\n",
    "a=['grand','Reverse','Your','Mine','Just']\n",
    "for i in a:\n",
    "    if x==2:\n",
    "        break\n",
    "print(i)\n"
   ]
  },
  {
   "cell_type": "code",
   "execution_count": 98,
   "metadata": {},
   "outputs": [
    {
     "ename": "TypeError",
     "evalue": "'str' object does not support item assignment",
     "output_type": "error",
     "traceback": [
      "\u001b[1;31m---------------------------------------------------------------------------\u001b[0m",
      "\u001b[1;31mTypeError\u001b[0m                                 Traceback (most recent call last)",
      "\u001b[1;32md:\\Data science & ML\\day_1 - demos_w10_asdex7qh\\Practice.ipynb Cell 38\u001b[0m in \u001b[0;36m<cell line: 1>\u001b[1;34m()\u001b[0m\n\u001b[1;32m----> <a href='vscode-notebook-cell:/d%3A/Data%20science%20%26%20ML/day_1%20-%20demos_w10_asdex7qh/Practice.ipynb#X52sZmlsZQ%3D%3D?line=0'>1</a>\u001b[0m a[\u001b[39m4\u001b[39m][\u001b[39m4\u001b[39m]\u001b[39m=\u001b[39m\u001b[39m'\u001b[39m\u001b[39m19\u001b[39m\u001b[39m'\u001b[39m\n",
      "\u001b[1;31mTypeError\u001b[0m: 'str' object does not support item assignment"
     ]
    }
   ],
   "source": []
  },
  {
   "cell_type": "code",
   "execution_count": 101,
   "metadata": {},
   "outputs": [
    {
     "data": {
      "text/plain": [
       "[2, 4, 6]"
      ]
     },
     "execution_count": 101,
     "metadata": {},
     "output_type": "execute_result"
    }
   ],
   "source": [
    "list1= [2,3,4,5,6]\n",
    "list1[::2]"
   ]
  },
  {
   "cell_type": "code",
   "execution_count": 105,
   "metadata": {},
   "outputs": [],
   "source": [
    "A= [4,5,6,7,8,8]\n",
    "B=A.copy()"
   ]
  },
  {
   "cell_type": "code",
   "execution_count": 153,
   "metadata": {},
   "outputs": [
    {
     "name": "stdout",
     "output_type": "stream",
     "text": [
      "Eggs laid by chicken: 40.0\n"
     ]
    }
   ],
   "source": [
    "chickens = float(input('Enter the number of chickens: '))\n",
    "x = float(input('Enter your openion of eggs/cChicken:'))\n",
    "Eggs = float( Chickens*x)\n",
    "print('Eggs laid by chicken:',Eggs)"
   ]
  },
  {
   "cell_type": "code",
   "execution_count": 154,
   "metadata": {},
   "outputs": [
    {
     "name": "stdout",
     "output_type": "stream",
     "text": [
      "Each chicken will lay: 2.0\n"
     ]
    }
   ],
   "source": [
    "# Numbe of eggs each chicken will lay\n",
    "eggs_each_chicken = float(Eggs/Chickens)\n",
    "print('Each chicken will lay:',eggs_each_chicken )\n"
   ]
  },
  {
   "cell_type": "code",
   "execution_count": 155,
   "metadata": {},
   "outputs": [
    {
     "name": "stdout",
     "output_type": "stream",
     "text": [
      "4.0\n",
      "Total eggs all the chicken should lay: 4.0\n",
      "Actuall eggs laid by the chickens: 40.0\n"
     ]
    }
   ],
   "source": [
    "presumed_eggs= float(eggs_each_chicken)*float(chickens)\n",
    "print(presumed_eggs)\n",
    "print('Total eggs all the chicken should lay:',presumed_eggs)\n",
    "print('Actuall eggs laid by the chickens:',Eggs)\n",
    "Extra_eggs =float(Eggs)-float(presumed_eggs)"
   ]
  },
  {
   "cell_type": "code",
   "execution_count": 35,
   "metadata": {},
   "outputs": [
    {
     "name": "stdout",
     "output_type": "stream",
     "text": [
      "Your todays collection of eggs are : 240.0\n",
      "<-------------------------------------------------------------------->\n",
      "Each chicken had given: 3.0\n",
      "<-------------------------------------------------------------------->\n",
      "Total eggs all the chicken should lay: 240.0\n",
      "<-------------------------------------------------------------------->\n",
      "Total laid originally: 240.0\n",
      "<-------------------------------------------------------------------->\n",
      "more_eggs: 0.0\n",
      "<-------------------------------------------------------------------->\n",
      "\n"
     ]
    }
   ],
   "source": [
    "# Lets say I am having poulatry farm i need to maintain the eggs count in my farm\n",
    "# for which i am writting the following code \n",
    "\n",
    "chickens = float(input('Enetr the total number of chickens:'))\n",
    "eggs_per_chicken = float(input('Enter the capacity of chicken to lay the eggs:'))\n",
    "Eggs = float(chickens*eggs_per_chicken)\n",
    "print('Your todays collection of eggs are :',Eggs)\n",
    "print('<-------------------------------------------------------------------->')\n",
    "each_chickrn_egg = print('Each chicken had given:',float(Eggs/chickens))\n",
    "print('<-------------------------------------------------------------------->')\n",
    "presumed_eggs= float(eggs_per_chicken*chickens)\n",
    "print('Total eggs all the chicken should lay:',presumed_eggs)\n",
    "print('<-------------------------------------------------------------------->')\n",
    "print('Total laid originally:',Eggs)\n",
    "print('<-------------------------------------------------------------------->')\n",
    "print('more_eggs:',Eggs-presumed_eggs)\n",
    "print('<-------------------------------------------------------------------->')\n",
    "print('')"
   ]
  },
  {
   "cell_type": "code",
   "execution_count": 4,
   "metadata": {},
   "outputs": [
    {
     "name": "stdout",
     "output_type": "stream",
     "text": [
      "Area of field= 4.0\n"
     ]
    }
   ],
   "source": [
    "breadth = float(input('Enter length and bredth  :'))\n",
    "length = float(input('Enter length and length :'))\n",
    "area=float(length*breadth)\n",
    "print('Area of field=',area)"
   ]
  },
  {
   "cell_type": "code",
   "execution_count": 5,
   "metadata": {},
   "outputs": [
    {
     "name": "stdout",
     "output_type": "stream",
     "text": [
      "<class 'int'>\n"
     ]
    }
   ],
   "source": [
    "a = 10\n",
    "print(type(a))"
   ]
  },
  {
   "cell_type": "code",
   "execution_count": 12,
   "metadata": {},
   "outputs": [
    {
     "name": "stdout",
     "output_type": "stream",
     "text": [
      "<class 'float'>\n",
      "<class 'complex'>\n",
      "<class 'float'>\n",
      "5.0\n"
     ]
    }
   ],
   "source": [
    "b=float(a)\n",
    "print(type(b))\n",
    "c=3+4j\n",
    "print(type(c))\n",
    "d=abs(c)\n",
    "print(type(d))\n",
    "print(d)\n"
   ]
  },
  {
   "cell_type": "code",
   "execution_count": null,
   "metadata": {},
   "outputs": [],
   "source": [
    "# Anything written inside a single or double quotes called as string. \n",
    "# Single line or multiline strings are there\n",
    "'My name is Yogesh' # Is single line string \n",
    "'''\n",
    "My name is yogesh   # Multiline string \n",
    "i know python\n",
    "'''"
   ]
  },
  {
   "cell_type": "code",
   "execution_count": 22,
   "metadata": {},
   "outputs": [
    {
     "name": "stdout",
     "output_type": "stream",
     "text": [
      "ello \n",
      "Hel\n",
      "Hello Wor\n"
     ]
    }
   ],
   "source": [
    "# Indexing and slicing on string \n",
    "\n",
    "str = 'Hello World '\n",
    "str[3]   # I will return the third char. starting fron 0 called as indexing \n",
    "\n",
    "# Slicing formate  [start_index:stop_index:steps]\n",
    "\n",
    "print(str[1:6]) # It will provide end_index-1 char from the string.\n",
    "\n",
    "print(str[:3]) # It will give from starting to 3rd char \n",
    "\n",
    "print(str[:-3])\n",
    "\n"
   ]
  },
  {
   "cell_type": "markdown",
   "metadata": {},
   "source": [
    "List Comprehension"
   ]
  },
  {
   "cell_type": "code",
   "execution_count": 1,
   "metadata": {},
   "outputs": [],
   "source": [
    "a = [1,2,3,4]\n",
    "a.append(7)\n"
   ]
  },
  {
   "cell_type": "code",
   "execution_count": 6,
   "metadata": {},
   "outputs": [],
   "source": [
    "# Using comprehension \n",
    "a=[i for i in range(0,11)]"
   ]
  },
  {
   "cell_type": "code",
   "execution_count": 7,
   "metadata": {},
   "outputs": [
    {
     "name": "stdout",
     "output_type": "stream",
     "text": [
      "[0, 1, 2, 3, 4, 5, 6, 7, 8, 9, 10]\n"
     ]
    }
   ],
   "source": [
    "print(a)"
   ]
  },
  {
   "cell_type": "code",
   "execution_count": 9,
   "metadata": {},
   "outputs": [
    {
     "name": "stdout",
     "output_type": "stream",
     "text": [
      "[10, 12, 14, 16, 18, 20]\n"
     ]
    }
   ],
   "source": [
    "a = [i for i in range(10,21) if i%2==0]\n",
    "print(a)"
   ]
  },
  {
   "cell_type": "code",
   "execution_count": 17,
   "metadata": {},
   "outputs": [
    {
     "data": {
      "text/plain": [
       "[[10, 10], [10, 10], [10, 10]]"
      ]
     },
     "execution_count": 17,
     "metadata": {},
     "output_type": "execute_result"
    }
   ],
   "source": [
    "a = [[10 for i in range(1,3)] for j in range(1,4)]\n",
    "a"
   ]
  },
  {
   "cell_type": "code",
   "execution_count": 4,
   "metadata": {},
   "outputs": [
    {
     "data": {
      "text/plain": [
       "[[['Yogesh', 'Yogesh', 'Yogesh']],\n",
       " [['Yogesh', 'Yogesh', 'Yogesh']],\n",
       " [['Yogesh', 'Yogesh', 'Yogesh']]]"
      ]
     },
     "execution_count": 4,
     "metadata": {},
     "output_type": "execute_result"
    }
   ],
   "source": [
    "a1 = [0 if i%2!=0 else i for i in range(10,20)]\n",
    "a"
   ]
  },
  {
   "cell_type": "code",
   "execution_count": 1,
   "metadata": {},
   "outputs": [
    {
     "data": {
      "text/plain": [
       "[[['Yogesh', 'Yogesh', 'Yogesh']],\n",
       " [['Yogesh', 'Yogesh', 'Yogesh']],\n",
       " [['Yogesh', 'Yogesh', 'Yogesh']]]"
      ]
     },
     "execution_count": 1,
     "metadata": {},
     "output_type": "execute_result"
    }
   ],
   "source": [
    "# create 3d list using list comprehension \n",
    "a = [[['Yogesh' for i in range(1,4)] for j in range(1,2)] for k in range(1,4)]\n",
    "a"
   ]
  },
  {
   "cell_type": "code",
   "execution_count": 3,
   "metadata": {},
   "outputs": [
    {
     "data": {
      "text/plain": [
       "[(0, [['Yogesh', 'Yogesh', 'Yogesh']]),\n",
       " (1, [['Yogesh', 'Yogesh', 'Yogesh']]),\n",
       " (2, [['Yogesh', 'Yogesh', 'Yogesh']])]"
      ]
     },
     "execution_count": 3,
     "metadata": {},
     "output_type": "execute_result"
    }
   ],
   "source": [
    "list(enumerate(a))"
   ]
  },
  {
   "cell_type": "code",
   "execution_count": 6,
   "metadata": {},
   "outputs": [
    {
     "name": "stdout",
     "output_type": "stream",
     "text": [
      "0 1\n",
      "1 2\n",
      "2 3\n",
      "3 4\n",
      "4 5\n"
     ]
    }
   ],
   "source": [
    "a = [1,2,3,4,5]\n",
    "\n",
    "for i in a:\n",
    "    \n",
    "    print(a.index(i),i)"
   ]
  },
  {
   "cell_type": "code",
   "execution_count": 10,
   "metadata": {},
   "outputs": [
    {
     "data": {
      "text/plain": [
       "[(0, 1), (1, 2), (2, 3), (3, 4), (4, 5)]"
      ]
     },
     "execution_count": 10,
     "metadata": {},
     "output_type": "execute_result"
    }
   ],
   "source": [
    "# instead of using above code i can use enumerate function \n",
    "list(enumerate(a))"
   ]
  },
  {
   "cell_type": "code",
   "execution_count": 11,
   "metadata": {},
   "outputs": [
    {
     "name": "stdout",
     "output_type": "stream",
     "text": [
      "0 1\n",
      "1 2\n",
      "2 3\n",
      "3 4\n",
      "4 5\n"
     ]
    }
   ],
   "source": [
    "for i,j in enumerate(a):\n",
    "    print(i,j)"
   ]
  },
  {
   "cell_type": "markdown",
   "metadata": {},
   "source": [
    "ZIP function:\n",
    "Its used to connect to list in the pairwise formate like below."
   ]
  },
  {
   "cell_type": "code",
   "execution_count": 15,
   "metadata": {},
   "outputs": [],
   "source": [
    "g = [1,2,3,4]\n",
    "y= ['Yogesh','Deotale','Work','Hard']\n",
    "\n",
    "r= list(zip(g,y))"
   ]
  },
  {
   "cell_type": "code",
   "execution_count": 16,
   "metadata": {},
   "outputs": [
    {
     "data": {
      "text/plain": [
       "[(1, 'Yogesh'), (2, 'Deotale'), (3, 'Work'), (4, 'Hard')]"
      ]
     },
     "execution_count": 16,
     "metadata": {},
     "output_type": "execute_result"
    }
   ],
   "source": [
    "r # its pairing the elements of two list"
   ]
  },
  {
   "cell_type": "code",
   "execution_count": 23,
   "metadata": {},
   "outputs": [
    {
     "name": "stdout",
     "output_type": "stream",
     "text": [
      "3\n"
     ]
    }
   ],
   "source": [
    "def ss(a):\n",
    "  a.sort()\n",
    "  return a[1]\n",
    "print(ss([5, 2, 8, 3, 5, 6, 7]))\n"
   ]
  },
  {
   "cell_type": "code",
   "execution_count": 25,
   "metadata": {},
   "outputs": [
    {
     "name": "stdout",
     "output_type": "stream",
     "text": [
      "None\n"
     ]
    }
   ],
   "source": [
    "a = [5, 2, 8, 3, 5, 6, 7]\n",
    "a.sort()"
   ]
  },
  {
   "cell_type": "code",
   "execution_count": 66,
   "metadata": {},
   "outputs": [],
   "source": []
  },
  {
   "cell_type": "code",
   "execution_count": 67,
   "metadata": {},
   "outputs": [
    {
     "name": "stdout",
     "output_type": "stream",
     "text": [
      "5\n",
      "4\n",
      "3\n",
      "2\n",
      "1\n",
      "0\n"
     ]
    },
    {
     "data": {
      "text/plain": [
       "8"
      ]
     },
     "execution_count": 67,
     "metadata": {},
     "output_type": "execute_result"
    }
   ],
   "source": [
    "febb(5)"
   ]
  },
  {
   "cell_type": "code",
   "execution_count": 74,
   "metadata": {},
   "outputs": [
    {
     "name": "stdout",
     "output_type": "stream",
     "text": [
      "0\n",
      "1\n",
      "4\n",
      "9\n",
      "16\n"
     ]
    }
   ],
   "source": [
    "a = int(input())\n",
    "\n",
    "\n",
    "for i in range(0,a):\n",
    "    print(i**2)\n",
    "    i+=1\n",
    "    "
   ]
  },
  {
   "cell_type": "code",
   "execution_count": null,
   "metadata": {},
   "outputs": [],
   "source": []
  }
 ],
 "metadata": {
  "kernelspec": {
   "display_name": "Python 3",
   "language": "python",
   "name": "python3"
  },
  "language_info": {
   "codemirror_mode": {
    "name": "ipython",
    "version": 3
   },
   "file_extension": ".py",
   "mimetype": "text/x-python",
   "name": "python",
   "nbconvert_exporter": "python",
   "pygments_lexer": "ipython3",
   "version": "3.12.0"
  },
  "orig_nbformat": 4,
  "vscode": {
   "interpreter": {
    "hash": "a6ada047e8940af673a5a678b6ba14e182d5b4e08fa205eb091207f23619d85d"
   }
  }
 },
 "nbformat": 4,
 "nbformat_minor": 2
}
